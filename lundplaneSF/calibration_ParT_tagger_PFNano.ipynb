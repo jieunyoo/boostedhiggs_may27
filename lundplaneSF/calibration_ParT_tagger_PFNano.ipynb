{
 "cells": [
  {
   "cell_type": "markdown",
   "metadata": {},
   "source": [
    "### load necessary modules"
   ]
  },
  {
   "cell_type": "code",
   "execution_count": 1,
   "metadata": {},
   "outputs": [
    {
     "name": "stdout",
     "output_type": "stream",
     "text": [
      "LP_postprocess.ipynb\r\n",
      "\u001b[34mLundReweighting\u001b[m\u001b[m\r\n",
      "TaggerDistribution_2018_ggF_Hlvqq_all.pdf\r\n",
      "calibration_ParT_tagger_PFNano.ipynb\r\n"
     ]
    }
   ],
   "source": [
    "! ls"
   ]
  },
  {
   "cell_type": "code",
   "execution_count": 169,
   "metadata": {},
   "outputs": [],
   "source": [
    "import uproot\n",
    "import awkward as ak\n",
    "import vector\n",
    "vector.register_awkward()\n",
    "from matplotlib import pyplot as plt\n",
    "import mplhep as hep\n",
    "hep.style.use(\"CMS\")\n",
    "import math\n",
    "import itertools\n",
    "import os\n",
    "from typing import Dict, List, Tuple\n",
    "from numpy.typing import ArrayLike\n",
    "import numpy as np\n",
    "import correctionlib\n",
    "import awkward as ak\n",
    "import fastjet\n",
    "import coffea\n",
    "from coffea.nanoevents.methods import vector\n",
    "from coffea import nanoevents\n",
    "from coffea import processor\n",
    "from coffea.nanoevents.methods import candidate\n",
    "from coffea.analysis_tools import Weights, PackedSelection\n",
    "from hist import Hist\n",
    "ak.behavior.update(vector.behavior)"
   ]
  },
  {
   "cell_type": "code",
   "execution_count": 170,
   "metadata": {},
   "outputs": [
    {
     "name": "stdout",
     "output_type": "stream",
     "text": [
      "0.7.22 /Users/fmokhtar/miniconda3/envs/fastjet-env/lib/python3.9/site-packages/coffea/__init__.py\n",
      "1.10.5 /Users/fmokhtar/miniconda3/envs/fastjet-env/lib/python3.9/site-packages/awkward/__init__.py\n",
      "4.3.7 /Users/fmokhtar/miniconda3/envs/fastjet-env/lib/python3.9/site-packages/uproot/__init__.py\n",
      "1.23.5 /Users/fmokhtar/miniconda3/envs/fastjet-env/lib/python3.9/site-packages/numpy/__init__.py\n"
     ]
    }
   ],
   "source": [
    "print(coffea.__version__, coffea.__file__)\n",
    "print(ak.__version__, ak.__file__)\n",
    "print(uproot.__version__, uproot.__file__)\n",
    "print(np.__version__, np.__file__)"
   ]
  },
  {
   "cell_type": "code",
   "execution_count": 171,
   "metadata": {},
   "outputs": [
    {
     "name": "stdout",
     "output_type": "stream",
     "text": [
      "The autoreload extension is already loaded. To reload it, use:\n",
      "  %reload_ext autoreload\n"
     ]
    }
   ],
   "source": [
    "%load_ext autoreload\n",
    "%autoreload 2"
   ]
  },
  {
   "cell_type": "markdown",
   "metadata": {},
   "source": [
    "### Load signal NanoAOD files and do pre-selection "
   ]
  },
  {
   "cell_type": "code",
   "execution_count": 172,
   "metadata": {},
   "outputs": [
    {
     "name": "stdout",
     "output_type": "stream",
     "text": [
      "MERGED.root\r\n"
     ]
    }
   ],
   "source": [
    "! ls ../rootfiles/HWW/PKU"
   ]
  },
  {
   "cell_type": "code",
   "execution_count": 173,
   "metadata": {
    "scrolled": true
   },
   "outputs": [],
   "source": [
    "# # #first way to load root file is using nanoevents, but suffer from low process speed\n",
    "events = nanoevents.NanoEventsFactory.from_root(\n",
    "    \"../rootfiles/HWW/PKU/MERGED.root\",\n",
    "    schemaclass=nanoevents.NanoAODSchema,\n",
    ").events()"
   ]
  },
  {
   "cell_type": "code",
   "execution_count": 174,
   "metadata": {},
   "outputs": [],
   "source": [
    "# if frac==1 will use all the events\n",
    "frac = 1\n",
    "n_use = int(frac*len(events))\n",
    "events = events[:n_use]"
   ]
  },
  {
   "cell_type": "code",
   "execution_count": 175,
   "metadata": {},
   "outputs": [],
   "source": [
    "desired_fields = [\"Electron\",\"Muon\",\"FatJet\",\"genWeight\",\"GenPart\",\"FatJetPFCands\",\"PFCands\"]\n",
    "filtered_events = events[desired_fields]\n",
    "del events"
   ]
  },
  {
   "cell_type": "code",
   "execution_count": 176,
   "metadata": {},
   "outputs": [
    {
     "data": {
      "text/plain": [
       "<Array [{Electron: [Electron], ... ] type='538999 * {\"Electron\": var * electron,...'>"
      ]
     },
     "execution_count": 176,
     "metadata": {},
     "output_type": "execute_result"
    }
   ],
   "source": [
    "filtered_events"
   ]
  },
  {
   "cell_type": "markdown",
   "metadata": {},
   "source": [
    "### Define necessary functions to run the selection"
   ]
  },
  {
   "cell_type": "code",
   "execution_count": 177,
   "metadata": {},
   "outputs": [],
   "source": [
    "def build_p4(cand):\n",
    "    return ak.zip(\n",
    "        {\n",
    "            \"pt\": cand.pt,\n",
    "            \"eta\": cand.eta,\n",
    "            \"phi\": cand.phi,\n",
    "            \"mass\": cand.mass,\n",
    "            \"charge\": cand.charge,\n",
    "        },\n",
    "        with_name=\"PtEtaPhiMCandidate\",\n",
    "        behavior=candidate.behavior,\n",
    "    )\n",
    "\n",
    "#pad array with given value\n",
    "def pad_val(\n",
    "    arr: ak.Array,\n",
    "    target: int,\n",
    "    value: float, #value can also be Bool variable \n",
    "    axis: int = 0,\n",
    "    to_numpy: bool = True,\n",
    "    clip: bool = True,\n",
    "):\n",
    "    \"\"\"\n",
    "    pads awkward array up to ``target`` index along axis ``axis`` with value ``value``,\n",
    "    optionally converts to numpy array\n",
    "    \"\"\"\n",
    "    padded_arr = ak.fill_none(ak.pad_none(arr, target, axis=axis, clip=clip), value, axis=axis)\n",
    "    # pad_none will fill the array to target length with \"None\" for dedicated axis\n",
    "    # \"clip\" means cut the array to the target length or not\n",
    "    # fill_none will replace \"None\" value to some value\n",
    "    return padded_arr.to_numpy() if to_numpy else padded_arr\n",
    "\n",
    "def add_selection(\n",
    "    name: str,\n",
    "    sel: np.ndarray,\n",
    "    selection: PackedSelection,\n",
    "    cutflow: dict = None,\n",
    "    isData: bool = False,\n",
    "    signGenWeights: ak.Array = None,\n",
    "):\n",
    "    \"\"\"adds selection to PackedSelection object and the cutflow dictionary\"\"\"\n",
    "    selection.add(name, sel)\n",
    "    if cutflow is not None: #only add to cutflow dictionary if cutflow is not None\n",
    "        cutflow[name] = (\n",
    "            np.sum(selection.all(*selection.names))\n",
    "            if isData\n",
    "            # add up sign of genWeights for MC\n",
    "            else np.sum(signGenWeights[selection.all(*selection.names)])\n",
    "        )"
   ]
  },
  {
   "cell_type": "code",
   "execution_count": 178,
   "metadata": {},
   "outputs": [],
   "source": [
    "from typing import Dict, Tuple, Union\n",
    "from coffea.nanoevents.methods.nanoaod import FatJetArray, GenParticleArray\n",
    "\n",
    "d_PDGID = 1\n",
    "c_PDGID = 4\n",
    "b_PDGID = 5\n",
    "g_PDGID = 21\n",
    "TOP_PDGID = 6\n",
    "\n",
    "ELE_PDGID = 11\n",
    "vELE_PDGID = 12\n",
    "MU_PDGID = 13\n",
    "vMU_PDGID = 14\n",
    "TAU_PDGID = 15\n",
    "vTAU_PDGID = 16\n",
    "\n",
    "GAMMA_PDGID = 22\n",
    "Z_PDGID = 23\n",
    "W_PDGID = 24\n",
    "HIGGS_PDGID = 25\n",
    "\n",
    "PI_PDGID = 211\n",
    "PO_PDGID = 221\n",
    "PP_PDGID = 111\n",
    "\n",
    "GEN_FLAGS = [\"fromHardProcess\", \"isLastCopy\"]\n",
    "\n",
    "FILL_NONE_VALUE = -99999\n",
    "\n",
    "JET_DR = 0.8\n",
    "\n",
    "def to_label(array: ak.Array) -> ak.Array:\n",
    "    return ak.values_astype(array, np.int32)\n",
    "\n",
    "def get_pid_mask(\n",
    "    genparts: GenParticleArray,\n",
    "    pdgids: Union[int, list],\n",
    "    ax: int = 2,\n",
    "    byall: bool = True,\n",
    ") -> ak.Array:\n",
    "    \"\"\"\n",
    "    Get selection mask for gen particles matching any of the pdgIds in ``pdgids``.\n",
    "    If ``byall``, checks all particles along axis ``ax`` match.\n",
    "    \"\"\"\n",
    "    gen_pdgids = abs(genparts.pdgId)\n",
    "\n",
    "    if type(pdgids) is list:\n",
    "        mask = gen_pdgids == pdgids[0]\n",
    "        for pdgid in pdgids[1:]:\n",
    "            mask = mask | (gen_pdgids == pdgid)\n",
    "    else:\n",
    "        mask = gen_pdgids == pdgids\n",
    "\n",
    "    return ak.all(mask, axis=ax) if byall else mask\n",
    "\n",
    "\n",
    "def match_H(genparts: GenParticleArray, fatjet: FatJetArray):\n",
    "    \"\"\"Gen matching for Higgs samples\"\"\"\n",
    "    higgs = genparts[get_pid_mask(genparts, HIGGS_PDGID, byall=False) * genparts.hasFlags(GEN_FLAGS)]\n",
    "\n",
    "    # only select events that match an specific decay\n",
    "    # matched_higgs = higgs[ak.argmin(fatjet.delta_r(higgs), axis=1, keepdims=True)][:, 0]\n",
    "    matched_higgs = higgs[ak.argmin(fatjet.delta_r(higgs), axis=1, keepdims=True)]\n",
    "    matched_higgs_mask = ak.any(fatjet.delta_r(matched_higgs) < 0.8, axis=1)\n",
    "\n",
    "    matched_higgs = ak.firsts(matched_higgs)\n",
    "\n",
    "    matched_higgs_children = matched_higgs.children\n",
    "    higgs_children = higgs.children\n",
    "\n",
    "    children_mask = get_pid_mask(matched_higgs_children, [W_PDGID], byall=False)\n",
    "    is_hww = ak.any(children_mask, axis=1)\n",
    "\n",
    "    # order by mass, select lower mass child as V* and higher as V\n",
    "    matched_higgs_children = matched_higgs_children[children_mask]\n",
    "    children_mass = matched_higgs_children.mass\n",
    "    v_star = ak.firsts(matched_higgs_children[ak.argmin(children_mass, axis=1, keepdims=True)])\n",
    "    v = ak.firsts(matched_higgs_children[ak.argmax(children_mass, axis=1, keepdims=True)])\n",
    "\n",
    "    # VV daughters\n",
    "    # requires coffea-0.7.21\n",
    "    all_daus = higgs_children.distinctChildrenDeep\n",
    "    all_daus = ak.flatten(all_daus, axis=2)\n",
    "    all_daus_flat = ak.flatten(all_daus, axis=2)\n",
    "    all_daus_flat_pdgId = abs(all_daus_flat.pdgId)\n",
    "\n",
    "    # the following tells you about the decay\n",
    "    num_quarks = ak.sum(all_daus_flat_pdgId <= b_PDGID, axis=1)\n",
    "    num_leptons = ak.sum(\n",
    "        (all_daus_flat_pdgId == ELE_PDGID) | (all_daus_flat_pdgId == MU_PDGID) | (all_daus_flat_pdgId == TAU_PDGID),\n",
    "        axis=1,\n",
    "    )\n",
    "    num_electrons = ak.sum(all_daus_flat_pdgId == ELE_PDGID, axis=1)\n",
    "    num_muons = ak.sum(all_daus_flat_pdgId == MU_PDGID, axis=1)\n",
    "    num_taus = ak.sum(all_daus_flat_pdgId == TAU_PDGID, axis=1)\n",
    "\n",
    "    # the following tells you about the matching\n",
    "    # prongs except neutrino\n",
    "    neutrinos = (\n",
    "        (all_daus_flat_pdgId == vELE_PDGID) | (all_daus_flat_pdgId == vMU_PDGID) | (all_daus_flat_pdgId == vTAU_PDGID)\n",
    "    )\n",
    "    \n",
    "    leptons = (all_daus_flat_pdgId == ELE_PDGID) | (all_daus_flat_pdgId == MU_PDGID) | (all_daus_flat_pdgId == TAU_PDGID)\n",
    "\n",
    "    \n",
    "    # num_m: number of matched leptons\n",
    "    # number of quarks excludes neutrino and leptons\n",
    "    num_m_quarks = ak.sum(fatjet.delta_r(all_daus_flat[~neutrinos & ~leptons]) < JET_DR, axis=1)\n",
    "    num_m_leptons = ak.sum(fatjet.delta_r(all_daus_flat[leptons]) < JET_DR, axis=1)\n",
    "    num_m_cquarks = ak.sum(fatjet.delta_r(all_daus_flat[all_daus_flat.pdgId == b_PDGID]) < JET_DR, axis=1)\n",
    "\n",
    "    lep_daughters = all_daus_flat[leptons]\n",
    "    # parent = ak.firsts(lep_daughters[fatjet.delta_r(lep_daughters) < JET_DR].distinctParent)\n",
    "    parent = ak.firsts(lep_daughters.distinctParent)\n",
    "    iswlepton = parent.mass == v.mass\n",
    "    iswstarlepton = parent.mass == v_star.mass\n",
    "\n",
    "    genVars = {\"fj_genH_pt\": ak.fill_none(higgs.pt, FILL_NONE_VALUE)}\n",
    "\n",
    "    genVVars = {\n",
    "        \"fj_genH_jet\": fatjet.delta_r(higgs[:, 0]),\n",
    "        \"fj_genV_dR\": fatjet.delta_r(v),\n",
    "        \"fj_genVstar\": fatjet.delta_r(v_star),\n",
    "        \"genV_genVstar_dR\": v.delta_r(v_star),\n",
    "    }\n",
    "    \n",
    "    genHVVVars = {\n",
    "        \"fj_isHVV\": is_hww,\n",
    "        \"fj_isHVV_Matched\": matched_higgs_mask,\n",
    "        \"fj_isHVV_4q\": to_label((num_quarks == 4) & (num_leptons == 0)),\n",
    "        \"fj_isHVV_elenuqq\": to_label((num_electrons == 1) & (num_quarks == 2) & (num_leptons == 1)),\n",
    "        \"fj_isHVV_munuqq\": to_label((num_muons == 1) & (num_quarks == 2) & (num_leptons == 1)),\n",
    "        \"fj_isHVV_taunuqq\": to_label((num_taus == 1) & (num_quarks == 2) & (num_leptons == 1)),\n",
    "        \"fj_isHVV_Vlepton\": iswlepton,\n",
    "        \"fj_isHVV_Vstarlepton\": iswstarlepton,\n",
    "        \"fj_genRes_mass\": matched_higgs.mass,\n",
    "        \"fj_nquarks\": num_m_quarks,\n",
    "        \"fj_ncquarks\": num_m_cquarks,\n",
    "        \"fj_lepinprongs\": num_m_leptons,\n",
    "        \"lep_daughters\": leptons,\n",
    "        \"all_daus\": all_daus,\n",
    "    }\n",
    "\n",
    "    lepVars = {\n",
    "        \"lepton_pt\": all_daus_flat[leptons].pt,\n",
    "        \"lepton_eta\": all_daus_flat[leptons].eta,\n",
    "        \"lepton_phi\": all_daus_flat[leptons].phi,\n",
    "        \"lepton_mass\": all_daus_flat[leptons].mass,        \n",
    "    }\n",
    "    \n",
    "    quarkVars = {\n",
    "        \"quark_pt\": all_daus_flat[all_daus_flat_pdgId <= b_PDGID].pt,\n",
    "        \"quark_eta\": all_daus_flat[all_daus_flat_pdgId <= b_PDGID].eta,\n",
    "        \"quark_phi\": all_daus_flat[all_daus_flat_pdgId <= b_PDGID].phi,\n",
    "        \"quark_mass\": all_daus_flat[all_daus_flat_pdgId <= b_PDGID].mass,        \n",
    "    }    \n",
    "    \n",
    "    genVars = {**genVars, **genVVars, **genHVVVars, **lepVars, **quarkVars}\n",
    "\n",
    "    return genVars"
   ]
  },
  {
   "cell_type": "markdown",
   "metadata": {},
   "source": [
    "# Apply HWWlnuqq analysis-level selection"
   ]
  },
  {
   "cell_type": "code",
   "execution_count": 179,
   "metadata": {},
   "outputs": [
    {
     "name": "stderr",
     "output_type": "stream",
     "text": [
      "/Users/fmokhtar/miniconda3/envs/fastjet-env/lib/python3.9/site-packages/coffea/nanoevents/methods/nanoaod.py:107: UserWarning: distinctChildrenDeep may not give correct answers for all generators!\n",
      "  warnings.warn(\n"
     ]
    }
   ],
   "source": [
    "isData = False\n",
    "signGenWeights = None if isData else np.sign(filtered_events[\"genWeight\"]) #get genWeight sign, because only the sign matters\n",
    "n_events = len(filtered_events) if isData else int(np.sum(signGenWeights)) #events number for MC events should be the sum of \"sign\"\n",
    "selection = PackedSelection() #initialize a new object\n",
    "\n",
    "# define the cutflow table to debug\n",
    "cutflow = {}\n",
    "cutflow[\"all\"] = n_events\n",
    "\n",
    "########## 1. leading jet pT > 250GeV\n",
    "fatjets = filtered_events.FatJet\n",
    "preselection_cut_jet = np.prod(\n",
    "    pad_val(\n",
    "        (filtered_events.FatJet.pt > 250),\n",
    "        1, #pad to num_jets length\n",
    "        False,  #pad with value False\n",
    "        axis=1, #pad to axis=1\n",
    "    ),\n",
    "    axis=1,\n",
    ")\n",
    "\n",
    "add_selection(\n",
    "    \"at least 1 AK8 jet with pT>250GeV\", #string name\n",
    "    preselection_cut_jet.astype(bool), #selection content\n",
    "    selection, #PackedSelection object\n",
    "    cutflow, #cut-flow dict, storing events number after each cut\n",
    "    isData,\n",
    "    signGenWeights,#sum the signGenWeights for events which pass the selection\n",
    ")\n",
    "\n",
    "########## 2. one good lepton selection\n",
    "muons = ak.with_field(filtered_events.Muon, 0, \"flavor\")\n",
    "electrons = ak.with_field(filtered_events.Electron, 1, \"flavor\")\n",
    "\n",
    "# OBJECT: muons\n",
    "loose_muons = (\n",
    "    (((muons.pt > 30) & (muons.pfRelIso04_all < 0.25)) | (muons.pt > 55))\n",
    "    & (np.abs(muons.eta) < 2.4)\n",
    "    & (muons.looseId)\n",
    ")\n",
    "n_loose_muons = ak.sum(loose_muons, axis=1)\n",
    "\n",
    "good_muons = (\n",
    "    (muons.pt > 30)\n",
    "    & (np.abs(muons.eta) < 2.4)\n",
    "    & (np.abs(muons.dz) < 0.1)\n",
    "    & (np.abs(muons.dxy) < 0.05)\n",
    "    & (muons.sip3d <= 4.0)\n",
    "    & muons.mediumId\n",
    "    & (((muons.pfRelIso04_all < 0.15) & (muons.pt < 55)) | (muons.pt >= 55))\n",
    ")\n",
    "n_good_muons = ak.sum(good_muons, axis=1)\n",
    "\n",
    "# OBJECT: electrons\n",
    "loose_electrons = (\n",
    "    (((electrons.pt > 38) & (electrons.pfRelIso03_all < 0.25)) | (electrons.pt > 120))\n",
    "    & (np.abs(electrons.eta) < 2.4)\n",
    "    & ((np.abs(electrons.eta) < 1.44) | (np.abs(electrons.eta) > 1.57))\n",
    "    & (electrons.cutBased >= electrons.LOOSE)\n",
    ")\n",
    "n_loose_electrons = ak.sum(loose_electrons, axis=1)\n",
    "\n",
    "good_electrons = (\n",
    "    (electrons.pt > 38)\n",
    "    & (np.abs(electrons.eta) < 2.4)\n",
    "    & ((np.abs(electrons.eta) < 1.44) | (np.abs(electrons.eta) > 1.57))\n",
    "    & (np.abs(electrons.dz) < 0.1)\n",
    "    & (np.abs(electrons.dxy) < 0.05)\n",
    "    & (electrons.sip3d <= 4.0)\n",
    "    & (electrons.mvaFall17V2noIso_WP90)\n",
    "    & (((electrons.pfRelIso03_all < 0.15) & (electrons.pt < 120)) | (electrons.pt >= 120))\n",
    ")\n",
    "n_good_electrons = ak.sum(good_electrons, axis=1)\n",
    "\n",
    "sel_mu = (n_good_muons == 1) & (n_good_electrons == 0) & (n_loose_electrons == 0) & (~ak.any(loose_muons & ~good_muons, 1))\n",
    "sel_ele = (n_good_muons == 0) & (n_good_electrons == 1) & (n_loose_electrons == 0) & (~ak.any(loose_electrons & ~good_electrons, 1))\n",
    "\n",
    "preselection_cut_lep = pad_val(\n",
    "        (sel_mu | sel_ele) , #mass and pT cut of each jet in event\n",
    "        len(filtered_events), #pad to num_jets length\n",
    "        False,  #pad with value False\n",
    "        )\n",
    "\n",
    "add_selection(\n",
    "    \"lepton selection\", #string name\n",
    "    preselection_cut_lep.astype(bool), #selection content\n",
    "    selection, #PackedSelection object\n",
    "    cutflow, #cut-flow dict, storing events number after each cut\n",
    "    isData,\n",
    "    signGenWeights,#sum the signGenWeights for events which pass the selection\n",
    ")\n",
    "\n",
    "########## 3. lepton inside the jet\n",
    "# get candidate lepton\n",
    "goodleptons = ak.concatenate([muons[good_muons], electrons[good_electrons]], axis=1)  # concat muons and electrons\n",
    "goodleptons = goodleptons[ak.argsort(goodleptons.pt, ascending=False)]  # sort by pt\n",
    "\n",
    "candidatelep = ak.firsts(goodleptons)  # pick highest pt\n",
    "candidatelep_p4 = build_p4(candidatelep)  # build p4 for candidate lepton\n",
    "\n",
    "# AK8 fatjets\n",
    "fatjets = filtered_events.FatJet\n",
    "fatjet_selector = (fatjets.pt > 200) & (abs(fatjets.eta) < 2.5) & fatjets.isTight\n",
    "good_fatjets = fatjets[fatjet_selector]\n",
    "good_fatjets = good_fatjets[ak.argsort(good_fatjets.pt, ascending=False)]  # sort them by pt\n",
    "\n",
    "# choose candidate fatjet\n",
    "fj_idx_lep = ak.argmin(good_fatjets.delta_r(candidatelep_p4), axis=1, keepdims=True)\n",
    "candidatefj = ak.firsts(good_fatjets[fj_idx_lep])\n",
    "\n",
    "lep_fj_dr = candidatefj.delta_r(candidatelep_p4)\n",
    "\n",
    "preselection_cut_lepINjet = pad_val(\n",
    "        (lep_fj_dr < 0.8) , #mass and pT cut of each jet in event\n",
    "        len(filtered_events), #pad to num_jets length\n",
    "        False,  #pad with value False\n",
    "        )\n",
    "\n",
    "add_selection(\n",
    "    \"lepton in jet selection\", #string name\n",
    "    preselection_cut_lepINjet.astype(bool), #selection content\n",
    "    selection, #PackedSelection object\n",
    "    cutflow, #cut-flow dict, storing events number after each cut\n",
    "    isData,\n",
    "    signGenWeights,#sum the signGenWeights for events which pass the selection\n",
    ")\n",
    "\n",
    "\n",
    "########## 4. Gen-matching --> HWW jets\n",
    "\n",
    "genVars = match_H(filtered_events.GenPart, candidatefj)\n",
    "\n",
    "preselection_cut_hww = pad_val(\n",
    "        (genVars[\"fj_isHVV\"] == 1) , #mass and pT cut of each jet in event\n",
    "        len(filtered_events), #pad to num_jets length\n",
    "        False,  #pad with value False\n",
    "        )\n",
    "add_selection(\n",
    "    \"is HWW\", #string name\n",
    "    preselection_cut_hww.astype(bool), #selection content\n",
    "    selection, #PackedSelection object\n",
    "    cutflow, #cut-flow dict, storing events number after each cut\n",
    "    isData,\n",
    "    signGenWeights,#sum the signGenWeights for events which pass the selection\n",
    ")\n",
    "\n",
    "########## 5. Gen-matching --> HWW Matched jets\n",
    "preselection_cut_hww_matched = pad_val(\n",
    "        (genVars[\"fj_isHVV_Matched\"] == 1) , #mass and pT cut of each jet in event\n",
    "        len(filtered_events), #pad to num_jets length\n",
    "        False,  #pad with value False\n",
    "        )\n",
    "add_selection(\n",
    "    \"is HWW matched\", #string name\n",
    "    preselection_cut_hww_matched.astype(bool), #selection content\n",
    "    selection, #PackedSelection object\n",
    "    cutflow, #cut-flow dict, storing events number after each cut\n",
    "    isData,\n",
    "    signGenWeights,#sum the signGenWeights for events which pass the selection\n",
    ")\n",
    "\n",
    "########## 6. Gen-matching --> HWWlnuqq jets\n",
    "preselection_cut_hwwlnuqq = pad_val(\n",
    "        ((genVars[\"fj_isHVV_elenuqq\"] == 1) | (genVars[\"fj_isHVV_munuqq\"] == 1)) , #mass and pT cut of each jet in event\n",
    "        len(filtered_events), #pad to num_jets length\n",
    "        False,  #pad with value False\n",
    "        )\n",
    "add_selection(\n",
    "    \"is HWWlnuqq\", #string name\n",
    "    preselection_cut_hwwlnuqq.astype(bool), #selection content\n",
    "    selection, #PackedSelection object\n",
    "    cutflow, #cut-flow dict, storing events number after each cut\n",
    "    isData,\n",
    "    signGenWeights,#sum the signGenWeights for events which pass the selection\n",
    ")"
   ]
  },
  {
   "cell_type": "code",
   "execution_count": 180,
   "metadata": {},
   "outputs": [
    {
     "data": {
      "text/plain": [
       "{'all': 538727,\n",
       " 'at least 1 AK8 jet with pT>250GeV': 289731.0,\n",
       " 'lepton selection': 37398.0,\n",
       " 'lepton in jet selection': 25376.0,\n",
       " 'is HWW': 25376.0,\n",
       " 'is HWW matched': 25112.0,\n",
       " 'is HWWlnuqq': 22024.0}"
      ]
     },
     "execution_count": 180,
     "metadata": {},
     "output_type": "execute_result"
    }
   ],
   "source": [
    "cutflow"
   ]
  },
  {
   "cell_type": "code",
   "execution_count": 181,
   "metadata": {},
   "outputs": [
    {
     "data": {
      "text/plain": [
       "22030"
      ]
     },
     "execution_count": 181,
     "metadata": {},
     "output_type": "execute_result"
    }
   ],
   "source": [
    "########## apply the selections\n",
    "events_final = filtered_events[selection.all(*selection.names)]\n",
    "len(events_final)"
   ]
  },
  {
   "cell_type": "markdown",
   "metadata": {},
   "source": [
    "### Get Gen-level info after applying the selections"
   ]
  },
  {
   "cell_type": "code",
   "execution_count": 182,
   "metadata": {},
   "outputs": [],
   "source": [
    "candidatelep = ak.firsts(ak.concatenate([events_final.Muon, events_final.Electron], axis=1))  # pick highest pt\n",
    "candidatelep_p4 = build_p4(candidatelep)  # build p4 for candidate lepton\n",
    "\n",
    "# fj_idx_lep = ak.argmin(events_final.FatJet.delta_r(candidatelep_p4), axis=1, keepdims=True)\n",
    "# candidatefj = ak.firsts(events_final.FatJet[fj_idx_lep])\n",
    "\n",
    "higgs = higgs = events_final.GenPart[\n",
    "    (abs(events_final.GenPart.pdgId) == HIGGS_PDGID) * events_final.GenPart.hasFlags(GEN_FLAGS)\n",
    "]\n",
    "HWWidx = ak.argmin(events_final.FatJet.delta_r(ak.firsts(higgs)), axis=1, keepdims=True)\n",
    "candidatefj = ak.firsts(events_final.FatJet[HWWidx])\n",
    "\n",
    "genVars = match_H(events_final.GenPart, candidatefj)"
   ]
  },
  {
   "cell_type": "code",
   "execution_count": 183,
   "metadata": {},
   "outputs": [
    {
     "data": {
      "text/plain": [
       "{'fj_genH_pt': <Array [[299], [197], ... [652], [274]] type='22030 * var * float32[parameters={...'>,\n",
       " 'fj_genH_jet': <Array [0.116, 0.265, 0.117, ... 0.0245, 0.154] type='22030 * ?float32'>,\n",
       " 'fj_genV_dR': <Array [0.158, 0.379, 0.107, ... 0.0429, 0.151] type='22030 * ?float32'>,\n",
       " 'fj_genVstar': <Array [0.377, 0.27, 0.166, ... 0.217, 0.176] type='22030 * ?float32'>,\n",
       " 'genV_genVstar_dR': <Array [0.512, 0.408, 0.0962, ... 0.26, 0.0829] type='22030 * ?float32'>,\n",
       " 'fj_isHVV': <Array [True, True, True, ... True, True, True] type='22030 * ?bool'>,\n",
       " 'fj_isHVV_Matched': <Array [True, True, True, ... True, True, True] type='22030 * ?bool'>,\n",
       " 'fj_isHVV_4q': <Array [0, 0, 0, 0, 0, 0, ... 0, 0, 0, 0, 0, 0] type='22030 * int32'>,\n",
       " 'fj_isHVV_elenuqq': <Array [0, 0, 1, 0, 0, 0, ... 1, 1, 0, 0, 0, 1] type='22030 * int32'>,\n",
       " 'fj_isHVV_munuqq': <Array [1, 1, 0, 1, 1, 1, ... 0, 0, 1, 1, 1, 0] type='22030 * int32'>,\n",
       " 'fj_isHVV_taunuqq': <Array [0, 0, 0, 0, 0, 0, ... 0, 0, 0, 0, 0, 0] type='22030 * int32'>,\n",
       " 'fj_isHVV_Vlepton': <Array [True, False, True, ... False, True] type='22030 * ?bool'>,\n",
       " 'fj_isHVV_Vstarlepton': <Array [False, True, False, ... True, False] type='22030 * ?bool'>,\n",
       " 'fj_genRes_mass': <Array [125, 125, 125, 125, ... 125, 125, 125] type='22030 * ?float32[parameters...'>,\n",
       " 'fj_nquarks': <Array [1, 1, 1, 1, 1, 2, ... 1, 1, 1, 2, 2, 1] type='22030 * ?int64'>,\n",
       " 'fj_ncquarks': <Array [0, 0, 0, 0, 0, 0, ... 0, 0, 0, 0, 0, 0] type='22030 * ?int64'>,\n",
       " 'fj_lepinprongs': <Array [1, 1, 1, 1, 1, 1, ... 1, 1, 1, 1, 1, 1] type='22030 * ?int64'>,\n",
       " 'lep_daughters': <Array [[True, False, False, ... True, False]] type='22030 * var * ?bool'>,\n",
       " 'all_daus': <GenParticleArray [[[GenParticle, ... GenParticle]]] type='22030 * var * option[...'>,\n",
       " 'lepton_pt': <Array [[230], [70.8], ... [106], [218]] type='22030 * var * ?float32[parameters...'>,\n",
       " 'lepton_eta': <Array [[1.25], [-0.867], ... [-2.2], [-1.68]] type='22030 * var * ?float32[para...'>,\n",
       " 'lepton_phi': <Array [[1.9], [1.46], ... [-2.21], [-1.16]] type='22030 * var * ?float32[parame...'>,\n",
       " 'lepton_mass': <Array [[0], [0], [0], ... [0], [0], [0]] type='22030 * var * ?float32[parameter...'>,\n",
       " 'quark_pt': <Array [[36.1, 9.44], [72.8, ... [49.5, 13]] type='22030 * var * ?float32[parame...'>,\n",
       " 'quark_eta': <Array [[0.801, 1.46], ... [-1.45, -2.32]] type='22030 * var * ?float32[paramete...'>,\n",
       " 'quark_phi': <Array [[2.03, -2.7], ... [-0.975, -2.28]] type='22030 * var * ?float32[paramete...'>,\n",
       " 'quark_mass': <Array [[0, 0], [0, 0], ... [0, 0], [0, 0]] type='22030 * var * ?float32[paramet...'>}"
      ]
     },
     "execution_count": 183,
     "metadata": {},
     "output_type": "execute_result"
    }
   ],
   "source": [
    "genVars"
   ]
  },
  {
   "cell_type": "markdown",
   "metadata": {},
   "source": [
    "### four vector for HWW jet"
   ]
  },
  {
   "cell_type": "code",
   "execution_count": 184,
   "metadata": {},
   "outputs": [
    {
     "data": {
      "text/plain": [
       "array([245.125    ,  -0.4767456,   1.4321289, 101.375    ], dtype=float32)"
      ]
     },
     "execution_count": 184,
     "metadata": {},
     "output_type": "execute_result"
    }
   ],
   "source": [
    "# four vector for HWW jet\n",
    "higgs_jet_4vec_Hlvqq = np.array(\n",
    "    np.stack((\n",
    "        np.array(candidatefj.pt), \n",
    "        np.array(candidatefj.eta),\n",
    "        np.array(candidatefj.phi),\n",
    "        np.array(candidatefj.mass)), \n",
    "        axis=1)### four vector for HWW jet\n",
    ")\n",
    "higgs_jet_4vec_Hlvqq[1]"
   ]
  },
  {
   "cell_type": "code",
   "execution_count": 185,
   "metadata": {},
   "outputs": [
    {
     "data": {
      "text/plain": [
       "22030"
      ]
     },
     "execution_count": 185,
     "metadata": {},
     "output_type": "execute_result"
    }
   ],
   "source": [
    "len(higgs_jet_4vec_Hlvqq)"
   ]
  },
  {
   "cell_type": "markdown",
   "metadata": {},
   "source": [
    "### four vector for the quarks and lepton"
   ]
  },
  {
   "cell_type": "code",
   "execution_count": 186,
   "metadata": {},
   "outputs": [],
   "source": [
    "skim_vars = {\n",
    "    \"eta\": \"Eta\",\n",
    "    \"phi\": \"Phi\",\n",
    "    \"mass\": \"Mass\",\n",
    "    \"pt\": \"Pt\",\n",
    "}"
   ]
  },
  {
   "cell_type": "code",
   "execution_count": 187,
   "metadata": {},
   "outputs": [
    {
     "name": "stdout",
     "output_type": "stream",
     "text": [
      "22030\n",
      "22030\n"
     ]
    }
   ],
   "source": [
    "Gen2qVars = {\n",
    "    f\"Gen2q{var}\": ak.to_numpy(\n",
    "        ak.fill_none(\n",
    "            ak.pad_none(genVars[f\"quark_{key}\"], 2, axis=1, clip=True),\n",
    "            FILL_NONE_VALUE,\n",
    "        )\n",
    "    )\n",
    "    for key, var in skim_vars.items()\n",
    "}\n",
    "print(len(Gen2qVars[\"Gen2qPt\"]))\n",
    "\n",
    "GenlepVars = {\n",
    "    f\"Genlep{var}\": ak.to_numpy(\n",
    "        ak.fill_none(\n",
    "            ak.pad_none(genVars[f\"lepton_{key}\"], 1, axis=1, clip=True),\n",
    "            FILL_NONE_VALUE,\n",
    "        )\n",
    "    )\n",
    "    for key, var in skim_vars.items()\n",
    "}\n",
    "\n",
    "print(len(GenlepVars[\"GenlepPt\"]))"
   ]
  },
  {
   "cell_type": "code",
   "execution_count": 220,
   "metadata": {},
   "outputs": [
    {
     "data": {
      "text/plain": [
       "array([[ 0.80078125,  1.46484375],\n",
       "       [-0.81640625,  0.140625  ],\n",
       "       [ 0.0559082 , -0.12548828],\n",
       "       ...,\n",
       "       [ 0.35839844,  0.99023438],\n",
       "       [-1.91796875, -1.92578125],\n",
       "       [-1.4453125 , -2.3203125 ]])"
      ]
     },
     "execution_count": 220,
     "metadata": {},
     "output_type": "execute_result"
    }
   ],
   "source": [
    "Gen2qVars[\"Gen2qEta\"]"
   ]
  },
  {
   "cell_type": "code",
   "execution_count": 189,
   "metadata": {},
   "outputs": [
    {
     "data": {
      "text/plain": [
       "<Array [[36.1, 9.44], [72.8, ... [49.5, 13]] type='22030 * var * ?float32[parame...'>"
      ]
     },
     "execution_count": 189,
     "metadata": {},
     "output_type": "execute_result"
    }
   ],
   "source": [
    "genVars[f\"quark_pt\"]"
   ]
  },
  {
   "cell_type": "code",
   "execution_count": 190,
   "metadata": {},
   "outputs": [],
   "source": [
    "#prepare eta, phi array only for 2q, used for Lund Plane reweighting\n",
    "#since it only takes quarks gen-level 4-vector as input\n",
    "eta_2q = Gen2qVars[\"Gen2qEta\"]\n",
    "phi_2q = Gen2qVars[\"Gen2qPhi\"]\n",
    "gen_parts_eta_phi_Hlvqq_2q = np.array(np.dstack((eta_2q,phi_2q)))"
   ]
  },
  {
   "cell_type": "code",
   "execution_count": 191,
   "metadata": {},
   "outputs": [
    {
     "data": {
      "text/plain": [
       "(22030, 2)"
      ]
     },
     "execution_count": 191,
     "metadata": {},
     "output_type": "execute_result"
    }
   ],
   "source": [
    "Gen2qVars[\"Gen2qEta\"].shape"
   ]
  },
  {
   "cell_type": "markdown",
   "metadata": {},
   "source": [
    "### adding the lepton"
   ]
  },
  {
   "cell_type": "code",
   "execution_count": 192,
   "metadata": {},
   "outputs": [],
   "source": [
    "#prepare eta, phi array for 2q + lep, to do gen-matching of the jet\n",
    "eta = np.concatenate([Gen2qVars[\"Gen2qEta\"], GenlepVars[\"GenlepEta\"]], axis=1)\n",
    "phi = np.concatenate([Gen2qVars[\"Gen2qPhi\"], GenlepVars[\"GenlepPhi\"]], axis=1)"
   ]
  },
  {
   "cell_type": "code",
   "execution_count": 193,
   "metadata": {},
   "outputs": [
    {
     "data": {
      "text/plain": [
       "11567"
      ]
     },
     "execution_count": 193,
     "metadata": {},
     "output_type": "execute_result"
    }
   ],
   "source": [
    "#count the number of quarks inside the AK8 jet, require 3 or 4 quarks.\n",
    "def count_quarks_in_jets(jet_4vec, gen_parts_eta_phi, delta_r_cut=0.8):\n",
    "    num_jets = len(jet_4vec)\n",
    "    num_quarks_in_jets = np.zeros(num_jets, dtype=int)\n",
    "\n",
    "    for i in range(num_jets):\n",
    "        jet_eta, jet_phi = jet_4vec[i][1], jet_4vec[i][2]\n",
    "\n",
    "        quark_eta_phi = gen_parts_eta_phi[i]\n",
    "        quark_eta, quark_phi = quark_eta_phi[:, 0], quark_eta_phi[:, 1]\n",
    "\n",
    "        delta_eta = jet_eta - quark_eta\n",
    "        delta_phi = jet_phi - quark_phi\n",
    "\n",
    "        delta_r_squared = delta_eta**2 + delta_phi**2\n",
    "        quarks_in_jet = np.sqrt(delta_r_squared) < delta_r_cut\n",
    "\n",
    "        num_quarks_in_jets[i] = np.sum(quarks_in_jet)\n",
    "\n",
    "    return num_quarks_in_jets\n",
    "\n",
    "gen_parts_eta_phi_HWW = np.array(np.dstack((eta,phi)))\n",
    "result_lvqq = count_quarks_in_jets(higgs_jet_4vec_Hlvqq, gen_parts_eta_phi_HWW)\n",
    "Hlvqq_cut = (result_lvqq >= 3)\n",
    "np.sum(Hlvqq_cut)"
   ]
  },
  {
   "cell_type": "code",
   "execution_count": 198,
   "metadata": {},
   "outputs": [
    {
     "data": {
      "text/plain": [
       "array([False, False, False, ...,  True,  True, False])"
      ]
     },
     "execution_count": 198,
     "metadata": {},
     "output_type": "execute_result"
    }
   ],
   "source": [
    "Hlvqq_cut"
   ]
  },
  {
   "cell_type": "markdown",
   "metadata": {},
   "source": [
    "### Get FatJetPFCands 4-vector, up to 150 length to suit the input of Oz's function"
   ]
  },
  {
   "cell_type": "code",
   "execution_count": 221,
   "metadata": {},
   "outputs": [
    {
     "data": {
      "text/plain": [
       "<Array [[0], [1], [0], ... [1], [0], [0]] type='22030 * option[var * ?int64]'>"
      ]
     },
     "execution_count": 221,
     "metadata": {},
     "output_type": "execute_result"
    }
   ],
   "source": [
    "HWWidx"
   ]
  },
  {
   "cell_type": "code",
   "execution_count": 223,
   "metadata": {},
   "outputs": [
    {
     "data": {
      "text/plain": [
       "<Array [None, None, None, ... None, None, None] type='538999 * option[var * ?int64]'>"
      ]
     },
     "execution_count": 223,
     "metadata": {},
     "output_type": "execute_result"
    }
   ],
   "source": [
    "fj_idx_lep"
   ]
  },
  {
   "cell_type": "code",
   "execution_count": null,
   "metadata": {},
   "outputs": [],
   "source": []
  },
  {
   "cell_type": "code",
   "execution_count": 199,
   "metadata": {},
   "outputs": [],
   "source": [
    "HWW_FatJetPFCands = events_final.FatJetPFCands.jetIdx == ak.firsts(HWWidx)\n",
    "HWW_FatJetPFCands_pFCandsIdx = events_final.FatJetPFCands.pFCandsIdx[HWW_FatJetPFCands]"
   ]
  },
  {
   "cell_type": "code",
   "execution_count": 200,
   "metadata": {},
   "outputs": [
    {
     "data": {
      "text/plain": [
       "<Array [[26, 72, 28, 76, ... 5, 46, 43, 42]] type='22030 * option[var * int32[pa...'>"
      ]
     },
     "execution_count": 200,
     "metadata": {},
     "output_type": "execute_result"
    }
   ],
   "source": [
    "HWW_FatJetPFCands_pFCandsIdx"
   ]
  },
  {
   "cell_type": "code",
   "execution_count": 201,
   "metadata": {},
   "outputs": [],
   "source": [
    "pt_array =   ak.Array(events_final.PFCands.pt)\n",
    "eta_array =  ak.Array(events_final.PFCands.eta)\n",
    "phi_array =  ak.Array(events_final.PFCands.phi)\n",
    "mass_array = ak.Array(events_final.PFCands.mass)"
   ]
  },
  {
   "cell_type": "markdown",
   "metadata": {},
   "source": [
    "### Need to clean PFCands with dR(l,pf)<0.2"
   ]
  },
  {
   "cell_type": "code",
   "execution_count": 202,
   "metadata": {},
   "outputs": [],
   "source": [
    "lep_eta = GenlepVars[\"GenlepEta\"]\n",
    "lep_phi = GenlepVars[\"GenlepPhi\"]"
   ]
  },
  {
   "cell_type": "code",
   "execution_count": 203,
   "metadata": {},
   "outputs": [
    {
     "data": {
      "text/plain": [
       "array([[ 1.25      ],\n",
       "       [-0.8671875 ],\n",
       "       [-0.01495361],\n",
       "       ...,\n",
       "       [ 0.37304688],\n",
       "       [-2.1953125 ],\n",
       "       [-1.68359375]])"
      ]
     },
     "execution_count": 203,
     "metadata": {},
     "output_type": "execute_result"
    }
   ],
   "source": [
    "lep_eta"
   ]
  },
  {
   "cell_type": "code",
   "execution_count": 204,
   "metadata": {},
   "outputs": [],
   "source": [
    "#this is because the length of PFCands can be up to 409, so we pad to target = 500\n",
    "pf_eta = pad_val(eta_array, target = 500, axis = 1, value = 0)\n",
    "pf_phi = pad_val(phi_array, target = 500, axis = 1, value = 0)\n",
    "pf_pt = pad_val(pt_array, target = 500, axis = 1, value = 0)\n",
    "pf_mass = pad_val(mass_array, target = 500, axis = 1, value = 0)"
   ]
  },
  {
   "cell_type": "code",
   "execution_count": 205,
   "metadata": {},
   "outputs": [],
   "source": [
    "lep_eta_reshaped = lep_eta.reshape(-1,1)\n",
    "lep_phi_reshaped = lep_phi.reshape(-1,1)"
   ]
  },
  {
   "cell_type": "code",
   "execution_count": 206,
   "metadata": {},
   "outputs": [],
   "source": [
    "delta_eta = lep_eta_reshaped - pf_eta\n",
    "delta_phi = lep_phi_reshaped - pf_phi"
   ]
  },
  {
   "cell_type": "code",
   "execution_count": 207,
   "metadata": {},
   "outputs": [],
   "source": [
    "delta_r = np.sqrt(delta_eta**2 + delta_phi**2)"
   ]
  },
  {
   "cell_type": "code",
   "execution_count": 208,
   "metadata": {},
   "outputs": [],
   "source": [
    "pf_eta_rm_lep = np.copy(pf_eta)\n",
    "pf_phi_rm_lep = np.copy(pf_phi)\n",
    "pf_pt_rm_lep = np.copy(pf_pt)\n",
    "pf_mass_rm_lep = np.copy(pf_mass)"
   ]
  },
  {
   "cell_type": "code",
   "execution_count": 209,
   "metadata": {},
   "outputs": [],
   "source": [
    "pf_eta_rm_lep[delta_r<0.2] = 0.0\n",
    "pf_phi_rm_lep[delta_r<0.2] = 0.0\n",
    "pf_pt_rm_lep[delta_r<0.2] = 0.0\n",
    "pf_mass_rm_lep[delta_r<0.2] = 0.0"
   ]
  },
  {
   "cell_type": "code",
   "execution_count": 210,
   "metadata": {},
   "outputs": [
    {
     "data": {
      "text/plain": [
       "467"
      ]
     },
     "execution_count": 210,
     "metadata": {},
     "output_type": "execute_result"
    }
   ],
   "source": [
    "np.max(HWW_FatJetPFCands_pFCandsIdx)"
   ]
  },
  {
   "cell_type": "code",
   "execution_count": 211,
   "metadata": {},
   "outputs": [],
   "source": [
    "selected_eta  = ak.Array(pf_eta_rm_lep)[HWW_FatJetPFCands_pFCandsIdx]\n",
    "selected_phi  = ak.Array(pf_phi_rm_lep)[HWW_FatJetPFCands_pFCandsIdx]\n",
    "selected_pt   = ak.Array(pf_pt_rm_lep)[HWW_FatJetPFCands_pFCandsIdx]\n",
    "selected_mass = ak.Array(pf_mass_rm_lep)[HWW_FatJetPFCands_pFCandsIdx]"
   ]
  },
  {
   "cell_type": "code",
   "execution_count": 212,
   "metadata": {},
   "outputs": [
    {
     "data": {
      "text/plain": [
       "61"
      ]
     },
     "execution_count": 212,
     "metadata": {},
     "output_type": "execute_result"
    }
   ],
   "source": [
    "len(selected_eta[1])"
   ]
  },
  {
   "cell_type": "code",
   "execution_count": 213,
   "metadata": {},
   "outputs": [],
   "source": [
    "# pad the selected 4-vec array up to length of 150 to match the Lund Plane input\n",
    "selected_pt_padded = pad_val(selected_pt,150,0,1,True)\n",
    "selected_eta_padded = pad_val(selected_eta,150,0,1,True)\n",
    "selected_phi_padded = pad_val(selected_phi,150,0,1,True)\n",
    "selected_mass_padded = pad_val(selected_mass,150,0,1,True)"
   ]
  },
  {
   "cell_type": "code",
   "execution_count": 214,
   "metadata": {},
   "outputs": [],
   "source": [
    "pf_cands_px = selected_pt_padded * np.cos(selected_phi_padded)\n",
    "pf_cands_py = selected_pt_padded * np.sin(selected_phi_padded)\n",
    "pf_cands_pz = selected_pt_padded * np.sinh(selected_eta_padded)\n",
    "pf_cands_E = np.sqrt(pf_cands_px**2 + pf_cands_py**2 + pf_cands_pz**2 + selected_mass_padded**2)"
   ]
  },
  {
   "cell_type": "code",
   "execution_count": 215,
   "metadata": {},
   "outputs": [],
   "source": [
    "pf_cands_pxpypzE_lvqq = np.dstack((pf_cands_px,pf_cands_py,pf_cands_pz,pf_cands_E))"
   ]
  },
  {
   "cell_type": "code",
   "execution_count": 216,
   "metadata": {},
   "outputs": [
    {
     "name": "stdout",
     "output_type": "stream",
     "text": [
      "150\n"
     ]
    }
   ],
   "source": [
    "print(len(pf_cands_pxpypzE_lvqq[0]))"
   ]
  },
  {
   "cell_type": "markdown",
   "metadata": {},
   "source": [
    "### final check the input information"
   ]
  },
  {
   "cell_type": "code",
   "execution_count": 217,
   "metadata": {},
   "outputs": [
    {
     "name": "stdout",
     "output_type": "stream",
     "text": [
      "22030\n",
      "22030\n",
      "22030\n",
      "22030\n"
     ]
    }
   ],
   "source": [
    "#not all these 3 input array are without Hlvqq_cut\n",
    "print(len(gen_parts_eta_phi_Hlvqq_2q))\n",
    "print(len(pf_cands_pxpypzE_lvqq))\n",
    "print(len(higgs_jet_4vec_Hlvqq))\n",
    "print(len(candidatefj))"
   ]
  },
  {
   "cell_type": "code",
   "execution_count": 218,
   "metadata": {},
   "outputs": [],
   "source": [
    "gen_parts_eta_phi_Hlvqq_2q = gen_parts_eta_phi_Hlvqq_2q[Hlvqq_cut]\n",
    "pf_cands_pxpypzE_lvqq = pf_cands_pxpypzE_lvqq[Hlvqq_cut]\n",
    "higgs_jet_4vec_Hlvqq = higgs_jet_4vec_Hlvqq[Hlvqq_cut]\n",
    "candidatefj = candidatefj[Hlvqq_cut]"
   ]
  },
  {
   "cell_type": "code",
   "execution_count": 219,
   "metadata": {},
   "outputs": [
    {
     "name": "stdout",
     "output_type": "stream",
     "text": [
      "11567\n",
      "11567\n",
      "11567\n",
      "11567\n"
     ]
    }
   ],
   "source": [
    "#not all these 3 input array are with Hlvqq_cut\n",
    "print(len(gen_parts_eta_phi_Hlvqq_2q))\n",
    "print(len(pf_cands_pxpypzE_lvqq))\n",
    "print(len(higgs_jet_4vec_Hlvqq))\n",
    "print(len(candidatefj))"
   ]
  },
  {
   "cell_type": "markdown",
   "metadata": {},
   "source": [
    "# Plug in the tagger"
   ]
  },
  {
   "cell_type": "code",
   "execution_count": 63,
   "metadata": {},
   "outputs": [],
   "source": [
    "def get_finetuned_score(data, model_path):\n",
    "    import onnx\n",
    "    import onnxruntime as ort\n",
    "    import scipy\n",
    "\n",
    "    input_dict = {\n",
    "        \"highlevel\": data.loc[:, \"inclParTMDV1_hidNeuron000\":\"inclParTMDV1_hidNeuron127\"].values.astype(\"float32\"),\n",
    "    }\n",
    "\n",
    "    onnx_model = onnx.load(model_path)\n",
    "    onnx.checker.check_model(onnx_model)\n",
    "\n",
    "    ort_sess = ort.InferenceSession(\n",
    "        model_path,\n",
    "        providers=[\"AzureExecutionProvider\"],\n",
    "    )\n",
    "    outputs = ort_sess.run(None, input_dict)\n",
    "\n",
    "    return scipy.special.softmax(outputs[0], axis=1)[:, 0]\n",
    "\n",
    "import pandas as pd\n",
    "def ak_to_pandas(output_collection: ak.Array) -> pd.DataFrame:\n",
    "    output = pd.DataFrame()\n",
    "    for field in ak.fields(output_collection):\n",
    "        output[field] = ak.to_numpy(output_collection[field])\n",
    "    return output"
   ]
  },
  {
   "cell_type": "code",
   "execution_count": 64,
   "metadata": {},
   "outputs": [],
   "source": [
    "# select the hidden neurons\n",
    "hids = {}\n",
    "for var in candidatefj.fields:\n",
    "\n",
    "    if \"hidN\" in var:\n",
    "        hids[var] = candidatefj[var]"
   ]
  },
  {
   "cell_type": "code",
   "execution_count": 65,
   "metadata": {},
   "outputs": [
    {
     "name": "stderr",
     "output_type": "stream",
     "text": [
      "/var/folders/d7/p4v84gls67vdp9_q2rkkvkch0000gn/T/ipykernel_63126/3157445112.py:25: PerformanceWarning: DataFrame is highly fragmented.  This is usually the result of calling `frame.insert` many times, which has poor performance.  Consider joining all columns at once using pd.concat(axis=1) instead. To get a de-fragmented frame, use `newframe = frame.copy()`\n",
      "  output[field] = ak.to_numpy(output_collection[field])\n",
      "/var/folders/d7/p4v84gls67vdp9_q2rkkvkch0000gn/T/ipykernel_63126/3157445112.py:25: PerformanceWarning: DataFrame is highly fragmented.  This is usually the result of calling `frame.insert` many times, which has poor performance.  Consider joining all columns at once using pd.concat(axis=1) instead. To get a de-fragmented frame, use `newframe = frame.copy()`\n",
      "  output[field] = ak.to_numpy(output_collection[field])\n",
      "/var/folders/d7/p4v84gls67vdp9_q2rkkvkch0000gn/T/ipykernel_63126/3157445112.py:25: PerformanceWarning: DataFrame is highly fragmented.  This is usually the result of calling `frame.insert` many times, which has poor performance.  Consider joining all columns at once using pd.concat(axis=1) instead. To get a de-fragmented frame, use `newframe = frame.copy()`\n",
      "  output[field] = ak.to_numpy(output_collection[field])\n",
      "/var/folders/d7/p4v84gls67vdp9_q2rkkvkch0000gn/T/ipykernel_63126/3157445112.py:25: PerformanceWarning: DataFrame is highly fragmented.  This is usually the result of calling `frame.insert` many times, which has poor performance.  Consider joining all columns at once using pd.concat(axis=1) instead. To get a de-fragmented frame, use `newframe = frame.copy()`\n",
      "  output[field] = ak.to_numpy(output_collection[field])\n",
      "/var/folders/d7/p4v84gls67vdp9_q2rkkvkch0000gn/T/ipykernel_63126/3157445112.py:25: PerformanceWarning: DataFrame is highly fragmented.  This is usually the result of calling `frame.insert` many times, which has poor performance.  Consider joining all columns at once using pd.concat(axis=1) instead. To get a de-fragmented frame, use `newframe = frame.copy()`\n",
      "  output[field] = ak.to_numpy(output_collection[field])\n",
      "/var/folders/d7/p4v84gls67vdp9_q2rkkvkch0000gn/T/ipykernel_63126/3157445112.py:25: PerformanceWarning: DataFrame is highly fragmented.  This is usually the result of calling `frame.insert` many times, which has poor performance.  Consider joining all columns at once using pd.concat(axis=1) instead. To get a de-fragmented frame, use `newframe = frame.copy()`\n",
      "  output[field] = ak.to_numpy(output_collection[field])\n",
      "/var/folders/d7/p4v84gls67vdp9_q2rkkvkch0000gn/T/ipykernel_63126/3157445112.py:25: PerformanceWarning: DataFrame is highly fragmented.  This is usually the result of calling `frame.insert` many times, which has poor performance.  Consider joining all columns at once using pd.concat(axis=1) instead. To get a de-fragmented frame, use `newframe = frame.copy()`\n",
      "  output[field] = ak.to_numpy(output_collection[field])\n",
      "/var/folders/d7/p4v84gls67vdp9_q2rkkvkch0000gn/T/ipykernel_63126/3157445112.py:25: PerformanceWarning: DataFrame is highly fragmented.  This is usually the result of calling `frame.insert` many times, which has poor performance.  Consider joining all columns at once using pd.concat(axis=1) instead. To get a de-fragmented frame, use `newframe = frame.copy()`\n",
      "  output[field] = ak.to_numpy(output_collection[field])\n",
      "/var/folders/d7/p4v84gls67vdp9_q2rkkvkch0000gn/T/ipykernel_63126/3157445112.py:25: PerformanceWarning: DataFrame is highly fragmented.  This is usually the result of calling `frame.insert` many times, which has poor performance.  Consider joining all columns at once using pd.concat(axis=1) instead. To get a de-fragmented frame, use `newframe = frame.copy()`\n",
      "  output[field] = ak.to_numpy(output_collection[field])\n",
      "/var/folders/d7/p4v84gls67vdp9_q2rkkvkch0000gn/T/ipykernel_63126/3157445112.py:25: PerformanceWarning: DataFrame is highly fragmented.  This is usually the result of calling `frame.insert` many times, which has poor performance.  Consider joining all columns at once using pd.concat(axis=1) instead. To get a de-fragmented frame, use `newframe = frame.copy()`\n",
      "  output[field] = ak.to_numpy(output_collection[field])\n",
      "/var/folders/d7/p4v84gls67vdp9_q2rkkvkch0000gn/T/ipykernel_63126/3157445112.py:25: PerformanceWarning: DataFrame is highly fragmented.  This is usually the result of calling `frame.insert` many times, which has poor performance.  Consider joining all columns at once using pd.concat(axis=1) instead. To get a de-fragmented frame, use `newframe = frame.copy()`\n",
      "  output[field] = ak.to_numpy(output_collection[field])\n",
      "/var/folders/d7/p4v84gls67vdp9_q2rkkvkch0000gn/T/ipykernel_63126/3157445112.py:25: PerformanceWarning: DataFrame is highly fragmented.  This is usually the result of calling `frame.insert` many times, which has poor performance.  Consider joining all columns at once using pd.concat(axis=1) instead. To get a de-fragmented frame, use `newframe = frame.copy()`\n",
      "  output[field] = ak.to_numpy(output_collection[field])\n",
      "/var/folders/d7/p4v84gls67vdp9_q2rkkvkch0000gn/T/ipykernel_63126/3157445112.py:25: PerformanceWarning: DataFrame is highly fragmented.  This is usually the result of calling `frame.insert` many times, which has poor performance.  Consider joining all columns at once using pd.concat(axis=1) instead. To get a de-fragmented frame, use `newframe = frame.copy()`\n",
      "  output[field] = ak.to_numpy(output_collection[field])\n",
      "/var/folders/d7/p4v84gls67vdp9_q2rkkvkch0000gn/T/ipykernel_63126/3157445112.py:25: PerformanceWarning: DataFrame is highly fragmented.  This is usually the result of calling `frame.insert` many times, which has poor performance.  Consider joining all columns at once using pd.concat(axis=1) instead. To get a de-fragmented frame, use `newframe = frame.copy()`\n",
      "  output[field] = ak.to_numpy(output_collection[field])\n",
      "/var/folders/d7/p4v84gls67vdp9_q2rkkvkch0000gn/T/ipykernel_63126/3157445112.py:25: PerformanceWarning: DataFrame is highly fragmented.  This is usually the result of calling `frame.insert` many times, which has poor performance.  Consider joining all columns at once using pd.concat(axis=1) instead. To get a de-fragmented frame, use `newframe = frame.copy()`\n",
      "  output[field] = ak.to_numpy(output_collection[field])\n",
      "/var/folders/d7/p4v84gls67vdp9_q2rkkvkch0000gn/T/ipykernel_63126/3157445112.py:25: PerformanceWarning: DataFrame is highly fragmented.  This is usually the result of calling `frame.insert` many times, which has poor performance.  Consider joining all columns at once using pd.concat(axis=1) instead. To get a de-fragmented frame, use `newframe = frame.copy()`\n",
      "  output[field] = ak.to_numpy(output_collection[field])\n",
      "/var/folders/d7/p4v84gls67vdp9_q2rkkvkch0000gn/T/ipykernel_63126/3157445112.py:25: PerformanceWarning: DataFrame is highly fragmented.  This is usually the result of calling `frame.insert` many times, which has poor performance.  Consider joining all columns at once using pd.concat(axis=1) instead. To get a de-fragmented frame, use `newframe = frame.copy()`\n",
      "  output[field] = ak.to_numpy(output_collection[field])\n",
      "/var/folders/d7/p4v84gls67vdp9_q2rkkvkch0000gn/T/ipykernel_63126/3157445112.py:25: PerformanceWarning: DataFrame is highly fragmented.  This is usually the result of calling `frame.insert` many times, which has poor performance.  Consider joining all columns at once using pd.concat(axis=1) instead. To get a de-fragmented frame, use `newframe = frame.copy()`\n",
      "  output[field] = ak.to_numpy(output_collection[field])\n",
      "/var/folders/d7/p4v84gls67vdp9_q2rkkvkch0000gn/T/ipykernel_63126/3157445112.py:25: PerformanceWarning: DataFrame is highly fragmented.  This is usually the result of calling `frame.insert` many times, which has poor performance.  Consider joining all columns at once using pd.concat(axis=1) instead. To get a de-fragmented frame, use `newframe = frame.copy()`\n",
      "  output[field] = ak.to_numpy(output_collection[field])\n",
      "/var/folders/d7/p4v84gls67vdp9_q2rkkvkch0000gn/T/ipykernel_63126/3157445112.py:25: PerformanceWarning: DataFrame is highly fragmented.  This is usually the result of calling `frame.insert` many times, which has poor performance.  Consider joining all columns at once using pd.concat(axis=1) instead. To get a de-fragmented frame, use `newframe = frame.copy()`\n",
      "  output[field] = ak.to_numpy(output_collection[field])\n",
      "/var/folders/d7/p4v84gls67vdp9_q2rkkvkch0000gn/T/ipykernel_63126/3157445112.py:25: PerformanceWarning: DataFrame is highly fragmented.  This is usually the result of calling `frame.insert` many times, which has poor performance.  Consider joining all columns at once using pd.concat(axis=1) instead. To get a de-fragmented frame, use `newframe = frame.copy()`\n",
      "  output[field] = ak.to_numpy(output_collection[field])\n",
      "/var/folders/d7/p4v84gls67vdp9_q2rkkvkch0000gn/T/ipykernel_63126/3157445112.py:25: PerformanceWarning: DataFrame is highly fragmented.  This is usually the result of calling `frame.insert` many times, which has poor performance.  Consider joining all columns at once using pd.concat(axis=1) instead. To get a de-fragmented frame, use `newframe = frame.copy()`\n",
      "  output[field] = ak.to_numpy(output_collection[field])\n",
      "/var/folders/d7/p4v84gls67vdp9_q2rkkvkch0000gn/T/ipykernel_63126/3157445112.py:25: PerformanceWarning: DataFrame is highly fragmented.  This is usually the result of calling `frame.insert` many times, which has poor performance.  Consider joining all columns at once using pd.concat(axis=1) instead. To get a de-fragmented frame, use `newframe = frame.copy()`\n",
      "  output[field] = ak.to_numpy(output_collection[field])\n",
      "/var/folders/d7/p4v84gls67vdp9_q2rkkvkch0000gn/T/ipykernel_63126/3157445112.py:25: PerformanceWarning: DataFrame is highly fragmented.  This is usually the result of calling `frame.insert` many times, which has poor performance.  Consider joining all columns at once using pd.concat(axis=1) instead. To get a de-fragmented frame, use `newframe = frame.copy()`\n",
      "  output[field] = ak.to_numpy(output_collection[field])\n",
      "/var/folders/d7/p4v84gls67vdp9_q2rkkvkch0000gn/T/ipykernel_63126/3157445112.py:25: PerformanceWarning: DataFrame is highly fragmented.  This is usually the result of calling `frame.insert` many times, which has poor performance.  Consider joining all columns at once using pd.concat(axis=1) instead. To get a de-fragmented frame, use `newframe = frame.copy()`\n",
      "  output[field] = ak.to_numpy(output_collection[field])\n",
      "/var/folders/d7/p4v84gls67vdp9_q2rkkvkch0000gn/T/ipykernel_63126/3157445112.py:25: PerformanceWarning: DataFrame is highly fragmented.  This is usually the result of calling `frame.insert` many times, which has poor performance.  Consider joining all columns at once using pd.concat(axis=1) instead. To get a de-fragmented frame, use `newframe = frame.copy()`\n",
      "  output[field] = ak.to_numpy(output_collection[field])\n",
      "/var/folders/d7/p4v84gls67vdp9_q2rkkvkch0000gn/T/ipykernel_63126/3157445112.py:25: PerformanceWarning: DataFrame is highly fragmented.  This is usually the result of calling `frame.insert` many times, which has poor performance.  Consider joining all columns at once using pd.concat(axis=1) instead. To get a de-fragmented frame, use `newframe = frame.copy()`\n",
      "  output[field] = ak.to_numpy(output_collection[field])\n",
      "/var/folders/d7/p4v84gls67vdp9_q2rkkvkch0000gn/T/ipykernel_63126/3157445112.py:25: PerformanceWarning: DataFrame is highly fragmented.  This is usually the result of calling `frame.insert` many times, which has poor performance.  Consider joining all columns at once using pd.concat(axis=1) instead. To get a de-fragmented frame, use `newframe = frame.copy()`\n",
      "  output[field] = ak.to_numpy(output_collection[field])\n"
     ]
    }
   ],
   "source": [
    "# put them together in a dataframe to use the function \"get_finetuned_score\"\n",
    "data = ak_to_pandas(hids)"
   ]
  },
  {
   "cell_type": "code",
   "execution_count": 66,
   "metadata": {},
   "outputs": [],
   "source": [
    "##################### Which tagger to use\n",
    "# ParT tagger\n",
    "# HWWJets_tagger_score_lvqq = candidatefj.inclParTMDV1_probHWqqWev0c + candidatefj.inclParTMDV1_probHWqqWev1c + candidatefj.inclParTMDV1_probHWqqWmv0c + candidatefj.inclParTMDV1_probHWqqWmv1c\n",
    "\n",
    "# specify which finetuned tagger to use\n",
    "# model_path = \"../../weaver-core-dev/experiments_finetuning/v2_nor2/model.onnx\"\n",
    "# model_path = \"../../weaver-core-dev/experiments_finetuning/v35_12_14/model.onnx\"\n",
    "model_path = \"../../weaver-core-dev/experiments_finetuning/v35_26/model.onnx\"\n",
    "\n",
    "HWWJets_tagger_score_lvqq = get_finetuned_score(data, model_path)"
   ]
  },
  {
   "cell_type": "code",
   "execution_count": 67,
   "metadata": {
    "scrolled": true
   },
   "outputs": [
    {
     "data": {
      "text/plain": [
       "11567"
      ]
     },
     "execution_count": 67,
     "metadata": {},
     "output_type": "execute_result"
    }
   ],
   "source": [
    "Hlvqq_len = len(HWWJets_tagger_score_lvqq)\n",
    "Hlvqq_len"
   ]
  },
  {
   "cell_type": "code",
   "execution_count": 70,
   "metadata": {},
   "outputs": [
    {
     "name": "stdout",
     "output_type": "stream",
     "text": [
      "LP_postprocess.ipynb \u001b[34mLundReweighting\u001b[m\u001b[m      signal.parquet\r\n"
     ]
    }
   ],
   "source": [
    "! ls ../LP/signal.parquet"
   ]
  },
  {
   "cell_type": "code",
   "execution_count": 93,
   "metadata": {},
   "outputs": [],
   "source": [
    "\n",
    "vec = vector.awk({\"pt\": pt, \"eta\": eta, \"phi\": phi, \"E\": energy})\n",
    "\n",
    "\n",
    "pf_cands = np.stack([pts,etas,phis,energys], axis=-1)\n"
   ]
  },
  {
   "cell_type": "code",
   "execution_count": 166,
   "metadata": {
    "scrolled": true
   },
   "outputs": [
    {
     "name": "stdout",
     "output_type": "stream",
     "text": [
      "pf_cands (4523, 150, 4)\n",
      "gen_parts_eta_phi (4523, 2, 2)\n",
      "ak8_jets (4523, 4)\n"
     ]
    }
   ],
   "source": [
    "import vector\n",
    "import awkward as ak\n",
    "\n",
    "df = pd.read_parquet(\"../LP/signal.parquet\")\n",
    "pts = df.loc[:,df.columns.str.contains(\"LP_pfcand\") & df.columns.str.contains(\"pt\")].values\n",
    "etas = df.loc[:,df.columns.str.contains(\"LP_pfcand\") & df.columns.str.contains(\"eta\")].values\n",
    "phis = df.loc[:,df.columns.str.contains(\"LP_pfcand\") & df.columns.str.contains(\"phi\")].values\n",
    "energys = df.loc[:,df.columns.str.contains(\"LP_pfcand\") & df.columns.str.contains(\"energy\")].values\n",
    "\n",
    "# Create an array of vectors using pt, eta, phi, and energy (flatten the 150 ptkls)\n",
    "vec = vector.awk({\"pt\": ak.flatten(ak.Array(pts)), \"eta\": ak.flatten(ak.Array(etas)), \"phi\": ak.flatten(ak.Array(phis)), \"E\": ak.flatten(ak.Array(energys))})\n",
    "\n",
    "# Extract the px, py, pz, and E components (unflatten the 150 ptkls)\n",
    "pxs = ak.unflatten(vec.px, counts=150).to_numpy()\n",
    "pys = ak.unflatten(vec.py, counts=150).to_numpy()\n",
    "pzs = ak.unflatten(vec.pz, counts=150).to_numpy()\n",
    "Es = ak.unflatten(vec.E, counts=150).to_numpy()\n",
    "\n",
    "pf_cands = np.stack([pxs,pys,pzs,Es], axis=-1)\n",
    "\n",
    "print(\"pf_cands\", pf_cands.shape)\n",
    "\n",
    "etas = df.loc[:,df.columns.str.contains(\"LP_quark\") & df.columns.str.contains(\"eta\")].values\n",
    "phis = df.loc[:,df.columns.str.contains(\"LP_quark\") & df.columns.str.contains(\"phi\")].values\n",
    "\n",
    "gen_parts_eta_phi = np.stack([etas,phis], axis=-1)\n",
    "print(\"gen_parts_eta_phi\", gen_parts_eta_phi.shape)\n",
    "\n",
    "ak8_jets = np.stack([df[\"LP_fj_pt\"].values, df[\"LP_fj_eta\"].values, df[\"LP_fj_phi\"].values, df[\"LP_fj_energy\"].values], axis=-1)\n",
    "print(\"ak8_jets\", ak8_jets.shape)\n",
    "\n",
    "score = df[\"THWW\"].values\n",
    "score_cut = score > 0.9\n",
    "\n",
    "max_evts = len(score)"
   ]
  },
  {
   "cell_type": "code",
   "execution_count": null,
   "metadata": {},
   "outputs": [],
   "source": []
  },
  {
   "cell_type": "code",
   "execution_count": 167,
   "metadata": {},
   "outputs": [
    {
     "data": {
      "text/plain": [
       "array([2.21227611, 0.91909774, 3.04380784, ..., 2.592993  , 0.56713632,\n",
       "       2.38613747])"
      ]
     },
     "execution_count": 167,
     "metadata": {},
     "output_type": "execute_result"
    }
   ],
   "source": [
    "dR = np.sqrt((ak8_jets[:,1] - gen_parts_eta_phi[:,0][:,0])**2 + (ak8_jets[:,2] - gen_parts_eta_phi[:,0][:,1])**2)\n",
    "dR"
   ]
  },
  {
   "cell_type": "code",
   "execution_count": 168,
   "metadata": {},
   "outputs": [
    {
     "data": {
      "text/plain": [
       "array([3.19783238, 0.91909774, 3.05397412, ..., 2.80256648, 0.7453432 ,\n",
       "       1.53402723])"
      ]
     },
     "execution_count": 168,
     "metadata": {},
     "output_type": "execute_result"
    }
   ],
   "source": [
    "dR = np.sqrt((ak8_jets[:,1] - gen_parts_eta_phi[:,1][:,0])**2 + (ak8_jets[:,2] - gen_parts_eta_phi[:,1][:,1])**2)\n",
    "dR"
   ]
  },
  {
   "cell_type": "code",
   "execution_count": null,
   "metadata": {},
   "outputs": [],
   "source": []
  },
  {
   "cell_type": "code",
   "execution_count": null,
   "metadata": {},
   "outputs": [],
   "source": []
  },
  {
   "cell_type": "code",
   "execution_count": null,
   "metadata": {},
   "outputs": [],
   "source": []
  },
  {
   "cell_type": "code",
   "execution_count": null,
   "metadata": {},
   "outputs": [],
   "source": []
  },
  {
   "cell_type": "code",
   "execution_count": null,
   "metadata": {},
   "outputs": [],
   "source": []
  },
  {
   "cell_type": "code",
   "execution_count": null,
   "metadata": {},
   "outputs": [],
   "source": []
  },
  {
   "cell_type": "markdown",
   "metadata": {},
   "source": [
    "### Start to calculate Lund Plane weight"
   ]
  },
  {
   "cell_type": "code",
   "execution_count": 139,
   "metadata": {},
   "outputs": [],
   "source": [
    "import sys, os\n",
    "sys.path.insert(0, '')\n",
    "sys.path.append(\"LundReweighting\")\n",
    "sys.path.append('LundReweighting/utils')\n",
    "from utils.LundReweighter import *\n",
    "from utils.Utils import *\n",
    "\"\"\" An example how to use the Lund Plane reweighting code \"\"\"\n",
    "\n",
    "######################## Setup \n",
    "\n",
    "\n",
    "def get_tagger_SF(WP):\n",
    "        \n",
    "    #Input file \n",
    "    f_ratio_name = 'LundReweighting/data/ratio_2018.root'\n",
    "    f_ratio = ROOT.TFile.Open(f_ratio_name)\n",
    "\n",
    "    #nominal data/MC Lund plane ratio (3d histogram)\n",
    "    h_ratio = f_ratio.Get(\"ratio_nom\")\n",
    "    #systematic variations\n",
    "    h_ratio_sys_up = f_ratio.Get(\"ratio_sys_tot_up\")\n",
    "    h_ratio_sys_down = f_ratio.Get(\"ratio_sys_tot_down\")\n",
    "    #MC ratio of b to light quarks\n",
    "    b_light_ratio = f_ratio.Get(\"h_bl_ratio\")\n",
    "\n",
    "\n",
    "    #directory of pt extrapolation fits\n",
    "    f_ratio.cd('pt_extrap')\n",
    "    rdir = ROOT.gDirectory #get the present working directory and give it to rdir\n",
    "\n",
    "    #directory of pt extrapolation fits\n",
    "    f_ratio.cd('pt_extrap')\n",
    "    rdir = ROOT.gDirectory #get the present working directory and give it to rdir\n",
    "\n",
    "    #Main class for reweighting utilities\n",
    "    LP_rw = LundReweighter(pt_extrap_dir = rdir)\n",
    "\n",
    "#     max_evts = len(HWWJets_tagger_score_lvqq)\n",
    "    max_evts = 10\n",
    "    \n",
    "#     if len(tagger_cut)>1:\n",
    "#         score_cut = (HWWJets_tagger_score_lvqq > tagger_cut[0]) & (HWWJets_tagger_score_lvqq < tagger_cut[1])   \n",
    "#     else:\n",
    "#         score_cut = (HWWJets_tagger_score_lvqq > tagger_cut[0])\n",
    "#     score_cut = score_cut[:max_evts]\n",
    "\n",
    "#     #PF candidates in the AK8 jet\n",
    "#     pf_cands = pf_cands_pxpypzE_lvqq[:max_evts]\n",
    "\n",
    "#     #Generator level quarks from hard process\n",
    "#     gen_parts_eta_phi = gen_parts_eta_phi_Hlvqq_2q[:max_evts]\n",
    "\n",
    "#     # ak8_jets = d.get_masked('jet_kinematics')[:max_evts][:,2:6].astype(np.float64)\n",
    "#     ak8_jets = higgs_jet_4vec_Hlvqq[:max_evts]\n",
    "\n",
    "\n",
    "    df = pd.read_parquet(\"../LP/signal.parquet\")\n",
    "    pts = df.loc[:,df.columns.str.contains(\"LP_pfcand\") & df.columns.str.contains(\"pt\")].values\n",
    "    etas = df.loc[:,df.columns.str.contains(\"LP_pfcand\") & df.columns.str.contains(\"eta\")].values\n",
    "    phis = df.loc[:,df.columns.str.contains(\"LP_pfcand\") & df.columns.str.contains(\"phi\")].values\n",
    "    energys = df.loc[:,df.columns.str.contains(\"LP_pfcand\") & df.columns.str.contains(\"energy\")].values\n",
    "\n",
    "    # Create an array of vectors using pt, eta, phi, and energy (flatten the 150 ptkls)\n",
    "    vec = vector.awk({\"pt\": ak.flatten(ak.Array(pts)), \"eta\": ak.flatten(ak.Array(etas)), \"phi\": ak.flatten(ak.Array(phis)), \"E\": ak.flatten(ak.Array(energys))})\n",
    "\n",
    "    # Extract the px, py, pz, and E components (unflatten the 150 ptkls)\n",
    "    pxs = ak.unflatten(vec.px, counts=150).to_numpy()\n",
    "    pys = ak.unflatten(vec.py, counts=150).to_numpy()\n",
    "    pzs = ak.unflatten(vec.pz, counts=150).to_numpy()\n",
    "    Es = ak.unflatten(vec.E, counts=150).to_numpy()\n",
    "\n",
    "    pf_cands = np.stack([pxs,pys,pzs,Es], axis=-1)[:max_evts]\n",
    "\n",
    "    etas = df.loc[:,df.columns.str.contains(\"LP_quark\") & df.columns.str.contains(\"eta\")].values\n",
    "    phis = df.loc[:,df.columns.str.contains(\"LP_quark\") & df.columns.str.contains(\"phi\")].values\n",
    "\n",
    "    gen_parts_eta_phi = np.stack([etas,phis], axis=-1)[:max_evts]\n",
    "\n",
    "    ak8_jets = np.stack([df[\"LP_fj_pt\"].values, df[\"LP_fj_eta\"].values, df[\"LP_fj_phi\"].values, df[\"LP_fj_energy\"].values], axis=-1)[:max_evts]\n",
    "\n",
    "    score = df[\"THWW\"].values[:max_evts]\n",
    "    score_cut = score > 0.9\n",
    "\n",
    "    print(\"max_evts\", max_evts)\n",
    "    print(\"pf_cands\", pf_cands.shape)\n",
    "    print(\"gen_parts_eta_phi\", gen_parts_eta_phi.shape)\n",
    "    print(\"ak8_jets\", ak8_jets.shape)\n",
    "\n",
    "\n",
    "    # Nominal event weights of the MC, assume every event is weight '1' for this example\n",
    "    weights_nom = np.ones(max_evts)\n",
    "\n",
    "    #Number of toys for statistical and pt extrapolation uncertainties\n",
    "    nToys = 100\n",
    "    #Noise vectors used to to generate the toys\n",
    "    #NOTE the same vector has to be used for the whole sample/signal file for the toys to be consistent \n",
    "    rand_noise = np.random.normal(size = (nToys, h_ratio.GetNbinsX(), h_ratio.GetNbinsY(), h_ratio.GetNbinsZ()))\n",
    "    pt_rand_noise = np.random.normal(size = (nToys, h_ratio.GetNbinsY(), h_ratio.GetNbinsZ(), 3))\n",
    "\n",
    "\n",
    "    ################### Compute reweighting factors\n",
    "\n",
    "    B_PDG_ID = 5\n",
    "    \n",
    "    LP_weights = []\n",
    "    LP_weights_sys_up = []\n",
    "    LP_weights_sys_down = []\n",
    "    stat_smeared_weights = []\n",
    "    pt_smeared_weights = []\n",
    "    b_weights_up = []\n",
    "    b_weights_down = []\n",
    "    bad_matches = []\n",
    "\n",
    "\n",
    "    for i,cands in enumerate(pf_cands):\n",
    "        # if i == 4: break\n",
    "        # print(\"now processing:\",i)\n",
    "        #Get the subjets, splittings and checking matching based on PF candidates in the jet and gen-level quarks\n",
    "        subjets, splittings, bad_match, deltaRs = LP_rw.get_splittings_and_matching(cands, gen_parts_eta_phi[i], ak8_jets[i])\n",
    "        # print(bad_match)\n",
    "        # print(deltaRs)\n",
    "        #Gets the nominal LP reweighting factor for this event and statistical + pt extrapolation toys\n",
    "        LP_weight, stat_smeared_weight, pt_smeared_weight = LP_rw.reweight_lund_plane(h_rw = h_ratio, subjets = subjets, splittings = splittings,\n",
    "                rand_noise = rand_noise, pt_rand_noise = pt_rand_noise, )\n",
    "        #Now get systematic variations\n",
    "        LP_weight_sys_up,_,_ = LP_rw.reweight_lund_plane(h_rw = h_ratio_sys_up, subjets = subjets, splittings = splittings)\n",
    "        LP_weight_sys_down,_,_ = LP_rw.reweight_lund_plane(h_rw = h_ratio_sys_down, subjets = subjets, splittings = splittings)\n",
    "\n",
    "        LP_weights.append(LP_weight)\n",
    "        stat_smeared_weights.append(stat_smeared_weight)\n",
    "        pt_smeared_weights.append(pt_smeared_weight)\n",
    "\n",
    "        LP_weights_sys_up.append(LP_weight_sys_up)\n",
    "        LP_weights_sys_down.append(LP_weight_sys_down)\n",
    "        bad_matches.append(bad_match)\n",
    "\n",
    "\n",
    "\n",
    "    ############### Normalize weights to preserve normalization of the MC sample\n",
    "\n",
    "    #The nominal Lund Plane correction event weights\n",
    "    LP_weights = LP_rw.normalize_weights(LP_weights) * weights_nom \n",
    "\n",
    "    #Toy variations for stat and pt uncertainties\n",
    "    stat_smeared_weights = LP_rw.normalize_weights(stat_smeared_weights) * weights_nom.reshape(max_evts, 1)\n",
    "    pt_smeared_weights = LP_rw.normalize_weights(pt_smeared_weights) * weights_nom.reshape(max_evts,1)\n",
    "\n",
    "    #Systematic up/down variations\n",
    "    LP_weights_sys_up = LP_rw.normalize_weights(LP_weights_sys_up) * weights_nom\n",
    "    LP_weights_sys_down = LP_rw.normalize_weights(LP_weights_sys_down) * weights_nom\n",
    "\n",
    "    ############### Compute efficiences and uncertainties\n",
    "\n",
    "\n",
    "    #Efficiency of the cut in nominal MC\n",
    "    eff_nom = np.average(score_cut, weights = weights_nom) #TODO\n",
    "\n",
    "    #Efficiency of the cut after the Lund Plane reweighting\n",
    "    eff_rw = np.average(score_cut, weights = LP_weights)\n",
    "\n",
    "    #Nominal 'scale factor'\n",
    "    SF = eff_rw / eff_nom\n",
    "\n",
    "    print(\"Nominal efficiency %.3f, Corrected efficiency %.3f, SF (corrected / nom) %.3f\" % (eff_nom, eff_rw, SF))\n",
    "\n",
    "    #NOTE, better to use corrected efficiency computed separately for each sample rather than a single 'SF'\n",
    "\n",
    "\n",
    "    #Compute efficiency for each of the stat/pt toys\n",
    "    eff_toys = []\n",
    "    pt_eff_toys = []\n",
    "    for i in range(nToys):\n",
    "        eff = np.average(score_cut, weights = stat_smeared_weights[:,i])\n",
    "        eff_toys.append(eff)\n",
    "\n",
    "        eff1 = np.average(score_cut, weights = pt_smeared_weights[:,i])\n",
    "        pt_eff_toys.append(eff1)\n",
    "\n",
    "    #Compute stat and pt uncertainty based on variation in the toys\n",
    "    toys_mean = np.mean(eff_toys)\n",
    "    toys_std = np.std(eff_toys)\n",
    "    pt_toys_mean = np.mean(pt_eff_toys)\n",
    "    pt_toys_std = np.std(pt_eff_toys)\n",
    "\n",
    "    eff_stat_unc = (abs(toys_mean - eff_rw)  + toys_std) \n",
    "    eff_pt_unc = (abs(pt_toys_mean - eff_rw) + pt_toys_std)\n",
    "\n",
    "    print(\"Stat variation toys eff. avg %.3f, std dev %.3f\" % (toys_mean, toys_std))\n",
    "    print(\"Pt variation toys eff. avg %.3f, std dev %.3f\" % (pt_toys_mean, pt_toys_std))\n",
    "\n",
    "\n",
    "    #Compute difference in efficiency due to weight variations as uncertainty\n",
    "    def get_uncs(score_cut, weights_up, weights_down, eff_baseline):\n",
    "        eff_up =  np.average(score_cut, weights = weights_up)\n",
    "        eff_down =  np.average(score_cut, weights = weights_down)\n",
    "\n",
    "        unc_up = eff_up - eff_baseline\n",
    "        unc_down = eff_down - eff_baseline \n",
    "        return unc_up, unc_down\n",
    "\n",
    "\n",
    "    #Compute efficiency of systematic variations\n",
    "    sys_unc_up, sys_unc_down = get_uncs(score_cut, LP_weights_sys_up, LP_weights_sys_down, eff_rw)\n",
    "    # b_unc_up, b_unc_down = get_uncs(score_cut, b_weights_up, b_weights_down, eff_rw)\n",
    "\n",
    "\n",
    "    #matching uncertainty, taken as a fractional uncertainty on efficiency\n",
    "    bad_match_frac = np.mean(bad_matches)\n",
    "    bad_match_unc = bad_match_frac * eff_rw\n",
    "\n",
    "\n",
    "    ############ Results\n",
    "    print(\"\\n\\nCalibrated efficiency  is %.3f +/- %.3f  (stat) +/- %.3f (pt) +/- %.3f/%.3f (sys)+/- %.3f (matching)  \\n\\n\"  % \n",
    "            (eff_rw, eff_stat_unc, eff_pt_unc, sys_unc_up, sys_unc_down, bad_match_unc))\n",
    "\n",
    "    #next compute the uncertainty about SFs\n",
    "\n",
    "    #Efficiency of the cut in nominal MC\n",
    "    eff_nom = np.average(score_cut, weights = weights_nom) #TODO\n",
    "\n",
    "    #Efficiency of the cut after the Lund Plane reweighting\n",
    "    eff_rw = np.average(score_cut, weights = LP_weights)\n",
    "\n",
    "    #Nominal 'scale factor'\n",
    "    print(\"Now perform SFs information\")\n",
    "    SF = eff_rw / eff_nom\n",
    "\n",
    "    print(\"SF (corrected / nom) %.3f\" % (SF))\n",
    "\n",
    "    #propagate statistical and pt extrapolation uncertainties to SF\n",
    "    SF_stat_unc = (abs(toys_mean - eff_rw)  + toys_std) /eff_nom\n",
    "    SF_pt_unc = (abs(pt_toys_mean - eff_rw) + pt_toys_std) /eff_nom\n",
    "\n",
    "    #propagate systemetic uncertainty to SF\n",
    "    eff_sys_up =  np.average(score_cut, weights = LP_weights_sys_up)\n",
    "    eff_sys_down =  np.average(score_cut, weights = LP_weights_sys_down)\n",
    "\n",
    "    sys_unc_up = abs(eff_rw - eff_sys_up)\n",
    "    sys_unc_down = abs(eff_rw - eff_sys_down)\n",
    "\n",
    "    SF_sys_unc_up = sys_unc_up/eff_nom\n",
    "    SF_sys_unc_down = sys_unc_down/eff_nom\n",
    "\n",
    "    #calculate bad matching uncertainty directly\n",
    "    SF_match_unc = bad_match_frac * SF\n",
    "\n",
    "    print(\"\\n\\nSF is %.3f +/-%.3f(stat) +/-%.5f(pt) +%.3f/-%.3f(sys) +/-%.3f(match) \\n\\n\"  % (SF, SF_stat_unc, SF_pt_unc, sys_unc_up, sys_unc_down, SF_match_unc))\n",
    "    f_ratio.Close()\n",
    "    \n",
    "    return LP_weights, LP_weights_sys_up, LP_weights_sys_down"
   ]
  },
  {
   "cell_type": "code",
   "execution_count": 140,
   "metadata": {},
   "outputs": [
    {
     "name": "stdout",
     "output_type": "stream",
     "text": [
      "max_evts 10\n",
      "pf_cands (10, 150, 4)\n",
      "gen_parts_eta_phi (10, 2, 2)\n",
      "ak8_jets (10, 4)\n",
      "Nominal efficiency 0.200, Corrected efficiency 0.200, SF (corrected / nom) 1.000\n",
      "Stat variation toys eff. avg 0.215, std dev 0.134\n",
      "Pt variation toys eff. avg 0.200, std dev 0.000\n",
      "\n",
      "\n",
      "Calibrated efficiency  is 0.200 +/- 0.149  (stat) +/- 0.000 (pt) +/- 0.000/0.000 (sys)+/- 0.200 (matching)  \n",
      "\n",
      "\n",
      "Now perform SFs information\n",
      "SF (corrected / nom) 1.000\n",
      "\n",
      "\n",
      "SF is 1.000 +/-0.743(stat) +/-0.00000(pt) +0.000/-0.000(sys) +/-1.000(match) \n",
      "\n",
      "\n"
     ]
    }
   ],
   "source": [
    "tagger_cut = [0.925]\n",
    "LP_weights, LP_weights_sys_up, LP_weights_sys_down = get_tagger_SF(tagger_cut)"
   ]
  },
  {
   "cell_type": "code",
   "execution_count": null,
   "metadata": {},
   "outputs": [],
   "source": []
  },
  {
   "cell_type": "code",
   "execution_count": null,
   "metadata": {},
   "outputs": [],
   "source": []
  },
  {
   "cell_type": "code",
   "execution_count": null,
   "metadata": {},
   "outputs": [],
   "source": []
  },
  {
   "cell_type": "code",
   "execution_count": 62,
   "metadata": {},
   "outputs": [
    {
     "name": "stdout",
     "output_type": "stream",
     "text": [
      "Nominal efficiency 0.000, Corrected efficiency 0.000, SF (corrected / nom) nan\n",
      "Stat variation toys eff. avg 0.000, std dev 0.000\n",
      "Pt variation toys eff. avg 0.000, std dev 0.000\n",
      "\n",
      "\n",
      "Calibrated efficiency  is 0.000 +/- 0.000  (stat) +/- 0.000 (pt) +/- 0.000/0.000 (sys)+/- 0.000 (matching)  \n",
      "\n",
      "\n",
      "Now perform SFs information\n",
      "SF (corrected / nom) nan\n",
      "\n",
      "\n",
      "SF is nan +/-nan(stat) +/-nan(pt) +0.000/-0.000(sys) +/-nan(match) \n",
      "\n",
      "\n"
     ]
    },
    {
     "name": "stderr",
     "output_type": "stream",
     "text": [
      "/var/folders/d7/p4v84gls67vdp9_q2rkkvkch0000gn/T/ipykernel_76913/3618698882.py:134: RuntimeWarning: invalid value encountered in double_scalars\n",
      "  SF = eff_rw / eff_nom\n",
      "/var/folders/d7/p4v84gls67vdp9_q2rkkvkch0000gn/T/ipykernel_76913/3618698882.py:198: RuntimeWarning: invalid value encountered in double_scalars\n",
      "  SF = eff_rw / eff_nom\n",
      "/var/folders/d7/p4v84gls67vdp9_q2rkkvkch0000gn/T/ipykernel_76913/3618698882.py:203: RuntimeWarning: invalid value encountered in double_scalars\n",
      "  SF_stat_unc = (abs(toys_mean - eff_rw)  + toys_std) /eff_nom\n",
      "/var/folders/d7/p4v84gls67vdp9_q2rkkvkch0000gn/T/ipykernel_76913/3618698882.py:204: RuntimeWarning: invalid value encountered in double_scalars\n",
      "  SF_pt_unc = (abs(pt_toys_mean - eff_rw) + pt_toys_std) /eff_nom\n",
      "/var/folders/d7/p4v84gls67vdp9_q2rkkvkch0000gn/T/ipykernel_76913/3618698882.py:213: RuntimeWarning: invalid value encountered in double_scalars\n",
      "  SF_sys_unc_up = sys_unc_up/eff_nom\n",
      "/var/folders/d7/p4v84gls67vdp9_q2rkkvkch0000gn/T/ipykernel_76913/3618698882.py:214: RuntimeWarning: invalid value encountered in double_scalars\n",
      "  SF_sys_unc_down = sys_unc_down/eff_nom\n"
     ]
    },
    {
     "data": {
      "text/plain": [
       "(array([0.30896689, 0.73092485, 2.71539652, ..., 0.09941369, 0.58873426,\n",
       "        0.7573853 ]),\n",
       " array([0.25325453, 0.50776321, 2.61974242, ..., 0.099898  , 0.46501632,\n",
       "        0.72060035]),\n",
       " array([0.43788318, 0.9663578 , 1.11833128, ..., 0.10211013, 0.83489386,\n",
       "        0.73137875]))"
      ]
     },
     "execution_count": 62,
     "metadata": {},
     "output_type": "execute_result"
    }
   ],
   "source": [
    "tagger_cut = [0.75, 0.25]\n",
    "get_tagger_SF(tagger_cut)"
   ]
  },
  {
   "cell_type": "markdown",
   "metadata": {},
   "source": [
    "### Plot the tagger distribution about Hlvqq jet"
   ]
  },
  {
   "cell_type": "code",
   "execution_count": 87,
   "metadata": {},
   "outputs": [
    {
     "data": {
      "image/png": "[encoded data removed]",
      "text/plain": [
       "<Figure size 1000x1000 with 1 Axes>"
      ]
     },
     "metadata": {},
     "output_type": "display_data"
    }
   ],
   "source": [
    "import matplotlib as mpl\n",
    "import matplotlib.pyplot as plt\n",
    "import mplhep as hep\n",
    "import boost_histogram as bh\n",
    "from cycler import cycler\n",
    "max_evts = Hlvqq_len\n",
    "#implement CMS plot style functions\n",
    "use_helvet = False ## true: use helvetica for plots, make sure the system have the font installed\n",
    "if use_helvet:\n",
    "    CMShelvet = hep.style.CMS\n",
    "    CMShelvet['font.sans-serif'] = ['Helvetica', 'Arial']\n",
    "    plt.style.use(CMShelvet)\n",
    "else:\n",
    "    plt.style.use(hep.style.CMS)\n",
    "\n",
    "plt.figure(figsize=(10,10))\n",
    "ax=plt.gca()\n",
    "plt.grid()\n",
    "hep.cms.label(data=False, year=\"2018\", ax=ax, fontname='sans-serif')\n",
    "%matplotlib inline\n",
    "#step1: plot \n",
    "\n",
    "# plt.hist(eventsEventsID3Prongs4Prongs['HqqqqVsQcdTop'], bins=20, range=(0,1), histtype='step', label='before reweighting',density=True);\n",
    "# plt.hist(eventsEventsID3Prongs4Prongs['HqqqqVsQcdTop'], bins=20, range=(0,1), histtype='step', label='after reweighting', weights=eventsEventsID3Prongs4Prongs[\"LP_weight\"],density=True);\n",
    "nbins, x_min, x_max = 20, 0, 1.0\n",
    "hist_before = bh.Histogram(bh.axis.Regular(nbins, x_min, x_max), storage=bh.storage.Weight())\n",
    "hist_before.fill(HWWJets_tagger_score_lvqq[:max_evts])\n",
    "hist_before_value = hist_before.view().value\n",
    "hist_before_err = np.sqrt(hist_before.view().variance)\n",
    "\n",
    "hist_after = bh.Histogram(bh.axis.Regular(nbins, x_min, x_max), storage=bh.storage.Weight())\n",
    "hist_after.fill(HWWJets_tagger_score_lvqq[:max_evts],weight=LP_weights[:max_evts])\n",
    "hist_after_value = hist_after.view().value\n",
    "hist_after_err = np.sqrt(hist_after.view().variance)\n",
    "bins = hist_before.axes[0].edges\n",
    "\n",
    "\n",
    "hep.histplot(hist_before_value,    bins=bins, yerr=hist_before_err, label= 'before Lund Plane reweighting', lw = 2,edges = False, histtype=\"step\")\n",
    "hep.histplot(hist_after_value,     bins=bins, yerr=hist_after_err,  label= 'after Lund Plane reweighting', lw = 2,edges = False, histtype=\"step\")\n",
    "\n",
    "\n",
    "plt.legend(loc='upper left',frameon=False,fontsize=20)\n",
    "y_min,y_max = plt.gca().get_ylim()\n",
    "plt.text(0.08, 0.83*y_max, \"ggF,only for Hlvqq jet\", fontsize=20)\n",
    "# plt.xlabel(r'$H_{qqqq} / (H_{qqqq} + QCD + Top)$')\n",
    "plt.xlabel(r'HWWvs(all background) tagger score', fontsize=20, ha='right', x=1)\n",
    "plt.ylabel('Events(No xs-weighted)',fontsize=20, ha='right', y=1)\n",
    "plt.savefig(f\"TaggerDistribution_2018_ggF_Hlvqq_all.pdf\", bbox_inches='tight')\n",
    "plt.xticks(size=14)\n",
    "plt.yticks(size=14)\n",
    "plt.show()"
   ]
  },
  {
   "cell_type": "code",
   "execution_count": null,
   "metadata": {},
   "outputs": [],
   "source": []
  }
 ],
 "metadata": {
  "kernelspec": {
   "display_name": "fastjet-env",
   "language": "python",
   "name": "fastjet-env"
  },
  "language_info": {
   "codemirror_mode": {
    "name": "ipython",
    "version": 3
   },
   "file_extension": ".py",
   "mimetype": "text/x-python",
   "name": "python",
   "nbconvert_exporter": "python",
   "pygments_lexer": "ipython3",
   "version": "3.9.18"
  }
 },
 "nbformat": 4,
 "nbformat_minor": 2
}
