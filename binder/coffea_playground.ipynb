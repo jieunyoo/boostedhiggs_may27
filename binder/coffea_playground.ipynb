{
 "cells": [
  {
   "cell_type": "code",
   "execution_count": 15,
   "id": "7751f679",
   "metadata": {},
   "outputs": [
    {
     "data": {
      "text/plain": [
       "{'divide': 'warn', 'over': 'warn', 'under': 'ignore', 'invalid': 'ignore'}"
      ]
     },
     "execution_count": 15,
     "metadata": {},
     "output_type": "execute_result"
    }
   ],
   "source": [
    "import argparse\n",
    "import json\n",
    "import os\n",
    "import pickle as pkl\n",
    "import sys\n",
    "import time\n",
    "import warnings\n",
    "from typing import Union\n",
    "\n",
    "import pandas as pd\n",
    "import pyarrow as pa\n",
    "import pyarrow.parquet as pq\n",
    "import uproot\n",
    "from coffea import nanoevents, processor\n",
    "from coffea.nanoevents import BaseSchema, NanoAODSchema, NanoEventsFactory\n",
    "from coffea.nanoevents.methods.nanoaod import FatJetArray, GenParticleArray\n",
    "\n",
    "sys.path.append(\"../\")\n",
    "\n",
    "import json\n",
    "import os\n",
    "import pathlib\n",
    "import pickle as pkl\n",
    "import shutil\n",
    "import warnings\n",
    "from collections import defaultdict\n",
    "from typing import List, Optional\n",
    "\n",
    "import awkward as ak\n",
    "import hist as hist2\n",
    "import matplotlib.pyplot as plt\n",
    "import mplhep as hep\n",
    "\n",
    "plt.style.use(hep.style.CMS)\n",
    "\n",
    "import numpy as np\n",
    "import pandas as pd\n",
    "import pyarrow as pa\n",
    "import pyarrow.parquet as pq\n",
    "from coffea import processor\n",
    "from coffea.analysis_tools import PackedSelection, Weights\n",
    "from coffea.nanoevents.methods import candidate, vector\n",
    "\n",
    "warnings.filterwarnings(\"ignore\", message=\"Found duplicate branch \")\n",
    "warnings.filterwarnings(\"ignore\", category=DeprecationWarning)\n",
    "np.seterr(invalid=\"ignore\")"
   ]
  },
  {
   "cell_type": "code",
   "execution_count": 2,
   "id": "a89ae39f",
   "metadata": {},
   "outputs": [
    {
     "name": "stdout",
     "output_type": "stream",
     "text": [
      "number of events per file is 15000\n"
     ]
    },
    {
     "data": {
      "text/plain": [
       "<NanoEventsArray [<event 1:100:99001>, ... ] type='15000 * event'>"
      ]
     },
     "execution_count": 2,
     "metadata": {},
     "output_type": "execute_result"
    }
   ],
   "source": [
    "# load a hww root file into coffea-friendly NanoAOD structure\n",
    "import uproot\n",
    "f = uproot.open(f\"../rootfiles/HWW/file1.root\")\n",
    "\n",
    "num = f['Events'].num_entries   ### checks number of events per file \n",
    "print(f'number of events per file is {num}')\n",
    "\n",
    "events = nanoevents.NanoEventsFactory.from_root(f, \"Events\").events()\n",
    "events"
   ]
  },
  {
   "cell_type": "code",
   "execution_count": 3,
   "id": "bea7bff9",
   "metadata": {
    "scrolled": true
   },
   "outputs": [
    {
     "name": "stdout",
     "output_type": "stream",
     "text": [
      "LHEWeight\n",
      "GenJet\n",
      "fixedGridRhoFastjetCentral\n",
      "GenMET\n",
      "DeepMETResolutionTune\n",
      "btagWeight\n",
      "FatJet\n",
      "SoftActivityJetNjets10\n",
      "fixedGridRhoFastjetCentralNeutral\n",
      "FatJetAK15PFCands\n",
      "SubGenJetAK8\n",
      "OtherPV\n",
      "L1Reco\n",
      "L1\n",
      "TrigObj\n",
      "SoftDropGenJetAK8\n",
      "PuppiMET\n",
      "HLTriggerFirstPath\n",
      "HLTriggerFinalPath\n",
      "FatJetPFCands\n",
      "SoftActivityJetNjets5\n",
      "GenJetAK15\n",
      "Jet\n",
      "SoftActivityJetNjets2\n",
      "CaloMET\n",
      "SoftActivityJetHT\n",
      "Photon\n",
      "HLT\n",
      "MET\n",
      "IsoTrack\n",
      "genWeight\n",
      "Electron\n",
      "PSWeight\n",
      "SoftActivityJetHT10\n",
      "RawMET\n",
      "L1simulation\n",
      "LHEReweightingWeight\n",
      "SubJet\n",
      "L1PreFiringWeight\n",
      "luminosityBlock\n",
      "genTtbarId\n",
      "run\n",
      "event\n",
      "FatJetAK15\n",
      "RawPuppiMET\n",
      "PFCands\n",
      "GenDressedLepton\n",
      "Generator\n",
      "GenVisTau\n",
      "FatJetAK15SubJet\n",
      "TkMET\n",
      "PV\n",
      "CorrT1METJet\n",
      "SoftDropGenJetAK15\n",
      "ChsMET\n",
      "LHEScaleWeight\n",
      "LowPtElectron\n",
      "LHEPdfWeight\n",
      "JetSVsAK15\n",
      "fixedGridRhoFastjetCentralChargedPileUp\n",
      "FatJetSVs\n",
      "LHEPart\n",
      "GenJetAK8\n",
      "boostedTau\n",
      "SV\n",
      "LHE\n",
      "Flag\n",
      "GenVtx\n",
      "FsrPhoton\n",
      "Muon\n",
      "Tau\n",
      "fixedGridRhoFastjetCentralCalo\n",
      "Pileup\n",
      "GenPart\n",
      "DeepMETResponseTune\n",
      "GenSubJetAK15\n",
      "fixedGridRhoFastjetAll\n",
      "GenIsolatedPhoton\n",
      "SoftActivityJetHT5\n",
      "SoftActivityJet\n",
      "SoftActivityJetHT2\n"
     ]
    }
   ],
   "source": [
    "for key in events.fields:\n",
    "    print(key)"
   ]
  },
  {
   "cell_type": "code",
   "execution_count": 4,
   "id": "ed5ba96f",
   "metadata": {},
   "outputs": [],
   "source": [
    "def get_pid_mask(\n",
    "    genparts: GenParticleArray,\n",
    "    pdgids: Union[int, list],\n",
    "    ax: int = 2,\n",
    "    byall: bool = True,\n",
    ") -> ak.Array:\n",
    "    \"\"\"\n",
    "    Get selection mask for gen particles matching any of the pdgIds in ``pdgids``.\n",
    "    If ``byall``, checks all particles along axis ``ax`` match.\n",
    "    \"\"\"\n",
    "    gen_pdgids = abs(genparts.pdgId)\n",
    "\n",
    "    if type(pdgids) is list:\n",
    "        mask = gen_pdgids == pdgids[0]\n",
    "        for pdgid in pdgids[1:]:\n",
    "            mask = mask | (gen_pdgids == pdgid)\n",
    "    else:\n",
    "        mask = gen_pdgids == pdgids\n",
    "\n",
    "    return ak.all(mask, axis=ax) if byall else mask\n",
    "\n",
    "\n",
    "def to_label(array: ak.Array) -> ak.Array:\n",
    "    return ak.values_astype(array, np.int32)\n",
    "\n",
    "GEN_FLAGS = [\"fromHardProcess\", \"isLastCopy\"]\n",
    "\n",
    "\n",
    "genparts = events.GenPart\n",
    "HIGGS_PDGID = 25\n",
    "\n",
    "higgs = genparts[get_pid_mask(genparts, HIGGS_PDGID, byall=False) * genparts.hasFlags(GEN_FLAGS)]"
   ]
  },
  {
   "cell_type": "code",
   "execution_count": 5,
   "id": "cd164c40",
   "metadata": {},
   "outputs": [],
   "source": [
    "d_PDGID = 1\n",
    "c_PDGID = 4\n",
    "b_PDGID = 5\n",
    "g_PDGID = 21\n",
    "TOP_PDGID = 6\n",
    "\n",
    "ELE_PDGID = 11\n",
    "vELE_PDGID = 12\n",
    "MU_PDGID = 13\n",
    "vMU_PDGID = 14\n",
    "TAU_PDGID = 15\n",
    "vTAU_PDGID = 16\n",
    "\n",
    "GAMMA_PDGID = 22\n",
    "Z_PDGID = 23\n",
    "W_PDGID = 24\n",
    "HIGGS_PDGID = 25\n",
    "\n",
    "PI_PDGID = 211\n",
    "PO_PDGID = 221\n",
    "PP_PDGID = 111\n",
    "\n",
    "GEN_FLAGS = [\"fromHardProcess\", \"isLastCopy\"]\n",
    "\n",
    "FILL_NONE_VALUE = -99999\n",
    "\n",
    "JET_DR = 0.8\n",
    "\n",
    "\n",
    "def match_H(genparts: GenParticleArray, fatjet: FatJetArray):\n",
    "    \"\"\"Gen matching for Higgs samples.\n",
    "\n",
    "    An edited version of the function that returns the genquark info that is useful for LP method.\n",
    "    \"\"\"\n",
    "\n",
    "    higgs = ak.firsts(genparts[get_pid_mask(genparts, HIGGS_PDGID, byall=False) * genparts.hasFlags(GEN_FLAGS)])\n",
    "    matched_higgs_mask = fatjet.delta_r(higgs) < 0.8\n",
    "\n",
    "    children_mask = get_pid_mask(higgs.children, [W_PDGID], byall=False)\n",
    "    is_hww = ak.any(children_mask, axis=1)\n",
    "\n",
    "    # order by mass, select lower mass child as V* and higher as V\n",
    "    higgs_children = higgs.children[children_mask]\n",
    "    children_mass = higgs_children.mass\n",
    "    v_star = ak.firsts(higgs_children[ak.argmin(children_mass, axis=1, keepdims=True)])\n",
    "    v = ak.firsts(higgs_children[ak.argmax(children_mass, axis=1, keepdims=True)])\n",
    "\n",
    "    # VV daughters\n",
    "    # requires coffea-0.7.21\n",
    "    all_daus = higgs_children.distinctChildrenDeep\n",
    "    all_daus_flat = ak.flatten(all_daus, axis=2)  # flattents the daughters of the two Ws\n",
    "    all_daus_flat_pdgId = abs(all_daus_flat.pdgId)\n",
    "\n",
    "    # the following tells you about the decay\n",
    "    num_quarks = ak.sum(all_daus_flat_pdgId <= b_PDGID, axis=1)\n",
    "    num_leptons = ak.sum(\n",
    "        (all_daus_flat_pdgId == ELE_PDGID) | (all_daus_flat_pdgId == MU_PDGID) | (all_daus_flat_pdgId == TAU_PDGID),\n",
    "        axis=1,\n",
    "    )\n",
    "    num_electrons = ak.sum(all_daus_flat_pdgId == ELE_PDGID, axis=1)\n",
    "    num_muons = ak.sum(all_daus_flat_pdgId == MU_PDGID, axis=1)\n",
    "    num_taus = ak.sum(all_daus_flat_pdgId == TAU_PDGID, axis=1)\n",
    "\n",
    "    # the following tells you about the matching\n",
    "    # prongs except neutrino\n",
    "    neutrinos = (\n",
    "        (all_daus_flat_pdgId == vELE_PDGID) | (all_daus_flat_pdgId == vMU_PDGID) | (all_daus_flat_pdgId == vTAU_PDGID)\n",
    "    )\n",
    "\n",
    "    leptons = (all_daus_flat_pdgId == ELE_PDGID) | (all_daus_flat_pdgId == MU_PDGID) | (all_daus_flat_pdgId == TAU_PDGID)\n",
    "\n",
    "    # num_m: number of matched leptons\n",
    "    # number of quarks excludes neutrino and leptons\n",
    "    num_m_quarks = ak.sum(fatjet.delta_r(all_daus_flat[~neutrinos & ~leptons]) < JET_DR, axis=1)\n",
    "    num_m_leptons = ak.sum(fatjet.delta_r(all_daus_flat[leptons]) < JET_DR, axis=1)\n",
    "    num_m_cquarks = ak.sum(fatjet.delta_r(all_daus_flat[all_daus_flat.pdgId == b_PDGID]) < JET_DR, axis=1)\n",
    "\n",
    "    lep_daughters = all_daus_flat[leptons]\n",
    "    # parent = ak.firsts(lep_daughters[fatjet.delta_r(lep_daughters) < JET_DR].distinctParent)\n",
    "    parent = ak.firsts(lep_daughters.distinctParent)\n",
    "    \n",
    "    iswlepton = parent.mass == v.mass\n",
    "    iswstarlepton = parent.mass == v_star.mass\n",
    "    \n",
    "    genVars = {\"fj_genH_pt\": ak.fill_none(higgs.pt, FILL_NONE_VALUE)}\n",
    "\n",
    "    genVVars = {\n",
    "        \"fj_genH_jet\": fatjet.delta_r(higgs),\n",
    "        \"fj_genV_dR\": fatjet.delta_r(v),\n",
    "        \"fj_genVstar\": fatjet.delta_r(v_star),\n",
    "        \"genV_genVstar_dR\": v.delta_r(v_star),\n",
    "    }\n",
    "\n",
    "    genHVVVars = {\n",
    "        \"fj_isHVV\": is_hww,\n",
    "        \"fj_isHVV_Matched\": matched_higgs_mask,\n",
    "        \"fj_isHVV_4q\": to_label((num_quarks == 4) & (num_leptons == 0)),\n",
    "        \"fj_isHVV_elenuqq\": to_label((num_electrons == 1) & (num_quarks == 2) & (num_leptons == 1)),\n",
    "        \"fj_isHVV_munuqq\": to_label((num_muons == 1) & (num_quarks == 2) & (num_leptons == 1)),\n",
    "        \"fj_isHVV_taunuqq\": to_label((num_taus == 1) & (num_quarks == 2) & (num_leptons == 1)),\n",
    "        \"fj_isHVV_Vlepton\": iswlepton,\n",
    "        \"fj_isHVV_Vstarlepton\": iswstarlepton,\n",
    "        \"fj_genRes_mass\": higgs.mass,\n",
    "        \"fj_nquarks\": num_m_quarks,\n",
    "        \"fj_ncquarks\": num_m_cquarks,\n",
    "        \"fj_lepinprongs\": num_m_leptons,\n",
    "        \"lep_daughters\": leptons,\n",
    "        \"all_daus\": all_daus,\n",
    "    }\n",
    "\n",
    "    lepVars = {\n",
    "        \"lepton_pt\": all_daus_flat[leptons].pt,\n",
    "        \"lepton_eta\": all_daus_flat[leptons].eta,\n",
    "        \"lepton_phi\": all_daus_flat[leptons].phi,\n",
    "        \"lepton_mass\": all_daus_flat[leptons].mass,\n",
    "    }\n",
    "\n",
    "    quarkVars = {\n",
    "        \"quark_pt\": all_daus_flat[all_daus_flat_pdgId <= b_PDGID].pt,\n",
    "        \"quark_eta\": all_daus_flat[all_daus_flat_pdgId <= b_PDGID].eta,\n",
    "        \"quark_phi\": all_daus_flat[all_daus_flat_pdgId <= b_PDGID].phi,\n",
    "        \"quark_mass\": all_daus_flat[all_daus_flat_pdgId <= b_PDGID].mass,\n",
    "    }\n",
    "\n",
    "    genVars = {**genVars, **genVVars, **genHVVVars, **lepVars, **quarkVars}\n",
    "\n",
    "    return genVars"
   ]
  },
  {
   "cell_type": "code",
   "execution_count": 18,
   "id": "b88d1b47",
   "metadata": {},
   "outputs": [],
   "source": [
    "def build_p4(cand):\n",
    "    return ak.zip(\n",
    "        {\n",
    "            \"pt\": cand.pt,\n",
    "            \"eta\": cand.eta,\n",
    "            \"phi\": cand.phi,\n",
    "            \"mass\": cand.mass,\n",
    "            \"charge\": cand.charge,\n",
    "        },\n",
    "        with_name=\"PtEtaPhiMCandidate\",\n",
    "        behavior=candidate.behavior,\n",
    "    )\n",
    "\n",
    "# lepton\n",
    "electrons = events[\"Electron\"][events[\"Electron\"].pt > 40]\n",
    "muons = events[\"Muon\"][events[\"Muon\"].pt > 30]\n",
    "leptons = ak.concatenate([electrons, muons], axis=1)\n",
    "leptons = leptons[ak.argsort(leptons.pt, ascending=False)]\n",
    "candidatelep = ak.firsts(leptons)\n",
    "candidatelep_p4 = build_p4(candidatelep)\n",
    "\n",
    "# fatjet\n",
    "fatjets = events[\"FatJet\"]\n",
    "good_fatjets = (fatjets.pt > 200) & (abs(fatjets.eta) < 2.5) & fatjets.isTight\n",
    "\n",
    "good_fatjets = fatjets[good_fatjets]  # select good fatjets\n",
    "good_fatjets = good_fatjets[ak.argsort(good_fatjets.pt, ascending=False)]  # sort them by pt\n",
    "\n",
    "# candidatefj\n",
    "fj_idx_lep = ak.argmin(good_fatjets.delta_r(candidatelep_p4), axis=1, keepdims=True)\n",
    "candidatefj = ak.firsts(good_fatjets[fj_idx_lep])\n",
    "\n",
    "# genVars = match_H(events.GenPart, candidatefj)"
   ]
  },
  {
   "cell_type": "code",
   "execution_count": 19,
   "id": "e9e804f2",
   "metadata": {},
   "outputs": [
    {
     "data": {
      "text/plain": [
       "<FatJetArray [None, None, None, ... None, None] type='46000 * ?fatJet'>"
      ]
     },
     "execution_count": 19,
     "metadata": {},
     "output_type": "execute_result"
    }
   ],
   "source": [
    "candidatefj"
   ]
  },
  {
   "cell_type": "code",
   "execution_count": 21,
   "id": "2a235613",
   "metadata": {},
   "outputs": [],
   "source": [
    "genparts = events.GenPart"
   ]
  },
  {
   "cell_type": "code",
   "execution_count": 52,
   "id": "efe2f88e",
   "metadata": {},
   "outputs": [],
   "source": [
    "tops = genparts[get_pid_mask(genparts, TOP_PDGID, byall=False) * genparts.hasFlags(GEN_FLAGS)]\n",
    "\n",
    "# take all possible daughters!\n",
    "daughters = ak.flatten(tops.distinctChildren, axis=2)\n",
    "daughters = daughters[daughters.hasFlags(GEN_FLAGS)]\n",
    "daughters_pdgId = abs(daughters.pdgId)\n",
    "\n",
    "wboson_daughters = ak.flatten(daughters[(daughters_pdgId == W_PDGID)].distinctChildren, axis=2)\n",
    "wboson_daughters = wboson_daughters[wboson_daughters.hasFlags([\"fromHardProcess\", \"isLastCopy\"])]\n",
    "wboson_daughters_pdgId = abs(wboson_daughters.pdgId)\n",
    "\n",
    "neutrinos = (\n",
    "    (wboson_daughters_pdgId == vELE_PDGID)\n",
    "    | (wboson_daughters_pdgId == vMU_PDGID)\n",
    "    | (wboson_daughters_pdgId == vTAU_PDGID)\n",
    ")\n",
    "\n",
    "leptons = (\n",
    "    (wboson_daughters_pdgId == ELE_PDGID)\n",
    "    | (wboson_daughters_pdgId == MU_PDGID)\n",
    "    | (wboson_daughters_pdgId == TAU_PDGID)\n",
    ")\n",
    "\n",
    "quarks = wboson_daughters_pdgId < b_PDGID\n",
    "\n",
    "lepVars = {\n",
    "    \"lepton_pt\": wboson_daughters[leptons].pt,\n",
    "    \"lepton_eta\": wboson_daughters[leptons].eta,\n",
    "    \"lepton_phi\": wboson_daughters[leptons].phi,\n",
    "    \"lepton_mass\": wboson_daughters[leptons].mass,\n",
    "}\n",
    "\n",
    "quarkVars = {\n",
    "    \"quark_pt\": wboson_daughters[quarks].pt,\n",
    "    \"quark_eta\": wboson_daughters[quarks].eta,\n",
    "    \"quark_phi\": wboson_daughters[quarks].phi,\n",
    "    \"quark_mass\": wboson_daughters[quarks].mass,\n",
    "}\n"
   ]
  },
  {
   "cell_type": "code",
   "execution_count": 53,
   "id": "b0518d72",
   "metadata": {},
   "outputs": [
    {
     "data": {
      "text/plain": [
       "<GenParticleArray [[GenParticle, ... GenParticle]] type='46000 * var * ?genParticle'>"
      ]
     },
     "execution_count": 53,
     "metadata": {},
     "output_type": "execute_result"
    }
   ],
   "source": [
    "wboson_daughters[quarks]"
   ]
  },
  {
   "cell_type": "code",
   "execution_count": 50,
   "id": "8d7d2140",
   "metadata": {},
   "outputs": [
    {
     "data": {
      "text/plain": [
       "<Array [[1, -2], [4, -3], ... [1, -2], [4, -3]] type='45564 * var * ?int32[param...'>"
      ]
     },
     "execution_count": 50,
     "metadata": {},
     "output_type": "execute_result"
    }
   ],
   "source": [
    "wboson_daughters[quarks][ak.num(wboson_daughters[quarks])==2].pdgId"
   ]
  },
  {
   "cell_type": "code",
   "execution_count": 61,
   "id": "bf8bf815",
   "metadata": {},
   "outputs": [
    {
     "data": {
      "text/plain": [
       "<Array [0, 0, 2, 0, 0, 2, ... 1, 2, 0, 0, 2, 0] type='4836 * ?int64'>"
      ]
     },
     "execution_count": 61,
     "metadata": {},
     "output_type": "execute_result"
    }
   ],
   "source": [
    "msk = ~ak.is_none(candidatefj)\n",
    "\n",
    "num_m_quarks_nob = ak.sum(candidatefj[msk].delta_r(wboson_daughters[quarks][msk]) < JET_DR, axis=1)\n",
    "num_m_quarks_nob"
   ]
  },
  {
   "cell_type": "code",
   "execution_count": 69,
   "id": "ba8122b5",
   "metadata": {},
   "outputs": [
    {
     "data": {
      "text/plain": [
       "(array([0, 1, 2]), array([2756, 1310,  770]))"
      ]
     },
     "execution_count": 69,
     "metadata": {},
     "output_type": "execute_result"
    }
   ],
   "source": [
    "np.unique(num_m_quarks_nob.to_numpy().data, return_counts=True)"
   ]
  },
  {
   "cell_type": "code",
   "execution_count": null,
   "id": "768fbfea",
   "metadata": {},
   "outputs": [],
   "source": []
  },
  {
   "cell_type": "code",
   "execution_count": null,
   "id": "893326c0",
   "metadata": {},
   "outputs": [],
   "source": []
  },
  {
   "cell_type": "code",
   "execution_count": null,
   "id": "38d036bf",
   "metadata": {},
   "outputs": [],
   "source": []
  },
  {
   "cell_type": "code",
   "execution_count": 40,
   "id": "93785991",
   "metadata": {},
   "outputs": [
    {
     "data": {
      "text/plain": [
       "436"
      ]
     },
     "execution_count": 40,
     "metadata": {},
     "output_type": "execute_result"
    }
   ],
   "source": [
    "ak.sum(ak.num(quarkVars[\"quark_eta\"])!=2)"
   ]
  },
  {
   "cell_type": "code",
   "execution_count": 38,
   "id": "0738cbb1",
   "metadata": {},
   "outputs": [
    {
     "data": {
      "text/plain": [
       "<Array [3, 3, 3, 3, 3, 3, ... 3, 3, 3, 3, 3, 3] type='46000 * int64'>"
      ]
     },
     "execution_count": 38,
     "metadata": {},
     "output_type": "execute_result"
    }
   ],
   "source": [
    "ak.num(quarkVars[\"quark_eta\"])"
   ]
  },
  {
   "cell_type": "code",
   "execution_count": null,
   "id": "adf39245",
   "metadata": {},
   "outputs": [],
   "source": []
  },
  {
   "cell_type": "code",
   "execution_count": 318,
   "id": "04a038e4",
   "metadata": {},
   "outputs": [
    {
     "data": {
      "text/plain": [
       "{'fj_genH_pt': <Array [283, 249, 240, 273, ... 270, 244, 347] type='15000 * float64'>,\n",
       " 'fj_genH_jet': <Array [3.33, None, None, ... None, None, 2.71] type='15000 * ?float32'>,\n",
       " 'fj_genV_dR': <Array [3.35, None, None, ... None, None, 2.69] type='15000 * ?float32'>,\n",
       " 'fj_genVstar': <Array [3.32, None, None, ... None, None, 2.73] type='15000 * ?float32'>,\n",
       " 'genV_genVstar_dR': <Array [0.205, 0.668, 0.106, ... 1.13, 0.0656] type='15000 * ?float32'>,\n",
       " 'fj_isHVV': <Array [True, True, True, ... True, True, True] type='15000 * ?bool'>,\n",
       " 'fj_isHVV_Matched': <Array [False, None, None, ... None, False] type='15000 * ?bool'>,\n",
       " 'fj_isHVV_4q': <Array [0, 0, 1, 0, 1, 0, ... 1, 1, 0, 1, 1, 0] type='15000 * ?int32'>,\n",
       " 'fj_isHVV_elenuqq': <Array [1, 0, 0, 0, 0, 1, ... 0, 0, 0, 0, 0, 0] type='15000 * ?int32'>,\n",
       " 'fj_isHVV_munuqq': <Array [0, 0, 0, 1, 0, 0, ... 0, 0, 1, 0, 0, 0] type='15000 * ?int32'>,\n",
       " 'fj_isHVV_taunuqq': <Array [0, 1, 0, 0, 0, 0, ... 0, 0, 0, 0, 0, 1] type='15000 * ?int32'>,\n",
       " 'fj_isHVV_Vlepton': <Array [False, True, None, ... None, True] type='15000 * ?bool'>,\n",
       " 'fj_isHVV_Vstarlepton': <Array [True, False, None, ... None, False] type='15000 * ?bool'>,\n",
       " 'fj_genRes_mass': <Array [125, 125, 125, 125, ... 125, 125, 125] type='15000 * ?float32[parameters...'>,\n",
       " 'fj_nquarks': <Array [0, None, None, None, ... None, None, 0] type='15000 * ?int64'>,\n",
       " 'fj_ncquarks': <Array [0, None, None, None, ... None, None, 0] type='15000 * ?int64'>,\n",
       " 'fj_lepinprongs': <Array [0, None, None, None, ... None, None, 0] type='15000 * ?int64'>,\n",
       " 'lep_daughters': <Array [[False, False, True, ... False, False]] type='15000 * option[var * ?bool]'>,\n",
       " 'all_daus': <GenParticleArray [[[GenParticle, ... GenParticle]]] type='15000 * option[var * ...'>,\n",
       " 'lepton_pt': <Array [[40.5], [181], [], ... [], [], [13.4]] type='15000 * option[var * ?float...'>,\n",
       " 'lepton_eta': <Array [[0.303], [-1.15], ... [], [-0.43]] type='15000 * option[var * ?float32[p...'>,\n",
       " 'lepton_phi': <Array [[-1.3], [0.471], ... [], [-2.95]] type='15000 * option[var * ?float32[pa...'>,\n",
       " 'lepton_mass': <Array [[0], [0], [], [0, ... [0], [], [], [0]] type='15000 * option[var * ?floa...'>,\n",
       " 'quark_pt': <Array [[93, 43.6], [33.5, ... [42.2, 79.8]] type='15000 * option[var * ?float32...'>,\n",
       " 'quark_eta': <Array [[0.488, -0.497], ... [0.488, 0.992]] type='15000 * option[var * ?float32...'>,\n",
       " 'quark_phi': <Array [[-1.11, -1.83], ... [2.55, -3.13]] type='15000 * option[var * ?float32[p...'>,\n",
       " 'quark_mass': <Array [[0, 0], [0, 0], ... 0, 0, 0], [0, 0]] type='15000 * option[var * ?float3...'>}"
      ]
     },
     "execution_count": 318,
     "metadata": {},
     "output_type": "execute_result"
    }
   ],
   "source": [
    "genVars"
   ]
  },
  {
   "cell_type": "code",
   "execution_count": 307,
   "id": "76f25d7c",
   "metadata": {},
   "outputs": [
    {
     "data": {
      "text/plain": [
       "<Array [False, None, None, ... None, False] type='15000 * ?bool'>"
      ]
     },
     "execution_count": 307,
     "metadata": {},
     "output_type": "execute_result"
    }
   ],
   "source": [
    "msk = genVars[\"fj_isHVV_Matched\"]\n",
    "msk"
   ]
  },
  {
   "cell_type": "code",
   "execution_count": 326,
   "id": "3b857d64",
   "metadata": {},
   "outputs": [
    {
     "data": {
      "text/plain": [
       "<Array [1, 3, 4, 2, 1, 2, ... 2, 1, 1, 1, 1, 1] type='2773 * ?int64'>"
      ]
     },
     "execution_count": 326,
     "metadata": {},
     "output_type": "execute_result"
    }
   ],
   "source": [
    "a = genVars[\"fj_nquarks\"][msk]\n",
    "a[~ak.is_none(a)]"
   ]
  },
  {
   "cell_type": "code",
   "execution_count": null,
   "id": "e134d460",
   "metadata": {},
   "outputs": [],
   "source": []
  },
  {
   "cell_type": "code",
   "execution_count": 17,
   "id": "d894bca4",
   "metadata": {},
   "outputs": [
    {
     "name": "stdout",
     "output_type": "stream",
     "text": [
      "number of events per file is 46000\n"
     ]
    },
    {
     "data": {
      "text/plain": [
       "<NanoEventsArray [<event 1:5575:5574008>, ... ] type='46000 * event'>"
      ]
     },
     "execution_count": 17,
     "metadata": {},
     "output_type": "execute_result"
    }
   ],
   "source": [
    "# load a hww root file into coffea-friendly NanoAOD structure\n",
    "import uproot\n",
    "f = uproot.open(f\"../rootfiles/TTbar/file1.root\")\n",
    "\n",
    "num = f['Events'].num_entries   ### checks number of events per file \n",
    "print(f'number of events per file is {num}')\n",
    "\n",
    "events = nanoevents.NanoEventsFactory.from_root(f, \"Events\").events()\n",
    "events"
   ]
  },
  {
   "cell_type": "code",
   "execution_count": null,
   "id": "b72d713d",
   "metadata": {},
   "outputs": [],
   "source": []
  },
  {
   "cell_type": "code",
   "execution_count": null,
   "id": "47299212",
   "metadata": {},
   "outputs": [],
   "source": []
  },
  {
   "cell_type": "code",
   "execution_count": null,
   "id": "0e9778f7",
   "metadata": {},
   "outputs": [],
   "source": []
  },
  {
   "cell_type": "code",
   "execution_count": null,
   "id": "e482e20f",
   "metadata": {},
   "outputs": [],
   "source": []
  },
  {
   "cell_type": "code",
   "execution_count": null,
   "id": "60b74f15",
   "metadata": {},
   "outputs": [],
   "source": []
  },
  {
   "cell_type": "code",
   "execution_count": null,
   "id": "01914fd6",
   "metadata": {},
   "outputs": [],
   "source": []
  },
  {
   "cell_type": "code",
   "execution_count": null,
   "id": "1c0206c3",
   "metadata": {},
   "outputs": [],
   "source": []
  },
  {
   "cell_type": "code",
   "execution_count": 327,
   "id": "8a4dd4fe",
   "metadata": {},
   "outputs": [
    {
     "data": {
      "text/plain": [
       "0.0496063232421875"
      ]
     },
     "execution_count": 327,
     "metadata": {},
     "output_type": "execute_result"
    }
   ],
   "source": [
    "a = candidatefj.eta[msk]\n",
    "a[~ak.is_none(a)][0]"
   ]
  },
  {
   "cell_type": "code",
   "execution_count": 328,
   "id": "ccd98aad",
   "metadata": {},
   "outputs": [
    {
     "data": {
      "text/plain": [
       "<Array [-0.476, 0.223] type='2 * ?float32[parameters={\"__doc__\": \"eta\"}]'>"
      ]
     },
     "execution_count": 328,
     "metadata": {},
     "output_type": "execute_result"
    }
   ],
   "source": [
    "a = genVars[\"quark_eta\"][msk]\n",
    "a[~ak.is_none(a)][0]"
   ]
  },
  {
   "cell_type": "code",
   "execution_count": null,
   "id": "8c13e9bd",
   "metadata": {},
   "outputs": [],
   "source": []
  },
  {
   "cell_type": "code",
   "execution_count": null,
   "id": "5ae99250",
   "metadata": {},
   "outputs": [],
   "source": [
    "candidatefj.delta_r()"
   ]
  },
  {
   "cell_type": "code",
   "execution_count": null,
   "id": "1f44a10f",
   "metadata": {},
   "outputs": [],
   "source": []
  },
  {
   "cell_type": "code",
   "execution_count": null,
   "id": "1d143d7a",
   "metadata": {},
   "outputs": [],
   "source": []
  },
  {
   "cell_type": "code",
   "execution_count": null,
   "id": "83e53cdf",
   "metadata": {},
   "outputs": [],
   "source": []
  },
  {
   "cell_type": "code",
   "execution_count": 329,
   "id": "902c7227",
   "metadata": {},
   "outputs": [
    {
     "name": "stdout",
     "output_type": "stream",
     "text": [
      "15000 * ?genParticle\n"
     ]
    }
   ],
   "source": [
    "higgs = ak.firsts(genparts[get_pid_mask(genparts, HIGGS_PDGID, byall=False) * genparts.hasFlags(GEN_FLAGS)])\n",
    "print(higgs.type)"
   ]
  },
  {
   "cell_type": "code",
   "execution_count": 330,
   "id": "3a899d33",
   "metadata": {},
   "outputs": [
    {
     "name": "stdout",
     "output_type": "stream",
     "text": [
      "15000 * ?bool\n"
     ]
    }
   ],
   "source": [
    "matched_higgs_mask = fatjet.delta_r(higgs) < 0.8\n",
    "print(matched_higgs_mask.type)"
   ]
  },
  {
   "cell_type": "code",
   "execution_count": 331,
   "id": "03ac3574",
   "metadata": {},
   "outputs": [
    {
     "data": {
      "text/plain": [
       "12036 * ?genParticle"
      ]
     },
     "execution_count": 331,
     "metadata": {},
     "output_type": "execute_result"
    }
   ],
   "source": [
    "matched_higgs = higgs[matched_higgs_mask]\n",
    "matched_higgs.type"
   ]
  },
  {
   "cell_type": "code",
   "execution_count": 332,
   "id": "3fbe078d",
   "metadata": {},
   "outputs": [
    {
     "name": "stdout",
     "output_type": "stream",
     "text": [
      "15000 * ?bool\n",
      "15000 * ?genParticle\n"
     ]
    }
   ],
   "source": [
    "children_mask = get_pid_mask(higgs.children, [W_PDGID], byall=False)\n",
    "is_hww = ak.any(children_mask, axis=1)\n",
    "\n",
    "# order by mass, select lower mass child as V* and higher as V\n",
    "higgs_children = higgs_children[children_mask]\n",
    "children_mass = higgs_children.mass\n",
    "v_star = ak.firsts(higgs_children[ak.argmin(children_mass, axis=1, keepdims=True)])\n",
    "v = ak.firsts(higgs_children[ak.argmax(children_mass, axis=1, keepdims=True)])\n",
    "\n",
    "print(is_hww.type)\n",
    "print(v.type)"
   ]
  },
  {
   "cell_type": "code",
   "execution_count": 333,
   "id": "a650bb1c",
   "metadata": {},
   "outputs": [],
   "source": [
    "# VV daughters\n",
    "# requires coffea-0.7.21\n",
    "all_daus = higgs_children.distinctChildrenDeep\n",
    "all_daus_flat = ak.flatten(all_daus, axis=2)  # flattents the daighters of the two Ws\n",
    "all_daus_flat_pdgId = abs(all_daus_flat.pdgId)"
   ]
  },
  {
   "cell_type": "code",
   "execution_count": 334,
   "id": "fce00898",
   "metadata": {},
   "outputs": [
    {
     "name": "stdout",
     "output_type": "stream",
     "text": [
      "15000 * option[var * option[var * ?genParticle]]\n"
     ]
    }
   ],
   "source": [
    "print(all_daus.type)"
   ]
  },
  {
   "cell_type": "code",
   "execution_count": 335,
   "id": "7abe49ee",
   "metadata": {},
   "outputs": [
    {
     "name": "stdout",
     "output_type": "stream",
     "text": [
      "15000 * option[var * ?genParticle]\n"
     ]
    }
   ],
   "source": [
    "print(all_daus_flat.type)"
   ]
  },
  {
   "cell_type": "code",
   "execution_count": 336,
   "id": "22831e91",
   "metadata": {},
   "outputs": [
    {
     "data": {
      "text/plain": [
       "<Array [24, -24] type='2 * ?int32[parameters={\"__doc__\": \"PDG id\"}]'>"
      ]
     },
     "execution_count": 336,
     "metadata": {},
     "output_type": "execute_result"
    }
   ],
   "source": [
    "higgs_children[0].pdgId"
   ]
  },
  {
   "cell_type": "code",
   "execution_count": 350,
   "id": "20667089",
   "metadata": {
    "scrolled": true
   },
   "outputs": [
    {
     "data": {
      "text/plain": [
       "<Array [3, 4, 1, 2] type='4 * ?int32'>"
      ]
     },
     "execution_count": 350,
     "metadata": {},
     "output_type": "execute_result"
    }
   ],
   "source": [
    "abs(all_daus_flat[4].pdgId)"
   ]
  },
  {
   "cell_type": "code",
   "execution_count": 349,
   "id": "4a0aebe8",
   "metadata": {},
   "outputs": [
    {
     "data": {
      "text/plain": [
       "4"
      ]
     },
     "execution_count": 349,
     "metadata": {},
     "output_type": "execute_result"
    }
   ],
   "source": [
    "num_quarks = ak.sum(all_daus_flat_pdgId <= b_PDGID, axis=1)\n",
    "num_quarks[4]"
   ]
  },
  {
   "cell_type": "code",
   "execution_count": 355,
   "id": "994d18e5",
   "metadata": {},
   "outputs": [
    {
     "data": {
      "text/plain": [
       "<Array [2, 4, 4, 2, 2, 2, ... 2, 2, 2, 2, 2, 2] type='2773 * ?int64'>"
      ]
     },
     "execution_count": 355,
     "metadata": {},
     "output_type": "execute_result"
    }
   ],
   "source": [
    "a = num_quarks[matched_higgs_mask]\n",
    "a[~ak.is_none(a)]"
   ]
  },
  {
   "cell_type": "code",
   "execution_count": 377,
   "id": "5e744aa0",
   "metadata": {},
   "outputs": [
    {
     "data": {
      "text/plain": [
       "<Array [[-0.476, 0.223], ... [0.102, -0.855]] type='2773 * option[var * ?float32...'>"
      ]
     },
     "execution_count": 377,
     "metadata": {},
     "output_type": "execute_result"
    }
   ],
   "source": [
    "a = all_daus_flat[~neutrinos & ~leptons][matched_higgs_mask]\n",
    "a[~ak.is_none(a)].eta"
   ]
  },
  {
   "cell_type": "code",
   "execution_count": 381,
   "id": "4547fc6a",
   "metadata": {},
   "outputs": [
    {
     "data": {
      "text/plain": [
       "<Array [0.0496, -1.16, ... 0.00714, -0.809] type='2773 * ?float32[parameters={\"_...'>"
      ]
     },
     "execution_count": 381,
     "metadata": {},
     "output_type": "execute_result"
    }
   ],
   "source": [
    "a = fatjet[matched_higgs_mask]\n",
    "a[~ak.is_none(a)].eta"
   ]
  },
  {
   "cell_type": "code",
   "execution_count": 382,
   "id": "6291224a",
   "metadata": {},
   "outputs": [
    {
     "data": {
      "text/plain": [
       "<Array [1, 3, 4, 2, 1, 2, ... 2, 1, 1, 1, 1, 1] type='2773 * ?int64'>"
      ]
     },
     "execution_count": 382,
     "metadata": {},
     "output_type": "execute_result"
    }
   ],
   "source": [
    "a = ak.sum(fatjet.delta_r(all_daus_flat[~neutrinos & ~leptons]) < JET_DR, axis=1)[matched_higgs_mask]\n",
    "a[~ak.is_none(a)]"
   ]
  },
  {
   "cell_type": "code",
   "execution_count": null,
   "id": "94b241ab",
   "metadata": {},
   "outputs": [],
   "source": []
  },
  {
   "cell_type": "code",
   "execution_count": 403,
   "id": "d8a09f89",
   "metadata": {},
   "outputs": [
    {
     "data": {
      "text/plain": [
       "<Array [2, 2, 4, 2, 4, 2, ... 4, 4, 2, 4, 4, 2] type='15000 * ?int64'>"
      ]
     },
     "execution_count": 403,
     "metadata": {},
     "output_type": "execute_result"
    }
   ],
   "source": [
    "ak.num(genVars[\"quark_eta\"])"
   ]
  },
  {
   "cell_type": "code",
   "execution_count": null,
   "id": "40359263",
   "metadata": {},
   "outputs": [],
   "source": []
  },
  {
   "cell_type": "code",
   "execution_count": null,
   "id": "8d98bc98",
   "metadata": {},
   "outputs": [],
   "source": []
  },
  {
   "cell_type": "code",
   "execution_count": null,
   "id": "5a504bfb",
   "metadata": {},
   "outputs": [],
   "source": []
  },
  {
   "cell_type": "code",
   "execution_count": 391,
   "id": "bc468635",
   "metadata": {},
   "outputs": [
    {
     "data": {
      "text/plain": [
       "<Array [[False, True], ... [False, True]] type='2773 * option[var * ?bool]'>"
      ]
     },
     "execution_count": 391,
     "metadata": {},
     "output_type": "execute_result"
    }
   ],
   "source": [
    "a = fatjet[matched_higgs_mask]\n",
    "fj = a[~ak.is_none(a)]\n",
    "\n",
    "a = all_daus_flat[~neutrinos & ~leptons][matched_higgs_mask]\n",
    "quarks = a[~ak.is_none(a)]\n",
    "\n",
    "a = (fj.delta_r(quarks) < JET_DR)\n",
    "a[~ak.is_none(a)]"
   ]
  },
  {
   "cell_type": "code",
   "execution_count": 393,
   "id": "3da5a004",
   "metadata": {},
   "outputs": [
    {
     "data": {
      "text/plain": [
       "<Array [0.0496, -1.16, ... 0.00714, -0.809] type='2773 * ?float32[parameters={\"_...'>"
      ]
     },
     "execution_count": 393,
     "metadata": {},
     "output_type": "execute_result"
    }
   ],
   "source": [
    "fj.eta"
   ]
  },
  {
   "cell_type": "code",
   "execution_count": 394,
   "id": "297f7bda",
   "metadata": {},
   "outputs": [
    {
     "data": {
      "text/plain": [
       "<Array [[-0.476, 0.223], ... [0.102, -0.855]] type='2773 * option[var * ?float32...'>"
      ]
     },
     "execution_count": 394,
     "metadata": {},
     "output_type": "execute_result"
    }
   ],
   "source": [
    "quarks.eta"
   ]
  },
  {
   "cell_type": "code",
   "execution_count": null,
   "id": "f058e89f",
   "metadata": {},
   "outputs": [],
   "source": []
  },
  {
   "cell_type": "code",
   "execution_count": null,
   "id": "37c56f67",
   "metadata": {},
   "outputs": [],
   "source": []
  },
  {
   "cell_type": "code",
   "execution_count": null,
   "id": "f2bbc8e8",
   "metadata": {},
   "outputs": [],
   "source": []
  },
  {
   "cell_type": "code",
   "execution_count": null,
   "id": "2735d67e",
   "metadata": {},
   "outputs": [],
   "source": []
  },
  {
   "cell_type": "code",
   "execution_count": 407,
   "id": "b4870da4",
   "metadata": {},
   "outputs": [
    {
     "data": {
      "text/plain": [
       "(array([0, 1, 2, 3, 4, 5, 6]),\n",
       " array([ 290,  819, 1063,  395,  178,   27,    1]))"
      ]
     },
     "execution_count": 407,
     "metadata": {},
     "output_type": "execute_result"
    }
   ],
   "source": [
    "a = num_m_quarks[matched_higgs_mask]\n",
    "np.unique(a[~ak.is_none(a)], return_counts=True)"
   ]
  },
  {
   "cell_type": "code",
   "execution_count": null,
   "id": "e9eebbf8",
   "metadata": {},
   "outputs": [],
   "source": []
  },
  {
   "cell_type": "code",
   "execution_count": null,
   "id": "6bb6a260",
   "metadata": {},
   "outputs": [],
   "source": []
  },
  {
   "cell_type": "code",
   "execution_count": 267,
   "id": "8272e587",
   "metadata": {},
   "outputs": [],
   "source": [
    "# the following tells you about the decay\n",
    "num_quarks = ak.sum(all_daus_flat_pdgId <= b_PDGID, axis=1)\n",
    "num_leptons = ak.sum(\n",
    "    (all_daus_flat_pdgId == ELE_PDGID) | (all_daus_flat_pdgId == MU_PDGID) | (all_daus_flat_pdgId == TAU_PDGID),\n",
    "    axis=1,\n",
    ")\n",
    "num_electrons = ak.sum(all_daus_flat_pdgId == ELE_PDGID, axis=1)\n",
    "num_muons = ak.sum(all_daus_flat_pdgId == MU_PDGID, axis=1)\n",
    "num_taus = ak.sum(all_daus_flat_pdgId == TAU_PDGID, axis=1)\n"
   ]
  },
  {
   "cell_type": "code",
   "execution_count": 401,
   "id": "51c72285",
   "metadata": {},
   "outputs": [],
   "source": [
    "        # the following tells you about the matching\n",
    "        # prongs except neutrino\n",
    "        neutrinos = (\n",
    "            (all_daus_flat_pdgId == vELE_PDGID) | (all_daus_flat_pdgId == vMU_PDGID) | (all_daus_flat_pdgId == vTAU_PDGID)\n",
    "        )\n",
    "        leptons = (all_daus_flat_pdgId == ELE_PDGID) | (all_daus_flat_pdgId == MU_PDGID) | (all_daus_flat_pdgId == TAU_PDGID)\n",
    "\n",
    "        # num_m: number of matched leptons\n",
    "        # number of quarks excludes neutrino and leptons\n",
    "        num_m_quarks = ak.sum(fatjet.delta_r(all_daus_flat[~neutrinos & ~leptons]) < JET_DR, axis=1)\n",
    "        num_m_leptons = ak.sum(fatjet.delta_r(all_daus_flat[leptons]) < JET_DR, axis=1)\n",
    "        num_m_cquarks = ak.sum(\n",
    "            fatjet.delta_r(all_daus_flat[all_daus_flat.pdgId == b_PDGID]) < JET_DR,\n",
    "            axis=1,\n",
    "        )\n"
   ]
  },
  {
   "cell_type": "code",
   "execution_count": 266,
   "id": "eda0e9f9",
   "metadata": {},
   "outputs": [],
   "source": [
    "        lep_daughters = all_daus_flat[leptons]\n",
    "        # parent = ak.firsts(lep_daughters[fatjet.delta_r(lep_daughters) < JET_DR].distinctParent)\n",
    "        parent = ak.firsts(lep_daughters.distinctParent)\n",
    "        iswlepton = parent.mass == v.mass\n",
    "        iswstarlepton = parent.mass == v_star.mass\n",
    "\n",
    "        gen_lepton = ak.firsts(lep_daughters)\n"
   ]
  },
  {
   "cell_type": "code",
   "execution_count": 396,
   "id": "5307c2c0",
   "metadata": {},
   "outputs": [
    {
     "data": {
      "text/plain": [
       "<FatJetArray [FatJet, None, None, ... None, FatJet] type='15000 * ?fatJet'>"
      ]
     },
     "execution_count": 396,
     "metadata": {},
     "output_type": "execute_result"
    }
   ],
   "source": [
    "fatjet"
   ]
  },
  {
   "cell_type": "code",
   "execution_count": 398,
   "id": "3c50faaf",
   "metadata": {},
   "outputs": [
    {
     "data": {
      "text/plain": [
       "<GenParticleArray [GenParticle, ... GenParticle] type='15000 * ?genParticle'>"
      ]
     },
     "execution_count": 398,
     "metadata": {},
     "output_type": "execute_result"
    }
   ],
   "source": [
    "higgs"
   ]
  },
  {
   "cell_type": "code",
   "execution_count": null,
   "id": "511de2a9",
   "metadata": {},
   "outputs": [],
   "source": []
  },
  {
   "cell_type": "code",
   "execution_count": 404,
   "id": "a81d87b1",
   "metadata": {},
   "outputs": [
    {
     "data": {
      "text/plain": [
       "<Array [0, None, None, None, ... None, None, 0] type='15000 * ?int64'>"
      ]
     },
     "execution_count": 404,
     "metadata": {},
     "output_type": "execute_result"
    }
   ],
   "source": []
  },
  {
   "cell_type": "code",
   "execution_count": null,
   "id": "c1b7dfa7",
   "metadata": {},
   "outputs": [],
   "source": []
  },
  {
   "cell_type": "code",
   "execution_count": null,
   "id": "c1a37e8d",
   "metadata": {},
   "outputs": [],
   "source": []
  },
  {
   "cell_type": "code",
   "execution_count": null,
   "id": "4fe311ac",
   "metadata": {},
   "outputs": [],
   "source": []
  },
  {
   "cell_type": "code",
   "execution_count": null,
   "id": "5f9b9924",
   "metadata": {},
   "outputs": [],
   "source": []
  },
  {
   "cell_type": "code",
   "execution_count": null,
   "id": "416ed041",
   "metadata": {},
   "outputs": [],
   "source": []
  },
  {
   "cell_type": "code",
   "execution_count": null,
   "id": "7718203e",
   "metadata": {},
   "outputs": [],
   "source": []
  },
  {
   "cell_type": "code",
   "execution_count": null,
   "id": "8ad18f89",
   "metadata": {},
   "outputs": [],
   "source": []
  },
  {
   "cell_type": "code",
   "execution_count": null,
   "id": "0d6d1b34",
   "metadata": {},
   "outputs": [],
   "source": []
  },
  {
   "cell_type": "code",
   "execution_count": null,
   "id": "9f621608",
   "metadata": {},
   "outputs": [],
   "source": []
  },
  {
   "cell_type": "code",
   "execution_count": null,
   "id": "6a570da5",
   "metadata": {},
   "outputs": [],
   "source": []
  },
  {
   "cell_type": "code",
   "execution_count": null,
   "id": "0caf570d",
   "metadata": {},
   "outputs": [],
   "source": []
  },
  {
   "cell_type": "code",
   "execution_count": null,
   "id": "68c3724e",
   "metadata": {},
   "outputs": [],
   "source": []
  },
  {
   "cell_type": "code",
   "execution_count": 2,
   "id": "d3e5b9c5",
   "metadata": {},
   "outputs": [],
   "source": [
    "d_PDGID = 1\n",
    "c_PDGID = 4\n",
    "b_PDGID = 5\n",
    "g_PDGID = 21\n",
    "TOP_PDGID = 6\n",
    "\n",
    "ELE_PDGID = 11\n",
    "vELE_PDGID = 12\n",
    "MU_PDGID = 13\n",
    "vMU_PDGID = 14\n",
    "TAU_PDGID = 15\n",
    "vTAU_PDGID = 16\n",
    "\n",
    "GAMMA_PDGID = 22\n",
    "Z_PDGID = 23\n",
    "W_PDGID = 24\n",
    "HIGGS_PDGID = 25\n",
    "\n",
    "PI_PDGID = 211\n",
    "PO_PDGID = 221\n",
    "PP_PDGID = 111\n",
    "\n",
    "GEN_FLAGS = [\"fromHardProcess\", \"isLastCopy\"]\n",
    "\n",
    "FILL_NONE_VALUE = -99999\n",
    "\n",
    "JET_DR = 0.8\n",
    "\n",
    "\n",
    "btagWPs = {\n",
    "    \"deepJet\": {\n",
    "        \"2016APV\": {\n",
    "            \"L\": 0.0508,\n",
    "            \"M\": 0.2598,\n",
    "            \"T\": 0.6502,\n",
    "        },\n",
    "        \"2016\": {\n",
    "            \"L\": 0.0480,\n",
    "            \"M\": 0.2489,\n",
    "            \"T\": 0.6377,\n",
    "        },\n",
    "        \"2017\": {\n",
    "            \"L\": 0.0532,\n",
    "            \"M\": 0.3040,\n",
    "            \"T\": 0.7476,\n",
    "        },\n",
    "        \"2018\": {\n",
    "            \"L\": 0.0490,\n",
    "            \"M\": 0.2783,\n",
    "            \"T\": 0.7100,\n",
    "        },\n",
    "    },\n",
    "    \"deepCSV\": {\n",
    "        \"2016APV\": {\n",
    "            \"L\": 0.2027,\n",
    "            \"M\": 0.6001,\n",
    "            \"T\": 0.8819,\n",
    "        },\n",
    "        \"2016\": {\n",
    "            \"L\": 0.1918,\n",
    "            \"M\": 0.5847,\n",
    "            \"T\": 0.8767,\n",
    "        },\n",
    "        \"2017\": {\n",
    "            \"L\": 0.1355,\n",
    "            \"M\": 0.4506,\n",
    "            \"T\": 0.7738,\n",
    "        },\n",
    "        \"2018\": {\n",
    "            \"L\": 0.1208,\n",
    "            \"M\": 0.4168,\n",
    "            \"T\": 0.7665,\n",
    "        },\n",
    "    },\n",
    "}"
   ]
  },
  {
   "cell_type": "code",
   "execution_count": 3,
   "id": "72f15795",
   "metadata": {},
   "outputs": [],
   "source": [
    "year = \"2018\""
   ]
  },
  {
   "cell_type": "code",
   "execution_count": 4,
   "id": "1ee0ebfd",
   "metadata": {},
   "outputs": [
    {
     "ename": "NameError",
     "evalue": "name 'events' is not defined",
     "output_type": "error",
     "traceback": [
      "\u001b[0;31m---------------------------------------------------------------------------\u001b[0m",
      "\u001b[0;31mNameError\u001b[0m                                 Traceback (most recent call last)",
      "Cell \u001b[0;32mIn[4], line 14\u001b[0m\n\u001b[1;32m      1\u001b[0m \u001b[38;5;28;01mdef\u001b[39;00m \u001b[38;5;21mbuild_p4\u001b[39m(cand):\n\u001b[1;32m      2\u001b[0m     \u001b[38;5;28;01mreturn\u001b[39;00m ak\u001b[38;5;241m.\u001b[39mzip(\n\u001b[1;32m      3\u001b[0m         {\n\u001b[1;32m      4\u001b[0m             \u001b[38;5;124m\"\u001b[39m\u001b[38;5;124mpt\u001b[39m\u001b[38;5;124m\"\u001b[39m: cand\u001b[38;5;241m.\u001b[39mpt,\n\u001b[0;32m   (...)\u001b[0m\n\u001b[1;32m     11\u001b[0m         behavior\u001b[38;5;241m=\u001b[39mcandidate\u001b[38;5;241m.\u001b[39mbehavior,\n\u001b[1;32m     12\u001b[0m     )\n\u001b[0;32m---> 14\u001b[0m met \u001b[38;5;241m=\u001b[39m \u001b[43mevents\u001b[49m\u001b[38;5;241m.\u001b[39mMET\n\u001b[1;32m     16\u001b[0m \u001b[38;5;66;03m# lepton\u001b[39;00m\n\u001b[1;32m     17\u001b[0m electrons \u001b[38;5;241m=\u001b[39m events[\u001b[38;5;124m\"\u001b[39m\u001b[38;5;124mElectron\u001b[39m\u001b[38;5;124m\"\u001b[39m][events[\u001b[38;5;124m\"\u001b[39m\u001b[38;5;124mElectron\u001b[39m\u001b[38;5;124m\"\u001b[39m]\u001b[38;5;241m.\u001b[39mpt \u001b[38;5;241m>\u001b[39m \u001b[38;5;241m40\u001b[39m]\n",
      "\u001b[0;31mNameError\u001b[0m: name 'events' is not defined"
     ]
    }
   ],
   "source": [
    "\n",
    "        # ak4 jets\n",
    "        ak4_jet_selector_no_btag = (\n",
    "            (events.Jet.pt > 30) & (abs(events.Jet.eta) < 5.0) & events.Jet.isTight & (events.Jet.puId > 0)\n",
    "        )\n",
    "\n",
    "\n",
    "        goodjets = events.Jet[ak4_jet_selector_no_btag]\n",
    "        ht = ak.sum(goodjets.pt, axis=1)\n",
    "\n",
    "        dr_jet_lepfj = goodjets.delta_r(candidatefj)\n",
    "        ak4_outside_ak8 = goodjets[dr_jet_lepfj > 0.8]\n",
    "        NumOtherJets = ak.num(ak4_outside_ak8)\n",
    "\n",
    "        # VBF variables\n",
    "        jet1 = ak4_outside_ak8[:, 0:1]\n",
    "        jet2 = ak4_outside_ak8[:, 1:2]\n",
    "        deta = abs(ak.firsts(jet1).eta - ak.firsts(jet2).eta)\n",
    "        mjj = (ak.firsts(jet1) + ak.firsts(jet2)).mass\n",
    "        jj_pt = (ak.firsts(jet1) + ak.firsts(jet2)).pt\n",
    "\n",
    "        # rec_higgs\n",
    "        candidateNeutrino = ak.zip(\n",
    "            {\n",
    "                \"pt\": met.pt,\n",
    "                \"eta\": candidatelep_p4.eta,\n",
    "                \"phi\": met.phi,\n",
    "                \"mass\": 0,\n",
    "                \"charge\": 0,\n",
    "            },\n",
    "            with_name=\"PtEtaPhiMCandidate\",\n",
    "            behavior=candidate.behavior,\n",
    "        )\n",
    "        rec_W_lnu = candidatelep_p4 + candidateNeutrino\n",
    "        rec_W_qq = candidatefj - candidatelep_p4\n",
    "        rec_higgs = rec_W_qq + rec_W_lnu\n",
    "\n",
    "        # INPUT VARIABLES\n",
    "        # CANDIDATE JET\n",
    "        fj_vars = [\n",
    "                \"eta\",\n",
    "                \"phi\",\n",
    "                \"mass\",\n",
    "                \"pt\",\n",
    "                \"msoftdrop\",\n",
    "                \"lsf3\",\n",
    "            ]\n",
    "        \n",
    "\n",
    "        FatJetVars = {f\"fj_{var}\": ak.fill_none(candidatefj[var], FILL_NONE_VALUE) for var in fj_vars}\n",
    "\n",
    "        # CANDIDATE LEPTON\n",
    "        LepVars = {}\n",
    "        LepVars[\"lep_dR_fj\"] = candidatelep_p4.delta_r(candidatefj).to_numpy().filled(fill_value=0)\n",
    "        LepVars[\"lep_pt\"] = (candidatelep_p4.pt).to_numpy().filled(fill_value=0)\n",
    "        LepVars[\"lep_pt_ratio\"] = (candidatelep_p4.pt / candidatefj.pt).to_numpy().filled(fill_value=0)\n",
    "        LepVars[\"lep_reliso\"] = lep_reliso.to_numpy().filled(fill_value=0)\n",
    "        LepVars[\"lep_miso\"] = lep_miso.to_numpy().filled(fill_value=0)\n",
    "\n",
    "        # MET\n",
    "        METVars = {}\n",
    "        METVars[\"met_pt\"] = met.pt\n",
    "        METVars[\"met_relpt\"] = met.pt / candidatefj.pt\n",
    "        METVars[\"met_fj_dphi\"] = met.delta_phi(candidatefj)\n",
    "        METVars[\"abs_met_fj_dphi\"] = np.abs(met.delta_phi(candidatefj))\n",
    "        METVars[\"mt_lep_met\"] = mt_lep_met.to_numpy().filled(fill_value=0)\n",
    "\n",
    "        # OTHERS\n",
    "\n",
    "        # bjet\n",
    "        Others = {}\n",
    "        Others[\"n_bjets_L\"] = (\n",
    "            ak.sum(ak4_outside_ak8.btagDeepFlavB > btagWPs[\"deepJet\"][year][\"L\"], axis=1)\n",
    "            .to_numpy()\n",
    "            .filled(fill_value=0)\n",
    "        )\n",
    "        Others[\"n_bjets_M\"] = (\n",
    "            ak.sum(ak4_outside_ak8.btagDeepFlavB > btagWPs[\"deepJet\"][year][\"M\"], axis=1)\n",
    "            .to_numpy()\n",
    "            .filled(fill_value=0)\n",
    "        )\n",
    "        Others[\"n_bjets_T\"] = (\n",
    "            ak.sum(ak4_outside_ak8.btagDeepFlavB > btagWPs[\"deepJet\"][year][\"T\"], axis=1)\n",
    "            .to_numpy()\n",
    "            .filled(fill_value=0)\n",
    "        )\n",
    "\n",
    "        # RECONSTRUCTED MASS\n",
    "        Others[\"rec_W_lnu_pt\"] = rec_W_lnu.pt.to_numpy().filled(fill_value=0)\n",
    "        Others[\"rec_W_lnu_m\"] = rec_W_lnu.mass.to_numpy().filled(fill_value=0)\n",
    "        Others[\"rec_W_qq_pt\"] = rec_W_qq.pt.to_numpy().filled(fill_value=0)\n",
    "        Others[\"rec_W_qq_m\"] = rec_W_qq.mass.to_numpy().filled(fill_value=0)\n",
    "        Others[\"rec_higgs_pt\"] = rec_higgs.pt.to_numpy().filled(fill_value=0)\n",
    "        Others[\"rec_higgs_m\"] = rec_higgs.mass.to_numpy().filled(fill_value=0)\n",
    "\n",
    "        # ggF & VBF\n",
    "        Others[\"mjj\"] = mjj.to_numpy().filled(fill_value=0)\n",
    "        Others[\"jj_pt\"] = jj_pt.to_numpy().filled(fill_value=0)\n",
    "        Others[\"deta\"] = deta.to_numpy().filled(fill_value=0)\n",
    "        Others[\"j1_pt\"] = ak.firsts(jet1).pt.to_numpy().filled(fill_value=0)\n",
    "        Others[\"j2_pt\"] = ak.firsts(jet2).pt.to_numpy().filled(fill_value=0)\n",
    "        Others[\"j1_m\"] = ak.firsts(jet1).mass.to_numpy().filled(fill_value=0)\n",
    "        Others[\"j2_m\"] = ak.firsts(jet2).mass.to_numpy().filled(fill_value=0)\n",
    "\n",
    "\n",
    "        # ggF & VBF\n",
    "#         Others[\"ht\"] = ht.to_numpy().filled(fill_value=0)\n",
    "#         Others[\"NumFatjets\"] = NumFatjets.to_numpy().filled(fill_value=0)\n",
    "#         Others[\"NumOtherJets\"] = NumOtherJets.to_numpy().filled(fill_value=0)\n",
    "        Others[\"FirstFatjet_pt\"] = FirstFatjet.pt.to_numpy().filled(fill_value=0)\n",
    "        Others[\"FirstFatjet_m\"] = FirstFatjet.mass.to_numpy().filled(fill_value=0)\n",
    "        Others[\"SecondFatjet_pt\"] = SecondFatjet.pt.to_numpy().filled(fill_value=0)\n",
    "        Others[\"SecondFatjet_m\"] = SecondFatjet.mass.to_numpy().filled(fill_value=0)"
   ]
  },
  {
   "cell_type": "code",
   "execution_count": null,
   "id": "a478d1c8",
   "metadata": {},
   "outputs": [],
   "source": [
    "skimmed_vars = {**FatJetVars, **METVars, **LepVars, **Others}"
   ]
  },
  {
   "cell_type": "code",
   "execution_count": null,
   "id": "1cc2e0f4",
   "metadata": {},
   "outputs": [],
   "source": [
    "def add_selection(\n",
    "    name: str, sel: np.ndarray, selection: PackedSelection, cutflow: dict, isData: bool, signGenWeights: ak.Array\n",
    "):\n",
    "    \"\"\"adds selection to PackedSelection object and the cutflow dictionary\"\"\"\n",
    "    selection.add(name, sel)\n",
    "    cutflow[name] = (\n",
    "        np.sum(selection.all(*selection.names))\n",
    "        if isData\n",
    "        # add up sign of genWeights for MC\n",
    "        else np.sum(signGenWeights[selection.all(*selection.names)])\n",
    "    )\n",
    "\n",
    "\n",
    "def add_selection_no_cutflow(name: str, sel: np.ndarray, selection: PackedSelection):\n",
    "    \"\"\"adds selection to PackedSelection object\"\"\"\n",
    "    selection.add(name, ak.fill_none(sel, False))\n"
   ]
  },
  {
   "cell_type": "code",
   "execution_count": null,
   "id": "d969db17",
   "metadata": {},
   "outputs": [],
   "source": [
    "# apply selections\n",
    "selection = PackedSelection()\n",
    "add_selection_no_cutflow(\"fjselection\", (candidatefj.pt > 250), selection)\n"
   ]
  },
  {
   "cell_type": "code",
   "execution_count": null,
   "id": "3e06a84e",
   "metadata": {},
   "outputs": [],
   "source": [
    "candidatefj.lsf3"
   ]
  },
  {
   "cell_type": "code",
   "execution_count": null,
   "id": "392c6b4f",
   "metadata": {},
   "outputs": [],
   "source": [
    "\n",
    "for (key, value) in skimmed_vars.items():\n",
    "    print(key)\n",
    "    skimmed_vars = {\n",
    "                key: np.squeeze(np.array(value[selection.all(*selection.names)]))\n",
    "            }"
   ]
  },
  {
   "cell_type": "code",
   "execution_count": null,
   "id": "8b91f1bb",
   "metadata": {},
   "outputs": [],
   "source": [
    " mjj.to_numpy().filled(fill_value=0)"
   ]
  },
  {
   "cell_type": "code",
   "execution_count": null,
   "id": "99c5651f",
   "metadata": {},
   "outputs": [],
   "source": [
    "mjj.to_numpy().filled(fill_value=0)"
   ]
  },
  {
   "cell_type": "code",
   "execution_count": null,
   "id": "a080844f",
   "metadata": {},
   "outputs": [],
   "source": [
    " ak.firsts(jet1).pt.to_numpy().filled(fill_value=0)"
   ]
  },
  {
   "cell_type": "code",
   "execution_count": null,
   "id": "49b6ad59",
   "metadata": {},
   "outputs": [],
   "source": [
    "ht"
   ]
  },
  {
   "cell_type": "code",
   "execution_count": null,
   "id": "1325f6c4",
   "metadata": {},
   "outputs": [],
   "source": [
    "ak.firsts(jet1.pt)"
   ]
  },
  {
   "cell_type": "code",
   "execution_count": null,
   "id": "7976ad96",
   "metadata": {},
   "outputs": [],
   "source": []
  },
  {
   "cell_type": "code",
   "execution_count": null,
   "id": "29b08460",
   "metadata": {},
   "outputs": [],
   "source": [
    "def pad_val(\n",
    "    arr: ak.Array,\n",
    "    value: float,\n",
    "    target: int = None,\n",
    "    axis: int = 0,\n",
    "    to_numpy: bool = False,\n",
    "    clip: bool = True,\n",
    "):\n",
    "    \"\"\"\n",
    "    basically: preserves the nested structure of the ak array and replaces None values with -1\n",
    "    pads awkward array up to ``target`` index along axis ``axis`` with value ``value``,\n",
    "    optionally converts to numpy array\n",
    "    \"\"\"\n",
    "    if target:\n",
    "        ret = ak.fill_none(ak.pad_none(arr, target, axis=axis, clip=clip), value, axis=None)\n",
    "    else:\n",
    "        ret = ak.fill_none(arr, value, axis=None)\n",
    "    return ret.to_numpy() if to_numpy else ret\n",
    "\n",
    "def build_p4(cand):\n",
    "    return ak.zip(\n",
    "        {\n",
    "            \"pt\": cand.pt,\n",
    "            \"eta\": cand.eta,\n",
    "            \"phi\": cand.phi,\n",
    "            \"mass\": cand.mass,\n",
    "#             \"charge\": cand.charge,\n",
    "        },\n",
    "        with_name=\"PtEtaPhiMCandidate\",\n",
    "        behavior=candidate.behavior,\n",
    "    )\n",
    "\n",
    "def get_pid_mask(\n",
    "    genparts: GenParticleArray,\n",
    "    pdgids: Union[int, list],\n",
    "    ax: int = 2,\n",
    "    byall: bool = True,\n",
    ") -> ak.Array:\n",
    "    \"\"\"\n",
    "    Get selection mask for gen particles matching any of the pdgIds in ``pdgids``.\n",
    "    If ``byall``, checks all particles along axis ``ax`` match.\n",
    "    \"\"\"\n",
    "    gen_pdgids = abs(genparts.pdgId)\n",
    "\n",
    "    if type(pdgids) == list:\n",
    "        mask = gen_pdgids == pdgids[0]\n",
    "        for pdgid in pdgids[1:]:\n",
    "            mask = mask | (gen_pdgids == pdgid)\n",
    "    else:\n",
    "        mask = gen_pdgids == pdgids\n",
    "\n",
    "    return ak.all(mask, axis=ax) if byall else mask"
   ]
  },
  {
   "cell_type": "code",
   "execution_count": 6,
   "id": "7168df2e",
   "metadata": {},
   "outputs": [
    {
     "name": "stdout",
     "output_type": "stream",
     "text": [
      "Feb7_build_tagger_inputs.ipynb         gen_matching_deep.ipynb\r\n",
      "Feb7_matching_functions.ipynb          ggF_exploration.ipynb\r\n",
      "Jul21_btag.ipynb                       ggh.root\r\n",
      "Jul21_btagSF.ipynb                     hists_plots-tagger.ipynb\r\n",
      "Jul21_rhalphalib.ipynb                 hists_plots.ipynb\r\n",
      "July6_VBF_exploration.ipynb            hists_plots.ipynb.invalid\r\n",
      "July6_hists_plots_zll.ipynb            hists_plots_sculpting.ipynb\r\n",
      "July6_regressed_mass.ipynb             \u001b[34mlol\u001b[m\u001b[m\r\n",
      "July6_s_over_b.ipynb                   merged_file.root\r\n",
      "July6_weights.ipynb                    mini-isolation.ipynb\r\n",
      "June29_gen_matching.ipynb              \u001b[34mneg_weights\u001b[m\u001b[m\r\n",
      "README.md                              \u001b[34mntuples\u001b[m\u001b[m\r\n",
      "bulkgraviton.root                      \u001b[34mold\u001b[m\u001b[m\r\n",
      "check_signal_tth.ipynb                 \u001b[34moutfiles\u001b[m\u001b[m\r\n",
      "coffea_playground.ipynb                processors.zip\r\n",
      "combine.ipynb                          rhalphalib_hww.ipynb\r\n",
      "combine_sig.ipynb                      roc_curves.ipynb\r\n",
      "create_datacard.py                     run_blinded.sh\r\n",
      "cutflows.ipynb                         tagger_finetuning.ipynb\r\n",
      "\u001b[34mefficiencies\u001b[m\u001b[m                           testModel.root\r\n",
      "explore_matching.ipynb                 tony.ipynb\r\n",
      "explore_ttbar_matching.ipynb           trigger_efficiency_plots.ipynb\r\n",
      "fileset_2017_UL_NANO.json              trigger_efficiency_scale_factors.ipynb\r\n",
      "fitDiagnosticsAsimov.root              triton_check.ipynb\r\n",
      "fitDiagnosticsAsimovRate.root          tt_matching_inference.ipynb\r\n",
      "fitDiagnosticsBlinded.root             tt_matching_inference_daughters.ipynb\r\n",
      "fitDiagnosticsTest.root                \u001b[34mttt\u001b[m\u001b[m\r\n",
      "fitDiagnosticsTestMC.root              weights_hists.ipynb\r\n",
      "fitDiagnosticsTestRhalphabet.root      wjetsSF.ipynb\r\n",
      "gen_matching.ipynb                     wjets_matching.ipynb\r\n"
     ]
    }
   ],
   "source": [
    "! ls "
   ]
  },
  {
   "cell_type": "code",
   "execution_count": null,
   "id": "145da278",
   "metadata": {},
   "outputs": [],
   "source": []
  },
  {
   "cell_type": "code",
   "execution_count": null,
   "id": "35b9e87f",
   "metadata": {},
   "outputs": [],
   "source": []
  },
  {
   "cell_type": "code",
   "execution_count": 8,
   "id": "d4e70133",
   "metadata": {},
   "outputs": [],
   "source": [
    "from typing import Dict, Tuple, Union\n",
    "\n",
    "import awkward as ak\n",
    "import numpy as np\n",
    "from coffea.nanoevents.methods.base import NanoEventsArray\n",
    "from coffea.nanoevents.methods.nanoaod import FatJetArray, GenParticleArray\n",
    "\n",
    "d_PDGID = 1\n",
    "c_PDGID = 4\n",
    "b_PDGID = 5\n",
    "g_PDGID = 21\n",
    "TOP_PDGID = 6\n",
    "\n",
    "ELE_PDGID = 11\n",
    "vELE_PDGID = 12\n",
    "MU_PDGID = 13\n",
    "vMU_PDGID = 14\n",
    "TAU_PDGID = 15\n",
    "vTAU_PDGID = 16\n",
    "\n",
    "GAMMA_PDGID = 22\n",
    "Z_PDGID = 23\n",
    "W_PDGID = 24\n",
    "HIGGS_PDGID = 25\n",
    "\n",
    "PI_PDGID = 211\n",
    "PO_PDGID = 221\n",
    "PP_PDGID = 111\n",
    "\n",
    "GEN_FLAGS = [\"fromHardProcess\", \"isLastCopy\"]\n",
    "\n",
    "FILL_NONE_VALUE = -99999\n",
    "\n",
    "JET_DR = 0.8\n",
    "\n",
    "\n",
    "def get_pid_mask(genparts: GenParticleArray, pdgids: Union[int, list], ax: int = 2, byall: bool = True) -> ak.Array:\n",
    "    \"\"\"\n",
    "    Get selection mask for gen particles matching any of the pdgIds in ``pdgids``.\n",
    "    If ``byall``, checks all particles along axis ``ax`` match.\n",
    "    \"\"\"\n",
    "    gen_pdgids = abs(genparts.pdgId)\n",
    "\n",
    "    if type(pdgids) is list:\n",
    "        mask = gen_pdgids == pdgids[0]\n",
    "        for pdgid in pdgids[1:]:\n",
    "            mask = mask | (gen_pdgids == pdgid)\n",
    "    else:\n",
    "        mask = gen_pdgids == pdgids\n",
    "\n",
    "    return ak.all(mask, axis=ax) if byall else mask\n",
    "\n",
    "\n",
    "def to_label(array: ak.Array) -> ak.Array:\n",
    "    return ak.values_astype(array, np.int32)\n",
    "\n",
    "\n",
    "def match_H(genparts: GenParticleArray, fatjet: FatJetArray):\n",
    "    \"\"\"Gen matching for Higgs samples\"\"\"\n",
    "    higgs = genparts[get_pid_mask(genparts, HIGGS_PDGID, byall=False) * genparts.hasFlags(GEN_FLAGS)]\n",
    "\n",
    "    # only select events that match an specific decay\n",
    "    # matched_higgs = higgs[ak.argmin(fatjet.delta_r(higgs), axis=1, keepdims=True)][:, 0]\n",
    "    matched_higgs = higgs[ak.argmin(fatjet.delta_r(higgs), axis=1, keepdims=True)]\n",
    "    matched_higgs_mask = ak.any(fatjet.delta_r(matched_higgs) < 0.8, axis=1)\n",
    "\n",
    "    matched_higgs = ak.firsts(matched_higgs)\n",
    "\n",
    "    matched_higgs_children = matched_higgs.children\n",
    "    higgs_children = higgs.children\n",
    "\n",
    "    children_mask = get_pid_mask(matched_higgs_children, [W_PDGID], byall=False)\n",
    "    is_hww = ak.any(children_mask, axis=1)\n",
    "\n",
    "    # order by mass, select lower mass child as V* and higher as V\n",
    "    matched_higgs_children = matched_higgs_children[children_mask]\n",
    "    children_mass = matched_higgs_children.mass\n",
    "    v_star = ak.firsts(matched_higgs_children[ak.argmin(children_mass, axis=1, keepdims=True)])\n",
    "    v = ak.firsts(matched_higgs_children[ak.argmax(children_mass, axis=1, keepdims=True)])\n",
    "\n",
    "    # VV daughters\n",
    "    # requires coffea-0.7.21\n",
    "    all_daus = higgs_children.distinctChildrenDeep\n",
    "    all_daus = ak.flatten(all_daus, axis=2)\n",
    "    all_daus_flat = ak.flatten(all_daus, axis=2)\n",
    "    all_daus_flat_pdgId = abs(all_daus_flat.pdgId)\n",
    "\n",
    "    # the following tells you about the decay\n",
    "    num_quarks = ak.sum(all_daus_flat_pdgId <= b_PDGID, axis=1)\n",
    "    num_leptons = ak.sum(\n",
    "        (all_daus_flat_pdgId == ELE_PDGID) | (all_daus_flat_pdgId == MU_PDGID) | (all_daus_flat_pdgId == TAU_PDGID),\n",
    "        axis=1,\n",
    "    )\n",
    "    num_electrons = ak.sum(all_daus_flat_pdgId == ELE_PDGID, axis=1)\n",
    "    num_muons = ak.sum(all_daus_flat_pdgId == MU_PDGID, axis=1)\n",
    "    num_taus = ak.sum(all_daus_flat_pdgId == TAU_PDGID, axis=1)\n",
    "\n",
    "    # the following tells you about the matching\n",
    "    # prongs except neutrino\n",
    "    neutrinos = (\n",
    "        (all_daus_flat_pdgId == vELE_PDGID) | (all_daus_flat_pdgId == vMU_PDGID) | (all_daus_flat_pdgId == vTAU_PDGID)\n",
    "    )\n",
    "    leptons = (all_daus_flat_pdgId == ELE_PDGID) | (all_daus_flat_pdgId == MU_PDGID) | (all_daus_flat_pdgId == TAU_PDGID)\n",
    "\n",
    "    # num_m: number of matched leptons\n",
    "    # number of quarks excludes neutrino and leptons\n",
    "    num_m_quarks = ak.sum(fatjet.delta_r(all_daus_flat[~neutrinos & ~leptons]) < JET_DR, axis=1)\n",
    "    num_m_leptons = ak.sum(fatjet.delta_r(all_daus_flat[leptons]) < JET_DR, axis=1)\n",
    "    num_m_cquarks = ak.sum(fatjet.delta_r(all_daus_flat[all_daus_flat.pdgId == b_PDGID]) < JET_DR, axis=1)\n",
    "\n",
    "    lep_daughters = all_daus_flat[leptons]\n",
    "    # parent = ak.firsts(lep_daughters[fatjet.delta_r(lep_daughters) < JET_DR].distinctParent)\n",
    "    parent = ak.firsts(lep_daughters.distinctParent)\n",
    "    iswlepton = parent.mass == v.mass\n",
    "    iswstarlepton = parent.mass == v_star.mass\n",
    "\n",
    "    genVars = {\"fj_genH_pt\": ak.fill_none(higgs.pt, FILL_NONE_VALUE)}\n",
    "\n",
    "    genVVars = {\n",
    "        \"fj_genH_jet\": fatjet.delta_r(higgs[:, 0]),\n",
    "        \"fj_genV_dR\": fatjet.delta_r(v),\n",
    "        \"fj_genVstar\": fatjet.delta_r(v_star),\n",
    "        \"genV_genVstar_dR\": v.delta_r(v_star),\n",
    "    }\n",
    "\n",
    "    genHVVVars = {\n",
    "        \"fj_isHVV\": is_hww,\n",
    "        \"fj_isHVV_Matched\": matched_higgs_mask,\n",
    "        \"fj_isHVV_4q\": to_label((num_quarks == 4) & (num_leptons == 0)),\n",
    "        \"fj_isHVV_elenuqq\": to_label((num_electrons == 1) & (num_quarks == 2) & (num_leptons == 1)),\n",
    "        \"fj_isHVV_munuqq\": to_label((num_muons == 1) & (num_quarks == 2) & (num_leptons == 1)),\n",
    "        \"fj_isHVV_taunuqq\": to_label((num_taus == 1) & (num_quarks == 2) & (num_leptons == 1)),\n",
    "        \"fj_isHVV_Vlepton\": iswlepton,\n",
    "        \"fj_isHVV_Vstarlepton\": iswstarlepton,\n",
    "        \"fj_genRes_mass\": matched_higgs.mass,\n",
    "        \"fj_nquarks\": num_m_quarks,\n",
    "        \"fj_ncquarks\": num_m_cquarks,\n",
    "        \"fj_lepinprongs\": num_m_leptons,\n",
    "    }\n",
    "\n",
    "    genVars = {**genVars, **genVVars, **genHVVVars}\n",
    "\n",
    "    return genVars, is_hww\n"
   ]
  },
  {
   "cell_type": "code",
   "execution_count": 22,
   "id": "17b5ac1e",
   "metadata": {},
   "outputs": [
    {
     "name": "stdout",
     "output_type": "stream",
     "text": [
      "number of events per file is 1000\n"
     ]
    }
   ],
   "source": [
    "# load a hww root file into coffea-friendly NanoAOD structure\n",
    "import uproot\n",
    "f = uproot.open(f\"../rootfiles/HWW/file1.root\")\n",
    "\n",
    "f = uproot.open(f\"bulkgraviton.root\")\n",
    "\n",
    "num = f['Events'].num_entries   ### checks number of events per file \n",
    "print(f'number of events per file is {num}')\n",
    "\n",
    "events = nanoevents.NanoEventsFactory.from_root(f, \"Events\").events()"
   ]
  },
  {
   "cell_type": "code",
   "execution_count": 23,
   "id": "f72fdad9",
   "metadata": {},
   "outputs": [],
   "source": [
    "        def build_p4(cand):\n",
    "            return ak.zip(\n",
    "                {\n",
    "                    \"pt\": cand.pt,\n",
    "                    \"eta\": cand.eta,\n",
    "                    \"phi\": cand.phi,\n",
    "                    \"mass\": cand.mass,\n",
    "                    \"charge\": cand.charge,\n",
    "                },\n",
    "                with_name=\"PtEtaPhiMCandidate\",\n",
    "                behavior=candidate.behavior,\n",
    "            )\n",
    "\n",
    "        met = events.MET\n",
    "\n",
    "        # lepton\n",
    "        electrons = events[\"Electron\"][events[\"Electron\"].pt > 40]\n",
    "        muons = events[\"Muon\"][events[\"Muon\"].pt > 30]\n",
    "        leptons = ak.concatenate([electrons, muons], axis=1)\n",
    "        leptons = leptons[ak.argsort(leptons.pt, ascending=False)]\n",
    "        candidatelep = ak.firsts(leptons)\n",
    "        candidatelep_p4 = build_p4(candidatelep)\n",
    "\n",
    "        # fatjet\n",
    "        fatjets = events[\"FatJet\"]\n",
    "        good_fatjets = (fatjets.pt > 200) & (abs(fatjets.eta) < 2.5) & fatjets.isTight\n",
    "\n",
    "        good_fatjets = fatjets[good_fatjets]  # select good fatjets\n",
    "        good_fatjets = good_fatjets[ak.argsort(good_fatjets.pt, ascending=False)]  # sort them by pt\n",
    "\n",
    "        NumFatjets = ak.num(good_fatjets)\n",
    "        FirstFatjet = ak.firsts(good_fatjets[:, 0:1])\n",
    "        SecondFatjet = ak.firsts(good_fatjets[:, 1:2])\n",
    "\n",
    "        # candidatefj\n",
    "        fj_idx_lep = ak.argmin(good_fatjets.delta_r(candidatelep_p4), axis=1, keepdims=True)\n",
    "        candidatefj = ak.firsts(good_fatjets[fj_idx_lep])\n"
   ]
  },
  {
   "cell_type": "code",
   "execution_count": 21,
   "id": "534f3855",
   "metadata": {},
   "outputs": [
    {
     "data": {
      "text/plain": [
       "({'fj_genH_pt': <Array [[283], [249], ... [244], [347]] type='15000 * var * float32[parameters={...'>,\n",
       "  'fj_genH_jet': <Array [3.33, None, None, ... None, None, 2.71] type='15000 * ?float32'>,\n",
       "  'fj_genV_dR': <Array [3.35, None, None, ... None, None, 2.69] type='15000 * ?float32'>,\n",
       "  'fj_genVstar': <Array [3.32, None, None, ... None, None, 2.73] type='15000 * ?float32'>,\n",
       "  'genV_genVstar_dR': <Array [0.205, None, None, ... None, 0.0656] type='15000 * ?float32'>,\n",
       "  'fj_isHVV': <Array [True, None, None, ... None, None, True] type='15000 * ?bool'>,\n",
       "  'fj_isHVV_Matched': <Array [False, None, None, ... None, False] type='15000 * ?bool'>,\n",
       "  'fj_isHVV_4q': <Array [0, 0, 1, 0, 1, 0, ... 1, 1, 0, 1, 1, 0] type='15000 * int32'>,\n",
       "  'fj_isHVV_elenuqq': <Array [1, 0, 0, 0, 0, 1, ... 0, 0, 0, 0, 0, 0] type='15000 * int32'>,\n",
       "  'fj_isHVV_munuqq': <Array [0, 0, 0, 1, 0, 0, ... 0, 0, 1, 0, 0, 0] type='15000 * int32'>,\n",
       "  'fj_isHVV_taunuqq': <Array [0, 1, 0, 0, 0, 0, ... 0, 0, 0, 0, 0, 1] type='15000 * int32'>,\n",
       "  'fj_isHVV_Vlepton': <Array [False, None, None, ... None, True] type='15000 * ?bool'>,\n",
       "  'fj_isHVV_Vstarlepton': <Array [True, None, None, ... None, False] type='15000 * ?bool'>,\n",
       "  'fj_genRes_mass': <Array [125, None, None, ... None, None, 125] type='15000 * ?float32[parameters=...'>,\n",
       "  'fj_nquarks': <Array [0, None, None, None, ... None, None, 0] type='15000 * ?int64'>,\n",
       "  'fj_ncquarks': <Array [0, None, None, None, ... None, None, 0] type='15000 * ?int64'>,\n",
       "  'fj_lepinprongs': <Array [0, None, None, None, ... None, None, 0] type='15000 * ?int64'>},\n",
       " <Array [True, None, None, ... None, None, True] type='15000 * ?bool'>)"
      ]
     },
     "execution_count": 21,
     "metadata": {},
     "output_type": "execute_result"
    }
   ],
   "source": [
    "match_H(events.GenPart, candidatefj)"
   ]
  },
  {
   "cell_type": "code",
   "execution_count": 24,
   "id": "bd9ff186",
   "metadata": {},
   "outputs": [
    {
     "data": {
      "text/plain": [
       "({'fj_genH_pt': <Array [[2.45e+03, 2.33e+03, ... 1.82e+03]] type='1000 * var * float32[parameter...'>,\n",
       "  'fj_genH_jet': <Array [0.00877, 0.0215, ... 1.49, 0.00846] type='1000 * ?float32'>,\n",
       "  'fj_genV_dR': <Array [0.0749, 0.0672, ... 1.47, 0.0268] type='1000 * ?float32'>,\n",
       "  'fj_genVstar': <Array [0.0721, 0.0303, ... 1.52, 0.0102] type='1000 * ?float32'>,\n",
       "  'genV_genVstar_dR': <Array [0.147, 0.0909, ... 0.0569, 0.0315] type='1000 * ?float32'>,\n",
       "  'fj_isHVV': <Array [True, True, True, ... True, True, True] type='1000 * ?bool'>,\n",
       "  'fj_isHVV_Matched': <Array [True, True, True, ... False, True] type='1000 * ?bool'>,\n",
       "  'fj_isHVV_4q': <Array [0, 0, 0, 0, 0, 0, ... 0, 0, 0, 0, 0, 0] type='1000 * int32'>,\n",
       "  'fj_isHVV_elenuqq': <Array [0, 0, 0, 0, 0, 0, ... 0, 0, 0, 0, 0, 0] type='1000 * int32'>,\n",
       "  'fj_isHVV_munuqq': <Array [0, 0, 0, 0, 0, 0, ... 0, 0, 0, 0, 0, 0] type='1000 * int32'>,\n",
       "  'fj_isHVV_taunuqq': <Array [0, 0, 0, 0, 0, 0, ... 0, 0, 0, 0, 0, 0] type='1000 * int32'>,\n",
       "  'fj_isHVV_Vlepton': <Array [True, True, False, ... None, None] type='1000 * ?bool'>,\n",
       "  'fj_isHVV_Vstarlepton': <Array [False, False, False, ... None, None] type='1000 * ?bool'>,\n",
       "  'fj_genRes_mass': <Array [240, 240, 240, 240, ... 60, 60, 60] type='1000 * ?float32[parameters={\"_...'>,\n",
       "  'fj_nquarks': <Array [2, 2, 2, 2, 2, 3, ... 4, None, 4, 0, 5] type='1000 * ?int64'>,\n",
       "  'fj_ncquarks': <Array [0, 0, 0, 0, 0, 0, ... 0, None, 0, 0, 0] type='1000 * ?int64'>,\n",
       "  'fj_lepinprongs': <Array [1, 1, 1, 1, 1, 1, ... 0, None, 0, 0, 0] type='1000 * ?int64'>},\n",
       " <Array [True, True, True, ... True, True, True] type='1000 * ?bool'>)"
      ]
     },
     "execution_count": 24,
     "metadata": {},
     "output_type": "execute_result"
    }
   ],
   "source": [
    "match_H(events.GenPart, candidatefj)"
   ]
  },
  {
   "cell_type": "code",
   "execution_count": 98,
   "id": "e7f4604b",
   "metadata": {},
   "outputs": [
    {
     "name": "stdout",
     "output_type": "stream",
     "text": [
      "0-1.parquet\r\n"
     ]
    }
   ],
   "source": [
    "! ls test"
   ]
  },
  {
   "cell_type": "code",
   "execution_count": 112,
   "id": "cc2a4b8d",
   "metadata": {},
   "outputs": [
    {
     "data": {
      "text/plain": [
       "0"
      ]
     },
     "execution_count": 112,
     "metadata": {},
     "output_type": "execute_result"
    }
   ],
   "source": [
    "(df[\"fj_isV\"]!=1).sum()"
   ]
  },
  {
   "cell_type": "code",
   "execution_count": 77,
   "id": "b9494a9c",
   "metadata": {},
   "outputs": [
    {
     "data": {
      "text/plain": [
       "<Array [[], [], [2], [], ... [2], [2], []] type='46000 * var * uint8[parameters=...'>"
      ]
     },
     "execution_count": 77,
     "metadata": {},
     "output_type": "execute_result"
    }
   ],
   "source": [
    "muons.highPtId"
   ]
  },
  {
   "cell_type": "code",
   "execution_count": null,
   "id": "e4853ea6",
   "metadata": {},
   "outputs": [],
   "source": [
    "muons.tkRelIso<0.1"
   ]
  },
  {
   "cell_type": "code",
   "execution_count": null,
   "id": "a593b568",
   "metadata": {},
   "outputs": [],
   "source": []
  },
  {
   "cell_type": "code",
   "execution_count": 79,
   "id": "0bdbfc20",
   "metadata": {
    "scrolled": false
   },
   "outputs": [
    {
     "data": {
      "text/html": [
       "<div>\n",
       "<style scoped>\n",
       "    .dataframe tbody tr th:only-of-type {\n",
       "        vertical-align: middle;\n",
       "    }\n",
       "\n",
       "    .dataframe tbody tr th {\n",
       "        vertical-align: top;\n",
       "    }\n",
       "\n",
       "    .dataframe thead th {\n",
       "        text-align: right;\n",
       "    }\n",
       "</style>\n",
       "<table border=\"1\" class=\"dataframe\">\n",
       "  <thead>\n",
       "    <tr style=\"text-align: right;\">\n",
       "      <th></th>\n",
       "      <th>lep_pt</th>\n",
       "      <th>lep_eta</th>\n",
       "      <th>lep_isolation</th>\n",
       "      <th>lep_misolation</th>\n",
       "      <th>lep_fj_dr</th>\n",
       "      <th>lep_met_mt</th>\n",
       "      <th>met_fj_dphi</th>\n",
       "      <th>met_pt</th>\n",
       "      <th>deta</th>\n",
       "      <th>mjj</th>\n",
       "      <th>...</th>\n",
       "      <th>weight_pdf96</th>\n",
       "      <th>weight_pdf97</th>\n",
       "      <th>weight_pdf98</th>\n",
       "      <th>weight_pdf99</th>\n",
       "      <th>weight_pdf100</th>\n",
       "      <th>weight_pdf101</th>\n",
       "      <th>weight_pdf102</th>\n",
       "      <th>weight_ele</th>\n",
       "      <th>weight_btag</th>\n",
       "      <th>weight_mu</th>\n",
       "    </tr>\n",
       "  </thead>\n",
       "  <tbody>\n",
       "    <tr>\n",
       "      <th>0</th>\n",
       "      <td>88.538574</td>\n",
       "      <td>-0.474121</td>\n",
       "      <td>0.578989</td>\n",
       "      <td>0.017401</td>\n",
       "      <td>0.067844</td>\n",
       "      <td>29.491358</td>\n",
       "      <td>0.239422</td>\n",
       "      <td>127.264664</td>\n",
       "      <td>4.936035</td>\n",
       "      <td>3308.119385</td>\n",
       "      <td>...</td>\n",
       "      <td>0.999634</td>\n",
       "      <td>0.999756</td>\n",
       "      <td>1.000061</td>\n",
       "      <td>1.000427</td>\n",
       "      <td>1.0</td>\n",
       "      <td>0.956848</td>\n",
       "      <td>1.046204</td>\n",
       "      <td>0.256907</td>\n",
       "      <td>1.000000</td>\n",
       "      <td>0.259972</td>\n",
       "    </tr>\n",
       "    <tr>\n",
       "      <th>1</th>\n",
       "      <td>65.050301</td>\n",
       "      <td>-0.944214</td>\n",
       "      <td>0.582241</td>\n",
       "      <td>0.061437</td>\n",
       "      <td>0.220307</td>\n",
       "      <td>18.846615</td>\n",
       "      <td>0.011871</td>\n",
       "      <td>155.216049</td>\n",
       "      <td>0.099487</td>\n",
       "      <td>175.481812</td>\n",
       "      <td>...</td>\n",
       "      <td>0.999664</td>\n",
       "      <td>1.000427</td>\n",
       "      <td>1.000061</td>\n",
       "      <td>1.000305</td>\n",
       "      <td>1.0</td>\n",
       "      <td>0.960022</td>\n",
       "      <td>1.043701</td>\n",
       "      <td>0.465602</td>\n",
       "      <td>1.000000</td>\n",
       "      <td>0.456444</td>\n",
       "    </tr>\n",
       "    <tr>\n",
       "      <th>2</th>\n",
       "      <td>262.714478</td>\n",
       "      <td>1.542725</td>\n",
       "      <td>0.341701</td>\n",
       "      <td>0.022563</td>\n",
       "      <td>0.049223</td>\n",
       "      <td>96.692047</td>\n",
       "      <td>-0.931450</td>\n",
       "      <td>48.464581</td>\n",
       "      <td>5.145020</td>\n",
       "      <td>1065.417236</td>\n",
       "      <td>...</td>\n",
       "      <td>1.000183</td>\n",
       "      <td>1.001221</td>\n",
       "      <td>1.002075</td>\n",
       "      <td>1.000793</td>\n",
       "      <td>1.0</td>\n",
       "      <td>0.960846</td>\n",
       "      <td>1.058594</td>\n",
       "      <td>0.180764</td>\n",
       "      <td>1.000000</td>\n",
       "      <td>0.172468</td>\n",
       "    </tr>\n",
       "    <tr>\n",
       "      <th>3</th>\n",
       "      <td>246.304382</td>\n",
       "      <td>-1.932861</td>\n",
       "      <td>0.004191</td>\n",
       "      <td>0.000000</td>\n",
       "      <td>0.162307</td>\n",
       "      <td>108.212837</td>\n",
       "      <td>0.843734</td>\n",
       "      <td>63.124317</td>\n",
       "      <td>0.553955</td>\n",
       "      <td>191.014404</td>\n",
       "      <td>...</td>\n",
       "      <td>1.000122</td>\n",
       "      <td>0.999634</td>\n",
       "      <td>1.000183</td>\n",
       "      <td>0.999084</td>\n",
       "      <td>1.0</td>\n",
       "      <td>0.960724</td>\n",
       "      <td>1.043335</td>\n",
       "      <td>0.360156</td>\n",
       "      <td>1.000000</td>\n",
       "      <td>0.370762</td>\n",
       "    </tr>\n",
       "    <tr>\n",
       "      <th>4</th>\n",
       "      <td>112.901489</td>\n",
       "      <td>-2.094238</td>\n",
       "      <td>0.013558</td>\n",
       "      <td>0.000000</td>\n",
       "      <td>0.298614</td>\n",
       "      <td>8.162677</td>\n",
       "      <td>0.034812</td>\n",
       "      <td>87.018555</td>\n",
       "      <td>1.755676</td>\n",
       "      <td>371.924377</td>\n",
       "      <td>...</td>\n",
       "      <td>0.999268</td>\n",
       "      <td>0.999298</td>\n",
       "      <td>0.999939</td>\n",
       "      <td>0.999908</td>\n",
       "      <td>1.0</td>\n",
       "      <td>0.958954</td>\n",
       "      <td>1.040955</td>\n",
       "      <td>0.458214</td>\n",
       "      <td>0.999908</td>\n",
       "      <td>0.474220</td>\n",
       "    </tr>\n",
       "    <tr>\n",
       "      <th>...</th>\n",
       "      <td>...</td>\n",
       "      <td>...</td>\n",
       "      <td>...</td>\n",
       "      <td>...</td>\n",
       "      <td>...</td>\n",
       "      <td>...</td>\n",
       "      <td>...</td>\n",
       "      <td>...</td>\n",
       "      <td>...</td>\n",
       "      <td>...</td>\n",
       "      <td>...</td>\n",
       "      <td>...</td>\n",
       "      <td>...</td>\n",
       "      <td>...</td>\n",
       "      <td>...</td>\n",
       "      <td>...</td>\n",
       "      <td>...</td>\n",
       "      <td>...</td>\n",
       "      <td>...</td>\n",
       "      <td>...</td>\n",
       "      <td>...</td>\n",
       "    </tr>\n",
       "    <tr>\n",
       "      <th>386</th>\n",
       "      <td>108.104630</td>\n",
       "      <td>-0.889648</td>\n",
       "      <td>0.000000</td>\n",
       "      <td>0.000000</td>\n",
       "      <td>0.277601</td>\n",
       "      <td>122.710602</td>\n",
       "      <td>-1.512684</td>\n",
       "      <td>73.729515</td>\n",
       "      <td>1.466003</td>\n",
       "      <td>226.173584</td>\n",
       "      <td>...</td>\n",
       "      <td>1.000183</td>\n",
       "      <td>1.000061</td>\n",
       "      <td>1.001160</td>\n",
       "      <td>0.998962</td>\n",
       "      <td>1.0</td>\n",
       "      <td>0.920807</td>\n",
       "      <td>1.077515</td>\n",
       "      <td>0.462661</td>\n",
       "      <td>1.183272</td>\n",
       "      <td>0.454067</td>\n",
       "    </tr>\n",
       "    <tr>\n",
       "      <th>387</th>\n",
       "      <td>66.565224</td>\n",
       "      <td>-0.723145</td>\n",
       "      <td>0.000000</td>\n",
       "      <td>0.000000</td>\n",
       "      <td>0.313914</td>\n",
       "      <td>99.098724</td>\n",
       "      <td>-1.264417</td>\n",
       "      <td>80.965553</td>\n",
       "      <td>0.327393</td>\n",
       "      <td>88.463974</td>\n",
       "      <td>...</td>\n",
       "      <td>0.999847</td>\n",
       "      <td>1.000183</td>\n",
       "      <td>0.999939</td>\n",
       "      <td>1.000183</td>\n",
       "      <td>1.0</td>\n",
       "      <td>0.956543</td>\n",
       "      <td>1.048523</td>\n",
       "      <td>0.578362</td>\n",
       "      <td>0.999935</td>\n",
       "      <td>0.582851</td>\n",
       "    </tr>\n",
       "    <tr>\n",
       "      <th>388</th>\n",
       "      <td>154.612640</td>\n",
       "      <td>2.130859</td>\n",
       "      <td>1.025303</td>\n",
       "      <td>0.007093</td>\n",
       "      <td>0.107799</td>\n",
       "      <td>46.754253</td>\n",
       "      <td>0.263886</td>\n",
       "      <td>158.255783</td>\n",
       "      <td>2.132812</td>\n",
       "      <td>506.375122</td>\n",
       "      <td>...</td>\n",
       "      <td>1.000122</td>\n",
       "      <td>1.002075</td>\n",
       "      <td>1.002075</td>\n",
       "      <td>1.000793</td>\n",
       "      <td>1.0</td>\n",
       "      <td>0.934143</td>\n",
       "      <td>1.084412</td>\n",
       "      <td>0.407430</td>\n",
       "      <td>1.000000</td>\n",
       "      <td>0.445467</td>\n",
       "    </tr>\n",
       "    <tr>\n",
       "      <th>389</th>\n",
       "      <td>175.332596</td>\n",
       "      <td>0.320557</td>\n",
       "      <td>0.048739</td>\n",
       "      <td>0.000000</td>\n",
       "      <td>0.094716</td>\n",
       "      <td>195.388687</td>\n",
       "      <td>1.195969</td>\n",
       "      <td>157.266586</td>\n",
       "      <td>1.198483</td>\n",
       "      <td>623.863403</td>\n",
       "      <td>...</td>\n",
       "      <td>0.999695</td>\n",
       "      <td>1.000244</td>\n",
       "      <td>0.999969</td>\n",
       "      <td>1.000122</td>\n",
       "      <td>1.0</td>\n",
       "      <td>0.960907</td>\n",
       "      <td>1.044556</td>\n",
       "      <td>0.475568</td>\n",
       "      <td>1.000000</td>\n",
       "      <td>0.466308</td>\n",
       "    </tr>\n",
       "    <tr>\n",
       "      <th>390</th>\n",
       "      <td>125.897217</td>\n",
       "      <td>-0.536865</td>\n",
       "      <td>0.005166</td>\n",
       "      <td>0.000000</td>\n",
       "      <td>0.140221</td>\n",
       "      <td>52.890423</td>\n",
       "      <td>-0.593391</td>\n",
       "      <td>60.148518</td>\n",
       "      <td>0.388733</td>\n",
       "      <td>157.361633</td>\n",
       "      <td>...</td>\n",
       "      <td>0.999786</td>\n",
       "      <td>1.000183</td>\n",
       "      <td>0.999908</td>\n",
       "      <td>1.000122</td>\n",
       "      <td>1.0</td>\n",
       "      <td>0.958008</td>\n",
       "      <td>1.044373</td>\n",
       "      <td>0.490298</td>\n",
       "      <td>0.999881</td>\n",
       "      <td>0.483369</td>\n",
       "    </tr>\n",
       "  </tbody>\n",
       "</table>\n",
       "<p>391 rows × 176 columns</p>\n",
       "</div>"
      ],
      "text/plain": [
       "         lep_pt   lep_eta  lep_isolation  lep_misolation  lep_fj_dr  \\\n",
       "0     88.538574 -0.474121       0.578989        0.017401   0.067844   \n",
       "1     65.050301 -0.944214       0.582241        0.061437   0.220307   \n",
       "2    262.714478  1.542725       0.341701        0.022563   0.049223   \n",
       "3    246.304382 -1.932861       0.004191        0.000000   0.162307   \n",
       "4    112.901489 -2.094238       0.013558        0.000000   0.298614   \n",
       "..          ...       ...            ...             ...        ...   \n",
       "386  108.104630 -0.889648       0.000000        0.000000   0.277601   \n",
       "387   66.565224 -0.723145       0.000000        0.000000   0.313914   \n",
       "388  154.612640  2.130859       1.025303        0.007093   0.107799   \n",
       "389  175.332596  0.320557       0.048739        0.000000   0.094716   \n",
       "390  125.897217 -0.536865       0.005166        0.000000   0.140221   \n",
       "\n",
       "     lep_met_mt  met_fj_dphi      met_pt      deta          mjj  ...  \\\n",
       "0     29.491358     0.239422  127.264664  4.936035  3308.119385  ...   \n",
       "1     18.846615     0.011871  155.216049  0.099487   175.481812  ...   \n",
       "2     96.692047    -0.931450   48.464581  5.145020  1065.417236  ...   \n",
       "3    108.212837     0.843734   63.124317  0.553955   191.014404  ...   \n",
       "4      8.162677     0.034812   87.018555  1.755676   371.924377  ...   \n",
       "..          ...          ...         ...       ...          ...  ...   \n",
       "386  122.710602    -1.512684   73.729515  1.466003   226.173584  ...   \n",
       "387   99.098724    -1.264417   80.965553  0.327393    88.463974  ...   \n",
       "388   46.754253     0.263886  158.255783  2.132812   506.375122  ...   \n",
       "389  195.388687     1.195969  157.266586  1.198483   623.863403  ...   \n",
       "390   52.890423    -0.593391   60.148518  0.388733   157.361633  ...   \n",
       "\n",
       "     weight_pdf96  weight_pdf97  weight_pdf98  weight_pdf99  weight_pdf100  \\\n",
       "0        0.999634      0.999756      1.000061      1.000427            1.0   \n",
       "1        0.999664      1.000427      1.000061      1.000305            1.0   \n",
       "2        1.000183      1.001221      1.002075      1.000793            1.0   \n",
       "3        1.000122      0.999634      1.000183      0.999084            1.0   \n",
       "4        0.999268      0.999298      0.999939      0.999908            1.0   \n",
       "..            ...           ...           ...           ...            ...   \n",
       "386      1.000183      1.000061      1.001160      0.998962            1.0   \n",
       "387      0.999847      1.000183      0.999939      1.000183            1.0   \n",
       "388      1.000122      1.002075      1.002075      1.000793            1.0   \n",
       "389      0.999695      1.000244      0.999969      1.000122            1.0   \n",
       "390      0.999786      1.000183      0.999908      1.000122            1.0   \n",
       "\n",
       "     weight_pdf101  weight_pdf102  weight_ele  weight_btag  weight_mu  \n",
       "0         0.956848       1.046204    0.256907     1.000000   0.259972  \n",
       "1         0.960022       1.043701    0.465602     1.000000   0.456444  \n",
       "2         0.960846       1.058594    0.180764     1.000000   0.172468  \n",
       "3         0.960724       1.043335    0.360156     1.000000   0.370762  \n",
       "4         0.958954       1.040955    0.458214     0.999908   0.474220  \n",
       "..             ...            ...         ...          ...        ...  \n",
       "386       0.920807       1.077515    0.462661     1.183272   0.454067  \n",
       "387       0.956543       1.048523    0.578362     0.999935   0.582851  \n",
       "388       0.934143       1.084412    0.407430     1.000000   0.445467  \n",
       "389       0.960907       1.044556    0.475568     1.000000   0.466308  \n",
       "390       0.958008       1.044373    0.490298     0.999881   0.483369  \n",
       "\n",
       "[391 rows x 176 columns]"
      ]
     },
     "execution_count": 79,
     "metadata": {},
     "output_type": "execute_result"
    }
   ],
   "source": [
    "df"
   ]
  },
  {
   "cell_type": "code",
   "execution_count": 172,
   "id": "04fe91f9",
   "metadata": {},
   "outputs": [
    {
     "data": {
      "text/html": [
       "<div>\n",
       "<style scoped>\n",
       "    .dataframe tbody tr th:only-of-type {\n",
       "        vertical-align: middle;\n",
       "    }\n",
       "\n",
       "    .dataframe tbody tr th {\n",
       "        vertical-align: top;\n",
       "    }\n",
       "\n",
       "    .dataframe thead th {\n",
       "        text-align: right;\n",
       "    }\n",
       "</style>\n",
       "<table border=\"1\" class=\"dataframe\">\n",
       "  <thead>\n",
       "    <tr style=\"text-align: right;\">\n",
       "      <th></th>\n",
       "      <th>lep_pt</th>\n",
       "      <th>lep_eta</th>\n",
       "      <th>lep_isolation</th>\n",
       "      <th>lep_misolation</th>\n",
       "      <th>lep_fj_dr</th>\n",
       "      <th>lep_met_mt</th>\n",
       "      <th>met_fj_dphi</th>\n",
       "      <th>met_pt</th>\n",
       "      <th>deta</th>\n",
       "      <th>mjj</th>\n",
       "      <th>...</th>\n",
       "      <th>weight_pdf95</th>\n",
       "      <th>weight_pdf96</th>\n",
       "      <th>weight_pdf97</th>\n",
       "      <th>weight_pdf98</th>\n",
       "      <th>weight_pdf99</th>\n",
       "      <th>weight_pdf100</th>\n",
       "      <th>weight_pdf101</th>\n",
       "      <th>weight_pdf102</th>\n",
       "      <th>weight_mu</th>\n",
       "      <th>weight_btag</th>\n",
       "    </tr>\n",
       "  </thead>\n",
       "  <tbody>\n",
       "    <tr>\n",
       "      <th>0</th>\n",
       "      <td>88.538574</td>\n",
       "      <td>-0.474121</td>\n",
       "      <td>0.578989</td>\n",
       "      <td>0.017401</td>\n",
       "      <td>0.067844</td>\n",
       "      <td>29.491358</td>\n",
       "      <td>0.239422</td>\n",
       "      <td>127.264664</td>\n",
       "      <td>4.936035</td>\n",
       "      <td>3308.119385</td>\n",
       "      <td>...</td>\n",
       "      <td>1.000427</td>\n",
       "      <td>0.999634</td>\n",
       "      <td>0.999756</td>\n",
       "      <td>1.000061</td>\n",
       "      <td>1.000427</td>\n",
       "      <td>1.0</td>\n",
       "      <td>0.956848</td>\n",
       "      <td>1.046204</td>\n",
       "      <td>0.259972</td>\n",
       "      <td>1.000000</td>\n",
       "    </tr>\n",
       "    <tr>\n",
       "      <th>1</th>\n",
       "      <td>65.050301</td>\n",
       "      <td>-0.944214</td>\n",
       "      <td>0.582241</td>\n",
       "      <td>0.061437</td>\n",
       "      <td>0.220307</td>\n",
       "      <td>18.846615</td>\n",
       "      <td>0.011871</td>\n",
       "      <td>155.216049</td>\n",
       "      <td>0.099487</td>\n",
       "      <td>175.481812</td>\n",
       "      <td>...</td>\n",
       "      <td>1.000488</td>\n",
       "      <td>0.999664</td>\n",
       "      <td>1.000427</td>\n",
       "      <td>1.000061</td>\n",
       "      <td>1.000305</td>\n",
       "      <td>1.0</td>\n",
       "      <td>0.960022</td>\n",
       "      <td>1.043701</td>\n",
       "      <td>0.456444</td>\n",
       "      <td>1.000000</td>\n",
       "    </tr>\n",
       "    <tr>\n",
       "      <th>2</th>\n",
       "      <td>262.714478</td>\n",
       "      <td>1.542725</td>\n",
       "      <td>0.341701</td>\n",
       "      <td>0.022563</td>\n",
       "      <td>0.049223</td>\n",
       "      <td>96.692047</td>\n",
       "      <td>-0.931450</td>\n",
       "      <td>48.464581</td>\n",
       "      <td>5.145020</td>\n",
       "      <td>1065.417236</td>\n",
       "      <td>...</td>\n",
       "      <td>0.999573</td>\n",
       "      <td>1.000183</td>\n",
       "      <td>1.001221</td>\n",
       "      <td>1.002075</td>\n",
       "      <td>1.000793</td>\n",
       "      <td>1.0</td>\n",
       "      <td>0.960846</td>\n",
       "      <td>1.058594</td>\n",
       "      <td>0.172468</td>\n",
       "      <td>1.000000</td>\n",
       "    </tr>\n",
       "    <tr>\n",
       "      <th>3</th>\n",
       "      <td>246.304382</td>\n",
       "      <td>-1.932861</td>\n",
       "      <td>0.004191</td>\n",
       "      <td>0.000000</td>\n",
       "      <td>0.162307</td>\n",
       "      <td>108.212837</td>\n",
       "      <td>0.843734</td>\n",
       "      <td>63.124317</td>\n",
       "      <td>0.553955</td>\n",
       "      <td>191.014404</td>\n",
       "      <td>...</td>\n",
       "      <td>1.000549</td>\n",
       "      <td>1.000122</td>\n",
       "      <td>0.999634</td>\n",
       "      <td>1.000183</td>\n",
       "      <td>0.999084</td>\n",
       "      <td>1.0</td>\n",
       "      <td>0.960724</td>\n",
       "      <td>1.043335</td>\n",
       "      <td>0.370762</td>\n",
       "      <td>1.000000</td>\n",
       "    </tr>\n",
       "    <tr>\n",
       "      <th>4</th>\n",
       "      <td>112.901489</td>\n",
       "      <td>-2.094238</td>\n",
       "      <td>0.013558</td>\n",
       "      <td>0.000000</td>\n",
       "      <td>0.298614</td>\n",
       "      <td>8.162677</td>\n",
       "      <td>0.034812</td>\n",
       "      <td>87.018555</td>\n",
       "      <td>1.755676</td>\n",
       "      <td>371.924377</td>\n",
       "      <td>...</td>\n",
       "      <td>1.000183</td>\n",
       "      <td>0.999268</td>\n",
       "      <td>0.999298</td>\n",
       "      <td>0.999939</td>\n",
       "      <td>0.999908</td>\n",
       "      <td>1.0</td>\n",
       "      <td>0.958954</td>\n",
       "      <td>1.040955</td>\n",
       "      <td>0.474220</td>\n",
       "      <td>0.999908</td>\n",
       "    </tr>\n",
       "    <tr>\n",
       "      <th>...</th>\n",
       "      <td>...</td>\n",
       "      <td>...</td>\n",
       "      <td>...</td>\n",
       "      <td>...</td>\n",
       "      <td>...</td>\n",
       "      <td>...</td>\n",
       "      <td>...</td>\n",
       "      <td>...</td>\n",
       "      <td>...</td>\n",
       "      <td>...</td>\n",
       "      <td>...</td>\n",
       "      <td>...</td>\n",
       "      <td>...</td>\n",
       "      <td>...</td>\n",
       "      <td>...</td>\n",
       "      <td>...</td>\n",
       "      <td>...</td>\n",
       "      <td>...</td>\n",
       "      <td>...</td>\n",
       "      <td>...</td>\n",
       "      <td>...</td>\n",
       "    </tr>\n",
       "    <tr>\n",
       "      <th>385</th>\n",
       "      <td>108.104630</td>\n",
       "      <td>-0.889648</td>\n",
       "      <td>0.000000</td>\n",
       "      <td>0.000000</td>\n",
       "      <td>0.277601</td>\n",
       "      <td>122.710602</td>\n",
       "      <td>-1.512684</td>\n",
       "      <td>73.729515</td>\n",
       "      <td>1.466003</td>\n",
       "      <td>226.173584</td>\n",
       "      <td>...</td>\n",
       "      <td>0.999420</td>\n",
       "      <td>1.000183</td>\n",
       "      <td>1.000061</td>\n",
       "      <td>1.001160</td>\n",
       "      <td>0.998962</td>\n",
       "      <td>1.0</td>\n",
       "      <td>0.920807</td>\n",
       "      <td>1.077515</td>\n",
       "      <td>0.454067</td>\n",
       "      <td>1.183272</td>\n",
       "    </tr>\n",
       "    <tr>\n",
       "      <th>386</th>\n",
       "      <td>66.565224</td>\n",
       "      <td>-0.723145</td>\n",
       "      <td>0.000000</td>\n",
       "      <td>0.000000</td>\n",
       "      <td>0.313914</td>\n",
       "      <td>99.098724</td>\n",
       "      <td>-1.264417</td>\n",
       "      <td>80.965553</td>\n",
       "      <td>0.327393</td>\n",
       "      <td>88.463974</td>\n",
       "      <td>...</td>\n",
       "      <td>1.000244</td>\n",
       "      <td>0.999847</td>\n",
       "      <td>1.000183</td>\n",
       "      <td>0.999939</td>\n",
       "      <td>1.000183</td>\n",
       "      <td>1.0</td>\n",
       "      <td>0.956543</td>\n",
       "      <td>1.048523</td>\n",
       "      <td>0.582851</td>\n",
       "      <td>0.999935</td>\n",
       "    </tr>\n",
       "    <tr>\n",
       "      <th>387</th>\n",
       "      <td>154.612640</td>\n",
       "      <td>2.130859</td>\n",
       "      <td>1.025303</td>\n",
       "      <td>0.007093</td>\n",
       "      <td>0.107799</td>\n",
       "      <td>46.754253</td>\n",
       "      <td>0.263886</td>\n",
       "      <td>158.255783</td>\n",
       "      <td>2.132812</td>\n",
       "      <td>506.375122</td>\n",
       "      <td>...</td>\n",
       "      <td>1.003052</td>\n",
       "      <td>1.000122</td>\n",
       "      <td>1.002075</td>\n",
       "      <td>1.002075</td>\n",
       "      <td>1.000793</td>\n",
       "      <td>1.0</td>\n",
       "      <td>0.934143</td>\n",
       "      <td>1.084412</td>\n",
       "      <td>0.445467</td>\n",
       "      <td>1.000000</td>\n",
       "    </tr>\n",
       "    <tr>\n",
       "      <th>388</th>\n",
       "      <td>175.332596</td>\n",
       "      <td>0.320557</td>\n",
       "      <td>0.048739</td>\n",
       "      <td>0.000000</td>\n",
       "      <td>0.094716</td>\n",
       "      <td>195.388687</td>\n",
       "      <td>1.195969</td>\n",
       "      <td>157.266586</td>\n",
       "      <td>1.198483</td>\n",
       "      <td>623.863403</td>\n",
       "      <td>...</td>\n",
       "      <td>1.000305</td>\n",
       "      <td>0.999695</td>\n",
       "      <td>1.000244</td>\n",
       "      <td>0.999969</td>\n",
       "      <td>1.000122</td>\n",
       "      <td>1.0</td>\n",
       "      <td>0.960907</td>\n",
       "      <td>1.044556</td>\n",
       "      <td>0.466308</td>\n",
       "      <td>1.000000</td>\n",
       "    </tr>\n",
       "    <tr>\n",
       "      <th>389</th>\n",
       "      <td>125.897217</td>\n",
       "      <td>-0.536865</td>\n",
       "      <td>0.005166</td>\n",
       "      <td>0.000000</td>\n",
       "      <td>0.140221</td>\n",
       "      <td>52.890423</td>\n",
       "      <td>-0.593391</td>\n",
       "      <td>60.148518</td>\n",
       "      <td>0.388733</td>\n",
       "      <td>157.361633</td>\n",
       "      <td>...</td>\n",
       "      <td>1.000183</td>\n",
       "      <td>0.999786</td>\n",
       "      <td>1.000183</td>\n",
       "      <td>0.999908</td>\n",
       "      <td>1.000122</td>\n",
       "      <td>1.0</td>\n",
       "      <td>0.958008</td>\n",
       "      <td>1.044373</td>\n",
       "      <td>0.483369</td>\n",
       "      <td>0.999881</td>\n",
       "    </tr>\n",
       "  </tbody>\n",
       "</table>\n",
       "<p>390 rows × 182 columns</p>\n",
       "</div>"
      ],
      "text/plain": [
       "         lep_pt   lep_eta  lep_isolation  lep_misolation  lep_fj_dr  \\\n",
       "0     88.538574 -0.474121       0.578989        0.017401   0.067844   \n",
       "1     65.050301 -0.944214       0.582241        0.061437   0.220307   \n",
       "2    262.714478  1.542725       0.341701        0.022563   0.049223   \n",
       "3    246.304382 -1.932861       0.004191        0.000000   0.162307   \n",
       "4    112.901489 -2.094238       0.013558        0.000000   0.298614   \n",
       "..          ...       ...            ...             ...        ...   \n",
       "385  108.104630 -0.889648       0.000000        0.000000   0.277601   \n",
       "386   66.565224 -0.723145       0.000000        0.000000   0.313914   \n",
       "387  154.612640  2.130859       1.025303        0.007093   0.107799   \n",
       "388  175.332596  0.320557       0.048739        0.000000   0.094716   \n",
       "389  125.897217 -0.536865       0.005166        0.000000   0.140221   \n",
       "\n",
       "     lep_met_mt  met_fj_dphi      met_pt      deta          mjj  ...  \\\n",
       "0     29.491358     0.239422  127.264664  4.936035  3308.119385  ...   \n",
       "1     18.846615     0.011871  155.216049  0.099487   175.481812  ...   \n",
       "2     96.692047    -0.931450   48.464581  5.145020  1065.417236  ...   \n",
       "3    108.212837     0.843734   63.124317  0.553955   191.014404  ...   \n",
       "4      8.162677     0.034812   87.018555  1.755676   371.924377  ...   \n",
       "..          ...          ...         ...       ...          ...  ...   \n",
       "385  122.710602    -1.512684   73.729515  1.466003   226.173584  ...   \n",
       "386   99.098724    -1.264417   80.965553  0.327393    88.463974  ...   \n",
       "387   46.754253     0.263886  158.255783  2.132812   506.375122  ...   \n",
       "388  195.388687     1.195969  157.266586  1.198483   623.863403  ...   \n",
       "389   52.890423    -0.593391   60.148518  0.388733   157.361633  ...   \n",
       "\n",
       "     weight_pdf95  weight_pdf96  weight_pdf97  weight_pdf98  weight_pdf99  \\\n",
       "0        1.000427      0.999634      0.999756      1.000061      1.000427   \n",
       "1        1.000488      0.999664      1.000427      1.000061      1.000305   \n",
       "2        0.999573      1.000183      1.001221      1.002075      1.000793   \n",
       "3        1.000549      1.000122      0.999634      1.000183      0.999084   \n",
       "4        1.000183      0.999268      0.999298      0.999939      0.999908   \n",
       "..            ...           ...           ...           ...           ...   \n",
       "385      0.999420      1.000183      1.000061      1.001160      0.998962   \n",
       "386      1.000244      0.999847      1.000183      0.999939      1.000183   \n",
       "387      1.003052      1.000122      1.002075      1.002075      1.000793   \n",
       "388      1.000305      0.999695      1.000244      0.999969      1.000122   \n",
       "389      1.000183      0.999786      1.000183      0.999908      1.000122   \n",
       "\n",
       "     weight_pdf100  weight_pdf101  weight_pdf102  weight_mu  weight_btag  \n",
       "0              1.0       0.956848       1.046204   0.259972     1.000000  \n",
       "1              1.0       0.960022       1.043701   0.456444     1.000000  \n",
       "2              1.0       0.960846       1.058594   0.172468     1.000000  \n",
       "3              1.0       0.960724       1.043335   0.370762     1.000000  \n",
       "4              1.0       0.958954       1.040955   0.474220     0.999908  \n",
       "..             ...            ...            ...        ...          ...  \n",
       "385            1.0       0.920807       1.077515   0.454067     1.183272  \n",
       "386            1.0       0.956543       1.048523   0.582851     0.999935  \n",
       "387            1.0       0.934143       1.084412   0.445467     1.000000  \n",
       "388            1.0       0.960907       1.044556   0.466308     1.000000  \n",
       "389            1.0       0.958008       1.044373   0.483369     0.999881  \n",
       "\n",
       "[390 rows x 182 columns]"
      ]
     },
     "execution_count": 172,
     "metadata": {},
     "output_type": "execute_result"
    }
   ],
   "source": [
    "df = pd.read_parquet(\"/Users/fmokhtar/Downloads/outfiles/0-1_mu.parquet\")\n",
    "df"
   ]
  },
  {
   "cell_type": "code",
   "execution_count": 271,
   "id": "570df088",
   "metadata": {},
   "outputs": [
    {
     "data": {
      "text/html": [
       "<div>\n",
       "<style scoped>\n",
       "    .dataframe tbody tr th:only-of-type {\n",
       "        vertical-align: middle;\n",
       "    }\n",
       "\n",
       "    .dataframe tbody tr th {\n",
       "        vertical-align: top;\n",
       "    }\n",
       "\n",
       "    .dataframe thead th {\n",
       "        text-align: right;\n",
       "    }\n",
       "</style>\n",
       "<table border=\"1\" class=\"dataframe\">\n",
       "  <thead>\n",
       "    <tr style=\"text-align: right;\">\n",
       "      <th></th>\n",
       "      <th>fj_lsf3</th>\n",
       "      <th>fj_VScore</th>\n",
       "      <th>lep_pt</th>\n",
       "      <th>lep_eta</th>\n",
       "      <th>lep_isolation</th>\n",
       "      <th>lep_misolation</th>\n",
       "      <th>lep_fj_dr</th>\n",
       "      <th>lep_met_mt</th>\n",
       "      <th>met_fj_dphi</th>\n",
       "      <th>met_pt</th>\n",
       "      <th>...</th>\n",
       "      <th>fj_ParT_hidNeuron118</th>\n",
       "      <th>fj_ParT_hidNeuron119</th>\n",
       "      <th>fj_ParT_hidNeuron120</th>\n",
       "      <th>fj_ParT_hidNeuron121</th>\n",
       "      <th>fj_ParT_hidNeuron122</th>\n",
       "      <th>fj_ParT_hidNeuron123</th>\n",
       "      <th>fj_ParT_hidNeuron124</th>\n",
       "      <th>fj_ParT_hidNeuron125</th>\n",
       "      <th>fj_ParT_hidNeuron126</th>\n",
       "      <th>fj_ParT_hidNeuron127</th>\n",
       "    </tr>\n",
       "  </thead>\n",
       "  <tbody>\n",
       "    <tr>\n",
       "      <th>0</th>\n",
       "      <td>0.993652</td>\n",
       "      <td>0.630106</td>\n",
       "      <td>83.764145</td>\n",
       "      <td>1.077637</td>\n",
       "      <td>0.008526</td>\n",
       "      <td>0.000000</td>\n",
       "      <td>0.377628</td>\n",
       "      <td>17.316517</td>\n",
       "      <td>-0.635498</td>\n",
       "      <td>34.151115</td>\n",
       "      <td>...</td>\n",
       "      <td>0.845223</td>\n",
       "      <td>-1.392975</td>\n",
       "      <td>0.710687</td>\n",
       "      <td>1.003482</td>\n",
       "      <td>0.917170</td>\n",
       "      <td>0.592222</td>\n",
       "      <td>-0.941742</td>\n",
       "      <td>-1.473500</td>\n",
       "      <td>3.361760</td>\n",
       "      <td>1.356987</td>\n",
       "    </tr>\n",
       "    <tr>\n",
       "      <th>1</th>\n",
       "      <td>0.675293</td>\n",
       "      <td>0.414466</td>\n",
       "      <td>117.114243</td>\n",
       "      <td>-1.347168</td>\n",
       "      <td>0.436979</td>\n",
       "      <td>0.052861</td>\n",
       "      <td>0.072069</td>\n",
       "      <td>43.196140</td>\n",
       "      <td>0.701416</td>\n",
       "      <td>40.684486</td>\n",
       "      <td>...</td>\n",
       "      <td>0.341183</td>\n",
       "      <td>-0.985560</td>\n",
       "      <td>0.161216</td>\n",
       "      <td>1.019588</td>\n",
       "      <td>-0.789062</td>\n",
       "      <td>0.722945</td>\n",
       "      <td>-0.535170</td>\n",
       "      <td>-1.322929</td>\n",
       "      <td>1.607769</td>\n",
       "      <td>0.078881</td>\n",
       "    </tr>\n",
       "    <tr>\n",
       "      <th>2</th>\n",
       "      <td>1.000000</td>\n",
       "      <td>0.964746</td>\n",
       "      <td>179.048523</td>\n",
       "      <td>-0.373108</td>\n",
       "      <td>0.000000</td>\n",
       "      <td>0.000000</td>\n",
       "      <td>0.326120</td>\n",
       "      <td>31.862156</td>\n",
       "      <td>-0.112305</td>\n",
       "      <td>100.746277</td>\n",
       "      <td>...</td>\n",
       "      <td>0.775504</td>\n",
       "      <td>-2.289030</td>\n",
       "      <td>1.166962</td>\n",
       "      <td>1.967099</td>\n",
       "      <td>1.462241</td>\n",
       "      <td>1.411108</td>\n",
       "      <td>-0.955923</td>\n",
       "      <td>-1.440115</td>\n",
       "      <td>3.748132</td>\n",
       "      <td>1.613144</td>\n",
       "    </tr>\n",
       "    <tr>\n",
       "      <th>3</th>\n",
       "      <td>0.164429</td>\n",
       "      <td>0.813113</td>\n",
       "      <td>65.674545</td>\n",
       "      <td>0.119812</td>\n",
       "      <td>0.000000</td>\n",
       "      <td>0.003317</td>\n",
       "      <td>0.429882</td>\n",
       "      <td>58.468346</td>\n",
       "      <td>-1.183838</td>\n",
       "      <td>29.359289</td>\n",
       "      <td>...</td>\n",
       "      <td>0.835530</td>\n",
       "      <td>-1.197996</td>\n",
       "      <td>0.355646</td>\n",
       "      <td>0.274095</td>\n",
       "      <td>0.300129</td>\n",
       "      <td>0.454608</td>\n",
       "      <td>-0.797054</td>\n",
       "      <td>-1.675704</td>\n",
       "      <td>2.578699</td>\n",
       "      <td>1.046211</td>\n",
       "    </tr>\n",
       "    <tr>\n",
       "      <th>4</th>\n",
       "      <td>0.870605</td>\n",
       "      <td>0.633113</td>\n",
       "      <td>55.161270</td>\n",
       "      <td>0.110703</td>\n",
       "      <td>0.000000</td>\n",
       "      <td>0.000000</td>\n",
       "      <td>0.342520</td>\n",
       "      <td>91.031937</td>\n",
       "      <td>1.476318</td>\n",
       "      <td>60.405487</td>\n",
       "      <td>...</td>\n",
       "      <td>0.627352</td>\n",
       "      <td>-1.584808</td>\n",
       "      <td>0.407731</td>\n",
       "      <td>0.866240</td>\n",
       "      <td>0.406815</td>\n",
       "      <td>0.493428</td>\n",
       "      <td>-0.542845</td>\n",
       "      <td>-1.481172</td>\n",
       "      <td>3.032233</td>\n",
       "      <td>0.773722</td>\n",
       "    </tr>\n",
       "    <tr>\n",
       "      <th>5</th>\n",
       "      <td>0.989746</td>\n",
       "      <td>0.438086</td>\n",
       "      <td>217.037491</td>\n",
       "      <td>1.081543</td>\n",
       "      <td>0.000000</td>\n",
       "      <td>0.000000</td>\n",
       "      <td>0.034678</td>\n",
       "      <td>48.191799</td>\n",
       "      <td>0.189777</td>\n",
       "      <td>300.615662</td>\n",
       "      <td>...</td>\n",
       "      <td>-0.091018</td>\n",
       "      <td>-1.563859</td>\n",
       "      <td>0.374205</td>\n",
       "      <td>1.431898</td>\n",
       "      <td>0.081634</td>\n",
       "      <td>0.342267</td>\n",
       "      <td>-0.842515</td>\n",
       "      <td>-1.233172</td>\n",
       "      <td>1.898218</td>\n",
       "      <td>-0.004531</td>\n",
       "    </tr>\n",
       "    <tr>\n",
       "      <th>6</th>\n",
       "      <td>0.880371</td>\n",
       "      <td>0.954653</td>\n",
       "      <td>76.609291</td>\n",
       "      <td>1.250488</td>\n",
       "      <td>0.034120</td>\n",
       "      <td>0.000000</td>\n",
       "      <td>0.425122</td>\n",
       "      <td>42.394531</td>\n",
       "      <td>1.268311</td>\n",
       "      <td>34.904865</td>\n",
       "      <td>...</td>\n",
       "      <td>0.700808</td>\n",
       "      <td>-1.770671</td>\n",
       "      <td>0.509750</td>\n",
       "      <td>1.320191</td>\n",
       "      <td>1.052873</td>\n",
       "      <td>0.643520</td>\n",
       "      <td>-0.704635</td>\n",
       "      <td>-1.466602</td>\n",
       "      <td>3.153288</td>\n",
       "      <td>0.827427</td>\n",
       "    </tr>\n",
       "    <tr>\n",
       "      <th>7</th>\n",
       "      <td>0.811035</td>\n",
       "      <td>0.663050</td>\n",
       "      <td>98.254646</td>\n",
       "      <td>-0.481506</td>\n",
       "      <td>0.050645</td>\n",
       "      <td>0.000000</td>\n",
       "      <td>0.384068</td>\n",
       "      <td>16.953302</td>\n",
       "      <td>-0.675781</td>\n",
       "      <td>34.212528</td>\n",
       "      <td>...</td>\n",
       "      <td>0.319855</td>\n",
       "      <td>-1.427670</td>\n",
       "      <td>0.390798</td>\n",
       "      <td>1.300860</td>\n",
       "      <td>1.424267</td>\n",
       "      <td>0.704611</td>\n",
       "      <td>-0.821972</td>\n",
       "      <td>-1.240062</td>\n",
       "      <td>2.800028</td>\n",
       "      <td>0.319374</td>\n",
       "    </tr>\n",
       "    <tr>\n",
       "      <th>8</th>\n",
       "      <td>0.913574</td>\n",
       "      <td>0.879836</td>\n",
       "      <td>66.542885</td>\n",
       "      <td>0.294495</td>\n",
       "      <td>0.112183</td>\n",
       "      <td>0.020328</td>\n",
       "      <td>0.298729</td>\n",
       "      <td>83.490646</td>\n",
       "      <td>1.456787</td>\n",
       "      <td>86.373329</td>\n",
       "      <td>...</td>\n",
       "      <td>0.789872</td>\n",
       "      <td>-1.403235</td>\n",
       "      <td>0.424836</td>\n",
       "      <td>0.983590</td>\n",
       "      <td>0.594331</td>\n",
       "      <td>0.449311</td>\n",
       "      <td>-0.745502</td>\n",
       "      <td>-1.246122</td>\n",
       "      <td>2.546412</td>\n",
       "      <td>0.414404</td>\n",
       "    </tr>\n",
       "    <tr>\n",
       "      <th>9</th>\n",
       "      <td>0.961426</td>\n",
       "      <td>0.858606</td>\n",
       "      <td>151.251846</td>\n",
       "      <td>-0.572998</td>\n",
       "      <td>0.005060</td>\n",
       "      <td>0.000000</td>\n",
       "      <td>0.235181</td>\n",
       "      <td>62.440475</td>\n",
       "      <td>-0.754865</td>\n",
       "      <td>73.654648</td>\n",
       "      <td>...</td>\n",
       "      <td>0.725560</td>\n",
       "      <td>-1.721977</td>\n",
       "      <td>0.903383</td>\n",
       "      <td>1.342024</td>\n",
       "      <td>1.106798</td>\n",
       "      <td>0.816482</td>\n",
       "      <td>-0.963727</td>\n",
       "      <td>-1.606831</td>\n",
       "      <td>3.456035</td>\n",
       "      <td>1.828695</td>\n",
       "    </tr>\n",
       "    <tr>\n",
       "      <th>10</th>\n",
       "      <td>0.938965</td>\n",
       "      <td>0.892195</td>\n",
       "      <td>121.787956</td>\n",
       "      <td>-1.251709</td>\n",
       "      <td>0.034773</td>\n",
       "      <td>0.000000</td>\n",
       "      <td>0.476849</td>\n",
       "      <td>109.566765</td>\n",
       "      <td>1.398682</td>\n",
       "      <td>60.662510</td>\n",
       "      <td>...</td>\n",
       "      <td>0.875370</td>\n",
       "      <td>-1.938388</td>\n",
       "      <td>1.032831</td>\n",
       "      <td>1.998537</td>\n",
       "      <td>1.181081</td>\n",
       "      <td>1.312064</td>\n",
       "      <td>-1.091990</td>\n",
       "      <td>-1.441994</td>\n",
       "      <td>3.724072</td>\n",
       "      <td>1.431610</td>\n",
       "    </tr>\n",
       "    <tr>\n",
       "      <th>11</th>\n",
       "      <td>0.149170</td>\n",
       "      <td>0.848294</td>\n",
       "      <td>64.269463</td>\n",
       "      <td>1.113770</td>\n",
       "      <td>0.035170</td>\n",
       "      <td>0.012466</td>\n",
       "      <td>0.478941</td>\n",
       "      <td>56.721558</td>\n",
       "      <td>-0.354492</td>\n",
       "      <td>114.922073</td>\n",
       "      <td>...</td>\n",
       "      <td>1.029277</td>\n",
       "      <td>-1.648740</td>\n",
       "      <td>0.751016</td>\n",
       "      <td>1.760455</td>\n",
       "      <td>1.214735</td>\n",
       "      <td>1.214206</td>\n",
       "      <td>-0.795163</td>\n",
       "      <td>-1.320920</td>\n",
       "      <td>3.988693</td>\n",
       "      <td>1.380848</td>\n",
       "    </tr>\n",
       "    <tr>\n",
       "      <th>12</th>\n",
       "      <td>0.516602</td>\n",
       "      <td>0.978840</td>\n",
       "      <td>102.269096</td>\n",
       "      <td>-0.737427</td>\n",
       "      <td>0.670976</td>\n",
       "      <td>0.153212</td>\n",
       "      <td>0.144133</td>\n",
       "      <td>34.635151</td>\n",
       "      <td>0.594220</td>\n",
       "      <td>35.105171</td>\n",
       "      <td>...</td>\n",
       "      <td>1.634915</td>\n",
       "      <td>-0.103909</td>\n",
       "      <td>0.223475</td>\n",
       "      <td>-0.258663</td>\n",
       "      <td>0.278506</td>\n",
       "      <td>0.121575</td>\n",
       "      <td>-1.182606</td>\n",
       "      <td>-0.984955</td>\n",
       "      <td>1.521382</td>\n",
       "      <td>0.673986</td>\n",
       "    </tr>\n",
       "    <tr>\n",
       "      <th>13</th>\n",
       "      <td>0.840820</td>\n",
       "      <td>0.802273</td>\n",
       "      <td>82.783073</td>\n",
       "      <td>-0.866211</td>\n",
       "      <td>0.110779</td>\n",
       "      <td>0.000000</td>\n",
       "      <td>0.263717</td>\n",
       "      <td>39.088676</td>\n",
       "      <td>0.483887</td>\n",
       "      <td>78.816162</td>\n",
       "      <td>...</td>\n",
       "      <td>0.942332</td>\n",
       "      <td>-1.444995</td>\n",
       "      <td>0.526148</td>\n",
       "      <td>0.259508</td>\n",
       "      <td>-0.072958</td>\n",
       "      <td>0.401235</td>\n",
       "      <td>-1.033217</td>\n",
       "      <td>-1.690311</td>\n",
       "      <td>2.912774</td>\n",
       "      <td>1.221583</td>\n",
       "    </tr>\n",
       "    <tr>\n",
       "      <th>14</th>\n",
       "      <td>0.916016</td>\n",
       "      <td>0.817251</td>\n",
       "      <td>143.460678</td>\n",
       "      <td>1.119873</td>\n",
       "      <td>0.000000</td>\n",
       "      <td>0.000000</td>\n",
       "      <td>0.342017</td>\n",
       "      <td>20.843046</td>\n",
       "      <td>-0.546753</td>\n",
       "      <td>72.084770</td>\n",
       "      <td>...</td>\n",
       "      <td>0.895637</td>\n",
       "      <td>-1.469971</td>\n",
       "      <td>1.119634</td>\n",
       "      <td>1.444722</td>\n",
       "      <td>1.328859</td>\n",
       "      <td>0.822687</td>\n",
       "      <td>-1.130070</td>\n",
       "      <td>-1.351186</td>\n",
       "      <td>3.763217</td>\n",
       "      <td>1.880388</td>\n",
       "    </tr>\n",
       "    <tr>\n",
       "      <th>15</th>\n",
       "      <td>0.857910</td>\n",
       "      <td>0.948396</td>\n",
       "      <td>73.849167</td>\n",
       "      <td>0.526489</td>\n",
       "      <td>0.096886</td>\n",
       "      <td>0.010697</td>\n",
       "      <td>0.464574</td>\n",
       "      <td>46.906376</td>\n",
       "      <td>0.351288</td>\n",
       "      <td>158.422211</td>\n",
       "      <td>...</td>\n",
       "      <td>0.637024</td>\n",
       "      <td>-1.278402</td>\n",
       "      <td>0.765426</td>\n",
       "      <td>1.617971</td>\n",
       "      <td>1.163341</td>\n",
       "      <td>0.660380</td>\n",
       "      <td>-0.760294</td>\n",
       "      <td>-1.287240</td>\n",
       "      <td>2.969379</td>\n",
       "      <td>0.830352</td>\n",
       "    </tr>\n",
       "    <tr>\n",
       "      <th>16</th>\n",
       "      <td>0.992676</td>\n",
       "      <td>0.872550</td>\n",
       "      <td>125.813591</td>\n",
       "      <td>-1.084961</td>\n",
       "      <td>0.044345</td>\n",
       "      <td>0.000000</td>\n",
       "      <td>0.298083</td>\n",
       "      <td>98.081413</td>\n",
       "      <td>-1.124985</td>\n",
       "      <td>117.405426</td>\n",
       "      <td>...</td>\n",
       "      <td>0.648080</td>\n",
       "      <td>-1.645573</td>\n",
       "      <td>0.802745</td>\n",
       "      <td>1.176546</td>\n",
       "      <td>0.708495</td>\n",
       "      <td>0.666890</td>\n",
       "      <td>-0.924287</td>\n",
       "      <td>-1.590523</td>\n",
       "      <td>3.678780</td>\n",
       "      <td>1.570347</td>\n",
       "    </tr>\n",
       "    <tr>\n",
       "      <th>17</th>\n",
       "      <td>0.988770</td>\n",
       "      <td>0.856816</td>\n",
       "      <td>193.059814</td>\n",
       "      <td>-0.994507</td>\n",
       "      <td>0.000000</td>\n",
       "      <td>0.000000</td>\n",
       "      <td>0.153388</td>\n",
       "      <td>62.263309</td>\n",
       "      <td>0.494568</td>\n",
       "      <td>68.497749</td>\n",
       "      <td>...</td>\n",
       "      <td>0.174910</td>\n",
       "      <td>-1.707047</td>\n",
       "      <td>0.684293</td>\n",
       "      <td>1.672332</td>\n",
       "      <td>1.243909</td>\n",
       "      <td>0.929698</td>\n",
       "      <td>-1.021170</td>\n",
       "      <td>-1.421655</td>\n",
       "      <td>2.807559</td>\n",
       "      <td>0.382141</td>\n",
       "    </tr>\n",
       "    <tr>\n",
       "      <th>18</th>\n",
       "      <td>0.872559</td>\n",
       "      <td>0.455465</td>\n",
       "      <td>124.775719</td>\n",
       "      <td>0.852295</td>\n",
       "      <td>1.491983</td>\n",
       "      <td>0.000000</td>\n",
       "      <td>0.115254</td>\n",
       "      <td>98.927818</td>\n",
       "      <td>0.995117</td>\n",
       "      <td>99.115295</td>\n",
       "      <td>...</td>\n",
       "      <td>0.585249</td>\n",
       "      <td>-1.139733</td>\n",
       "      <td>0.108577</td>\n",
       "      <td>0.441256</td>\n",
       "      <td>-0.274009</td>\n",
       "      <td>0.314961</td>\n",
       "      <td>-0.773925</td>\n",
       "      <td>-1.390177</td>\n",
       "      <td>2.059545</td>\n",
       "      <td>0.598054</td>\n",
       "    </tr>\n",
       "    <tr>\n",
       "      <th>19</th>\n",
       "      <td>0.947754</td>\n",
       "      <td>0.822116</td>\n",
       "      <td>121.125862</td>\n",
       "      <td>0.412659</td>\n",
       "      <td>0.000096</td>\n",
       "      <td>0.000000</td>\n",
       "      <td>0.331107</td>\n",
       "      <td>29.654596</td>\n",
       "      <td>1.502319</td>\n",
       "      <td>4.831746</td>\n",
       "      <td>...</td>\n",
       "      <td>0.658450</td>\n",
       "      <td>-1.582288</td>\n",
       "      <td>0.953806</td>\n",
       "      <td>1.348778</td>\n",
       "      <td>0.981123</td>\n",
       "      <td>0.899398</td>\n",
       "      <td>-0.992954</td>\n",
       "      <td>-1.498918</td>\n",
       "      <td>3.533204</td>\n",
       "      <td>1.729582</td>\n",
       "    </tr>\n",
       "    <tr>\n",
       "      <th>20</th>\n",
       "      <td>0.996582</td>\n",
       "      <td>0.578310</td>\n",
       "      <td>102.823616</td>\n",
       "      <td>0.676147</td>\n",
       "      <td>1.139232</td>\n",
       "      <td>0.086666</td>\n",
       "      <td>0.082395</td>\n",
       "      <td>52.727928</td>\n",
       "      <td>1.225568</td>\n",
       "      <td>20.964508</td>\n",
       "      <td>...</td>\n",
       "      <td>0.748133</td>\n",
       "      <td>-0.994903</td>\n",
       "      <td>-0.063466</td>\n",
       "      <td>0.469602</td>\n",
       "      <td>-0.206147</td>\n",
       "      <td>1.002671</td>\n",
       "      <td>-0.653090</td>\n",
       "      <td>-1.431054</td>\n",
       "      <td>1.065526</td>\n",
       "      <td>0.589073</td>\n",
       "    </tr>\n",
       "    <tr>\n",
       "      <th>21</th>\n",
       "      <td>0.107666</td>\n",
       "      <td>0.760405</td>\n",
       "      <td>94.341888</td>\n",
       "      <td>-1.103271</td>\n",
       "      <td>0.000000</td>\n",
       "      <td>0.000000</td>\n",
       "      <td>0.425268</td>\n",
       "      <td>12.165517</td>\n",
       "      <td>0.220703</td>\n",
       "      <td>19.259735</td>\n",
       "      <td>...</td>\n",
       "      <td>0.814709</td>\n",
       "      <td>-1.641718</td>\n",
       "      <td>0.995709</td>\n",
       "      <td>1.755976</td>\n",
       "      <td>0.720396</td>\n",
       "      <td>1.155422</td>\n",
       "      <td>-0.960388</td>\n",
       "      <td>-1.390447</td>\n",
       "      <td>3.986407</td>\n",
       "      <td>1.656426</td>\n",
       "    </tr>\n",
       "    <tr>\n",
       "      <th>22</th>\n",
       "      <td>0.986816</td>\n",
       "      <td>0.919320</td>\n",
       "      <td>89.462837</td>\n",
       "      <td>0.305237</td>\n",
       "      <td>0.000000</td>\n",
       "      <td>0.000000</td>\n",
       "      <td>0.376332</td>\n",
       "      <td>38.494747</td>\n",
       "      <td>-0.350952</td>\n",
       "      <td>382.417847</td>\n",
       "      <td>...</td>\n",
       "      <td>0.590062</td>\n",
       "      <td>-1.901521</td>\n",
       "      <td>0.560172</td>\n",
       "      <td>1.244060</td>\n",
       "      <td>0.715962</td>\n",
       "      <td>0.523891</td>\n",
       "      <td>-0.621980</td>\n",
       "      <td>-1.352706</td>\n",
       "      <td>2.986993</td>\n",
       "      <td>0.952422</td>\n",
       "    </tr>\n",
       "    <tr>\n",
       "      <th>23</th>\n",
       "      <td>0.031555</td>\n",
       "      <td>0.385307</td>\n",
       "      <td>123.383286</td>\n",
       "      <td>0.997559</td>\n",
       "      <td>0.499359</td>\n",
       "      <td>0.145956</td>\n",
       "      <td>0.105363</td>\n",
       "      <td>28.118668</td>\n",
       "      <td>0.476624</td>\n",
       "      <td>26.700651</td>\n",
       "      <td>...</td>\n",
       "      <td>0.160414</td>\n",
       "      <td>-0.734078</td>\n",
       "      <td>0.565337</td>\n",
       "      <td>0.885819</td>\n",
       "      <td>0.483675</td>\n",
       "      <td>0.322875</td>\n",
       "      <td>-0.808247</td>\n",
       "      <td>-0.780644</td>\n",
       "      <td>1.024608</td>\n",
       "      <td>-0.138818</td>\n",
       "    </tr>\n",
       "    <tr>\n",
       "      <th>24</th>\n",
       "      <td>0.975586</td>\n",
       "      <td>0.751243</td>\n",
       "      <td>201.372009</td>\n",
       "      <td>0.857056</td>\n",
       "      <td>0.005877</td>\n",
       "      <td>0.000000</td>\n",
       "      <td>0.071909</td>\n",
       "      <td>22.496426</td>\n",
       "      <td>0.120605</td>\n",
       "      <td>71.233345</td>\n",
       "      <td>...</td>\n",
       "      <td>0.135569</td>\n",
       "      <td>-1.571750</td>\n",
       "      <td>0.530367</td>\n",
       "      <td>1.633629</td>\n",
       "      <td>0.721190</td>\n",
       "      <td>0.673582</td>\n",
       "      <td>-0.835551</td>\n",
       "      <td>-1.408800</td>\n",
       "      <td>2.586700</td>\n",
       "      <td>0.204432</td>\n",
       "    </tr>\n",
       "    <tr>\n",
       "      <th>25</th>\n",
       "      <td>0.726074</td>\n",
       "      <td>0.841709</td>\n",
       "      <td>170.501907</td>\n",
       "      <td>2.009766</td>\n",
       "      <td>0.153205</td>\n",
       "      <td>0.008832</td>\n",
       "      <td>0.030576</td>\n",
       "      <td>12.129786</td>\n",
       "      <td>0.109375</td>\n",
       "      <td>93.334114</td>\n",
       "      <td>...</td>\n",
       "      <td>0.261041</td>\n",
       "      <td>-0.150157</td>\n",
       "      <td>0.196230</td>\n",
       "      <td>0.671146</td>\n",
       "      <td>-0.708180</td>\n",
       "      <td>0.103939</td>\n",
       "      <td>-0.631208</td>\n",
       "      <td>-0.792146</td>\n",
       "      <td>1.076324</td>\n",
       "      <td>0.872243</td>\n",
       "    </tr>\n",
       "    <tr>\n",
       "      <th>26</th>\n",
       "      <td>0.962891</td>\n",
       "      <td>0.727120</td>\n",
       "      <td>60.607269</td>\n",
       "      <td>-0.436829</td>\n",
       "      <td>0.036666</td>\n",
       "      <td>0.008691</td>\n",
       "      <td>0.561500</td>\n",
       "      <td>88.861252</td>\n",
       "      <td>1.211670</td>\n",
       "      <td>54.250923</td>\n",
       "      <td>...</td>\n",
       "      <td>0.857136</td>\n",
       "      <td>-1.681322</td>\n",
       "      <td>0.562828</td>\n",
       "      <td>1.627019</td>\n",
       "      <td>0.963525</td>\n",
       "      <td>1.182680</td>\n",
       "      <td>-0.899678</td>\n",
       "      <td>-1.478972</td>\n",
       "      <td>2.880428</td>\n",
       "      <td>0.952206</td>\n",
       "    </tr>\n",
       "    <tr>\n",
       "      <th>27</th>\n",
       "      <td>0.996582</td>\n",
       "      <td>0.604239</td>\n",
       "      <td>182.274811</td>\n",
       "      <td>1.712158</td>\n",
       "      <td>0.000000</td>\n",
       "      <td>0.000000</td>\n",
       "      <td>0.116193</td>\n",
       "      <td>29.744337</td>\n",
       "      <td>-0.313080</td>\n",
       "      <td>36.575645</td>\n",
       "      <td>...</td>\n",
       "      <td>0.369471</td>\n",
       "      <td>-1.389341</td>\n",
       "      <td>0.567048</td>\n",
       "      <td>1.344810</td>\n",
       "      <td>0.306858</td>\n",
       "      <td>0.633031</td>\n",
       "      <td>-0.824989</td>\n",
       "      <td>-1.529408</td>\n",
       "      <td>2.494060</td>\n",
       "      <td>0.409075</td>\n",
       "    </tr>\n",
       "  </tbody>\n",
       "</table>\n",
       "<p>28 rows × 175 columns</p>\n",
       "</div>"
      ],
      "text/plain": [
       "     fj_lsf3  fj_VScore      lep_pt   lep_eta  lep_isolation  lep_misolation  \\\n",
       "0   0.993652   0.630106   83.764145  1.077637       0.008526        0.000000   \n",
       "1   0.675293   0.414466  117.114243 -1.347168       0.436979        0.052861   \n",
       "2   1.000000   0.964746  179.048523 -0.373108       0.000000        0.000000   \n",
       "3   0.164429   0.813113   65.674545  0.119812       0.000000        0.003317   \n",
       "4   0.870605   0.633113   55.161270  0.110703       0.000000        0.000000   \n",
       "5   0.989746   0.438086  217.037491  1.081543       0.000000        0.000000   \n",
       "6   0.880371   0.954653   76.609291  1.250488       0.034120        0.000000   \n",
       "7   0.811035   0.663050   98.254646 -0.481506       0.050645        0.000000   \n",
       "8   0.913574   0.879836   66.542885  0.294495       0.112183        0.020328   \n",
       "9   0.961426   0.858606  151.251846 -0.572998       0.005060        0.000000   \n",
       "10  0.938965   0.892195  121.787956 -1.251709       0.034773        0.000000   \n",
       "11  0.149170   0.848294   64.269463  1.113770       0.035170        0.012466   \n",
       "12  0.516602   0.978840  102.269096 -0.737427       0.670976        0.153212   \n",
       "13  0.840820   0.802273   82.783073 -0.866211       0.110779        0.000000   \n",
       "14  0.916016   0.817251  143.460678  1.119873       0.000000        0.000000   \n",
       "15  0.857910   0.948396   73.849167  0.526489       0.096886        0.010697   \n",
       "16  0.992676   0.872550  125.813591 -1.084961       0.044345        0.000000   \n",
       "17  0.988770   0.856816  193.059814 -0.994507       0.000000        0.000000   \n",
       "18  0.872559   0.455465  124.775719  0.852295       1.491983        0.000000   \n",
       "19  0.947754   0.822116  121.125862  0.412659       0.000096        0.000000   \n",
       "20  0.996582   0.578310  102.823616  0.676147       1.139232        0.086666   \n",
       "21  0.107666   0.760405   94.341888 -1.103271       0.000000        0.000000   \n",
       "22  0.986816   0.919320   89.462837  0.305237       0.000000        0.000000   \n",
       "23  0.031555   0.385307  123.383286  0.997559       0.499359        0.145956   \n",
       "24  0.975586   0.751243  201.372009  0.857056       0.005877        0.000000   \n",
       "25  0.726074   0.841709  170.501907  2.009766       0.153205        0.008832   \n",
       "26  0.962891   0.727120   60.607269 -0.436829       0.036666        0.008691   \n",
       "27  0.996582   0.604239  182.274811  1.712158       0.000000        0.000000   \n",
       "\n",
       "    lep_fj_dr  lep_met_mt  met_fj_dphi      met_pt  ...  fj_ParT_hidNeuron118  \\\n",
       "0    0.377628   17.316517    -0.635498   34.151115  ...              0.845223   \n",
       "1    0.072069   43.196140     0.701416   40.684486  ...              0.341183   \n",
       "2    0.326120   31.862156    -0.112305  100.746277  ...              0.775504   \n",
       "3    0.429882   58.468346    -1.183838   29.359289  ...              0.835530   \n",
       "4    0.342520   91.031937     1.476318   60.405487  ...              0.627352   \n",
       "5    0.034678   48.191799     0.189777  300.615662  ...             -0.091018   \n",
       "6    0.425122   42.394531     1.268311   34.904865  ...              0.700808   \n",
       "7    0.384068   16.953302    -0.675781   34.212528  ...              0.319855   \n",
       "8    0.298729   83.490646     1.456787   86.373329  ...              0.789872   \n",
       "9    0.235181   62.440475    -0.754865   73.654648  ...              0.725560   \n",
       "10   0.476849  109.566765     1.398682   60.662510  ...              0.875370   \n",
       "11   0.478941   56.721558    -0.354492  114.922073  ...              1.029277   \n",
       "12   0.144133   34.635151     0.594220   35.105171  ...              1.634915   \n",
       "13   0.263717   39.088676     0.483887   78.816162  ...              0.942332   \n",
       "14   0.342017   20.843046    -0.546753   72.084770  ...              0.895637   \n",
       "15   0.464574   46.906376     0.351288  158.422211  ...              0.637024   \n",
       "16   0.298083   98.081413    -1.124985  117.405426  ...              0.648080   \n",
       "17   0.153388   62.263309     0.494568   68.497749  ...              0.174910   \n",
       "18   0.115254   98.927818     0.995117   99.115295  ...              0.585249   \n",
       "19   0.331107   29.654596     1.502319    4.831746  ...              0.658450   \n",
       "20   0.082395   52.727928     1.225568   20.964508  ...              0.748133   \n",
       "21   0.425268   12.165517     0.220703   19.259735  ...              0.814709   \n",
       "22   0.376332   38.494747    -0.350952  382.417847  ...              0.590062   \n",
       "23   0.105363   28.118668     0.476624   26.700651  ...              0.160414   \n",
       "24   0.071909   22.496426     0.120605   71.233345  ...              0.135569   \n",
       "25   0.030576   12.129786     0.109375   93.334114  ...              0.261041   \n",
       "26   0.561500   88.861252     1.211670   54.250923  ...              0.857136   \n",
       "27   0.116193   29.744337    -0.313080   36.575645  ...              0.369471   \n",
       "\n",
       "    fj_ParT_hidNeuron119  fj_ParT_hidNeuron120  fj_ParT_hidNeuron121  \\\n",
       "0              -1.392975              0.710687              1.003482   \n",
       "1              -0.985560              0.161216              1.019588   \n",
       "2              -2.289030              1.166962              1.967099   \n",
       "3              -1.197996              0.355646              0.274095   \n",
       "4              -1.584808              0.407731              0.866240   \n",
       "5              -1.563859              0.374205              1.431898   \n",
       "6              -1.770671              0.509750              1.320191   \n",
       "7              -1.427670              0.390798              1.300860   \n",
       "8              -1.403235              0.424836              0.983590   \n",
       "9              -1.721977              0.903383              1.342024   \n",
       "10             -1.938388              1.032831              1.998537   \n",
       "11             -1.648740              0.751016              1.760455   \n",
       "12             -0.103909              0.223475             -0.258663   \n",
       "13             -1.444995              0.526148              0.259508   \n",
       "14             -1.469971              1.119634              1.444722   \n",
       "15             -1.278402              0.765426              1.617971   \n",
       "16             -1.645573              0.802745              1.176546   \n",
       "17             -1.707047              0.684293              1.672332   \n",
       "18             -1.139733              0.108577              0.441256   \n",
       "19             -1.582288              0.953806              1.348778   \n",
       "20             -0.994903             -0.063466              0.469602   \n",
       "21             -1.641718              0.995709              1.755976   \n",
       "22             -1.901521              0.560172              1.244060   \n",
       "23             -0.734078              0.565337              0.885819   \n",
       "24             -1.571750              0.530367              1.633629   \n",
       "25             -0.150157              0.196230              0.671146   \n",
       "26             -1.681322              0.562828              1.627019   \n",
       "27             -1.389341              0.567048              1.344810   \n",
       "\n",
       "    fj_ParT_hidNeuron122  fj_ParT_hidNeuron123  fj_ParT_hidNeuron124  \\\n",
       "0               0.917170              0.592222             -0.941742   \n",
       "1              -0.789062              0.722945             -0.535170   \n",
       "2               1.462241              1.411108             -0.955923   \n",
       "3               0.300129              0.454608             -0.797054   \n",
       "4               0.406815              0.493428             -0.542845   \n",
       "5               0.081634              0.342267             -0.842515   \n",
       "6               1.052873              0.643520             -0.704635   \n",
       "7               1.424267              0.704611             -0.821972   \n",
       "8               0.594331              0.449311             -0.745502   \n",
       "9               1.106798              0.816482             -0.963727   \n",
       "10              1.181081              1.312064             -1.091990   \n",
       "11              1.214735              1.214206             -0.795163   \n",
       "12              0.278506              0.121575             -1.182606   \n",
       "13             -0.072958              0.401235             -1.033217   \n",
       "14              1.328859              0.822687             -1.130070   \n",
       "15              1.163341              0.660380             -0.760294   \n",
       "16              0.708495              0.666890             -0.924287   \n",
       "17              1.243909              0.929698             -1.021170   \n",
       "18             -0.274009              0.314961             -0.773925   \n",
       "19              0.981123              0.899398             -0.992954   \n",
       "20             -0.206147              1.002671             -0.653090   \n",
       "21              0.720396              1.155422             -0.960388   \n",
       "22              0.715962              0.523891             -0.621980   \n",
       "23              0.483675              0.322875             -0.808247   \n",
       "24              0.721190              0.673582             -0.835551   \n",
       "25             -0.708180              0.103939             -0.631208   \n",
       "26              0.963525              1.182680             -0.899678   \n",
       "27              0.306858              0.633031             -0.824989   \n",
       "\n",
       "    fj_ParT_hidNeuron125  fj_ParT_hidNeuron126  fj_ParT_hidNeuron127  \n",
       "0              -1.473500              3.361760              1.356987  \n",
       "1              -1.322929              1.607769              0.078881  \n",
       "2              -1.440115              3.748132              1.613144  \n",
       "3              -1.675704              2.578699              1.046211  \n",
       "4              -1.481172              3.032233              0.773722  \n",
       "5              -1.233172              1.898218             -0.004531  \n",
       "6              -1.466602              3.153288              0.827427  \n",
       "7              -1.240062              2.800028              0.319374  \n",
       "8              -1.246122              2.546412              0.414404  \n",
       "9              -1.606831              3.456035              1.828695  \n",
       "10             -1.441994              3.724072              1.431610  \n",
       "11             -1.320920              3.988693              1.380848  \n",
       "12             -0.984955              1.521382              0.673986  \n",
       "13             -1.690311              2.912774              1.221583  \n",
       "14             -1.351186              3.763217              1.880388  \n",
       "15             -1.287240              2.969379              0.830352  \n",
       "16             -1.590523              3.678780              1.570347  \n",
       "17             -1.421655              2.807559              0.382141  \n",
       "18             -1.390177              2.059545              0.598054  \n",
       "19             -1.498918              3.533204              1.729582  \n",
       "20             -1.431054              1.065526              0.589073  \n",
       "21             -1.390447              3.986407              1.656426  \n",
       "22             -1.352706              2.986993              0.952422  \n",
       "23             -0.780644              1.024608             -0.138818  \n",
       "24             -1.408800              2.586700              0.204432  \n",
       "25             -0.792146              1.076324              0.872243  \n",
       "26             -1.478972              2.880428              0.952206  \n",
       "27             -1.529408              2.494060              0.409075  \n",
       "\n",
       "[28 rows x 175 columns]"
      ]
     },
     "execution_count": 271,
     "metadata": {},
     "output_type": "execute_result"
    }
   ],
   "source": [
    "import glob\n",
    "df = pd.read_parquet(glob.glob(\"/Users/fmokhtar/Downloads/outfiles/0-1_mu.parquet\"))\n",
    "df"
   ]
  },
  {
   "cell_type": "code",
   "execution_count": 185,
   "id": "348c7a49",
   "metadata": {},
   "outputs": [
    {
     "data": {
      "text/plain": [
       "0      0.073249\n",
       "1      0.462426\n",
       "2      0.898658\n",
       "3      0.125315\n",
       "4      0.015313\n",
       "         ...   \n",
       "632    0.082327\n",
       "633    0.190296\n",
       "634    0.131666\n",
       "635    0.015132\n",
       "636    0.348307\n",
       "Name: VH_fj_VScore, Length: 637, dtype: float32"
      ]
     },
     "execution_count": 185,
     "metadata": {},
     "output_type": "execute_result"
    }
   ],
   "source": [
    "df[\"VH_fj_VScore\"]"
   ]
  },
  {
   "cell_type": "code",
   "execution_count": null,
   "id": "6d7c9d0b",
   "metadata": {},
   "outputs": [],
   "source": []
  },
  {
   "cell_type": "code",
   "execution_count": null,
   "id": "5b7492d0",
   "metadata": {},
   "outputs": [],
   "source": []
  },
  {
   "cell_type": "code",
   "execution_count": null,
   "id": "8477d6de",
   "metadata": {},
   "outputs": [],
   "source": []
  },
  {
   "cell_type": "code",
   "execution_count": null,
   "id": "562cec7f",
   "metadata": {},
   "outputs": [],
   "source": []
  },
  {
   "cell_type": "code",
   "execution_count": 116,
   "id": "9701d0a3",
   "metadata": {},
   "outputs": [
    {
     "data": {
      "text/html": [
       "<div>\n",
       "<style scoped>\n",
       "    .dataframe tbody tr th:only-of-type {\n",
       "        vertical-align: middle;\n",
       "    }\n",
       "\n",
       "    .dataframe tbody tr th {\n",
       "        vertical-align: top;\n",
       "    }\n",
       "\n",
       "    .dataframe thead th {\n",
       "        text-align: right;\n",
       "    }\n",
       "</style>\n",
       "<table border=\"1\" class=\"dataframe\">\n",
       "  <thead>\n",
       "    <tr style=\"text-align: right;\">\n",
       "      <th></th>\n",
       "      <th>N_tight_lep</th>\n",
       "      <th>N_loose_lep</th>\n",
       "      <th>tight_lep1_pt</th>\n",
       "      <th>tight_lep1_eta</th>\n",
       "      <th>tight_lep2_pt</th>\n",
       "      <th>tight_lep2_eta</th>\n",
       "      <th>mll_tight</th>\n",
       "      <th>loose_lep1_pt</th>\n",
       "      <th>loose_lep1_eta</th>\n",
       "      <th>loose_lep2_pt</th>\n",
       "      <th>...</th>\n",
       "      <th>met_pt</th>\n",
       "      <th>NumFatjets</th>\n",
       "      <th>lep_fj_dr</th>\n",
       "      <th>fj_pt</th>\n",
       "      <th>fj_eta</th>\n",
       "      <th>fj_phi</th>\n",
       "      <th>mT_tight1</th>\n",
       "      <th>mT_loose1</th>\n",
       "      <th>weight_ele</th>\n",
       "      <th>weight_mu</th>\n",
       "    </tr>\n",
       "  </thead>\n",
       "  <tbody>\n",
       "    <tr>\n",
       "      <th>0</th>\n",
       "      <td>0</td>\n",
       "      <td>1</td>\n",
       "      <td>NaN</td>\n",
       "      <td>NaN</td>\n",
       "      <td>NaN</td>\n",
       "      <td>NaN</td>\n",
       "      <td>NaN</td>\n",
       "      <td>251.711304</td>\n",
       "      <td>0.660889</td>\n",
       "      <td>NaN</td>\n",
       "      <td>...</td>\n",
       "      <td>20.908602</td>\n",
       "      <td>2</td>\n",
       "      <td>0.076177</td>\n",
       "      <td>350.25</td>\n",
       "      <td>0.724121</td>\n",
       "      <td>1.473389</td>\n",
       "      <td>NaN</td>\n",
       "      <td>78.885338</td>\n",
       "      <td>1.043507</td>\n",
       "      <td>1.043507</td>\n",
       "    </tr>\n",
       "  </tbody>\n",
       "</table>\n",
       "<p>1 rows × 22 columns</p>\n",
       "</div>"
      ],
      "text/plain": [
       "   N_tight_lep  N_loose_lep  tight_lep1_pt  tight_lep1_eta  tight_lep2_pt  \\\n",
       "0            0            1            NaN             NaN            NaN   \n",
       "\n",
       "   tight_lep2_eta  mll_tight  loose_lep1_pt  loose_lep1_eta  loose_lep2_pt  \\\n",
       "0             NaN        NaN     251.711304        0.660889            NaN   \n",
       "\n",
       "   ...     met_pt  NumFatjets  lep_fj_dr   fj_pt    fj_eta    fj_phi  \\\n",
       "0  ...  20.908602           2   0.076177  350.25  0.724121  1.473389   \n",
       "\n",
       "   mT_tight1  mT_loose1  weight_ele  weight_mu  \n",
       "0        NaN  78.885338    1.043507   1.043507  \n",
       "\n",
       "[1 rows x 22 columns]"
      ]
     },
     "execution_count": 116,
     "metadata": {},
     "output_type": "execute_result"
    }
   ],
   "source": [
    "# df_cutbased = pd.read_parquet(\"/Users/fmokhtar/Downloads/outfiles/0-20_ele.parquet\")\n",
    "df_cutbased"
   ]
  },
  {
   "cell_type": "code",
   "execution_count": null,
   "id": "9f8fe08a",
   "metadata": {},
   "outputs": [],
   "source": []
  },
  {
   "cell_type": "code",
   "execution_count": null,
   "id": "8742b002",
   "metadata": {},
   "outputs": [],
   "source": []
  },
  {
   "cell_type": "code",
   "execution_count": 7,
   "id": "4a830193",
   "metadata": {},
   "outputs": [
    {
     "name": "stdout",
     "output_type": "stream",
     "text": [
      "number of events per file is 15000\n"
     ]
    }
   ],
   "source": [
    "# load a hww root file into coffea-friendly NanoAOD structure\n",
    "import uproot\n",
    "f = uproot.open(f\"../rootfiles/HWW/file1.root\")\n",
    "num = f['Events'].num_entries   ### checks number of events per file \n",
    "print(f'number of events per file is {num}')\n",
    "\n",
    "events = nanoevents.NanoEventsFactory.from_root(f, \"Events\").events()"
   ]
  },
  {
   "cell_type": "markdown",
   "id": "a5c659e6",
   "metadata": {},
   "source": [
    "# Get `candidatelep` and `candidatefj`"
   ]
  },
  {
   "cell_type": "code",
   "execution_count": 8,
   "id": "35c6ca04",
   "metadata": {},
   "outputs": [
    {
     "data": {
      "text/plain": [
       "<Array [None, None, None, ... None, None, Muon] type='15000 * ?union[muon, elect...'>"
      ]
     },
     "execution_count": 8,
     "metadata": {},
     "output_type": "execute_result"
    }
   ],
   "source": [
    "### get candidate lepton\n",
    "nevents = len(events)\n",
    "\n",
    "# define muon objects\n",
    "loose_muons = (\n",
    "    (((events.Muon.pt > 30) & (events.Muon.pfRelIso04_all < 0.25)) |\n",
    "     (events.Muon.pt > 55))\n",
    "    & (np.abs(events.Muon.eta) < 2.4)\n",
    "    & (events.Muon.looseId)\n",
    ")\n",
    "n_loose_muons = ak.sum(loose_muons, axis=1)\n",
    "\n",
    "good_muons = (\n",
    "    (events.Muon.pt > 28)\n",
    "    & (np.abs(events.Muon.eta) < 2.4)\n",
    "    & (np.abs(events.Muon.dz) < 0.1)\n",
    "    & (np.abs(events.Muon.dxy) < 0.05)\n",
    "    & (events.Muon.sip3d <= 4.0)\n",
    "    & events.Muon.mediumId\n",
    ")\n",
    "n_good_muons = ak.sum(good_muons, axis=1)\n",
    "\n",
    "# define electron objects\n",
    "loose_electrons = (\n",
    "    (((events.Electron.pt > 38) & (events.Electron.pfRelIso03_all < 0.25)) |\n",
    "     (events.Electron.pt > 120))\n",
    "    & ((np.abs(events.Electron.eta) < 1.44) | (np.abs(events.Electron.eta) > 1.57))\n",
    "    & (events.Electron.cutBased >= events.Electron.LOOSE)\n",
    ")\n",
    "n_loose_electrons = ak.sum(loose_electrons, axis=1)\n",
    "\n",
    "good_electrons = (\n",
    "    (events.Electron.pt > 38)\n",
    "    & ((np.abs(events.Electron.eta) < 1.44) | (np.abs(events.Electron.eta) > 1.57))\n",
    "    & (np.abs(events.Electron.dz) < 0.1)\n",
    "    & (np.abs(events.Electron.dxy) < 0.05)\n",
    "    & (events.Electron.sip3d <= 4.0)\n",
    "    & (events.Electron.mvaFall17V2noIso_WP90)\n",
    ")\n",
    "n_good_electrons = ak.sum(good_electrons, axis=1)\n",
    "\n",
    "# leading lepton\n",
    "goodleptons = ak.concatenate([events.Muon[good_muons], events.Electron[good_electrons]], axis=1)\n",
    "goodleptons = goodleptons[ak.argsort(goodleptons.pt, ascending=False)]\n",
    "candidatelep = ak.firsts(goodleptons)\n",
    "\n",
    "candidatelep_p4 = build_p4(candidatelep)\n",
    "\n",
    "candidatelep"
   ]
  },
  {
   "cell_type": "code",
   "execution_count": 186,
   "id": "1839e67c",
   "metadata": {},
   "outputs": [],
   "source": [
    "        # fatjets\n",
    "        fatjets = events.FatJet\n",
    "\n",
    "        good_fatjets = (fatjets.pt > 200) & (abs(fatjets.eta) < 2.5) & fatjets.isTight\n",
    "        good_fatjets = fatjets[good_fatjets]  # select good fatjets\n",
    "        good_fatjets = good_fatjets[ak.argsort(good_fatjets.pt, ascending=False)]  # sort them by pt\n",
    "\n",
    "        NumFatjets = ak.num(good_fatjets)\n",
    "        # FirstFatjet = ak.firsts(good_fatjets)\n",
    "        # SecondFatjet = good_fatjets[:, 1:2]\n",
    "\n",
    "\n",
    "        # choose candidate fatjet\n",
    "        fj_idx_lep = ak.argmin(good_fatjets.delta_r(candidatelep_p4), axis=1, keepdims=True)\n",
    "        candidatefj = ak.firsts(good_fatjets[fj_idx_lep])"
   ]
  },
  {
   "cell_type": "code",
   "execution_count": 10,
   "id": "f16e779f",
   "metadata": {},
   "outputs": [],
   "source": [
    "        FirstFatjet = ak.firsts(good_fatjets[:, 0:1])\n",
    "        SecondFatjet = good_fatjets[:, 1:2]"
   ]
  },
  {
   "cell_type": "code",
   "execution_count": 11,
   "id": "a27776aa",
   "metadata": {},
   "outputs": [
    {
     "data": {
      "text/plain": [
       "<FatJetArray [FatJet, FatJet, ... FatJet, FatJet] type='15000 * ?fatJet'>"
      ]
     },
     "execution_count": 11,
     "metadata": {},
     "output_type": "execute_result"
    }
   ],
   "source": [
    "FirstFatjet"
   ]
  },
  {
   "cell_type": "code",
   "execution_count": 12,
   "id": "87d0c8a7",
   "metadata": {},
   "outputs": [
    {
     "data": {
      "text/plain": [
       "<FatJetArray [None, None, None, ... FatJet, None] type='15000 * ?fatJet'>"
      ]
     },
     "execution_count": 12,
     "metadata": {},
     "output_type": "execute_result"
    }
   ],
   "source": [
    "ak.firsts(SecondFatjet)"
   ]
  },
  {
   "cell_type": "code",
   "execution_count": 13,
   "id": "420d77a1",
   "metadata": {},
   "outputs": [],
   "source": [
    "        # ak4 jets\n",
    "        ak4_jet_selector_no_btag = (\n",
    "            (events.Jet.pt > 30) & (abs(events.Jet.eta) < 5.0) & events.Jet.isTight & (events.Jet.puId > 0)\n",
    "        )\n",
    "        goodjets = events.Jet[ak4_jet_selector_no_btag]\n",
    "\n",
    "        ht = ak.sum(goodjets.pt, axis=1)\n",
    "        # dphi_jet_lepfj = abs(goodjets.delta_phi(candidatefj))\n",
    "        dr_jet_lepfj = goodjets.delta_r(candidatefj)\n",
    "        ak4_outside_ak8 = goodjets[dr_jet_lepfj > 0.8]\n",
    "        NumOtherJets = ak.num(ak4_outside_ak8)\n",
    "\n"
   ]
  },
  {
   "cell_type": "code",
   "execution_count": 14,
   "id": "3e08d47e",
   "metadata": {},
   "outputs": [
    {
     "data": {
      "text/plain": [
       "<JetArray [None, None, None, None, ... Jet, Jet]] type='15000 * option[var * jet]'>"
      ]
     },
     "execution_count": 14,
     "metadata": {},
     "output_type": "execute_result"
    }
   ],
   "source": [
    "ak4_outside_ak8"
   ]
  },
  {
   "cell_type": "code",
   "execution_count": 19,
   "id": "e94dbc12",
   "metadata": {},
   "outputs": [
    {
     "data": {
      "text/plain": [
       "<Array [None, None, None, ... None, None, 5] type='15000 * ?int64'>"
      ]
     },
     "execution_count": 19,
     "metadata": {},
     "output_type": "execute_result"
    }
   ],
   "source": [
    "NumOtherJets"
   ]
  },
  {
   "cell_type": "code",
   "execution_count": 198,
   "id": "68d1e11a",
   "metadata": {},
   "outputs": [
    {
     "data": {
      "text/plain": [
       "<Array [240, 210, 231, 257, ... 344, 304, 248] type='7430 * ?float32[parameters=...'>"
      ]
     },
     "execution_count": 198,
     "metadata": {},
     "output_type": "execute_result"
    }
   ],
   "source": [
    "fj1 = ak.firsts(good_fatjets)\n",
    "fj1[~ak.is_none(fj1)].pt"
   ]
  },
  {
   "cell_type": "code",
   "execution_count": 196,
   "id": "cc600f59",
   "metadata": {},
   "outputs": [
    {
     "data": {
      "text/plain": [
       "<Array [210, 231, 257, 308, ... 534, 344, 248] type='4836 * ?float32[parameters=...'>"
      ]
     },
     "execution_count": 196,
     "metadata": {},
     "output_type": "execute_result"
    }
   ],
   "source": [
    "fj1 = ak.firsts(good_fatjets[fj_idx_lep])\n",
    "fj1[~ak.is_none(fj1)].pt"
   ]
  },
  {
   "cell_type": "code",
   "execution_count": null,
   "id": "b180878b",
   "metadata": {},
   "outputs": [],
   "source": []
  },
  {
   "cell_type": "code",
   "execution_count": null,
   "id": "d6fd8de6",
   "metadata": {},
   "outputs": [],
   "source": []
  },
  {
   "cell_type": "code",
   "execution_count": 236,
   "id": "2381df1c",
   "metadata": {},
   "outputs": [],
   "source": [
    "\n",
    "def VScore(goodFatJetsSelected):\n",
    "    num = (\n",
    "        goodFatJetsSelected.particleNetMD_Xbb + goodFatJetsSelected.particleNetMD_Xcc + goodFatJetsSelected.particleNetMD_Xqq\n",
    "    )\n",
    "    den = (\n",
    "        goodFatJetsSelected.particleNetMD_Xbb\n",
    "        + goodFatJetsSelected.particleNetMD_Xcc\n",
    "        + goodFatJetsSelected.particleNetMD_Xqq\n",
    "        + goodFatJetsSelected.particleNetMD_QCD\n",
    "    )\n",
    "    score = num / den\n",
    "    return score\n"
   ]
  },
  {
   "cell_type": "code",
   "execution_count": 251,
   "id": "bed0e97d",
   "metadata": {},
   "outputs": [],
   "source": [
    "        # OBJECT: candidate fatjet\n",
    "        fj_idx_lep = ak.argmin(good_fatjets.delta_r(candidatelep_p4), axis=1, keepdims=True)\n",
    "        candidatefj = ak.firsts(good_fatjets[fj_idx_lep])\n",
    "\n",
    "        minDeltaR = ak.argmin(candidatelep_p4.delta_r(good_fatjets), axis=1)\n",
    "        \n",
    "#         minDeltaR = fj_idx_lep\n",
    "        fatJetIndices = ak.local_index(good_fatjets, axis=1)\n",
    "        mask1 = fatJetIndices != minDeltaR\n",
    "\n",
    "        # VH jet\n",
    "        allScores = VScore(good_fatjets)\n",
    "        masked = allScores[mask1]\n",
    "        VH_fj = ak.firsts(good_fatjets[allScores == ak.max(masked, axis=1)])\n"
   ]
  },
  {
   "cell_type": "code",
   "execution_count": 252,
   "id": "6c6aef97",
   "metadata": {},
   "outputs": [
    {
     "data": {
      "text/plain": [
       "<Array [0.0804, 0.787, 0.614, ... 0.904, 0.363] type='1774 * ?float32'>"
      ]
     },
     "execution_count": 252,
     "metadata": {},
     "output_type": "execute_result"
    }
   ],
   "source": [
    "VScore(VH_fj[~ak.is_none(VH_fj)])"
   ]
  },
  {
   "cell_type": "code",
   "execution_count": 253,
   "id": "e7ccd85b",
   "metadata": {},
   "outputs": [
    {
     "data": {
      "text/plain": [
       "<Array [0.239, 0.97, 0.533, ... 0.895, 0.143] type='4836 * ?float32'>"
      ]
     },
     "execution_count": 253,
     "metadata": {},
     "output_type": "execute_result"
    }
   ],
   "source": [
    "VScore(candidatefj[~ak.is_none(candidatefj)])"
   ]
  },
  {
   "cell_type": "code",
   "execution_count": null,
   "id": "f4d855a5",
   "metadata": {},
   "outputs": [],
   "source": []
  },
  {
   "cell_type": "code",
   "execution_count": 232,
   "id": "b64f7e96",
   "metadata": {},
   "outputs": [],
   "source": [
    "a = ak.argsort(good_fatjets.delta_r(candidatelep_p4))\n",
    "b = a[~ak.is_none(a)]\n",
    "msk = ak.num(b)==2"
   ]
  },
  {
   "cell_type": "code",
   "execution_count": 230,
   "id": "3d7619ee",
   "metadata": {},
   "outputs": [
    {
     "data": {
      "text/plain": [
       "<Array [1.85, 3.38] type='2 * float32'>"
      ]
     },
     "execution_count": 230,
     "metadata": {},
     "output_type": "execute_result"
    }
   ],
   "source": [
    "b[msk][0]"
   ]
  },
  {
   "cell_type": "code",
   "execution_count": 231,
   "id": "29bd7977",
   "metadata": {},
   "outputs": [
    {
     "data": {
      "text/plain": [
       "<Array [3.11, 0.276] type='2 * float32'>"
      ]
     },
     "execution_count": 231,
     "metadata": {},
     "output_type": "execute_result"
    }
   ],
   "source": [
    "b[msk][1]"
   ]
  },
  {
   "cell_type": "code",
   "execution_count": 233,
   "id": "81c55543",
   "metadata": {},
   "outputs": [
    {
     "data": {
      "text/plain": [
       "<Array [[0, 1], [1, 0], ... [1, 0], [0, 1]] type='1565 * option[var * int64]'>"
      ]
     },
     "execution_count": 233,
     "metadata": {},
     "output_type": "execute_result"
    }
   ],
   "source": [
    "b[msk]"
   ]
  },
  {
   "cell_type": "code",
   "execution_count": 234,
   "id": "bb63a7aa",
   "metadata": {},
   "outputs": [
    {
     "data": {
      "text/plain": [
       "<Array [None, None, [None], ... [None], None] type='46000 * option[var * ?int64]'>"
      ]
     },
     "execution_count": 234,
     "metadata": {},
     "output_type": "execute_result"
    }
   ],
   "source": [
    "fj_idx_lep"
   ]
  },
  {
   "cell_type": "code",
   "execution_count": null,
   "id": "d0478851",
   "metadata": {},
   "outputs": [],
   "source": [
    "fj_idx_lep"
   ]
  },
  {
   "cell_type": "code",
   "execution_count": null,
   "id": "aac872fc",
   "metadata": {},
   "outputs": [],
   "source": []
  },
  {
   "cell_type": "code",
   "execution_count": 28,
   "id": "967dc8eb",
   "metadata": {},
   "outputs": [
    {
     "data": {
      "text/plain": [
       "<JetArray [None, None, None, ... None, None, Jet] type='15000 * ?jet'>"
      ]
     },
     "execution_count": 28,
     "metadata": {},
     "output_type": "execute_result"
    }
   ],
   "source": [
    "ak.firsts(ak4_outside_ak8)"
   ]
  },
  {
   "cell_type": "code",
   "execution_count": 26,
   "id": "3f63136c",
   "metadata": {},
   "outputs": [
    {
     "data": {
      "text/plain": [
       "<Array [None, None, None, ... None, None, 4] type='15000 * ?int64'>"
      ]
     },
     "execution_count": 26,
     "metadata": {},
     "output_type": "execute_result"
    }
   ],
   "source": [
    "NumOtherJets"
   ]
  },
  {
   "cell_type": "code",
   "execution_count": 29,
   "id": "08c44a15",
   "metadata": {},
   "outputs": [
    {
     "data": {
      "text/plain": [
       "<FatJetArray [[FatJet], [FatJet, ... [FatJet]] type='15000 * var * fatJet'>"
      ]
     },
     "execution_count": 29,
     "metadata": {},
     "output_type": "execute_result"
    }
   ],
   "source": [
    "good_fatjets"
   ]
  },
  {
   "cell_type": "code",
   "execution_count": 47,
   "id": "7ff95ef9",
   "metadata": {},
   "outputs": [
    {
     "data": {
      "text/plain": [
       "<Array [0, 0, 0, 0, 0, 1, ... 0, 0, 0, 0, 0, 1] type='15000 * int64'>"
      ]
     },
     "execution_count": 47,
     "metadata": {},
     "output_type": "execute_result"
    }
   ],
   "source": [
    "ak.num(ak.singletons(ak4_outside_ak8).btagDeepFlavB > 0.8)"
   ]
  },
  {
   "cell_type": "code",
   "execution_count": 43,
   "id": "c2d5c730",
   "metadata": {},
   "outputs": [],
   "source": [
    "jet1 = ak.singletons(ak4_outside_ak8)[:, 1:2]"
   ]
  },
  {
   "cell_type": "code",
   "execution_count": 44,
   "id": "29e0c4e3",
   "metadata": {},
   "outputs": [
    {
     "data": {
      "text/plain": [
       "<JetArray [[], [], [], [], ... [], [], [], []] type='15000 * var * var * jet'>"
      ]
     },
     "execution_count": 44,
     "metadata": {},
     "output_type": "execute_result"
    }
   ],
   "source": [
    "jet1"
   ]
  },
  {
   "cell_type": "code",
   "execution_count": null,
   "id": "5059618d",
   "metadata": {},
   "outputs": [],
   "source": []
  },
  {
   "cell_type": "code",
   "execution_count": null,
   "id": "5670010d",
   "metadata": {},
   "outputs": [],
   "source": []
  },
  {
   "cell_type": "code",
   "execution_count": null,
   "id": "61b4da42",
   "metadata": {},
   "outputs": [],
   "source": []
  },
  {
   "cell_type": "code",
   "execution_count": null,
   "id": "63ff325a",
   "metadata": {},
   "outputs": [],
   "source": []
  },
  {
   "cell_type": "markdown",
   "id": "ab10e3be",
   "metadata": {},
   "source": [
    "# Experimentation"
   ]
  },
  {
   "cell_type": "code",
   "execution_count": 270,
   "id": "79e64bf5",
   "metadata": {},
   "outputs": [
    {
     "name": "stdout",
     "output_type": "stream",
     "text": [
      "Number of events: 98400\n",
      "Number of events with pt(Higgs)>50: 25238\n",
      "Number of events with pt(Higgs)>100: 7716\n",
      "Number of events with pt(Higgs)>150: 3075\n",
      "Number of events with pt(Higgs)>200: 1379\n",
      "Number of events with pt(Higgs)>250: 684\n",
      "Number of events with pt(Higgs)>300: 344\n"
     ]
    }
   ],
   "source": [
    "HIGGS_PDGID = 25\n",
    "GEN_FLAGS = [\"fromHardProcess\", \"isLastCopy\"]\n",
    "higgs = events.GenPart[get_pid_mask(events.GenPart, HIGGS_PDGID, byall=False) * events.GenPart.hasFlags(GEN_FLAGS)]\n",
    "\n",
    "# make sure that each events has one and only one higgs\n",
    "assert ak.sum(ak.num(higgs)!=1)==0\n",
    "\n",
    "print(f\"Number of events: {nevents}\")\n",
    "for pt in [50, 100, 150, 200, 250, 300]:\n",
    "    print(f\"Number of events with pt(Higgs)>{pt}: {ak.sum(ak.flatten(higgs).pt>pt)}\")"
   ]
  },
  {
   "cell_type": "code",
   "execution_count": 311,
   "id": "cc3fb2aa",
   "metadata": {},
   "outputs": [
    {
     "data": {
      "text/plain": [
       "(exptext: Custom Text(0.0, 1, 'CMS'),\n",
       " expsuffix: Custom Text(0.0, 1.005, 'Work in Progress'))"
      ]
     },
     "execution_count": 311,
     "metadata": {},
     "output_type": "execute_result"
    },
    {
     "data": {
      "image/png": "[encoded data removed]",
      "text/plain": [
       "<Figure size 648x504 with 1 Axes>"
      ]
     },
     "metadata": {
      "needs_background": "light"
     },
     "output_type": "display_data"
    }
   ],
   "source": [
    "plt.rcParams.update({\"font.size\": 20})\n",
    "\n",
    "fig, ax = plt.subplots(figsize=(9, 7))\n",
    "\n",
    "higgs_pt = ak.flatten(higgs).pt\n",
    "higgs_pt = higgs_pt[higgs_pt>200]\n",
    "\n",
    "fj_pt = ak.flatten(candidatefj, axis=0).pt\n",
    "fj_pt = fj_pt[fj_pt>200]\n",
    "\n",
    "ax.hist(higgs_pt, label=r\"Gen Higgs\", histtype=\"step\", linewidth=2, bins=np.linspace(0,600,30))\n",
    "ax.hist(fj_pt, label=\"candidate fatjet\", histtype=\"step\", linewidth=2, bins=np.linspace(0,600,30))\n",
    "\n",
    "# ax.set_title(\"Without dR(Jet,Lepton)>0.03\")\n",
    "ax.set_xlim(200, 600)\n",
    "ax.legend(title=f\"ggF samples\")\n",
    "ax.set_ylabel(r\"Events\"); \n",
    "ax.set_xlabel(r\"$p_T$\");\n",
    "hep.cms.lumitext(\n",
    "    \"2017\", ax=ax, fontsize=20\n",
    ")\n",
    "hep.cms.text(\"Work in Progress\", ax=ax, fontsize=15)\n",
    "# ax.set_yscale(\"log\")\n",
    "\n",
    "# plt.savefig(f\"/Users/fmokhtar/Desktop/hww/gen_higgs_pt.pdf\", bbox_inches='tight')"
   ]
  },
  {
   "cell_type": "code",
   "execution_count": 296,
   "id": "d1124a20",
   "metadata": {},
   "outputs": [
    {
     "name": "stderr",
     "output_type": "stream",
     "text": [
      "No artists with labels found to put in legend.  Note that artists whose label start with an underscore are ignored when legend() is called with no argument.\n"
     ]
    },
    {
     "data": {
      "image/png": "[encoded data removed]",
      "text/plain": [
       "<Figure size 648x504 with 1 Axes>"
      ]
     },
     "metadata": {
      "needs_background": "light"
     },
     "output_type": "display_data"
    }
   ],
   "source": [
    "\n",
    "plt.rcParams.update({\"font.size\": 20})\n",
    "### save plot\n",
    "fig, ax = plt.subplots(figsize=(9, 7))\n",
    "ax.hist(ak.flatten(candidatefj, axis=0).pt, histtype=\"step\", linewidth=2, bins=np.linspace(0,600,30))\n",
    "\n",
    "# ax.set_title(\"Without dR(Jet,Lepton)>0.03\")\n",
    "ax.legend(title=f\"ggF samples\")\n",
    "ax.set_ylabel(r\"Events\"); \n",
    "ax.set_xlabel(r\"candidate jet $p_T$\");\n",
    "hep.cms.lumitext(\n",
    "    \"2017\", ax=ax, fontsize=20\n",
    ")\n",
    "hep.cms.text(\"Work in Progress\", ax=ax, fontsize=15)\n",
    "ax.set_yscale(\"log\")\n",
    "\n",
    "# plt.savefig(f\"/Users/fmokhtar/Desktop/hww/gen_higgs_pt.pdf\", bbox_inches='tight')"
   ]
  },
  {
   "cell_type": "code",
   "execution_count": null,
   "id": "0085cfce",
   "metadata": {},
   "outputs": [],
   "source": []
  },
  {
   "cell_type": "code",
   "execution_count": 254,
   "id": "7006dd73",
   "metadata": {},
   "outputs": [
    {
     "name": "stdout",
     "output_type": "stream",
     "text": [
      "Number of events with a candidatelep: 16981\n",
      "Number of events with a candidatelep of pt>200: 51\n",
      "-----------------------\n",
      "Number of events with a jet: 526289\n",
      "Number of events with a good jet: 134498\n",
      "-----------------------\n",
      "Number of events with a fatjet: 3497\n",
      "Number of events with a good fatjet: 2130\n",
      "Number of events with a candidatefj: 660\n",
      "Number of events with a candidatefj of pt>200: 660\n"
     ]
    }
   ],
   "source": [
    "print(f\"Number of events with a candidatelep: {len(ak.flatten(candidatelep, axis=0))}\")\n",
    "print(f\"Number of events with a candidatelep of pt>200: {ak.sum(candidatelep.pt>200)}\")\n",
    "print(\"-----------------------\")\n",
    "print(f\"Number of events with a jet: {len(ak.flatten(events.Jet, axis=1))}\")\n",
    "print(f\"Number of events with a good jet: {len(ak.flatten(goodjets, axis=1))}\")\n",
    "print(\"-----------------------\")\n",
    "print(f\"Number of events with a fatjet: {len(ak.flatten(fatjets, axis=1))}\")\n",
    "print(f\"Number of events with a good fatjet: {len(ak.flatten(good_fatjets, axis=1))}\")\n",
    "print(f\"Number of events with a candidatefj: {len(ak.flatten(candidatefj, axis=0))}\")\n",
    "print(f\"Number of events with a candidatefj of pt>200: {ak.sum(candidatefj.pt>200)}\")"
   ]
  },
  {
   "cell_type": "code",
   "execution_count": 257,
   "id": "ef274b11",
   "metadata": {},
   "outputs": [
    {
     "data": {
      "text/plain": [
       "<Array [210, 234, 203, 350, ... 309, 220, 354] type='660 * float32[parameters={\"...'>"
      ]
     },
     "execution_count": 257,
     "metadata": {},
     "output_type": "execute_result"
    }
   ],
   "source": [
    "ak.flatten(candidatefj, axis=0).pt"
   ]
  },
  {
   "cell_type": "code",
   "execution_count": 258,
   "id": "837c02cc",
   "metadata": {},
   "outputs": [
    {
     "data": {
      "text/plain": [
       "<Array [31.9, 37.5, 43.3, ... 44.8, 53.8, 34.3] type='16981 * float32'>"
      ]
     },
     "execution_count": 258,
     "metadata": {},
     "output_type": "execute_result"
    }
   ],
   "source": [
    "ak.flatten(candidatelep, axis=0).pt"
   ]
  },
  {
   "cell_type": "code",
   "execution_count": 261,
   "id": "db556fcc",
   "metadata": {},
   "outputs": [
    {
     "data": {
      "text/plain": [
       "<Array [None, None, Muon, ... None, None, None] type='98400 * ?union[muon, elect...'>"
      ]
     },
     "execution_count": 261,
     "metadata": {},
     "output_type": "execute_result"
    }
   ],
   "source": [
    "candidatelep"
   ]
  },
  {
   "cell_type": "code",
   "execution_count": 267,
   "id": "c4d4377d",
   "metadata": {},
   "outputs": [
    {
     "data": {
      "text/plain": [
       "(<Array [0, 1, 2, 3, ... 98397, 98398, 98399] type='98074 * int64'>,)"
      ]
     },
     "execution_count": 267,
     "metadata": {},
     "output_type": "execute_result"
    }
   ],
   "source": [
    "np.where(candidatefj.pt)"
   ]
  },
  {
   "cell_type": "code",
   "execution_count": 269,
   "id": "8648fbc2",
   "metadata": {},
   "outputs": [
    {
     "data": {
      "text/plain": [
       "<Array [None, None, None, ... None, None, None] type='98400 * ?float32[parameter...'>"
      ]
     },
     "execution_count": 269,
     "metadata": {},
     "output_type": "execute_result"
    }
   ],
   "source": [
    "candidatefj.pt"
   ]
  },
  {
   "cell_type": "code",
   "execution_count": 10,
   "id": "fbf79fa9",
   "metadata": {},
   "outputs": [
    {
     "data": {
      "text/plain": [
       "<FatJetArray [None, None, None, ... None, None, None] type='98400 * ?fatJet'>"
      ]
     },
     "execution_count": 10,
     "metadata": {},
     "output_type": "execute_result"
    }
   ],
   "source": [
    "candidatelep"
   ]
  },
  {
   "cell_type": "code",
   "execution_count": null,
   "id": "cda03f1f",
   "metadata": {},
   "outputs": [],
   "source": []
  },
  {
   "cell_type": "code",
   "execution_count": 93,
   "id": "648e6334",
   "metadata": {},
   "outputs": [
    {
     "data": {
      "text/plain": [
       "(<Array [53, 99, 308, ... 98169, 98199, 98354] type='660 * int64'>,)"
      ]
     },
     "execution_count": 93,
     "metadata": {},
     "output_type": "execute_result"
    }
   ],
   "source": [
    "# events with a candidate jet\n",
    "np.where(~ak.is_none(candidatefj))"
   ]
  },
  {
   "cell_type": "code",
   "execution_count": 312,
   "id": "710e5ad4",
   "metadata": {},
   "outputs": [
    {
     "data": {
      "text/plain": [
       "1893"
      ]
     },
     "execution_count": 312,
     "metadata": {},
     "output_type": "execute_result"
    }
   ],
   "source": [
    "# check the candidate lepton in one of those events\n",
    "candidatelep[53].genPartIdxG"
   ]
  },
  {
   "cell_type": "code",
   "execution_count": 329,
   "id": "325ff15e",
   "metadata": {},
   "outputs": [
    {
     "data": {
      "text/plain": [
       "<FatJetArray [FatJet, FatJet] type='2 * fatJet'>"
      ]
     },
     "execution_count": 329,
     "metadata": {},
     "output_type": "execute_result"
    }
   ],
   "source": [
    "events.FatJet[53]"
   ]
  },
  {
   "cell_type": "code",
   "execution_count": 328,
   "id": "2c695488",
   "metadata": {},
   "outputs": [
    {
     "data": {
      "text/plain": [
       "False"
      ]
     },
     "execution_count": 328,
     "metadata": {},
     "output_type": "execute_result"
    }
   ],
   "source": [
    "1893 in events.FatJet[53][0][\"pFCandsIdxG\"]"
   ]
  },
  {
   "cell_type": "code",
   "execution_count": 330,
   "id": "7bac4a02",
   "metadata": {},
   "outputs": [
    {
     "data": {
      "text/plain": [
       "False"
      ]
     },
     "execution_count": 330,
     "metadata": {},
     "output_type": "execute_result"
    }
   ],
   "source": [
    "1893 in events.FatJet[53][1][\"pFCandsIdxG\"]"
   ]
  },
  {
   "cell_type": "code",
   "execution_count": 338,
   "id": "de29302e",
   "metadata": {},
   "outputs": [
    {
     "data": {
      "text/plain": [
       "<Array [-1, 0] type='2 * int32[parameters={\"__doc__\": \"index of electron matched...'>"
      ]
     },
     "execution_count": 338,
     "metadata": {},
     "output_type": "execute_result"
    }
   ],
   "source": [
    "events.FatJet[53].electronIdx3SJ"
   ]
  },
  {
   "cell_type": "code",
   "execution_count": 107,
   "id": "9ffc93c1",
   "metadata": {},
   "outputs": [
    {
     "data": {
      "text/plain": [
       "3"
      ]
     },
     "execution_count": 107,
     "metadata": {},
     "output_type": "execute_result"
    }
   ],
   "source": [
    "candidatelep.jetIdx[53]"
   ]
  },
  {
   "cell_type": "code",
   "execution_count": 113,
   "id": "da079b53",
   "metadata": {},
   "outputs": [
    {
     "data": {
      "text/plain": [
       "<JetArray [Jet, Jet, Jet, Jet, ... Jet, Jet, Jet] type='8 * jet'>"
      ]
     },
     "execution_count": 113,
     "metadata": {},
     "output_type": "execute_result"
    }
   ],
   "source": [
    "events.Jet[53]"
   ]
  },
  {
   "cell_type": "code",
   "execution_count": null,
   "id": "f27fa5f7",
   "metadata": {},
   "outputs": [],
   "source": []
  },
  {
   "cell_type": "code",
   "execution_count": null,
   "id": "255749e9",
   "metadata": {},
   "outputs": [],
   "source": []
  },
  {
   "cell_type": "code",
   "execution_count": null,
   "id": "503faffb",
   "metadata": {},
   "outputs": [],
   "source": [
    "candidatelep.jetIdx[53]"
   ]
  },
  {
   "cell_type": "code",
   "execution_count": 115,
   "id": "72ad0f68",
   "metadata": {},
   "outputs": [
    {
     "data": {
      "text/plain": [
       "<Array [3.2, 0.657, 1.38, ... 2.64, 2.89, 1.94] type='8 * float32'>"
      ]
     },
     "execution_count": 115,
     "metadata": {},
     "output_type": "execute_result"
    }
   ],
   "source": [
    "events.Jet[53].delta_r(candidatelep[53])"
   ]
  },
  {
   "cell_type": "code",
   "execution_count": null,
   "id": "318da848",
   "metadata": {},
   "outputs": [],
   "source": []
  },
  {
   "cell_type": "code",
   "execution_count": 103,
   "id": "43cff65b",
   "metadata": {},
   "outputs": [
    {
     "ename": "AttributeError",
     "evalue": "no field named 'tightleptonJetID'\n\n(https://github.com/scikit-hep/awkward-1.0/blob/1.10.2/src/awkward/highlevel.py#L1124)",
     "output_type": "error",
     "traceback": [
      "\u001b[0;31m---------------------------------------------------------------------------\u001b[0m",
      "\u001b[0;31mAttributeError\u001b[0m                            Traceback (most recent call last)",
      "\u001b[0;32m<ipython-input-103-eed5452db554>\u001b[0m in \u001b[0;36m<module>\u001b[0;34m\u001b[0m\n\u001b[0;32m----> 1\u001b[0;31m \u001b[0mcandidatefj\u001b[0m\u001b[0;34m.\u001b[0m\u001b[0mtightleptonJetID\u001b[0m\u001b[0;34m\u001b[0m\u001b[0;34m\u001b[0m\u001b[0m\n\u001b[0m",
      "\u001b[0;32m/opt/anaconda3/envs/coffea-env/lib/python3.8/site-packages/awkward/highlevel.py\u001b[0m in \u001b[0;36m__getattr__\u001b[0;34m(self, where)\u001b[0m\n\u001b[1;32m   1121\u001b[0m                     ) from err\n\u001b[1;32m   1122\u001b[0m             \u001b[0;32melse\u001b[0m\u001b[0;34m:\u001b[0m\u001b[0;34m\u001b[0m\u001b[0;34m\u001b[0m\u001b[0m\n\u001b[0;32m-> 1123\u001b[0;31m                 raise AttributeError(\n\u001b[0m\u001b[1;32m   1124\u001b[0m                     \u001b[0;34mf\"no field named {where!r}\"\u001b[0m \u001b[0;34m+\u001b[0m \u001b[0mak\u001b[0m\u001b[0;34m.\u001b[0m\u001b[0m_util\u001b[0m\u001b[0;34m.\u001b[0m\u001b[0mexception_suffix\u001b[0m\u001b[0;34m(\u001b[0m\u001b[0m__file__\u001b[0m\u001b[0;34m)\u001b[0m\u001b[0;34m\u001b[0m\u001b[0;34m\u001b[0m\u001b[0m\n\u001b[1;32m   1125\u001b[0m                 )\n",
      "\u001b[0;31mAttributeError\u001b[0m: no field named 'tightleptonJetID'\n\n(https://github.com/scikit-hep/awkward-1.0/blob/1.10.2/src/awkward/highlevel.py#L1124)"
     ]
    }
   ],
   "source": [
    "candidatefj.tightleptonJetID"
   ]
  },
  {
   "cell_type": "code",
   "execution_count": 151,
   "id": "fc9c186f",
   "metadata": {},
   "outputs": [
    {
     "data": {
      "text/plain": [
       "['area',\n",
       " 'btagCSVV2',\n",
       " 'btagDDBvLV2',\n",
       " 'btagDDCvBV2',\n",
       " 'btagDDCvLV2',\n",
       " 'btagDeepB',\n",
       " 'btagHbb',\n",
       " 'deepTagMD_H4qvsQCD',\n",
       " 'deepTagMD_HbbvsQCD',\n",
       " 'deepTagMD_TvsQCD',\n",
       " 'deepTagMD_WvsQCD',\n",
       " 'deepTagMD_ZHbbvsQCD',\n",
       " 'deepTagMD_ZHccvsQCD',\n",
       " 'deepTagMD_ZbbvsQCD',\n",
       " 'deepTagMD_ZvsQCD',\n",
       " 'deepTagMD_bbvsLight',\n",
       " 'deepTagMD_ccvsLight',\n",
       " 'deepTag_H',\n",
       " 'deepTag_QCD',\n",
       " 'deepTag_QCDothers',\n",
       " 'deepTag_TvsQCD',\n",
       " 'deepTag_WvsQCD',\n",
       " 'deepTag_ZvsQCD',\n",
       " 'eta',\n",
       " 'mass',\n",
       " 'msoftdrop',\n",
       " 'n2b1',\n",
       " 'n3b1',\n",
       " 'particleNetMD_QCD',\n",
       " 'particleNetMD_Xbb',\n",
       " 'particleNetMD_Xcc',\n",
       " 'particleNetMD_Xqq',\n",
       " 'particleNet_H4qvsQCD',\n",
       " 'particleNet_HbbvsQCD',\n",
       " 'particleNet_HccvsQCD',\n",
       " 'particleNet_QCD',\n",
       " 'particleNet_TvsQCD',\n",
       " 'particleNet_WvsQCD',\n",
       " 'particleNet_ZvsQCD',\n",
       " 'particleNet_mass',\n",
       " 'phi',\n",
       " 'pt',\n",
       " 'rawFactor',\n",
       " 'tau1',\n",
       " 'tau2',\n",
       " 'tau3',\n",
       " 'tau4',\n",
       " 'lsf3',\n",
       " 'jetId',\n",
       " 'subJetIdx1',\n",
       " 'subJetIdx2',\n",
       " 'electronIdx3SJ',\n",
       " 'muonIdx3SJ',\n",
       " 'nConstituents',\n",
       " 'DDX_tau1_flightDistance2dSig',\n",
       " 'DDX_tau1_trackEtaRel_0',\n",
       " 'DDX_tau1_trackEtaRel_1',\n",
       " 'DDX_tau1_trackEtaRel_2',\n",
       " 'DDX_tau1_trackSip3dSig_0',\n",
       " 'DDX_tau1_trackSip3dSig_1',\n",
       " 'DDX_tau1_vertexDeltaR',\n",
       " 'DDX_tau1_vertexEnergyRatio',\n",
       " 'DDX_tau1_vertexMass',\n",
       " 'DDX_tau2_flightDistance2dSig',\n",
       " 'DDX_tau2_trackEtaRel_0',\n",
       " 'DDX_tau2_trackEtaRel_1',\n",
       " 'DDX_tau2_trackEtaRel_3',\n",
       " 'DDX_tau2_trackSip3dSig_0',\n",
       " 'DDX_tau2_trackSip3dSig_1',\n",
       " 'DDX_tau2_vertexEnergyRatio',\n",
       " 'DDX_tau2_vertexMass',\n",
       " 'DDX_trackSip2dSigAboveBottom_0',\n",
       " 'DDX_trackSip2dSigAboveBottom_1',\n",
       " 'DDX_trackSip2dSigAboveCharm',\n",
       " 'DDX_trackSip3dSig_0',\n",
       " 'DDX_trackSip3dSig_1',\n",
       " 'DDX_trackSip3dSig_2',\n",
       " 'DDX_trackSip3dSig_3',\n",
       " 'DDX_z_ratio',\n",
       " 'Proba',\n",
       " 'btagDeepB_b',\n",
       " 'btagDeepB_bb',\n",
       " 'btagDeepL',\n",
       " 'DDX_jetNSecondaryVertices',\n",
       " 'DDX_jetNTracks',\n",
       " 'nBHadrons',\n",
       " 'nCHadrons',\n",
       " 'genJetAK8Idx',\n",
       " 'hadronFlavour',\n",
       " 'genJetAK8IdxG',\n",
       " 'subJetIdx1G',\n",
       " 'subJetIdx2G',\n",
       " 'subJetIdxG',\n",
       " 'pFCandsIdxG']"
      ]
     },
     "execution_count": 151,
     "metadata": {},
     "output_type": "execute_result"
    }
   ],
   "source": [
    "events.FatJet.fields"
   ]
  },
  {
   "cell_type": "code",
   "execution_count": 152,
   "id": "0052b2e1",
   "metadata": {},
   "outputs": [
    {
     "data": {
      "text/plain": [
       "'index of first subjet'"
      ]
     },
     "execution_count": 152,
     "metadata": {},
     "output_type": "execute_result"
    }
   ],
   "source": [
    "events.FatJet.subJetIdxG.__doc__"
   ]
  },
  {
   "cell_type": "code",
   "execution_count": null,
   "id": "b25fa590",
   "metadata": {},
   "outputs": [],
   "source": []
  },
  {
   "cell_type": "code",
   "execution_count": 127,
   "id": "2c551585",
   "metadata": {},
   "outputs": [
    {
     "data": {
      "text/plain": [
       "['dxy',\n",
       " 'dxyErr',\n",
       " 'dz',\n",
       " 'dzErr',\n",
       " 'eta',\n",
       " 'ip3d',\n",
       " 'jetPtRelv2',\n",
       " 'jetRelIso',\n",
       " 'mass',\n",
       " 'miniPFRelIso_all',\n",
       " 'miniPFRelIso_chg',\n",
       " 'pfRelIso03_all',\n",
       " 'pfRelIso03_chg',\n",
       " 'phi',\n",
       " 'pt',\n",
       " 'sip3d',\n",
       " 'mvaTTH',\n",
       " 'charge',\n",
       " 'jetIdx',\n",
       " 'pdgId',\n",
       " 'tightCharge',\n",
       " 'isPFcand',\n",
       " 'jetNDauCharged',\n",
       " 'genPartIdx',\n",
       " 'genPartFlav',\n",
       " 'cleanmask',\n",
       " 'genPartIdxG',\n",
       " 'jetIdxG']"
      ]
     },
     "execution_count": 127,
     "metadata": {},
     "output_type": "execute_result"
    }
   ],
   "source": [
    "candidatelep.fields"
   ]
  },
  {
   "cell_type": "code",
   "execution_count": 37,
   "id": "2f7b4f2a",
   "metadata": {},
   "outputs": [
    {
     "data": {
      "text/plain": [
       "<Array [[], [], [], [], ... [], [], [], []] type='98400 * var * float32[paramete...'>"
      ]
     },
     "execution_count": 37,
     "metadata": {},
     "output_type": "execute_result"
    }
   ],
   "source": [
    "fatjets.particleNetMD_Xbb"
   ]
  },
  {
   "cell_type": "code",
   "execution_count": 26,
   "id": "5528311e",
   "metadata": {},
   "outputs": [
    {
     "data": {
      "text/plain": [
       "<Array [210, 234, 203, 350, ... 309, 220, 354] type='660 * ?float32[parameters={...'>"
      ]
     },
     "execution_count": 26,
     "metadata": {},
     "output_type": "execute_result"
    }
   ],
   "source": [
    "candidatefj[~ak.is_none(candidatefj)].pt"
   ]
  },
  {
   "cell_type": "code",
   "execution_count": 147,
   "id": "f146846c",
   "metadata": {
    "scrolled": false
   },
   "outputs": [
    {
     "data": {
      "text/plain": [
       "<Array [[], [], [0.00812, ... [0.00706], []] type='98400 * var * float32[paramet...'>"
      ]
     },
     "execution_count": 147,
     "metadata": {},
     "output_type": "execute_result"
    }
   ],
   "source": [
    "events.Muon.dz"
   ]
  },
  {
   "cell_type": "code",
   "execution_count": 12,
   "id": "bbc69029",
   "metadata": {},
   "outputs": [],
   "source": [
    "dr_jet_lepfj = goodjets.delta_r(candidatefj)"
   ]
  },
  {
   "cell_type": "code",
   "execution_count": 13,
   "id": "b40906fa",
   "metadata": {},
   "outputs": [],
   "source": [
    "btagWPs = {\n",
    "    \"deepJet\": {\n",
    "        \"2016APV\": {\n",
    "            \"L\": 0.0508,\n",
    "            \"M\": 0.2598,\n",
    "            \"T\": 0.6502,\n",
    "        },\n",
    "        \"2016\": {\n",
    "            \"L\": 0.0480,\n",
    "            \"M\": 0.2489,\n",
    "            \"T\": 0.6377,\n",
    "        },\n",
    "        \"2017\": {\n",
    "            \"L\": 0.0532,\n",
    "            \"M\": 0.3040,\n",
    "            \"T\": 0.7476,\n",
    "        },\n",
    "        \"2018\": {\n",
    "            \"L\": 0.0490,\n",
    "            \"M\": 0.2783,\n",
    "            \"T\": 0.7100,\n",
    "        },\n",
    "    }\n",
    "}"
   ]
  },
  {
   "cell_type": "code",
   "execution_count": 31,
   "id": "6b90c35b",
   "metadata": {},
   "outputs": [],
   "source": [
    "a = pd.read_parquet(\"../outfiles/0-1_ele.parquet\")"
   ]
  },
  {
   "cell_type": "code",
   "execution_count": 34,
   "id": "3d758f59",
   "metadata": {},
   "outputs": [
    {
     "data": {
      "text/plain": [
       "0      0\n",
       "1      0\n",
       "2      0\n",
       "3      0\n",
       "4      0\n",
       "      ..\n",
       "658    1\n",
       "659    0\n",
       "660    0\n",
       "661    0\n",
       "662    0\n",
       "Name: n_bjets_ophem_M, Length: 663, dtype: int64"
      ]
     },
     "execution_count": 34,
     "metadata": {},
     "output_type": "execute_result"
    }
   ],
   "source": [
    "a[\"n_bjets_ophem_M\"]"
   ]
  },
  {
   "cell_type": "code",
   "execution_count": null,
   "id": "553f90a8",
   "metadata": {},
   "outputs": [],
   "source": [
    "n_bjets = ak.sum(goodjets[dr_jet_lepfj > 0.8].btagDeepFlavB>0.3, axis=1)"
   ]
  },
  {
   "cell_type": "code",
   "execution_count": null,
   "id": "87f4889c",
   "metadata": {},
   "outputs": [],
   "source": []
  },
  {
   "cell_type": "code",
   "execution_count": 320,
   "id": "ca421d42",
   "metadata": {},
   "outputs": [
    {
     "data": {
      "text/plain": [
       "<Array [None, None, None, ... None, None, None] type='98400 * ?float32[parameter...'>"
      ]
     },
     "execution_count": 320,
     "metadata": {},
     "output_type": "execute_result"
    }
   ],
   "source": [
    "candidatefj.pt"
   ]
  },
  {
   "cell_type": "code",
   "execution_count": 260,
   "id": "d2579498",
   "metadata": {},
   "outputs": [
    {
     "data": {
      "text/plain": [
       "<Array [None, None, [], ... None, None, None] type='98400 * option[var * float32]'>"
      ]
     },
     "execution_count": 260,
     "metadata": {},
     "output_type": "execute_result"
    }
   ],
   "source": [
    "good_fatjets.delta_phi(met)"
   ]
  },
  {
   "cell_type": "code",
   "execution_count": 374,
   "id": "6964c583",
   "metadata": {},
   "outputs": [],
   "source": [
    "x = candidatefj.mass[~ak.is_none(candidatefj.mass)]\n",
    "y = (candidatefj-candidatelep_p4).mass[~ak.is_none((candidatefj-candidatelep_p4).mass)]"
   ]
  },
  {
   "cell_type": "code",
   "execution_count": 376,
   "id": "a67335c6",
   "metadata": {},
   "outputs": [
    {
     "data": {
      "image/png": "[encoded data removed]",
      "text/plain": [
       "<Figure size 576x432 with 1 Axes>"
      ]
     },
     "metadata": {
      "needs_background": "light"
     },
     "output_type": "display_data"
    }
   ],
   "source": [
    "fig, ax = plt.subplots(figsize=(8,6))\n",
    "bins = np.linspace(0, 200, 40)\n",
    "\n",
    "for sample in [\"HWW\"]:\n",
    "    ax.hist(x, bins, histtype=\"step\", linewidth=2, label = f\"Jet mass\", density=True)\n",
    "    ax.hist(y, bins, histtype=\"step\", linewidth=2, label = f\"Jet-Lep mass\", density=True)\n",
    "    ax.legend()\n",
    "    # ax.set_ylim(0, 20000)\n",
    "    ax.set_xlabel(r\"mass\")\n",
    "#     ax.set_yscale(\"log\")"
   ]
  },
  {
   "cell_type": "code",
   "execution_count": 433,
   "id": "fb4b3f40",
   "metadata": {},
   "outputs": [],
   "source": [
    "\"\"\"\n",
    "Using the reference https://cds.cern.ch/record/1630709/files/MSc_thesis_Stefan_Richter_with_info_pages.pdf.\n",
    "Also using:\n",
    "    px = pt cos(phi)\n",
    "    py = pt sin(phi)\n",
    "    pz = pt sinh(eta)\n",
    "\"\"\"\n",
    "\n",
    "Lep = candidatelep_p4\n",
    "Jet = candidatefj - Lep\n",
    "\n",
    "### definitions\n",
    "m_H = 125\n",
    "\n",
    "m_Jet = Jet.mass\n",
    "E_Jet = Jet.energy\n",
    "\n",
    "m_Lep = Lep.mass\n",
    "E_Lep = Lep.energy\n",
    "\n",
    "# momentum vectors for Jet and Lep\n",
    "px_Jet = Jet.pt * np.cos(Jet.phi)\n",
    "py_Jet = Jet.pt * np.sin(Jet.phi)\n",
    "pz_Jet = Jet.pt * np.sinh(Jet.eta)\n",
    "\n",
    "px_Lep = Lep.pt * np.cos(Lep.phi)\n",
    "py_Lep = Lep.pt * np.sin(Lep.phi)\n",
    "pz_Lep = Lep.pt * np.sinh(Lep.eta)\n",
    "\n",
    "pJet_dot_pLep = px_Jet*px_Lep + py_Jet*py_Lep + pz_Jet*pz_Lep\n",
    "\n",
    "# met\n",
    "px_met = met.pt * np.cos(met.phi)\n",
    "py_met = met.pt * np.sin(met.phi)\n",
    "\n",
    "# computation:\n",
    "Last_term = (px_met*(px_Jet+px_Lep) + py_met*(py_Jet+py_Lep))\n",
    "A = (1/(E_Jet+E_Lep)) * ( 0.5*(m_H**2 - m_Jet**2 - m_Lep**2) - E_Jet*E_Lep + pJet_dot_pLep + Last_term )\n",
    "\n",
    "B = (pz_Jet**2 + pz_Lep**2) / (E_Jet + E_Lep)\n",
    "\n",
    "D = A**2 - (px_met**2 + py_met**2)*(1-B**2)\n",
    "\n",
    "# reconstruct the met pz\n",
    "pz_met_pos = ( (A*B) + np.sqrt(D) ) / (1-B**2)\n",
    "pz_met_neg = ( (A*B) - np.sqrt(D) ) / (1-B**2)"
   ]
  },
  {
   "cell_type": "code",
   "execution_count": 421,
   "id": "59e0ff6f",
   "metadata": {},
   "outputs": [],
   "source": [
    "pz_met_pos = pz_met_pos[~ak.is_none(pz_met_pos)]\n",
    "pz_met_neg = pz_met_neg[~ak.is_none(pz_met_neg)]"
   ]
  },
  {
   "cell_type": "code",
   "execution_count": 395,
   "id": "1c179a5f",
   "metadata": {},
   "outputs": [
    {
     "data": {
      "text/plain": [
       "Text(1, 0, 'MET $p_z$')"
      ]
     },
     "execution_count": 395,
     "metadata": {},
     "output_type": "execute_result"
    },
    {
     "data": {
      "image/png": "[encoded data removed]",
      "text/plain": [
       "<Figure size 576x432 with 1 Axes>"
      ]
     },
     "metadata": {
      "needs_background": "light"
     },
     "output_type": "display_data"
    }
   ],
   "source": [
    "import math\n",
    "import matplotlib\n",
    "import matplotlib.pyplot as plt\n",
    "import mplhep as hep\n",
    "plt.style.use(hep.style.CMS)\n",
    "plt.rcParams.update({\"font.size\": 20})\n",
    "\n",
    "fig, ax = plt.subplots(figsize=(8,6))\n",
    "bins = np.linspace(-3, 3, 40)\n",
    "ax.hist(pz_met_pos, bins, histtype=\"step\", linewidth=2, label = f\"+ve sqrt - n={len(pz_met_pos)}\")\n",
    "ax.hist(pz_met_neg, bins, histtype=\"step\", linewidth=2, label = f\"-ve sqrt - n={len(pz_met_neg)}\")\n",
    "ax.legend(title=\"HWW\")\n",
    "# ax.set_ylim(0, 20000)\n",
    "ax.set_xlabel(r\"MET $p_z$\")"
   ]
  },
  {
   "cell_type": "markdown",
   "id": "50024793",
   "metadata": {},
   "source": [
    "# Reconstruct the higgs"
   ]
  },
  {
   "cell_type": "code",
   "execution_count": 443,
   "id": "cb34e9b5",
   "metadata": {},
   "outputs": [
    {
     "ename": "ValueError",
     "evalue": "cannot broadcast records in this type of operation\n\n(https://github.com/scikit-hep/awkward-1.0/blob/1.10.3/src/awkward/_util.py#L1066)",
     "output_type": "error",
     "traceback": [
      "\u001b[0;31m---------------------------------------------------------------------------\u001b[0m",
      "\u001b[0;31mValueError\u001b[0m                                Traceback (most recent call last)",
      "\u001b[0;32m<ipython-input-443-875f4b5d1c1c>\u001b[0m in \u001b[0;36m<module>\u001b[0;34m\u001b[0m\n\u001b[1;32m      2\u001b[0m         {\n\u001b[1;32m      3\u001b[0m             \u001b[0;34m\"pt\"\u001b[0m\u001b[0;34m:\u001b[0m \u001b[0mmet\u001b[0m\u001b[0;34m.\u001b[0m\u001b[0mpt\u001b[0m\u001b[0;34m,\u001b[0m\u001b[0;34m\u001b[0m\u001b[0;34m\u001b[0m\u001b[0m\n\u001b[0;32m----> 4\u001b[0;31m             \u001b[0;34m\"eta\"\u001b[0m\u001b[0;34m:\u001b[0m \u001b[0mnp\u001b[0m\u001b[0;34m.\u001b[0m\u001b[0marcsinh\u001b[0m\u001b[0;34m(\u001b[0m\u001b[0mpz_met\u001b[0m\u001b[0;34m/\u001b[0m\u001b[0mmet\u001b[0m\u001b[0;34m.\u001b[0m\u001b[0mpt\u001b[0m\u001b[0;34m)\u001b[0m\u001b[0;34m,\u001b[0m\u001b[0;34m\u001b[0m\u001b[0;34m\u001b[0m\u001b[0m\n\u001b[0m\u001b[1;32m      5\u001b[0m \u001b[0;31m#             \"eta\": candidatelep_p4.eta,\u001b[0m\u001b[0;34m\u001b[0m\u001b[0;34m\u001b[0m\u001b[0;34m\u001b[0m\u001b[0m\n\u001b[1;32m      6\u001b[0m             \u001b[0;34m\"phi\"\u001b[0m\u001b[0;34m:\u001b[0m \u001b[0mmet\u001b[0m\u001b[0;34m.\u001b[0m\u001b[0mphi\u001b[0m\u001b[0;34m,\u001b[0m\u001b[0;34m\u001b[0m\u001b[0;34m\u001b[0m\u001b[0m\n",
      "\u001b[0;32m/opt/anaconda3/envs/coffea-env/lib/python3.8/site-packages/numpy/lib/mixins.py\u001b[0m in \u001b[0;36mfunc\u001b[0;34m(self, other)\u001b[0m\n\u001b[1;32m     29\u001b[0m         \u001b[0;32mif\u001b[0m \u001b[0m_disables_array_ufunc\u001b[0m\u001b[0;34m(\u001b[0m\u001b[0mother\u001b[0m\u001b[0;34m)\u001b[0m\u001b[0;34m:\u001b[0m\u001b[0;34m\u001b[0m\u001b[0;34m\u001b[0m\u001b[0m\n\u001b[1;32m     30\u001b[0m             \u001b[0;32mreturn\u001b[0m \u001b[0mNotImplemented\u001b[0m\u001b[0;34m\u001b[0m\u001b[0;34m\u001b[0m\u001b[0m\n\u001b[0;32m---> 31\u001b[0;31m         \u001b[0;32mreturn\u001b[0m \u001b[0mufunc\u001b[0m\u001b[0;34m(\u001b[0m\u001b[0mother\u001b[0m\u001b[0;34m,\u001b[0m \u001b[0mself\u001b[0m\u001b[0;34m)\u001b[0m\u001b[0;34m\u001b[0m\u001b[0;34m\u001b[0m\u001b[0m\n\u001b[0m\u001b[1;32m     32\u001b[0m     \u001b[0mfunc\u001b[0m\u001b[0;34m.\u001b[0m\u001b[0m__name__\u001b[0m \u001b[0;34m=\u001b[0m \u001b[0;34m'__r{}__'\u001b[0m\u001b[0;34m.\u001b[0m\u001b[0mformat\u001b[0m\u001b[0;34m(\u001b[0m\u001b[0mname\u001b[0m\u001b[0;34m)\u001b[0m\u001b[0;34m\u001b[0m\u001b[0;34m\u001b[0m\u001b[0m\n\u001b[1;32m     33\u001b[0m     \u001b[0;32mreturn\u001b[0m \u001b[0mfunc\u001b[0m\u001b[0;34m\u001b[0m\u001b[0;34m\u001b[0m\u001b[0m\n",
      "\u001b[0;32m/opt/anaconda3/envs/coffea-env/lib/python3.8/site-packages/awkward/highlevel.py\u001b[0m in \u001b[0;36m__array_ufunc__\u001b[0;34m(self, ufunc, method, *inputs, **kwargs)\u001b[0m\n\u001b[1;32m   1409\u001b[0m         \"\"\"\n\u001b[1;32m   1410\u001b[0m         \u001b[0;32mif\u001b[0m \u001b[0;32mnot\u001b[0m \u001b[0mhasattr\u001b[0m\u001b[0;34m(\u001b[0m\u001b[0mself\u001b[0m\u001b[0;34m,\u001b[0m \u001b[0;34m\"_tracers\"\u001b[0m\u001b[0;34m)\u001b[0m\u001b[0;34m:\u001b[0m\u001b[0;34m\u001b[0m\u001b[0;34m\u001b[0m\u001b[0m\n\u001b[0;32m-> 1411\u001b[0;31m             \u001b[0;32mreturn\u001b[0m \u001b[0mak\u001b[0m\u001b[0;34m.\u001b[0m\u001b[0m_connect\u001b[0m\u001b[0;34m.\u001b[0m\u001b[0m_numpy\u001b[0m\u001b[0;34m.\u001b[0m\u001b[0marray_ufunc\u001b[0m\u001b[0;34m(\u001b[0m\u001b[0mufunc\u001b[0m\u001b[0;34m,\u001b[0m \u001b[0mmethod\u001b[0m\u001b[0;34m,\u001b[0m \u001b[0minputs\u001b[0m\u001b[0;34m,\u001b[0m \u001b[0mkwargs\u001b[0m\u001b[0;34m)\u001b[0m\u001b[0;34m\u001b[0m\u001b[0;34m\u001b[0m\u001b[0m\n\u001b[0m\u001b[1;32m   1412\u001b[0m         \u001b[0;32melse\u001b[0m\u001b[0;34m:\u001b[0m\u001b[0;34m\u001b[0m\u001b[0;34m\u001b[0m\u001b[0m\n\u001b[1;32m   1413\u001b[0m             return ak._connect._jax.jax_utils.array_ufunc(\n",
      "\u001b[0;32m/opt/anaconda3/envs/coffea-env/lib/python3.8/site-packages/awkward/_connect/_numpy.py\u001b[0m in \u001b[0;36marray_ufunc\u001b[0;34m(ufunc, method, inputs, kwargs)\u001b[0m\n\u001b[1;32m    248\u001b[0m         \u001b[0;32mreturn\u001b[0m \u001b[0;32mNone\u001b[0m\u001b[0;34m\u001b[0m\u001b[0;34m\u001b[0m\u001b[0m\n\u001b[1;32m    249\u001b[0m \u001b[0;34m\u001b[0m\u001b[0m\n\u001b[0;32m--> 250\u001b[0;31m     out = ak._util.broadcast_and_apply(\n\u001b[0m\u001b[1;32m    251\u001b[0m         \u001b[0minputs\u001b[0m\u001b[0;34m,\u001b[0m \u001b[0mgetfunction\u001b[0m\u001b[0;34m,\u001b[0m \u001b[0mbehavior\u001b[0m\u001b[0;34m,\u001b[0m \u001b[0mallow_records\u001b[0m\u001b[0;34m=\u001b[0m\u001b[0;32mFalse\u001b[0m\u001b[0;34m,\u001b[0m \u001b[0mpass_depth\u001b[0m\u001b[0;34m=\u001b[0m\u001b[0;32mFalse\u001b[0m\u001b[0;34m\u001b[0m\u001b[0;34m\u001b[0m\u001b[0m\n\u001b[1;32m    252\u001b[0m     )\n",
      "\u001b[0;32m/opt/anaconda3/envs/coffea-env/lib/python3.8/site-packages/awkward/_util.py\u001b[0m in \u001b[0;36mbroadcast_and_apply\u001b[0;34m(inputs, getfunction, behavior, allow_records, pass_depth, pass_user, user, left_broadcast, right_broadcast, numpy_to_regular, regular_to_jagged)\u001b[0m\n\u001b[1;32m   1170\u001b[0m     \u001b[0;32melse\u001b[0m\u001b[0;34m:\u001b[0m\u001b[0;34m\u001b[0m\u001b[0;34m\u001b[0m\u001b[0m\n\u001b[1;32m   1171\u001b[0m         \u001b[0misscalar\u001b[0m \u001b[0;34m=\u001b[0m \u001b[0;34m[\u001b[0m\u001b[0;34m]\u001b[0m\u001b[0;34m\u001b[0m\u001b[0;34m\u001b[0m\u001b[0m\n\u001b[0;32m-> 1172\u001b[0;31m         \u001b[0mout\u001b[0m \u001b[0;34m=\u001b[0m \u001b[0mapply\u001b[0m\u001b[0;34m(\u001b[0m\u001b[0mbroadcast_pack\u001b[0m\u001b[0;34m(\u001b[0m\u001b[0minputs\u001b[0m\u001b[0;34m,\u001b[0m \u001b[0misscalar\u001b[0m\u001b[0;34m)\u001b[0m\u001b[0;34m,\u001b[0m \u001b[0;36m0\u001b[0m\u001b[0;34m,\u001b[0m \u001b[0muser\u001b[0m\u001b[0;34m)\u001b[0m\u001b[0;34m\u001b[0m\u001b[0;34m\u001b[0m\u001b[0m\n\u001b[0m\u001b[1;32m   1173\u001b[0m         \u001b[0;32massert\u001b[0m \u001b[0misinstance\u001b[0m\u001b[0;34m(\u001b[0m\u001b[0mout\u001b[0m\u001b[0;34m,\u001b[0m \u001b[0mtuple\u001b[0m\u001b[0;34m)\u001b[0m\u001b[0;34m\u001b[0m\u001b[0;34m\u001b[0m\u001b[0m\n\u001b[1;32m   1174\u001b[0m         \u001b[0;32mreturn\u001b[0m \u001b[0mtuple\u001b[0m\u001b[0;34m(\u001b[0m\u001b[0mbroadcast_unpack\u001b[0m\u001b[0;34m(\u001b[0m\u001b[0mx\u001b[0m\u001b[0;34m,\u001b[0m \u001b[0misscalar\u001b[0m\u001b[0;34m)\u001b[0m \u001b[0;32mfor\u001b[0m \u001b[0mx\u001b[0m \u001b[0;32min\u001b[0m \u001b[0mout\u001b[0m\u001b[0;34m)\u001b[0m\u001b[0;34m\u001b[0m\u001b[0;34m\u001b[0m\u001b[0m\n",
      "\u001b[0;32m/opt/anaconda3/envs/coffea-env/lib/python3.8/site-packages/awkward/_util.py\u001b[0m in \u001b[0;36mapply\u001b[0;34m(inputs, depth, user)\u001b[0m\n\u001b[1;32m    923\u001b[0m                         \u001b[0mnextinputs\u001b[0m\u001b[0;34m.\u001b[0m\u001b[0mappend\u001b[0m\u001b[0;34m(\u001b[0m\u001b[0mx\u001b[0m\u001b[0;34m)\u001b[0m\u001b[0;34m\u001b[0m\u001b[0;34m\u001b[0m\u001b[0m\n\u001b[1;32m    924\u001b[0m \u001b[0;34m\u001b[0m\u001b[0m\n\u001b[0;32m--> 925\u001b[0;31m                 \u001b[0moutcontent\u001b[0m \u001b[0;34m=\u001b[0m \u001b[0mapply\u001b[0m\u001b[0;34m(\u001b[0m\u001b[0mnextinputs\u001b[0m\u001b[0;34m,\u001b[0m \u001b[0mdepth\u001b[0m \u001b[0;34m+\u001b[0m \u001b[0;36m1\u001b[0m\u001b[0;34m,\u001b[0m \u001b[0muser\u001b[0m\u001b[0;34m)\u001b[0m\u001b[0;34m\u001b[0m\u001b[0;34m\u001b[0m\u001b[0m\n\u001b[0m\u001b[1;32m    926\u001b[0m                 \u001b[0;32massert\u001b[0m \u001b[0misinstance\u001b[0m\u001b[0;34m(\u001b[0m\u001b[0moutcontent\u001b[0m\u001b[0;34m,\u001b[0m \u001b[0mtuple\u001b[0m\u001b[0;34m)\u001b[0m\u001b[0;34m\u001b[0m\u001b[0;34m\u001b[0m\u001b[0m\n\u001b[1;32m    927\u001b[0m \u001b[0;34m\u001b[0m\u001b[0m\n",
      "\u001b[0;32m/opt/anaconda3/envs/coffea-env/lib/python3.8/site-packages/awkward/_util.py\u001b[0m in \u001b[0;36mapply\u001b[0;34m(inputs, depth, user)\u001b[0m\n\u001b[1;32m    780\u001b[0m                 \u001b[0;32melse\u001b[0m\u001b[0;34m:\u001b[0m\u001b[0;34m\u001b[0m\u001b[0;34m\u001b[0m\u001b[0m\n\u001b[1;32m    781\u001b[0m                     \u001b[0mnextinputs\u001b[0m\u001b[0;34m.\u001b[0m\u001b[0mappend\u001b[0m\u001b[0;34m(\u001b[0m\u001b[0mx\u001b[0m\u001b[0;34m)\u001b[0m\u001b[0;34m\u001b[0m\u001b[0;34m\u001b[0m\u001b[0m\n\u001b[0;32m--> 782\u001b[0;31m             \u001b[0;32mreturn\u001b[0m \u001b[0mapply\u001b[0m\u001b[0;34m(\u001b[0m\u001b[0mnextinputs\u001b[0m\u001b[0;34m,\u001b[0m \u001b[0mdepth\u001b[0m\u001b[0;34m,\u001b[0m \u001b[0muser\u001b[0m\u001b[0;34m)\u001b[0m\u001b[0;34m\u001b[0m\u001b[0;34m\u001b[0m\u001b[0m\n\u001b[0m\u001b[1;32m    783\u001b[0m \u001b[0;34m\u001b[0m\u001b[0m\n\u001b[1;32m    784\u001b[0m         \u001b[0;32melif\u001b[0m \u001b[0many\u001b[0m\u001b[0;34m(\u001b[0m\u001b[0misinstance\u001b[0m\u001b[0;34m(\u001b[0m\u001b[0mx\u001b[0m\u001b[0;34m,\u001b[0m \u001b[0muniontypes\u001b[0m\u001b[0;34m)\u001b[0m \u001b[0;32mfor\u001b[0m \u001b[0mx\u001b[0m \u001b[0;32min\u001b[0m \u001b[0minputs\u001b[0m\u001b[0;34m)\u001b[0m\u001b[0;34m:\u001b[0m\u001b[0;34m\u001b[0m\u001b[0;34m\u001b[0m\u001b[0m\n",
      "\u001b[0;32m/opt/anaconda3/envs/coffea-env/lib/python3.8/site-packages/awkward/_util.py\u001b[0m in \u001b[0;36mapply\u001b[0;34m(inputs, depth, user)\u001b[0m\n\u001b[1;32m   1062\u001b[0m         \u001b[0;32melif\u001b[0m \u001b[0many\u001b[0m\u001b[0;34m(\u001b[0m\u001b[0misinstance\u001b[0m\u001b[0;34m(\u001b[0m\u001b[0mx\u001b[0m\u001b[0;34m,\u001b[0m \u001b[0mrecordtypes\u001b[0m\u001b[0;34m)\u001b[0m \u001b[0;32mfor\u001b[0m \u001b[0mx\u001b[0m \u001b[0;32min\u001b[0m \u001b[0minputs\u001b[0m\u001b[0;34m)\u001b[0m\u001b[0;34m:\u001b[0m\u001b[0;34m\u001b[0m\u001b[0;34m\u001b[0m\u001b[0m\n\u001b[1;32m   1063\u001b[0m             \u001b[0;32mif\u001b[0m \u001b[0;32mnot\u001b[0m \u001b[0mallow_records\u001b[0m\u001b[0;34m:\u001b[0m\u001b[0;34m\u001b[0m\u001b[0;34m\u001b[0m\u001b[0m\n\u001b[0;32m-> 1064\u001b[0;31m                 raise ValueError(\n\u001b[0m\u001b[1;32m   1065\u001b[0m                     \u001b[0;34m\"cannot broadcast records in this type of operation\"\u001b[0m\u001b[0;34m\u001b[0m\u001b[0;34m\u001b[0m\u001b[0m\n\u001b[1;32m   1066\u001b[0m                     \u001b[0;34m+\u001b[0m \u001b[0mexception_suffix\u001b[0m\u001b[0;34m(\u001b[0m\u001b[0m__file__\u001b[0m\u001b[0;34m)\u001b[0m\u001b[0;34m\u001b[0m\u001b[0;34m\u001b[0m\u001b[0m\n",
      "\u001b[0;31mValueError\u001b[0m: cannot broadcast records in this type of operation\n\n(https://github.com/scikit-hep/awkward-1.0/blob/1.10.3/src/awkward/_util.py#L1066)"
     ]
    }
   ],
   "source": [
    "### pick smallest pz because we expect heavy physics to result in central object which has hight pT (artifact of pdf proton) - more probable to have less pT in z axis\n",
    "\n",
    "met1 = ak.zip(\n",
    "        {\n",
    "            \"pt\": met.pt,\n",
    "            \"eta\": np.arcsinh(pz_met/met.pt),\n",
    "#             \"eta\": candidatelep_p4.eta,\n",
    "            \"phi\": met.phi,\n",
    "            \"mass\": 0,\n",
    "#             \"charge\": cand.charge,\n",
    "        },\n",
    "        with_name=\"PtEtaPhiMCandidate\",\n",
    "        behavior=candidate.behavior,\n",
    "    )\n",
    "# met2 = ak.zip(\n",
    "#         {\n",
    "#             \"pt\": met.pt,\n",
    "# #             \"eta\": np.arcsinh(pz_met_neg/met.pt),\n",
    "#             \"eta\": candidatelep_p4.eta,\n",
    "#             \"phi\": met.phi,\n",
    "#             \"mass\": 0,\n",
    "# #             \"charge\": cand.charge,\n",
    "#         },\n",
    "#         with_name=\"PtEtaPhiMCandidate\",\n",
    "#         behavior=candidate.behavior,\n",
    "#     )"
   ]
  },
  {
   "cell_type": "code",
   "execution_count": 444,
   "id": "71f6f4eb",
   "metadata": {},
   "outputs": [],
   "source": [
    "rec_higgs1 = Jet+met1\n",
    "rec_higgs1 = rec_higgs1[~ak.is_none(rec_higgs1)].mass\n",
    "\n",
    "# rec_higgs2 = Jet+met2\n",
    "# rec_higgs2 = rec_higgs2[~ak.is_none(rec_higgs2)].mass"
   ]
  },
  {
   "cell_type": "code",
   "execution_count": 445,
   "id": "4f0e72bf",
   "metadata": {},
   "outputs": [
    {
     "data": {
      "text/plain": [
       "Text(1, 0, 'rec Higgs mass')"
      ]
     },
     "execution_count": 445,
     "metadata": {},
     "output_type": "execute_result"
    },
    {
     "data": {
      "image/png": "[encoded data removed]",
      "text/plain": [
       "<Figure size 576x432 with 1 Axes>"
      ]
     },
     "metadata": {
      "needs_background": "light"
     },
     "output_type": "display_data"
    }
   ],
   "source": [
    "fig, ax = plt.subplots(figsize=(8,6))\n",
    "bins = np.linspace(0, 500, 30)\n",
    "\n",
    "ax.hist(rec_higgs1, bins, histtype=\"step\", linewidth=2, label = f\"mH=125 GeV constraint\")\n",
    "ax.hist(rec_higgs2, bins, histtype=\"step\", linewidth=2, label = r\"$\\eta_{Lep}=\\eta_{\\nu}$ constraint\")\n",
    "ax.legend(title=\"HWW\")\n",
    "# ax.set_ylim(0, 20000)\n",
    "ax.set_xlabel(r\"rec Higgs mass\")"
   ]
  },
  {
   "cell_type": "code",
   "execution_count": 280,
   "id": "1d442b66",
   "metadata": {},
   "outputs": [
    {
     "data": {
      "text/plain": [
       "<Array [305, 536, 281, ... 320, 837, 1.02e+03] type='547 * ?float64'>"
      ]
     },
     "execution_count": 280,
     "metadata": {},
     "output_type": "execute_result"
    }
   ],
   "source": [
    "rec_higgs[~ak.is_none(rec_higgs)].mass"
   ]
  },
  {
   "cell_type": "code",
   "execution_count": null,
   "id": "36344566",
   "metadata": {},
   "outputs": [],
   "source": [
    "# ->goal is to see sharp peak near 125\n",
    "\n",
    "### 1. share the mT histogram (<100 and >100)\n",
    "\n",
    "### 2. why blue is not sharp peak\n",
    "### 3. orange is reasonable\n",
    "### 4. use eta_neut=eta_jet"
   ]
  }
 ],
 "metadata": {
  "kernelspec": {
   "display_name": "coffea-env",
   "language": "python",
   "name": "coffea-env"
  },
  "language_info": {
   "codemirror_mode": {
    "name": "ipython",
    "version": 3
   },
   "file_extension": ".py",
   "mimetype": "text/x-python",
   "name": "python",
   "nbconvert_exporter": "python",
   "pygments_lexer": "ipython3",
   "version": "3.9.0"
  }
 },
 "nbformat": 4,
 "nbformat_minor": 5
}
