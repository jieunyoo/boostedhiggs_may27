{
 "cells": [
  {
   "cell_type": "code",
   "execution_count": 1,
   "id": "7751f679",
   "metadata": {},
   "outputs": [],
   "source": [
    "import uproot\n",
    "import awkward as ak\n",
    "import vector\n",
    "vector.register_awkward()\n",
    "from matplotlib import pyplot as plt\n",
    "import mplhep as hep\n",
    "hep.style.use(\"CMS\")\n",
    "import math\n",
    "import itertools\n",
    "import os\n",
    "from typing import Dict, List, Tuple\n",
    "from numpy.typing import ArrayLike\n",
    "import numpy as np\n",
    "import correctionlib\n",
    "import awkward as ak\n",
    "import fastjet\n",
    "import coffea\n",
    "from coffea.nanoevents.methods import vector\n",
    "from coffea import nanoevents\n",
    "from coffea import processor\n",
    "from coffea.nanoevents.methods import candidate\n",
    "from coffea.analysis_tools import Weights, PackedSelection\n",
    "from hist import Hist\n",
    "ak.behavior.update(vector.behavior)"
   ]
  },
  {
   "cell_type": "code",
   "execution_count": 2,
   "id": "118e0554",
   "metadata": {},
   "outputs": [
    {
     "name": "stdout",
     "output_type": "stream",
     "text": [
      "0.7.22 /Users/fmokhtar/miniconda3/envs/fastjet-env/lib/python3.9/site-packages/coffea/__init__.py\n",
      "1.10.5 /Users/fmokhtar/miniconda3/envs/fastjet-env/lib/python3.9/site-packages/awkward/__init__.py\n",
      "4.3.7 /Users/fmokhtar/miniconda3/envs/fastjet-env/lib/python3.9/site-packages/uproot/__init__.py\n",
      "1.23.5 /Users/fmokhtar/miniconda3/envs/fastjet-env/lib/python3.9/site-packages/numpy/__init__.py\n"
     ]
    }
   ],
   "source": [
    "print(coffea.__version__, coffea.__file__)\n",
    "print(ak.__version__, ak.__file__)\n",
    "print(uproot.__version__, uproot.__file__)\n",
    "print(np.__version__, np.__file__)"
   ]
  },
  {
   "cell_type": "code",
   "execution_count": 3,
   "id": "2dfa191b",
   "metadata": {},
   "outputs": [],
   "source": [
    "%load_ext autoreload\n",
    "%autoreload 2"
   ]
  },
  {
   "cell_type": "code",
   "execution_count": 232,
   "id": "87e3a888",
   "metadata": {
    "scrolled": true
   },
   "outputs": [
    {
     "name": "stderr",
     "output_type": "stream",
     "text": [
      "/Users/fmokhtar/miniconda3/envs/fastjet-env/lib/python3.9/site-packages/coffea/nanoevents/mapping/uproot.py:86: UserWarning: Found duplicate branch FatJetAK15SubJet_nBHadrons in <TTree 'Events' (2140 branches) at 0x0001be957250>, taking first instance\n",
      "  warnings.warn(\n",
      "/Users/fmokhtar/miniconda3/envs/fastjet-env/lib/python3.9/site-packages/coffea/nanoevents/mapping/uproot.py:86: UserWarning: Found duplicate branch FatJetAK15SubJet_nCHadrons in <TTree 'Events' (2140 branches) at 0x0001be957250>, taking first instance\n",
      "  warnings.warn(\n",
      "/Users/fmokhtar/miniconda3/envs/fastjet-env/lib/python3.9/site-packages/coffea/nanoevents/mapping/uproot.py:86: UserWarning: Found duplicate branch FatJetAK15_nBHadrons in <TTree 'Events' (2140 branches) at 0x0001be957250>, taking first instance\n",
      "  warnings.warn(\n",
      "/Users/fmokhtar/miniconda3/envs/fastjet-env/lib/python3.9/site-packages/coffea/nanoevents/mapping/uproot.py:86: UserWarning: Found duplicate branch FatJetAK15_nCHadrons in <TTree 'Events' (2140 branches) at 0x0001be957250>, taking first instance\n",
      "  warnings.warn(\n",
      "/Users/fmokhtar/miniconda3/envs/fastjet-env/lib/python3.9/site-packages/coffea/nanoevents/mapping/uproot.py:86: UserWarning: Found duplicate branch FatJet_btagDDBvLV2 in <TTree 'Events' (2140 branches) at 0x0001be957250>, taking first instance\n",
      "  warnings.warn(\n",
      "/Users/fmokhtar/miniconda3/envs/fastjet-env/lib/python3.9/site-packages/coffea/nanoevents/mapping/uproot.py:86: UserWarning: Found duplicate branch FatJet_btagDDCvBV2 in <TTree 'Events' (2140 branches) at 0x0001be957250>, taking first instance\n",
      "  warnings.warn(\n",
      "/Users/fmokhtar/miniconda3/envs/fastjet-env/lib/python3.9/site-packages/coffea/nanoevents/mapping/uproot.py:86: UserWarning: Found duplicate branch FatJet_btagDDCvLV2 in <TTree 'Events' (2140 branches) at 0x0001be957250>, taking first instance\n",
      "  warnings.warn(\n",
      "/Users/fmokhtar/miniconda3/envs/fastjet-env/lib/python3.9/site-packages/coffea/nanoevents/mapping/uproot.py:86: UserWarning: Found duplicate branch FatJet_nBHadrons in <TTree 'Events' (2140 branches) at 0x0001be957250>, taking first instance\n",
      "  warnings.warn(\n",
      "/Users/fmokhtar/miniconda3/envs/fastjet-env/lib/python3.9/site-packages/coffea/nanoevents/mapping/uproot.py:86: UserWarning: Found duplicate branch FatJet_nCHadrons in <TTree 'Events' (2140 branches) at 0x0001be957250>, taking first instance\n",
      "  warnings.warn(\n",
      "/Users/fmokhtar/miniconda3/envs/fastjet-env/lib/python3.9/site-packages/coffea/nanoevents/mapping/uproot.py:86: UserWarning: Found duplicate branch SubJet_nBHadrons in <TTree 'Events' (2140 branches) at 0x0001be957250>, taking first instance\n",
      "  warnings.warn(\n",
      "/Users/fmokhtar/miniconda3/envs/fastjet-env/lib/python3.9/site-packages/coffea/nanoevents/mapping/uproot.py:86: UserWarning: Found duplicate branch SubJet_nCHadrons in <TTree 'Events' (2140 branches) at 0x0001be957250>, taking first instance\n",
      "  warnings.warn(\n"
     ]
    }
   ],
   "source": [
    "# # #first way to load root file is using nanoevents, but suffer from low process speed\n",
    "events = nanoevents.NanoEventsFactory.from_root(\n",
    "    \"../rootfiles/HWW/file1.root\",\n",
    "    schemaclass=nanoevents.NanoAODSchema,\n",
    ").events()"
   ]
  },
  {
   "cell_type": "code",
   "execution_count": 5,
   "id": "6b7cf9e1",
   "metadata": {},
   "outputs": [],
   "source": [
    "desired_fields = [\"Electron\",\"Muon\",\"FatJet\",\"genWeight\",\"GenPart\",\"FatJetPFCands\",\"PFCands\"]\n",
    "filtered_events = events[desired_fields]\n",
    "del events"
   ]
  },
  {
   "cell_type": "code",
   "execution_count": 6,
   "id": "fb041686",
   "metadata": {},
   "outputs": [],
   "source": [
    "def build_p4(cand):\n",
    "    return ak.zip(\n",
    "        {\n",
    "            \"pt\": cand.pt,\n",
    "            \"eta\": cand.eta,\n",
    "            \"phi\": cand.phi,\n",
    "            \"mass\": cand.mass,\n",
    "            \"charge\": cand.charge,\n",
    "        },\n",
    "        with_name=\"PtEtaPhiMCandidate\",\n",
    "        behavior=candidate.behavior,\n",
    "    )\n",
    "\n",
    "#pad array with given value\n",
    "def pad_val(\n",
    "    arr: ak.Array,\n",
    "    target: int,\n",
    "    value: float, #value can also be Bool variable \n",
    "    axis: int = 0,\n",
    "    to_numpy: bool = True,\n",
    "    clip: bool = True,\n",
    "):\n",
    "    \"\"\"\n",
    "    pads awkward array up to ``target`` index along axis ``axis`` with value ``value``,\n",
    "    optionally converts to numpy array\n",
    "    \"\"\"\n",
    "    padded_arr = ak.fill_none(ak.pad_none(arr, target, axis=axis, clip=clip), value, axis=axis)\n",
    "    # pad_none will fill the array to target length with \"None\" for dedicated axis\n",
    "    # \"clip\" means cut the array to the target length or not\n",
    "    # fill_none will replace \"None\" value to some value\n",
    "    return padded_arr.to_numpy() if to_numpy else padded_arr\n",
    "\n",
    "def add_selection(\n",
    "    name: str,\n",
    "    sel: np.ndarray,\n",
    "    selection: PackedSelection,\n",
    "    cutflow: dict = None,\n",
    "    isData: bool = False,\n",
    "    signGenWeights: ak.Array = None,\n",
    "):\n",
    "    \"\"\"adds selection to PackedSelection object and the cutflow dictionary\"\"\"\n",
    "    selection.add(name, sel)\n",
    "    if cutflow is not None: #only add to cutflow dictionary if cutflow is not None\n",
    "        cutflow[name] = (\n",
    "            np.sum(selection.all(*selection.names))\n",
    "            if isData\n",
    "            # add up sign of genWeights for MC\n",
    "            else np.sum(signGenWeights[selection.all(*selection.names)])\n",
    "        )"
   ]
  },
  {
   "cell_type": "code",
   "execution_count": 7,
   "id": "0d9a0edb",
   "metadata": {},
   "outputs": [],
   "source": [
    "from typing import Dict, Tuple, Union\n",
    "from coffea.nanoevents.methods.nanoaod import FatJetArray, GenParticleArray\n",
    "\n",
    "d_PDGID = 1\n",
    "c_PDGID = 4\n",
    "b_PDGID = 5\n",
    "g_PDGID = 21\n",
    "TOP_PDGID = 6\n",
    "\n",
    "ELE_PDGID = 11\n",
    "vELE_PDGID = 12\n",
    "MU_PDGID = 13\n",
    "vMU_PDGID = 14\n",
    "TAU_PDGID = 15\n",
    "vTAU_PDGID = 16\n",
    "\n",
    "GAMMA_PDGID = 22\n",
    "Z_PDGID = 23\n",
    "W_PDGID = 24\n",
    "HIGGS_PDGID = 25\n",
    "\n",
    "PI_PDGID = 211\n",
    "PO_PDGID = 221\n",
    "PP_PDGID = 111\n",
    "\n",
    "GEN_FLAGS = [\"fromHardProcess\", \"isLastCopy\"]\n",
    "\n",
    "FILL_NONE_VALUE = -99999\n",
    "\n",
    "JET_DR = 0.8\n",
    "\n",
    "def to_label(array: ak.Array) -> ak.Array:\n",
    "    return ak.values_astype(array, np.int32)\n",
    "\n",
    "def get_pid_mask(\n",
    "    genparts: GenParticleArray,\n",
    "    pdgids: Union[int, list],\n",
    "    ax: int = 2,\n",
    "    byall: bool = True,\n",
    ") -> ak.Array:\n",
    "    \"\"\"\n",
    "    Get selection mask for gen particles matching any of the pdgIds in ``pdgids``.\n",
    "    If ``byall``, checks all particles along axis ``ax`` match.\n",
    "    \"\"\"\n",
    "    gen_pdgids = abs(genparts.pdgId)\n",
    "\n",
    "    if type(pdgids) is list:\n",
    "        mask = gen_pdgids == pdgids[0]\n",
    "        for pdgid in pdgids[1:]:\n",
    "            mask = mask | (gen_pdgids == pdgid)\n",
    "    else:\n",
    "        mask = gen_pdgids == pdgids\n",
    "\n",
    "    return ak.all(mask, axis=ax) if byall else mask\n",
    "\n",
    "def match_H(genparts: GenParticleArray, fatjet: FatJetArray):\n",
    "    \"\"\"Gen matching for Higgs samples.\n",
    "\n",
    "    An edited version of the function that returns the genquark info that is useful for LP method.\n",
    "    \"\"\"\n",
    "\n",
    "    higgs = ak.firsts(genparts[get_pid_mask(genparts, HIGGS_PDGID, byall=False) * genparts.hasFlags(GEN_FLAGS)])\n",
    "    matched_higgs_mask = fatjet.delta_r(higgs) < 0.8\n",
    "\n",
    "    children_mask = get_pid_mask(higgs.children, [W_PDGID], byall=False)\n",
    "    is_hww = ak.any(children_mask, axis=1)\n",
    "\n",
    "    # order by mass, select lower mass child as V* and higher as V\n",
    "    higgs_children = higgs.children[children_mask]\n",
    "    children_mass = higgs_children.mass\n",
    "    v_star = ak.firsts(higgs_children[ak.argmin(children_mass, axis=1, keepdims=True)])\n",
    "    v = ak.firsts(higgs_children[ak.argmax(children_mass, axis=1, keepdims=True)])\n",
    "\n",
    "    # VV daughters\n",
    "    # requires coffea-0.7.21\n",
    "    all_daus = higgs_children.distinctChildrenDeep\n",
    "    all_daus_flat = ak.flatten(all_daus, axis=2)  # flattents the daughters of the two Ws\n",
    "    all_daus_flat_pdgId = abs(all_daus_flat.pdgId)\n",
    "\n",
    "    # the following tells you about the decay\n",
    "    num_quarks = ak.sum(all_daus_flat_pdgId <= b_PDGID, axis=1)\n",
    "    num_leptons = ak.sum(\n",
    "        (all_daus_flat_pdgId == ELE_PDGID) | (all_daus_flat_pdgId == MU_PDGID) | (all_daus_flat_pdgId == TAU_PDGID),\n",
    "        axis=1,\n",
    "    )\n",
    "    num_electrons = ak.sum(all_daus_flat_pdgId == ELE_PDGID, axis=1)\n",
    "    num_muons = ak.sum(all_daus_flat_pdgId == MU_PDGID, axis=1)\n",
    "    num_taus = ak.sum(all_daus_flat_pdgId == TAU_PDGID, axis=1)\n",
    "\n",
    "    # the following tells you about the matching\n",
    "    # prongs except neutrino\n",
    "    neutrinos = (\n",
    "        (all_daus_flat_pdgId == vELE_PDGID) | (all_daus_flat_pdgId == vMU_PDGID) | (all_daus_flat_pdgId == vTAU_PDGID)\n",
    "    )\n",
    "\n",
    "    leptons = (all_daus_flat_pdgId == ELE_PDGID) | (all_daus_flat_pdgId == MU_PDGID) | (all_daus_flat_pdgId == TAU_PDGID)\n",
    "\n",
    "    # num_m: number of matched leptons\n",
    "    # number of quarks excludes neutrino and leptons\n",
    "    num_m_quarks = ak.sum(fatjet.delta_r(all_daus_flat[~neutrinos & ~leptons]) < JET_DR, axis=1)\n",
    "    num_m_leptons = ak.sum(fatjet.delta_r(all_daus_flat[leptons]) < JET_DR, axis=1)\n",
    "    num_m_cquarks = ak.sum(fatjet.delta_r(all_daus_flat[all_daus_flat.pdgId == b_PDGID]) < JET_DR, axis=1)\n",
    "\n",
    "    lep_daughters = all_daus_flat[leptons]\n",
    "    # parent = ak.firsts(lep_daughters[fatjet.delta_r(lep_daughters) < JET_DR].distinctParent)\n",
    "    parent = ak.firsts(lep_daughters.distinctParent)\n",
    "    \n",
    "    iswlepton = parent.mass == v.mass\n",
    "    iswstarlepton = parent.mass == v_star.mass\n",
    "    \n",
    "    genVars = {\"fj_genH_pt\": ak.fill_none(higgs.pt, FILL_NONE_VALUE)}\n",
    "\n",
    "    genVVars = {\n",
    "        \"fj_genH_jet\": fatjet.delta_r(higgs),\n",
    "        \"fj_genV_dR\": fatjet.delta_r(v),\n",
    "        \"fj_genVstar\": fatjet.delta_r(v_star),\n",
    "        \"genV_genVstar_dR\": v.delta_r(v_star),\n",
    "    }\n",
    "\n",
    "    genHVVVars = {\n",
    "        \"fj_isHVV\": is_hww,\n",
    "        \"fj_isHVV_Matched\": matched_higgs_mask,\n",
    "        \"fj_isHVV_4q\": to_label((num_quarks == 4) & (num_leptons == 0)),\n",
    "        \"fj_isHVV_elenuqq\": to_label((num_electrons == 1) & (num_quarks == 2) & (num_leptons == 1)),\n",
    "        \"fj_isHVV_munuqq\": to_label((num_muons == 1) & (num_quarks == 2) & (num_leptons == 1)),\n",
    "        \"fj_isHVV_taunuqq\": to_label((num_taus == 1) & (num_quarks == 2) & (num_leptons == 1)),\n",
    "        \"fj_isHVV_Vlepton\": iswlepton,\n",
    "        \"fj_isHVV_Vstarlepton\": iswstarlepton,\n",
    "        \"fj_genRes_mass\": higgs.mass,\n",
    "        \"fj_nquarks\": num_m_quarks,\n",
    "        \"fj_ncquarks\": num_m_cquarks,\n",
    "        \"fj_lepinprongs\": num_m_leptons,\n",
    "        \"lep_daughters\": leptons,\n",
    "        \"all_daus\": all_daus,\n",
    "    }\n",
    "\n",
    "    lepVars = {\n",
    "        \"lepton_pt\": all_daus_flat[leptons].pt,\n",
    "        \"lepton_eta\": all_daus_flat[leptons].eta,\n",
    "        \"lepton_phi\": all_daus_flat[leptons].phi,\n",
    "        \"lepton_mass\": all_daus_flat[leptons].mass,\n",
    "    }\n",
    "\n",
    "    quarkVars = {\n",
    "        \"quark_pt\": all_daus_flat[all_daus_flat_pdgId <= b_PDGID].pt,\n",
    "        \"quark_eta\": all_daus_flat[all_daus_flat_pdgId <= b_PDGID].eta,\n",
    "        \"quark_phi\": all_daus_flat[all_daus_flat_pdgId <= b_PDGID].phi,\n",
    "        \"quark_mass\": all_daus_flat[all_daus_flat_pdgId <= b_PDGID].mass,\n",
    "    }\n",
    "\n",
    "    genVars = {**genVars, **genVVars, **genHVVVars, **lepVars, **quarkVars}\n",
    "\n",
    "    return genVars"
   ]
  },
  {
   "cell_type": "code",
   "execution_count": 328,
   "id": "999c0c39",
   "metadata": {},
   "outputs": [
    {
     "name": "stderr",
     "output_type": "stream",
     "text": [
      "/Users/fmokhtar/miniconda3/envs/fastjet-env/lib/python3.9/site-packages/coffea/nanoevents/methods/nanoaod.py:107: UserWarning: distinctChildrenDeep may not give correct answers for all generators!\n",
      "  warnings.warn(\n"
     ]
    }
   ],
   "source": [
    "isData = False\n",
    "signGenWeights = None if isData else np.sign(filtered_events[\"genWeight\"]) #get genWeight sign, because only the sign matters\n",
    "n_events = len(filtered_events) if isData else int(np.sum(signGenWeights)) #events number for MC events should be the sum of \"sign\"\n",
    "selection = PackedSelection() #initialize a new object\n",
    "\n",
    "# define the cutflow table to debug\n",
    "cutflow = {}\n",
    "cutflow[\"all\"] = n_events\n",
    "\n",
    "########## 1. leading jet pT > 250GeV\n",
    "fatjets = filtered_events.FatJet\n",
    "preselection_cut_jet = np.prod(\n",
    "    pad_val(\n",
    "        (filtered_events.FatJet.pt > 250),\n",
    "        1, #pad to num_jets length\n",
    "        False,  #pad with value False\n",
    "        axis=1, #pad to axis=1\n",
    "    ),\n",
    "    axis=1,\n",
    ")\n",
    "\n",
    "add_selection(\n",
    "    \"at least 1 AK8 jet with pT>250GeV\", #string name\n",
    "    preselection_cut_jet.astype(bool), #selection content\n",
    "    selection, #PackedSelection object\n",
    "    cutflow, #cut-flow dict, storing events number after each cut\n",
    "    isData,\n",
    "    signGenWeights,#sum the signGenWeights for events which pass the selection\n",
    ")\n",
    "\n",
    "########## 2. one good lepton selection\n",
    "muons = ak.with_field(filtered_events.Muon, 0, \"flavor\")\n",
    "electrons = ak.with_field(filtered_events.Electron, 1, \"flavor\")\n",
    "\n",
    "# OBJECT: muons\n",
    "loose_muons = (\n",
    "    (((muons.pt > 30) & (muons.pfRelIso04_all < 0.25)) | (muons.pt > 55))\n",
    "    & (np.abs(muons.eta) < 2.4)\n",
    "    & (muons.looseId)\n",
    ")\n",
    "n_loose_muons = ak.sum(loose_muons, axis=1)\n",
    "\n",
    "good_muons = (\n",
    "    (muons.pt > 30)\n",
    "    & (np.abs(muons.eta) < 2.4)\n",
    "    & (np.abs(muons.dz) < 0.1)\n",
    "    & (np.abs(muons.dxy) < 0.05)\n",
    "    & (muons.sip3d <= 4.0)\n",
    "    & muons.mediumId\n",
    "    & (((muons.pfRelIso04_all < 0.15) & (muons.pt < 55)) | (muons.pt >= 55))\n",
    ")\n",
    "n_good_muons = ak.sum(good_muons, axis=1)\n",
    "\n",
    "# OBJECT: electrons\n",
    "loose_electrons = (\n",
    "    (((electrons.pt > 38) & (electrons.pfRelIso03_all < 0.25)) | (electrons.pt > 120))\n",
    "    & (np.abs(electrons.eta) < 2.4)\n",
    "    & ((np.abs(electrons.eta) < 1.44) | (np.abs(electrons.eta) > 1.57))\n",
    "    & (electrons.cutBased >= electrons.LOOSE)\n",
    ")\n",
    "n_loose_electrons = ak.sum(loose_electrons, axis=1)\n",
    "\n",
    "good_electrons = (\n",
    "    (electrons.pt > 38)\n",
    "    & (np.abs(electrons.eta) < 2.4)\n",
    "    & ((np.abs(electrons.eta) < 1.44) | (np.abs(electrons.eta) > 1.57))\n",
    "    & (np.abs(electrons.dz) < 0.1)\n",
    "    & (np.abs(electrons.dxy) < 0.05)\n",
    "    & (electrons.sip3d <= 4.0)\n",
    "    & (electrons.mvaFall17V2noIso_WP90)\n",
    "    & (((electrons.pfRelIso03_all < 0.15) & (electrons.pt < 120)) | (electrons.pt >= 120))\n",
    ")\n",
    "n_good_electrons = ak.sum(good_electrons, axis=1)\n",
    "\n",
    "sel_mu = (n_good_muons == 1) & (n_good_electrons == 0) & (n_loose_electrons == 0) & (~ak.any(loose_muons & ~good_muons, 1))\n",
    "sel_ele = (n_good_muons == 0) & (n_good_electrons == 1) & (n_loose_electrons == 0) & (~ak.any(loose_electrons & ~good_electrons, 1))\n",
    "\n",
    "preselection_cut_lep = pad_val(\n",
    "        (sel_mu | sel_ele) , #mass and pT cut of each jet in event\n",
    "        len(filtered_events), #pad to num_jets length\n",
    "        False,  #pad with value False\n",
    "        )\n",
    "\n",
    "add_selection(\n",
    "    \"lepton selection\", #string name\n",
    "    preselection_cut_lep.astype(bool), #selection content\n",
    "    selection, #PackedSelection object\n",
    "    cutflow, #cut-flow dict, storing events number after each cut\n",
    "    isData,\n",
    "    signGenWeights,#sum the signGenWeights for events which pass the selection\n",
    ")\n",
    "\n",
    "########## 3. lepton inside the jet\n",
    "# get candidate lepton\n",
    "goodleptons = ak.concatenate([muons[good_muons], electrons[good_electrons]], axis=1)  # concat muons and electrons\n",
    "goodleptons = goodleptons[ak.argsort(goodleptons.pt, ascending=False)]  # sort by pt\n",
    "\n",
    "candidatelep = ak.firsts(goodleptons)  # pick highest pt\n",
    "candidatelep_p4 = build_p4(candidatelep)  # build p4 for candidate lepton\n",
    "\n",
    "# AK8 fatjets\n",
    "fatjets = filtered_events.FatJet\n",
    "fatjet_selector = (fatjets.pt > 200) & (abs(fatjets.eta) < 2.5) & fatjets.isTight\n",
    "good_fatjets = fatjets[fatjet_selector]\n",
    "good_fatjets = good_fatjets[ak.argsort(good_fatjets.pt, ascending=False)]  # sort them by pt\n",
    "\n",
    "# choose candidate fatjet\n",
    "fj_idx_lep = ak.argmin(good_fatjets.delta_r(candidatelep_p4), axis=1, keepdims=True)\n",
    "candidatefj = ak.firsts(good_fatjets[fj_idx_lep])\n",
    "\n",
    "lep_fj_dr = candidatefj.delta_r(candidatelep_p4)\n",
    "\n",
    "preselection_cut_lepINjet = pad_val(\n",
    "        (lep_fj_dr < 0.8) , #mass and pT cut of each jet in event\n",
    "        len(filtered_events), #pad to num_jets length\n",
    "        False,  #pad with value False\n",
    "        )\n",
    "\n",
    "add_selection(\n",
    "    \"lepton in jet selection\", #string name\n",
    "    preselection_cut_lepINjet.astype(bool), #selection content\n",
    "    selection, #PackedSelection object\n",
    "    cutflow, #cut-flow dict, storing events number after each cut\n",
    "    isData,\n",
    "    signGenWeights,#sum the signGenWeights for events which pass the selection\n",
    ")\n",
    "\n",
    "\n",
    "########## 4. Gen-matching --> HWW jets\n",
    "\n",
    "genVars = match_H(filtered_events.GenPart, candidatefj)\n",
    "\n",
    "preselection_cut_hww = pad_val(\n",
    "        (genVars[\"fj_isHVV\"] == 1) , #mass and pT cut of each jet in event\n",
    "        len(filtered_events), #pad to num_jets length\n",
    "        False,  #pad with value False\n",
    "        )\n",
    "add_selection(\n",
    "    \"is HWW\", #string name\n",
    "    preselection_cut_hww.astype(bool), #selection content\n",
    "    selection, #PackedSelection object\n",
    "    cutflow, #cut-flow dict, storing events number after each cut\n",
    "    isData,\n",
    "    signGenWeights,#sum the signGenWeights for events which pass the selection\n",
    ")\n",
    "\n",
    "########## 5. Gen-matching --> HWW Matched jets\n",
    "preselection_cut_hww_matched = pad_val(\n",
    "        (genVars[\"fj_isHVV_Matched\"] == 1) , #mass and pT cut of each jet in event\n",
    "        len(filtered_events), #pad to num_jets length\n",
    "        False,  #pad with value False\n",
    "        )\n",
    "add_selection(\n",
    "    \"is HWW matched\", #string name\n",
    "    preselection_cut_hww_matched.astype(bool), #selection content\n",
    "    selection, #PackedSelection object\n",
    "    cutflow, #cut-flow dict, storing events number after each cut\n",
    "    isData,\n",
    "    signGenWeights,#sum the signGenWeights for events which pass the selection\n",
    ")\n",
    "\n",
    "########## 6. Gen-matching --> HWWlnuqq jets\n",
    "preselection_cut_hwwlnuqq = pad_val(\n",
    "        ((genVars[\"fj_isHVV_elenuqq\"] == 1) | (genVars[\"fj_isHVV_munuqq\"] == 1)) , #mass and pT cut of each jet in event\n",
    "        len(filtered_events), #pad to num_jets length\n",
    "        False,  #pad with value False\n",
    "        )\n",
    "add_selection(\n",
    "    \"is HWWlnuqq\", #string name\n",
    "    preselection_cut_hwwlnuqq.astype(bool), #selection content\n",
    "    selection, #PackedSelection object\n",
    "    cutflow, #cut-flow dict, storing events number after each cut\n",
    "    isData,\n",
    "    signGenWeights,#sum the signGenWeights for events which pass the selection\n",
    ")"
   ]
  },
  {
   "cell_type": "code",
   "execution_count": null,
   "id": "fd2a0d5d",
   "metadata": {},
   "outputs": [],
   "source": []
  },
  {
   "cell_type": "code",
   "execution_count": 113,
   "id": "7e507d50",
   "metadata": {},
   "outputs": [],
   "source": [
    "def getGenLepGenQuarks(dataset, genparts: GenParticleArray):\n",
    "    \"\"\"Gen matching for Higgs samples or Top samples.\n",
    "\n",
    "    An edited version of the function that returns the genquark info that is useful for LP method.\n",
    "    \"\"\"\n",
    "    if \"HToWW\" in dataset:\n",
    "        higgs = ak.firsts(genparts[get_pid_mask(genparts, HIGGS_PDGID, byall=False) * genparts.hasFlags(GEN_FLAGS)])\n",
    "\n",
    "        children_mask = get_pid_mask(higgs.children, [W_PDGID], byall=False)\n",
    "\n",
    "        # order by mass, select lower mass child as V* and higher as V\n",
    "        higgs_children = higgs.children[children_mask]\n",
    "\n",
    "        # VV daughters\n",
    "        # requires coffea-0.7.21\n",
    "        all_daus = higgs_children.distinctChildrenDeep  # TODO: double check it's always 4\n",
    "        all_daus_flat = ak.flatten(all_daus, axis=2)  # flattents the daughters of the two Ws\n",
    "        all_daus_flat_pdgId = abs(all_daus_flat.pdgId)\n",
    "\n",
    "        # the following tells you about the matching\n",
    "        leptons = (all_daus_flat_pdgId == ELE_PDGID) | (all_daus_flat_pdgId == MU_PDGID) | (all_daus_flat_pdgId == TAU_PDGID)\n",
    "\n",
    "        lepVars = {\n",
    "            \"lepton_pt\": all_daus_flat[leptons].pt,\n",
    "            \"lepton_eta\": all_daus_flat[leptons].eta,\n",
    "            \"lepton_phi\": all_daus_flat[leptons].phi,\n",
    "            \"lepton_mass\": all_daus_flat[leptons].mass,\n",
    "        }\n",
    "\n",
    "        quarkVars = {\n",
    "            \"quark_pt\": all_daus_flat[all_daus_flat_pdgId <= b_PDGID].pt,\n",
    "            \"quark_eta\": all_daus_flat[all_daus_flat_pdgId <= b_PDGID].eta,\n",
    "            \"quark_phi\": all_daus_flat[all_daus_flat_pdgId <= b_PDGID].phi,\n",
    "            \"quark_mass\": all_daus_flat[all_daus_flat_pdgId <= b_PDGID].mass,\n",
    "        }\n",
    "\n",
    "    else:\n",
    "        tops = genparts[get_pid_mask(genparts, TOP_PDGID, byall=False) * genparts.hasFlags(GEN_FLAGS)]\n",
    "\n",
    "        # take all possible daughters!\n",
    "        daughters = ak.flatten(tops.distinctChildren, axis=2)\n",
    "        daughters = daughters[daughters.hasFlags(GEN_FLAGS)]\n",
    "        daughters_pdgId = abs(daughters.pdgId)\n",
    "\n",
    "        wboson_daughters = ak.flatten(daughters[(daughters_pdgId == W_PDGID)].distinctChildren, axis=2)\n",
    "        wboson_daughters = wboson_daughters[wboson_daughters.hasFlags([\"fromHardProcess\", \"isLastCopy\"])]\n",
    "        wboson_daughters_pdgId = abs(wboson_daughters.pdgId)\n",
    "\n",
    "        neutrinos = (\n",
    "            (wboson_daughters_pdgId == vELE_PDGID)\n",
    "            | (wboson_daughters_pdgId == vMU_PDGID)\n",
    "            | (wboson_daughters_pdgId == vTAU_PDGID)\n",
    "        )\n",
    "        leptons = (\n",
    "            (wboson_daughters_pdgId == ELE_PDGID)\n",
    "            | (wboson_daughters_pdgId == MU_PDGID)\n",
    "            | (wboson_daughters_pdgId == TAU_PDGID)\n",
    "        )\n",
    "        quarks = ~leptons & ~neutrinos\n",
    "\n",
    "        # get tau decays from V daughters\n",
    "        taudaughters = wboson_daughters[(wboson_daughters_pdgId == TAU_PDGID)].children\n",
    "        taudaughters = taudaughters[taudaughters.hasFlags([\"isLastCopy\"])]\n",
    "        taudaughters_pdgId = abs(taudaughters.pdgId)\n",
    "        taudecay = (\n",
    "            # pions/kaons (hadronic tau) * 1\n",
    "            (\n",
    "                ak.sum(\n",
    "                    (taudaughters_pdgId == ELE_PDGID) | (taudaughters_pdgId == MU_PDGID),\n",
    "                    axis=2,\n",
    "                )\n",
    "                == 0\n",
    "            )\n",
    "            * 1\n",
    "            # 1 electron * 3\n",
    "            + (ak.sum(taudaughters_pdgId == ELE_PDGID, axis=2) == 1) * 3\n",
    "            # 1 muon * 5\n",
    "            + (ak.sum(taudaughters_pdgId == MU_PDGID, axis=2) == 1) * 5\n",
    "        )\n",
    "        # flatten taudecay - so painful\n",
    "        taudecay = ak.sum(taudecay, axis=-1)\n",
    "\n",
    "        lepVars = {\n",
    "            \"lepton_pt\": wboson_daughters[leptons].pt,\n",
    "            \"lepton_eta\": wboson_daughters[leptons].eta,\n",
    "            \"lepton_phi\": wboson_daughters[leptons].phi,\n",
    "            \"lepton_mass\": wboson_daughters[leptons].mass,\n",
    "        }\n",
    "\n",
    "        quarkVars = {\n",
    "            \"quark_pt\": wboson_daughters[quarks].pt,\n",
    "            \"quark_eta\": wboson_daughters[quarks].eta,\n",
    "            \"quark_phi\": wboson_daughters[quarks].phi,\n",
    "            \"quark_mass\": wboson_daughters[quarks].mass,\n",
    "        }\n",
    "\n",
    "    return lepVars, quarkVars\n"
   ]
  },
  {
   "cell_type": "code",
   "execution_count": 357,
   "id": "d7fb3d69",
   "metadata": {},
   "outputs": [],
   "source": [
    "\n",
    "def get_jec_jets(events, jets, year: str, isData: bool = False, jecs: Dict[str, str] = None, fatjets: bool = True):\n",
    "    \"\"\"\n",
    "    Based on https://github.com/nsmith-/boostedhiggs/blob/master/boostedhiggs/hbbprocessor.py\n",
    "    Eventually update to V5 JECs once I figure out what's going on with the 2017 UL V5 JER scale factors\n",
    "\n",
    "    See https://cms-nanoaod-integration.web.cern.ch/commonJSONSFs/summaries/\n",
    "\n",
    "    If ``jecs`` is not None, returns the shifted values of variables are affected by JECs.\n",
    "    \"\"\"\n",
    "\n",
    "    jec_vars = [\"pt\"]  # variables we are saving that are affected by JECs\n",
    "    if fatjets:\n",
    "        jet_factory = fatjet_factory\n",
    "    else:\n",
    "        jet_factory = ak4jet_factory\n",
    "\n",
    "    apply_jecs = not (not ak.any(jets.pt) or isData)\n",
    "\n",
    "    import cachetools\n",
    "\n",
    "    jec_cache = cachetools.Cache(np.inf)\n",
    "\n",
    "    corr_key = f\"{get_UL_year(year)}mc\".replace(\"_UL\", \"\")\n",
    "\n",
    "    # fatjet_factory.build gives an error if there are no fatjets in event\n",
    "    if apply_jecs:\n",
    "        jets = jet_factory[corr_key].build(_add_jec_variables(jets, events.fixedGridRhoFastjetAll), jec_cache)\n",
    "\n",
    "    # return only fatjets if no jecs given\n",
    "    if jecs is None:\n",
    "        return jets\n",
    "\n",
    "    jec_shifted_vars = {}\n",
    "\n",
    "    for jec_var in jec_vars:\n",
    "        tdict = {\"\": jets[jec_var]}\n",
    "        if apply_jecs:\n",
    "            for key, shift in jecs.items():\n",
    "                for var in [\"up\", \"down\"]:\n",
    "                    tdict[f\"{key}_{var}\"] = jets[shift][var][jec_var]\n",
    "\n",
    "        jec_shifted_vars[jec_var] = tdict\n",
    "\n",
    "    return jets, jec_shifted_vars\n"
   ]
  },
  {
   "cell_type": "code",
   "execution_count": 360,
   "id": "c64d041c",
   "metadata": {},
   "outputs": [],
   "source": [
    "year = \"2017\"\n",
    "jecs = {\n",
    "            \"JES\": \"JES_jes\",\n",
    "            \"JER\": \"JER\",\n",
    "            # individual sources\n",
    "            \"JES_FlavorQCD\": \"JES_FlavorQCD\",\n",
    "            \"JES_RelativeBal\": \"JES_RelativeBal\",\n",
    "            \"JES_HF\": \"JES_HF\",\n",
    "            \"JES_BBEC1\": \"JES_BBEC1\",\n",
    "            \"JES_EC2\": \"JES_EC2\",\n",
    "            \"JES_Absolute\": \"JES_Absolute\",\n",
    "            f\"JES_BBEC1_{year}\": f\"JES_BBEC1_{year}\",\n",
    "            f\"JES_RelativeSample_{year}\": f\"JES_RelativeSample_{year}\",\n",
    "            f\"JES_EC2_{year}\": f\"JES_EC2_{year}\",\n",
    "            f\"JES_HF_{year}\": f\"JES_HF_{year}\",\n",
    "            f\"JES_Absolute_{year}\": f\"JES_Absolute_{year}\",\n",
    "            \"JES_Total\": \"JES_Total\",\n",
    "        }"
   ]
  },
  {
   "cell_type": "code",
   "execution_count": null,
   "id": "b44b6304",
   "metadata": {},
   "outputs": [],
   "source": []
  },
  {
   "cell_type": "code",
   "execution_count": 362,
   "id": "95e84636",
   "metadata": {},
   "outputs": [
    {
     "ename": "NameError",
     "evalue": "name 'jmsr_shifted_fatje' is not defined",
     "output_type": "error",
     "traceback": [
      "\u001b[0;31m---------------------------------------------------------------------------\u001b[0m",
      "\u001b[0;31mNameError\u001b[0m                                 Traceback (most recent call last)",
      "Cell \u001b[0;32mIn[362], line 15\u001b[0m\n\u001b[1;32m     12\u001b[0m fj_idx_lep \u001b[38;5;241m=\u001b[39m ak\u001b[38;5;241m.\u001b[39margmin(good_fatjets\u001b[38;5;241m.\u001b[39mdelta_r(candidatelep_p4), axis\u001b[38;5;241m=\u001b[39m\u001b[38;5;241m1\u001b[39m, keepdims\u001b[38;5;241m=\u001b[39m\u001b[38;5;28;01mTrue\u001b[39;00m)\n\u001b[1;32m     13\u001b[0m candidatefj \u001b[38;5;241m=\u001b[39m ak\u001b[38;5;241m.\u001b[39mfirsts(good_fatjets[fj_idx_lep])\n\u001b[0;32m---> 15\u001b[0m \u001b[43mjmsr_shifted_fatje\u001b[49m\n",
      "\u001b[0;31mNameError\u001b[0m: name 'jmsr_shifted_fatje' is not defined"
     ]
    }
   ],
   "source": [
    "    "
   ]
  },
  {
   "cell_type": "code",
   "execution_count": 363,
   "id": "cb6ded72",
   "metadata": {},
   "outputs": [
    {
     "data": {
      "text/plain": [
       "<FatJetArray [None, None, None, ... None, None, None] type='15000 * ?fatJet'>"
      ]
     },
     "execution_count": 363,
     "metadata": {},
     "output_type": "execute_result"
    }
   ],
   "source": [
    "candidatefj"
   ]
  },
  {
   "cell_type": "code",
   "execution_count": null,
   "id": "0d9927c3",
   "metadata": {},
   "outputs": [],
   "source": []
  },
  {
   "cell_type": "code",
   "execution_count": null,
   "id": "2ac2e6a0",
   "metadata": {},
   "outputs": [],
   "source": []
  },
  {
   "cell_type": "code",
   "execution_count": null,
   "id": "228dd285",
   "metadata": {},
   "outputs": [],
   "source": []
  },
  {
   "cell_type": "code",
   "execution_count": null,
   "id": "246082d6",
   "metadata": {},
   "outputs": [],
   "source": []
  },
  {
   "cell_type": "code",
   "execution_count": 257,
   "id": "28371e31",
   "metadata": {},
   "outputs": [],
   "source": [
    "fatjets = filtered_events.FatJet\n",
    "fatjet_selector = (fatjets.pt > 200) & (abs(fatjets.eta) < 2.5) & fatjets.isTight\n",
    "good_fatjets = fatjets[fatjet_selector]"
   ]
  },
  {
   "cell_type": "code",
   "execution_count": 258,
   "id": "8bc53858",
   "metadata": {},
   "outputs": [
    {
     "name": "stdout",
     "output_type": "stream",
     "text": [
      "jec_compiled.pkl    jec_compiled.pkl.gz\r\n"
     ]
    }
   ],
   "source": [
    "import importlib\n",
    "! ls data"
   ]
  },
  {
   "cell_type": "code",
   "execution_count": 223,
   "id": "8115c08c",
   "metadata": {},
   "outputs": [
    {
     "data": {
      "text/plain": [
       "{'2016preVFPmc': <coffea.jetmet_tools.CorrectedJetsFactory.CorrectedJetsFactory at 0x1c3a78f70>,\n",
       " '2016preVFPmcNOJER': <coffea.jetmet_tools.CorrectedJetsFactory.CorrectedJetsFactory at 0x1c4ed89a0>,\n",
       " '2016postVFPmc': <coffea.jetmet_tools.CorrectedJetsFactory.CorrectedJetsFactory at 0x1c4f4e400>,\n",
       " '2016postVFPmcNOJER': <coffea.jetmet_tools.CorrectedJetsFactory.CorrectedJetsFactory at 0x1c6392dc0>,\n",
       " '2017mc': <coffea.jetmet_tools.CorrectedJetsFactory.CorrectedJetsFactory at 0x1c6406820>,\n",
       " '2017mcNOJER': <coffea.jetmet_tools.CorrectedJetsFactory.CorrectedJetsFactory at 0x1c78c0d60>,\n",
       " '2018mc': <coffea.jetmet_tools.CorrectedJetsFactory.CorrectedJetsFactory at 0x1c79434f0>,\n",
       " '2018mcNOJER': <coffea.jetmet_tools.CorrectedJetsFactory.CorrectedJetsFactory at 0x1c8e49b50>}"
      ]
     },
     "execution_count": 223,
     "metadata": {},
     "output_type": "execute_result"
    }
   ],
   "source": [
    "a[\"fatjet_factory\"]"
   ]
  },
  {
   "cell_type": "code",
   "execution_count": 295,
   "id": "9e82a0b0",
   "metadata": {},
   "outputs": [],
   "source": [
    "# find corrections path using this file's path\n",
    "try:\n",
    "        import pickle as pkl\n",
    "        with open(\"../boostedhiggs/data/jec_compiled.pkl\", \"rb\") as f:\n",
    "            jmestuff = pkl.load(f)\n",
    "        ak4jet_factory = jmestuff[\"jet_factory\"]\n",
    "        fatjet_factory = jmestuff[\"fatjet_factory\"]\n",
    "        met_factory = jmestuff[\"met_factory\"]\n",
    "except KeyError:\n",
    "    print(\"Failed loading compiled JECs\")"
   ]
  },
  {
   "cell_type": "code",
   "execution_count": 293,
   "id": "e0c18e39",
   "metadata": {},
   "outputs": [],
   "source": [
    "import importlib.resources\n",
    "import pickle\n",
    "import warnings\n",
    "from typing import Dict\n",
    "\n",
    "import awkward as ak\n",
    "import correctionlib\n",
    "import numpy as np\n",
    "from coffea import util as cutil\n",
    "from coffea.analysis_tools import Weights\n",
    "from coffea.nanoevents.methods import candidate, vector\n",
    "from coffea.nanoevents.methods.nanoaod import GenParticleArray, JetArray\n",
    "\n",
    "def _add_jec_variables(jets: JetArray, event_rho: ak.Array) -> JetArray:\n",
    "    \"\"\"add variables needed for JECs\"\"\"\n",
    "    jets[\"pt_raw\"] = (1 - jets.rawFactor) * jets.pt\n",
    "    jets[\"mass_raw\"] = (1 - jets.rawFactor) * jets.mass\n",
    "    # gen pT needed for smearing\n",
    "    jets[\"pt_gen\"] = ak.values_astype(ak.fill_none(jets.matched_gen.pt, 0), np.float32)\n",
    "    jets[\"event_rho\"] = ak.broadcast_arrays(event_rho, jets.pt)[0]\n",
    "    return jets\n",
    "\n",
    "def get_UL_year(year):\n",
    "    if year == \"2016\":\n",
    "        year = \"2016postVFP\"\n",
    "    elif year == \"2016APV\":\n",
    "        year = \"2016preVFP\"\n",
    "    return f\"{year}_UL\"\n",
    "\n",
    "year = \"2016\"\n",
    "jets = good_fatjets\n",
    "\n",
    "jec_vars = [\"pt\"]  # variables we are saving that are affected by JECs\n",
    "jet_factory = fatjet_factory\n",
    "apply_jecs = not (not ak.any(jets.pt) or isData)\n",
    "\n",
    "import cachetools\n",
    "\n",
    "jec_cache = cachetools.Cache(np.inf)\n",
    "\n",
    "corr_key = f\"{get_UL_year(year)}mc\".replace(\"_UL\", \"\")\n",
    "\n",
    "# fatjet_factory.build gives an error if there are no fatjets in event\n",
    "if apply_jecs:\n",
    "    jets = jet_factory[corr_key].build(_add_jec_variables(jets, events.fixedGridRhoFastjetAll), jec_cache)\n",
    "\n",
    "\n",
    "jecs = {\n",
    "    \"JES\": \"JES_jes\",\n",
    "    \"JER\": \"JER\",\n",
    "    ############# individual sources\n",
    "    \"JES_FlavorQCD\": \"JES_FlavorQCD\",\n",
    "    \"JES_RelativeBal\": \"JES_RelativeBal\",\n",
    "    \"JES_HF\": \"JES_HF\",\n",
    "    \"JES_BBEC1\": \"JES_BBEC1\",\n",
    "    \"JES_EC2\": \"JES_EC2\",\n",
    "    \"JES_Absolute\": \"JES_Absolute\",\n",
    "    f\"JES_BBEC1_{year}\": f\"JES_BBEC1_{year}\",\n",
    "    f\"JES_RelativeSample_{year}\": f\"JES_RelativeSample_{year}\",\n",
    "    f\"JES_EC2_{year}\": f\"JES_EC2_{year}\",\n",
    "    f\"JES_HF_{year}\": f\"JES_HF_{year}\",\n",
    "    f\"JES_Absolute_{year}\": f\"JES_Absolute_{year}\",\n",
    "    \"JES_Total\": \"JES_Total\",\n",
    "}\n",
    "\n",
    "\n",
    "if jets is not None:\n",
    "    jec_shifted_vars = {}\n",
    "\n",
    "    for jec_var in jec_vars:\n",
    "        tdict = {\"\": jets[jec_var]}\n",
    "        if apply_jecs:\n",
    "            for key, shift in jecs.items():\n",
    "                for var in [\"up\", \"down\"]:\n",
    "                    tdict[f\"{key}_{var}\"] = jets[shift][var][jec_var]\n",
    "\n",
    "        jec_shifted_vars[jec_var] = tdict"
   ]
  },
  {
   "cell_type": "code",
   "execution_count": 294,
   "id": "478289d2",
   "metadata": {
    "scrolled": true
   },
   "outputs": [
    {
     "data": {
      "text/plain": [
       "['area',\n",
       " 'btagCSVV2',\n",
       " 'btagDDBvLV2',\n",
       " 'btagDDCvBV2',\n",
       " 'btagDDCvLV2',\n",
       " 'btagDeepB',\n",
       " 'btagHbb',\n",
       " 'deepTagMD_H4qvsQCD',\n",
       " 'deepTagMD_HbbvsQCD',\n",
       " 'deepTagMD_TvsQCD',\n",
       " 'deepTagMD_WvsQCD',\n",
       " 'deepTagMD_ZHbbvsQCD',\n",
       " 'deepTagMD_ZHccvsQCD',\n",
       " 'deepTagMD_ZbbvsQCD',\n",
       " 'deepTagMD_ZvsQCD',\n",
       " 'deepTagMD_bbvsLight',\n",
       " 'deepTagMD_ccvsLight',\n",
       " 'deepTag_H',\n",
       " 'deepTag_QCD',\n",
       " 'deepTag_QCDothers',\n",
       " 'deepTag_TvsQCD',\n",
       " 'deepTag_WvsQCD',\n",
       " 'deepTag_ZvsQCD',\n",
       " 'eta',\n",
       " 'inclParTMDV1_HWW4q3qvsQCD',\n",
       " 'inclParTMDV1_HWW4qvsQCD',\n",
       " 'inclParTMDV1_HWWlvqqvsQCDTop',\n",
       " 'inclParTMDV1_HWWlvqqvsTopblv',\n",
       " 'inclParTMDV1_HbbvsQCD',\n",
       " 'inclParTMDV1_HccvsQCD',\n",
       " 'inclParTMDV1_hidNeuron000',\n",
       " 'inclParTMDV1_hidNeuron001',\n",
       " 'inclParTMDV1_hidNeuron002',\n",
       " 'inclParTMDV1_hidNeuron003',\n",
       " 'inclParTMDV1_hidNeuron004',\n",
       " 'inclParTMDV1_hidNeuron005',\n",
       " 'inclParTMDV1_hidNeuron006',\n",
       " 'inclParTMDV1_hidNeuron007',\n",
       " 'inclParTMDV1_hidNeuron008',\n",
       " 'inclParTMDV1_hidNeuron009',\n",
       " 'inclParTMDV1_hidNeuron010',\n",
       " 'inclParTMDV1_hidNeuron011',\n",
       " 'inclParTMDV1_hidNeuron012',\n",
       " 'inclParTMDV1_hidNeuron013',\n",
       " 'inclParTMDV1_hidNeuron014',\n",
       " 'inclParTMDV1_hidNeuron015',\n",
       " 'inclParTMDV1_hidNeuron016',\n",
       " 'inclParTMDV1_hidNeuron017',\n",
       " 'inclParTMDV1_hidNeuron018',\n",
       " 'inclParTMDV1_hidNeuron019',\n",
       " 'inclParTMDV1_hidNeuron020',\n",
       " 'inclParTMDV1_hidNeuron021',\n",
       " 'inclParTMDV1_hidNeuron022',\n",
       " 'inclParTMDV1_hidNeuron023',\n",
       " 'inclParTMDV1_hidNeuron024',\n",
       " 'inclParTMDV1_hidNeuron025',\n",
       " 'inclParTMDV1_hidNeuron026',\n",
       " 'inclParTMDV1_hidNeuron027',\n",
       " 'inclParTMDV1_hidNeuron028',\n",
       " 'inclParTMDV1_hidNeuron029',\n",
       " 'inclParTMDV1_hidNeuron030',\n",
       " 'inclParTMDV1_hidNeuron031',\n",
       " 'inclParTMDV1_hidNeuron032',\n",
       " 'inclParTMDV1_hidNeuron033',\n",
       " 'inclParTMDV1_hidNeuron034',\n",
       " 'inclParTMDV1_hidNeuron035',\n",
       " 'inclParTMDV1_hidNeuron036',\n",
       " 'inclParTMDV1_hidNeuron037',\n",
       " 'inclParTMDV1_hidNeuron038',\n",
       " 'inclParTMDV1_hidNeuron039',\n",
       " 'inclParTMDV1_hidNeuron040',\n",
       " 'inclParTMDV1_hidNeuron041',\n",
       " 'inclParTMDV1_hidNeuron042',\n",
       " 'inclParTMDV1_hidNeuron043',\n",
       " 'inclParTMDV1_hidNeuron044',\n",
       " 'inclParTMDV1_hidNeuron045',\n",
       " 'inclParTMDV1_hidNeuron046',\n",
       " 'inclParTMDV1_hidNeuron047',\n",
       " 'inclParTMDV1_hidNeuron048',\n",
       " 'inclParTMDV1_hidNeuron049',\n",
       " 'inclParTMDV1_hidNeuron050',\n",
       " 'inclParTMDV1_hidNeuron051',\n",
       " 'inclParTMDV1_hidNeuron052',\n",
       " 'inclParTMDV1_hidNeuron053',\n",
       " 'inclParTMDV1_hidNeuron054',\n",
       " 'inclParTMDV1_hidNeuron055',\n",
       " 'inclParTMDV1_hidNeuron056',\n",
       " 'inclParTMDV1_hidNeuron057',\n",
       " 'inclParTMDV1_hidNeuron058',\n",
       " 'inclParTMDV1_hidNeuron059',\n",
       " 'inclParTMDV1_hidNeuron060',\n",
       " 'inclParTMDV1_hidNeuron061',\n",
       " 'inclParTMDV1_hidNeuron062',\n",
       " 'inclParTMDV1_hidNeuron063',\n",
       " 'inclParTMDV1_hidNeuron064',\n",
       " 'inclParTMDV1_hidNeuron065',\n",
       " 'inclParTMDV1_hidNeuron066',\n",
       " 'inclParTMDV1_hidNeuron067',\n",
       " 'inclParTMDV1_hidNeuron068',\n",
       " 'inclParTMDV1_hidNeuron069',\n",
       " 'inclParTMDV1_hidNeuron070',\n",
       " 'inclParTMDV1_hidNeuron071',\n",
       " 'inclParTMDV1_hidNeuron072',\n",
       " 'inclParTMDV1_hidNeuron073',\n",
       " 'inclParTMDV1_hidNeuron074',\n",
       " 'inclParTMDV1_hidNeuron075',\n",
       " 'inclParTMDV1_hidNeuron076',\n",
       " 'inclParTMDV1_hidNeuron077',\n",
       " 'inclParTMDV1_hidNeuron078',\n",
       " 'inclParTMDV1_hidNeuron079',\n",
       " 'inclParTMDV1_hidNeuron080',\n",
       " 'inclParTMDV1_hidNeuron081',\n",
       " 'inclParTMDV1_hidNeuron082',\n",
       " 'inclParTMDV1_hidNeuron083',\n",
       " 'inclParTMDV1_hidNeuron084',\n",
       " 'inclParTMDV1_hidNeuron085',\n",
       " 'inclParTMDV1_hidNeuron086',\n",
       " 'inclParTMDV1_hidNeuron087',\n",
       " 'inclParTMDV1_hidNeuron088',\n",
       " 'inclParTMDV1_hidNeuron089',\n",
       " 'inclParTMDV1_hidNeuron090',\n",
       " 'inclParTMDV1_hidNeuron091',\n",
       " 'inclParTMDV1_hidNeuron092',\n",
       " 'inclParTMDV1_hidNeuron093',\n",
       " 'inclParTMDV1_hidNeuron094',\n",
       " 'inclParTMDV1_hidNeuron095',\n",
       " 'inclParTMDV1_hidNeuron096',\n",
       " 'inclParTMDV1_hidNeuron097',\n",
       " 'inclParTMDV1_hidNeuron098',\n",
       " 'inclParTMDV1_hidNeuron099',\n",
       " 'inclParTMDV1_hidNeuron100',\n",
       " 'inclParTMDV1_hidNeuron101',\n",
       " 'inclParTMDV1_hidNeuron102',\n",
       " 'inclParTMDV1_hidNeuron103',\n",
       " 'inclParTMDV1_hidNeuron104',\n",
       " 'inclParTMDV1_hidNeuron105',\n",
       " 'inclParTMDV1_hidNeuron106',\n",
       " 'inclParTMDV1_hidNeuron107',\n",
       " 'inclParTMDV1_hidNeuron108',\n",
       " 'inclParTMDV1_hidNeuron109',\n",
       " 'inclParTMDV1_hidNeuron110',\n",
       " 'inclParTMDV1_hidNeuron111',\n",
       " 'inclParTMDV1_hidNeuron112',\n",
       " 'inclParTMDV1_hidNeuron113',\n",
       " 'inclParTMDV1_hidNeuron114',\n",
       " 'inclParTMDV1_hidNeuron115',\n",
       " 'inclParTMDV1_hidNeuron116',\n",
       " 'inclParTMDV1_hidNeuron117',\n",
       " 'inclParTMDV1_hidNeuron118',\n",
       " 'inclParTMDV1_hidNeuron119',\n",
       " 'inclParTMDV1_hidNeuron120',\n",
       " 'inclParTMDV1_hidNeuron121',\n",
       " 'inclParTMDV1_hidNeuron122',\n",
       " 'inclParTMDV1_hidNeuron123',\n",
       " 'inclParTMDV1_hidNeuron124',\n",
       " 'inclParTMDV1_hidNeuron125',\n",
       " 'inclParTMDV1_hidNeuron126',\n",
       " 'inclParTMDV1_hidNeuron127',\n",
       " 'inclParTMDV1_mass',\n",
       " 'inclParTMDV1_probHWqqWev0c',\n",
       " 'inclParTMDV1_probHWqqWev1c',\n",
       " 'inclParTMDV1_probHWqqWmv0c',\n",
       " 'inclParTMDV1_probHWqqWmv1c',\n",
       " 'inclParTMDV1_probHWqqWq0c',\n",
       " 'inclParTMDV1_probHWqqWq1c',\n",
       " 'inclParTMDV1_probHWqqWq2c',\n",
       " 'inclParTMDV1_probHWqqWqq0c',\n",
       " 'inclParTMDV1_probHWqqWqq1c',\n",
       " 'inclParTMDV1_probHWqqWqq2c',\n",
       " 'inclParTMDV1_probHWqqWtauev0c',\n",
       " 'inclParTMDV1_probHWqqWtauev1c',\n",
       " 'inclParTMDV1_probHWqqWtauhv0c',\n",
       " 'inclParTMDV1_probHWqqWtauhv1c',\n",
       " 'inclParTMDV1_probHWqqWtaumv0c',\n",
       " 'inclParTMDV1_probHWqqWtaumv1c',\n",
       " 'inclParTMDV1_probHbb',\n",
       " 'inclParTMDV1_probHcc',\n",
       " 'inclParTMDV1_probHqq',\n",
       " 'inclParTMDV1_probHss',\n",
       " 'inclParTMDV1_probHtauhtaue',\n",
       " 'inclParTMDV1_probHtauhtauh',\n",
       " 'inclParTMDV1_probHtauhtaum',\n",
       " 'inclParTMDV1_probQCDb',\n",
       " 'inclParTMDV1_probQCDbb',\n",
       " 'inclParTMDV1_probQCDc',\n",
       " 'inclParTMDV1_probQCDcc',\n",
       " 'inclParTMDV1_probQCDothers',\n",
       " 'inclParTMDV1_probTopbWev',\n",
       " 'inclParTMDV1_probTopbWmv',\n",
       " 'inclParTMDV1_probTopbWq0c',\n",
       " 'inclParTMDV1_probTopbWq1c',\n",
       " 'inclParTMDV1_probTopbWqq0c',\n",
       " 'inclParTMDV1_probTopbWqq1c',\n",
       " 'inclParTMDV1_probTopbWtauev',\n",
       " 'inclParTMDV1_probTopbWtauhv',\n",
       " 'inclParTMDV1_probTopbWtaumv',\n",
       " 'mass',\n",
       " 'msoftdrop',\n",
       " 'n2b1',\n",
       " 'n3b1',\n",
       " 'particleNetMD_QCD',\n",
       " 'particleNetMD_Xbb',\n",
       " 'particleNetMD_Xcc',\n",
       " 'particleNetMD_Xqq',\n",
       " 'particleNet_H4qvsQCD',\n",
       " 'particleNet_HbbvsQCD',\n",
       " 'particleNet_HccvsQCD',\n",
       " 'particleNet_QCD',\n",
       " 'particleNet_TvsQCD',\n",
       " 'particleNet_WvsQCD',\n",
       " 'particleNet_ZvsQCD',\n",
       " 'particleNet_mass',\n",
       " 'phi',\n",
       " 'pt',\n",
       " 'rawFactor',\n",
       " 'tau1',\n",
       " 'tau2',\n",
       " 'tau3',\n",
       " 'tau4',\n",
       " 'lsf3',\n",
       " 'jetId',\n",
       " 'subJetIdx1',\n",
       " 'subJetIdx2',\n",
       " 'electronIdx3SJ',\n",
       " 'muonIdx3SJ',\n",
       " 'nConstituents',\n",
       " 'DDX_tau1_flightDistance2dSig',\n",
       " 'DDX_tau1_trackEtaRel_0',\n",
       " 'DDX_tau1_trackEtaRel_1',\n",
       " 'DDX_tau1_trackEtaRel_2',\n",
       " 'DDX_tau1_trackSip3dSig_0',\n",
       " 'DDX_tau1_trackSip3dSig_1',\n",
       " 'DDX_tau1_vertexDeltaR',\n",
       " 'DDX_tau1_vertexEnergyRatio',\n",
       " 'DDX_tau1_vertexMass',\n",
       " 'DDX_tau2_flightDistance2dSig',\n",
       " 'DDX_tau2_trackEtaRel_0',\n",
       " 'DDX_tau2_trackEtaRel_1',\n",
       " 'DDX_tau2_trackEtaRel_3',\n",
       " 'DDX_tau2_trackSip3dSig_0',\n",
       " 'DDX_tau2_trackSip3dSig_1',\n",
       " 'DDX_tau2_vertexEnergyRatio',\n",
       " 'DDX_tau2_vertexMass',\n",
       " 'DDX_trackSip2dSigAboveBottom_0',\n",
       " 'DDX_trackSip2dSigAboveBottom_1',\n",
       " 'DDX_trackSip2dSigAboveCharm',\n",
       " 'DDX_trackSip3dSig_0',\n",
       " 'DDX_trackSip3dSig_1',\n",
       " 'DDX_trackSip3dSig_2',\n",
       " 'DDX_trackSip3dSig_3',\n",
       " 'DDX_z_ratio',\n",
       " 'Proba',\n",
       " 'btagDeepB_b',\n",
       " 'btagDeepB_bb',\n",
       " 'btagDeepL',\n",
       " 'DDX_jetNSecondaryVertices',\n",
       " 'DDX_jetNTracks',\n",
       " 'nBHadrons',\n",
       " 'nCHadrons',\n",
       " 'genJetAK8Idx',\n",
       " 'hadronFlavour',\n",
       " 'genJetAK8IdxG',\n",
       " 'subJetIdx1G',\n",
       " 'subJetIdx2G',\n",
       " 'subJetIdxG',\n",
       " 'pFCandsIdxG',\n",
       " 'pt_raw',\n",
       " 'mass_raw',\n",
       " 'pt_gen',\n",
       " 'event_rho',\n",
       " 'pt_orig',\n",
       " 'mass_orig',\n",
       " 'jet_energy_correction',\n",
       " 'pt_jec',\n",
       " 'mass_jec',\n",
       " 'jet_energy_resolution',\n",
       " 'jet_energy_resolution_scale_factor',\n",
       " 'jet_resolution_rand_gauss',\n",
       " 'jet_energy_resolution_correction',\n",
       " 'pt_jer',\n",
       " 'mass_jer',\n",
       " 'JER',\n",
       " 'jet_energy_uncertainty_FlavorQCD',\n",
       " 'JES_FlavorQCD',\n",
       " 'jet_energy_uncertainty_RelativeBal',\n",
       " 'JES_RelativeBal',\n",
       " 'jet_energy_uncertainty_HF',\n",
       " 'JES_HF',\n",
       " 'jet_energy_uncertainty_BBEC1',\n",
       " 'JES_BBEC1',\n",
       " 'jet_energy_uncertainty_EC2',\n",
       " 'JES_EC2',\n",
       " 'jet_energy_uncertainty_Absolute',\n",
       " 'JES_Absolute',\n",
       " 'jet_energy_uncertainty_BBEC1_2016',\n",
       " 'JES_BBEC1_2016',\n",
       " 'jet_energy_uncertainty_EC2_2016',\n",
       " 'JES_EC2_2016',\n",
       " 'jet_energy_uncertainty_Absolute_2016',\n",
       " 'JES_Absolute_2016',\n",
       " 'jet_energy_uncertainty_HF_2016',\n",
       " 'JES_HF_2016',\n",
       " 'jet_energy_uncertainty_RelativeSample_2016',\n",
       " 'JES_RelativeSample_2016',\n",
       " 'jet_energy_uncertainty_Total',\n",
       " 'JES_Total',\n",
       " 'jet_energy_uncertainty_jes',\n",
       " 'JES_jes']"
      ]
     },
     "execution_count": 294,
     "metadata": {},
     "output_type": "execute_result"
    }
   ],
   "source": [
    "jets.fields"
   ]
  },
  {
   "cell_type": "code",
   "execution_count": null,
   "id": "d9bb9b5a",
   "metadata": {},
   "outputs": [],
   "source": []
  },
  {
   "cell_type": "code",
   "execution_count": 297,
   "id": "0d462877",
   "metadata": {},
   "outputs": [],
   "source": [
    "met = met_factory.build(events.MET, jets, {})"
   ]
  },
  {
   "cell_type": "code",
   "execution_count": 299,
   "id": "a1c6967e",
   "metadata": {},
   "outputs": [
    {
     "data": {
      "text/plain": [
       "['MetUnclustEnUpDeltaX',\n",
       " 'MetUnclustEnUpDeltaY',\n",
       " 'covXX',\n",
       " 'covXY',\n",
       " 'covYY',\n",
       " 'significance',\n",
       " 'sumEt',\n",
       " 'sumPtUnclustered',\n",
       " 'fiducialGenPhi',\n",
       " 'fiducialGenPt',\n",
       " 'pt',\n",
       " 'phi',\n",
       " 'pt_orig',\n",
       " 'phi_orig',\n",
       " 'MET_UnclusteredEnergy',\n",
       " 'JER',\n",
       " 'JES_FlavorQCD',\n",
       " 'JES_RelativeBal',\n",
       " 'JES_HF',\n",
       " 'JES_BBEC1',\n",
       " 'JES_EC2',\n",
       " 'JES_Absolute',\n",
       " 'JES_BBEC1_2016',\n",
       " 'JES_EC2_2016',\n",
       " 'JES_Absolute_2016',\n",
       " 'JES_HF_2016',\n",
       " 'JES_RelativeSample_2016',\n",
       " 'JES_Total',\n",
       " 'JES_jes']"
      ]
     },
     "execution_count": 299,
     "metadata": {},
     "output_type": "execute_result"
    }
   ],
   "source": [
    "met.fields"
   ]
  },
  {
   "cell_type": "code",
   "execution_count": 307,
   "id": "12880ee1",
   "metadata": {},
   "outputs": [
    {
     "data": {
      "text/plain": [
       "<Array [{up: MissingET, ... down: MissingET}] type='15000 * METSystematic[\"up\": ...'>"
      ]
     },
     "execution_count": 307,
     "metadata": {},
     "output_type": "execute_result"
    }
   ],
   "source": [
    "met.JES_jes"
   ]
  },
  {
   "cell_type": "code",
   "execution_count": 311,
   "id": "ae7da746",
   "metadata": {},
   "outputs": [
    {
     "data": {
      "text/plain": [
       "{'': <Array [[314], [231], ... [251, 251], [287]] type='15000 * var * float32'>,\n",
       " 'JES_up': <Array [[317], [233], ... [254, 253], [289]] type='15000 * var * float32'>,\n",
       " 'JES_down': <Array [[311], [229], ... [249, 249], [285]] type='15000 * var * float32'>,\n",
       " 'JER_up': <Array [[316], [232], ... [251, 251], [287]] type='15000 * var * float32'>,\n",
       " 'JER_down': <Array [[311], [230], ... [252, 252], [287]] type='15000 * var * float32'>,\n",
       " 'JES_FlavorQCD_up': <Array [[315], [232], ... [252, 252], [288]] type='15000 * var * float32'>,\n",
       " 'JES_FlavorQCD_down': <Array [[313], [230], ... [250, 250], [286]] type='15000 * var * float32'>,\n",
       " 'JES_RelativeBal_up': <Array [[313], [231], ... [251, 252], [287]] type='15000 * var * float32'>,\n",
       " 'JES_RelativeBal_down': <Array [[315], [231], ... [251, 251], [287]] type='15000 * var * float32'>,\n",
       " 'JES_HF_up': <Array [[314], [231], ... [251, 251], [287]] type='15000 * var * float32'>,\n",
       " 'JES_HF_down': <Array [[314], [231], ... [251, 251], [287]] type='15000 * var * float32'>,\n",
       " 'JES_BBEC1_up': <Array [[314], [231], ... [251, 251], [287]] type='15000 * var * float32'>,\n",
       " 'JES_BBEC1_down': <Array [[313], [231], ... [251, 251], [287]] type='15000 * var * float32'>,\n",
       " 'JES_EC2_up': <Array [[314], [231], ... [251, 251], [287]] type='15000 * var * float32'>,\n",
       " 'JES_EC2_down': <Array [[314], [231], ... [251, 251], [287]] type='15000 * var * float32'>,\n",
       " 'JES_Absolute_up': <Array [[315], [232], ... [252, 252], [288]] type='15000 * var * float32'>,\n",
       " 'JES_Absolute_down': <Array [[312], [231], ... [250, 250], [286]] type='15000 * var * float32'>,\n",
       " 'JES_BBEC1_2016_up': <Array [[314], [232], ... [252, 251], [287]] type='15000 * var * float32'>,\n",
       " 'JES_BBEC1_2016_down': <Array [[313], [231], ... [251, 251], [287]] type='15000 * var * float32'>,\n",
       " 'JES_RelativeSample_2016_up': <Array [[312], [230], ... [250, 251], [286]] type='15000 * var * float32'>,\n",
       " 'JES_RelativeSample_2016_down': <Array [[315], [232], ... [252, 251], [288]] type='15000 * var * float32'>,\n",
       " 'JES_EC2_2016_up': <Array [[314], [231], ... [251, 251], [287]] type='15000 * var * float32'>,\n",
       " 'JES_EC2_2016_down': <Array [[314], [231], ... [251, 251], [287]] type='15000 * var * float32'>,\n",
       " 'JES_HF_2016_up': <Array [[314], [231], ... [251, 251], [287]] type='15000 * var * float32'>,\n",
       " 'JES_HF_2016_down': <Array [[314], [231], ... [251, 251], [287]] type='15000 * var * float32'>,\n",
       " 'JES_Absolute_2016_up': <Array [[315], [233], ... [253, 253], [288]] type='15000 * var * float32'>,\n",
       " 'JES_Absolute_2016_down': <Array [[312], [230], ... [250, 250], [285]] type='15000 * var * float32'>,\n",
       " 'JES_Total_up': <Array [[317], [233], ... [254, 253], [289]] type='15000 * var * float32'>,\n",
       " 'JES_Total_down': <Array [[311], [229], ... [249, 249], [285]] type='15000 * var * float32'>}"
      ]
     },
     "execution_count": 311,
     "metadata": {},
     "output_type": "execute_result"
    }
   ],
   "source": [
    "jec_shifted_vars[\"pt\"]"
   ]
  },
  {
   "cell_type": "code",
   "execution_count": 331,
   "id": "1e686579",
   "metadata": {},
   "outputs": [],
   "source": [
    "jec_shifted_fatjetvars = jec_shifted_vars"
   ]
  },
  {
   "cell_type": "code",
   "execution_count": 324,
   "id": "6a1abc1f",
   "metadata": {},
   "outputs": [
    {
     "data": {
      "text/plain": [
       "<Array [[317], [233], ... [254, 253], [289]] type='15000 * var * float32'>"
      ]
     },
     "execution_count": 324,
     "metadata": {},
     "output_type": "execute_result"
    }
   ],
   "source": [
    "(fatjets.pt > 200) & (abs(fatjets.eta) < 2.5) & fatjets.isTight"
   ]
  },
  {
   "cell_type": "code",
   "execution_count": 321,
   "id": "413d6ccf",
   "metadata": {},
   "outputs": [
    {
     "ename": "ValueError",
     "evalue": "key \"JERup\" does not exist (not in record)\n\n(https://github.com/scikit-hep/awkward-1.0/blob/1.10.5/src/libawkward/util.cpp#L525)",
     "output_type": "error",
     "traceback": [
      "\u001b[0;31m---------------------------------------------------------------------------\u001b[0m",
      "\u001b[0;31mValueError\u001b[0m                                Traceback (most recent call last)",
      "Cell \u001b[0;32mIn[321], line 1\u001b[0m\n\u001b[0;32m----> 1\u001b[0m \u001b[43mmet\u001b[49m\u001b[43m[\u001b[49m\u001b[38;5;124;43m\"\u001b[39;49m\u001b[38;5;124;43mJERup\u001b[39;49m\u001b[38;5;124;43m\"\u001b[39;49m\u001b[43m]\u001b[49m\n",
      "File \u001b[0;32m~/miniconda3/envs/fastjet-env/lib/python3.9/site-packages/awkward/highlevel.py:991\u001b[0m, in \u001b[0;36mArray.__getitem__\u001b[0;34m(self, where)\u001b[0m\n\u001b[1;32m    579\u001b[0m \u001b[38;5;250m\u001b[39m\u001b[38;5;124;03m\"\"\"\u001b[39;00m\n\u001b[1;32m    580\u001b[0m \u001b[38;5;124;03mArgs:\u001b[39;00m\n\u001b[1;32m    581\u001b[0m \u001b[38;5;124;03m    where (many types supported; see below): Index of positions to\u001b[39;00m\n\u001b[0;32m   (...)\u001b[0m\n\u001b[1;32m    988\u001b[0m \u001b[38;5;124;03mhave the same dimension as the array being indexed.\u001b[39;00m\n\u001b[1;32m    989\u001b[0m \u001b[38;5;124;03m\"\"\"\u001b[39;00m\n\u001b[1;32m    990\u001b[0m \u001b[38;5;28;01mif\u001b[39;00m \u001b[38;5;129;01mnot\u001b[39;00m \u001b[38;5;28mhasattr\u001b[39m(\u001b[38;5;28mself\u001b[39m, \u001b[38;5;124m\"\u001b[39m\u001b[38;5;124m_tracers\u001b[39m\u001b[38;5;124m\"\u001b[39m):\n\u001b[0;32m--> 991\u001b[0m     tmp \u001b[38;5;241m=\u001b[39m ak\u001b[38;5;241m.\u001b[39m_util\u001b[38;5;241m.\u001b[39mwrap(\u001b[38;5;28;43mself\u001b[39;49m\u001b[38;5;241;43m.\u001b[39;49m\u001b[43mlayout\u001b[49m\u001b[43m[\u001b[49m\u001b[43mwhere\u001b[49m\u001b[43m]\u001b[49m, \u001b[38;5;28mself\u001b[39m\u001b[38;5;241m.\u001b[39m_behavior)\n\u001b[1;32m    992\u001b[0m \u001b[38;5;28;01melse\u001b[39;00m:\n\u001b[1;32m    993\u001b[0m     tmp \u001b[38;5;241m=\u001b[39m ak\u001b[38;5;241m.\u001b[39m_connect\u001b[38;5;241m.\u001b[39m_jax\u001b[38;5;241m.\u001b[39mjax_utils\u001b[38;5;241m.\u001b[39m_jaxtracers_getitem(\u001b[38;5;28mself\u001b[39m, where)\n",
      "\u001b[0;31mValueError\u001b[0m: key \"JERup\" does not exist (not in record)\n\n(https://github.com/scikit-hep/awkward-1.0/blob/1.10.5/src/libawkward/util.cpp#L525)"
     ]
    }
   ],
   "source": [
    "met[\"JERup\"]"
   ]
  },
  {
   "cell_type": "code",
   "execution_count": 380,
   "id": "4e0550f9",
   "metadata": {
    "scrolled": true
   },
   "outputs": [
    {
     "name": "stdout",
     "output_type": "stream",
     "text": [
      "JES_jes\n",
      "JER\n",
      "JES_FlavorQCD\n",
      "JES_RelativeBal\n",
      "JES_HF\n",
      "JES_BBEC1\n",
      "JES_EC2\n",
      "JES_Absolute\n",
      "JES_BBEC1_2017\n",
      "JES_RelativeSample_2017\n",
      "JES_EC2_2017\n",
      "JES_HF_2017\n",
      "JES_Absolute_2017\n",
      "JES_Total\n"
     ]
    }
   ],
   "source": [
    "\n",
    "    print(v)"
   ]
  },
  {
   "cell_type": "code",
   "execution_count": 382,
   "id": "f05281a7",
   "metadata": {},
   "outputs": [],
   "source": [
    "v = \"JES_EC2\"\n",
    "var = \"up\""
   ]
  },
  {
   "cell_type": "code",
   "execution_count": 387,
   "id": "7499b093",
   "metadata": {},
   "outputs": [
    {
     "data": {
      "text/plain": [
       "<Array [None, None, None, ... None, None, None] type='15000 * ?bool'>"
      ]
     },
     "execution_count": 387,
     "metadata": {},
     "output_type": "execute_result"
    }
   ],
   "source": [
    "candidatefj[v][var].pt > 250"
   ]
  },
  {
   "cell_type": "code",
   "execution_count": 388,
   "id": "317f6c91",
   "metadata": {},
   "outputs": [
    {
     "ename": "ValueError",
     "evalue": "maximum supported dimension for an ndarray is 32, found 15000",
     "output_type": "error",
     "traceback": [
      "\u001b[0;31m---------------------------------------------------------------------------\u001b[0m",
      "\u001b[0;31mValueError\u001b[0m                                Traceback (most recent call last)",
      "Cell \u001b[0;32mIn[388], line 1\u001b[0m\n\u001b[0;32m----> 1\u001b[0m \u001b[43mnp\u001b[49m\u001b[38;5;241;43m.\u001b[39;49m\u001b[43mzeros\u001b[49m\u001b[43m(\u001b[49m\u001b[43mcandidatefj\u001b[49m\u001b[43m)\u001b[49m\n",
      "\u001b[0;31mValueError\u001b[0m: maximum supported dimension for an ndarray is 32, found 15000"
     ]
    }
   ],
   "source": [
    "np.zeros(candidatefj)"
   ]
  },
  {
   "cell_type": "code",
   "execution_count": 394,
   "id": "05f0d2be",
   "metadata": {},
   "outputs": [
    {
     "data": {
      "text/plain": [
       "<FatJetArray [None, None, None, ... None, None, None] type='15000 * ?fatJet'>"
      ]
     },
     "execution_count": 394,
     "metadata": {},
     "output_type": "execute_result"
    }
   ],
   "source": [
    "cuts"
   ]
  },
  {
   "cell_type": "code",
   "execution_count": 395,
   "id": "25054e91",
   "metadata": {},
   "outputs": [
    {
     "data": {
      "text/plain": [
       "<Array [None, None, None, ... None, None, None] type='15000 * ?bool'>"
      ]
     },
     "execution_count": 395,
     "metadata": {},
     "output_type": "execute_result"
    }
   ],
   "source": [
    "candidatefj[v][var].pt > 250"
   ]
  },
  {
   "cell_type": "code",
   "execution_count": 406,
   "id": "e1eeb53c",
   "metadata": {},
   "outputs": [
    {
     "data": {
      "text/plain": [
       "<Array [None, None, None, ... None, None, None] type='15000 * ?bool'>"
      ]
     },
     "execution_count": 406,
     "metadata": {},
     "output_type": "execute_result"
    }
   ],
   "source": [
    "cuts = ak.zeros_like(candidatefj.pt, dtype=bool)\n",
    "cuts"
   ]
  },
  {
   "cell_type": "code",
   "execution_count": 416,
   "id": "f54f1cd0",
   "metadata": {},
   "outputs": [],
   "source": [
    "# OBJECT: AK8 fatjets\n",
    "fatjets = events.FatJet\n",
    "fatjet_selector = (fatjets.pt > 200) & (abs(fatjets.eta) < 2.5) & fatjets.isTight\n",
    "good_fatjets = fatjets[fatjet_selector]\n",
    "good_fatjets = good_fatjets[ak.argsort(good_fatjets.pt, ascending=False)]  # sort them by pt\n",
    "\n",
    "good_fatjets, jec_shifted_fatjetvars = get_jec_jets(\n",
    "    events, good_fatjets, \"2017\", False, jecs, fatjets=True\n",
    ")\n",
    "\n",
    "# OBJECT: candidate fatjet\n",
    "fj_idx_lep = ak.argmin(good_fatjets.delta_r(candidatelep_p4), axis=1, keepdims=True)\n",
    "candidatefj = ak.firsts(good_fatjets[fj_idx_lep])        "
   ]
  },
  {
   "cell_type": "code",
   "execution_count": 419,
   "id": "45bd8c91",
   "metadata": {},
   "outputs": [
    {
     "data": {
      "text/plain": [
       "1479"
      ]
     },
     "execution_count": 419,
     "metadata": {},
     "output_type": "execute_result"
    }
   ],
   "source": [
    "a = candidatefj.pt>250\n",
    "ak.sum(a[~ak.is_none(a)])"
   ]
  },
  {
   "cell_type": "code",
   "execution_count": 420,
   "id": "01424aa7",
   "metadata": {},
   "outputs": [],
   "source": [
    "cuts = ak.zeros_like(candidatefj.pt, dtype=bool)\n",
    "for k, v in jecs.items():\n",
    "    for var in [\"up\", \"down\"]:\n",
    "        cuts = cuts | (candidatefj[v][var].pt > 250)"
   ]
  },
  {
   "cell_type": "code",
   "execution_count": 421,
   "id": "72b1743e",
   "metadata": {},
   "outputs": [
    {
     "data": {
      "text/plain": [
       "1540"
      ]
     },
     "execution_count": 421,
     "metadata": {},
     "output_type": "execute_result"
    }
   ],
   "source": [
    "a = cuts\n",
    "ak.sum(a[~ak.is_none(a)])"
   ]
  },
  {
   "cell_type": "code",
   "execution_count": 414,
   "id": "e670825e",
   "metadata": {},
   "outputs": [
    {
     "data": {
      "text/plain": [
       "<Array [True, False, True, ... True, True] type='2675 * ?bool'>"
      ]
     },
     "execution_count": 414,
     "metadata": {},
     "output_type": "execute_result"
    }
   ],
   "source": [
    "cuts[~ak.is_none(cuts)]"
   ]
  },
  {
   "cell_type": "code",
   "execution_count": 415,
   "id": "19ac0c25",
   "metadata": {},
   "outputs": [
    {
     "data": {
      "text/plain": [
       "<Array [True, False, True, ... True, False] type='2675 * ?bool'>"
      ]
     },
     "execution_count": 415,
     "metadata": {},
     "output_type": "execute_result"
    }
   ],
   "source": [
    "(candidatefj.pt>250)[~ak.is_none(candidatefj.pt>250)]"
   ]
  },
  {
   "cell_type": "code",
   "execution_count": 422,
   "id": "0e9f7bc8",
   "metadata": {},
   "outputs": [
    {
     "data": {
      "text/plain": [
       "<Array [None, None, None, ... None, None, None] type='15000 * ?bool'>"
      ]
     },
     "execution_count": 422,
     "metadata": {},
     "output_type": "execute_result"
    }
   ],
   "source": [
    "cuts"
   ]
  },
  {
   "cell_type": "code",
   "execution_count": null,
   "id": "edfdef2f",
   "metadata": {},
   "outputs": [],
   "source": []
  },
  {
   "cell_type": "code",
   "execution_count": 349,
   "id": "b53749cf",
   "metadata": {},
   "outputs": [
    {
     "data": {
      "text/plain": [
       "array([ True, False, False, ...,  True,  True,  True])"
      ]
     },
     "execution_count": 349,
     "metadata": {},
     "output_type": "execute_result"
    }
   ],
   "source": [
    "np.any(cuts, axis=0)"
   ]
  },
  {
   "cell_type": "code",
   "execution_count": 369,
   "id": "5dca7597",
   "metadata": {},
   "outputs": [
    {
     "data": {
      "text/plain": [
       "{'': <Array [[314], [231], ... [251, 251], [287]] type='15000 * var * float32'>,\n",
       " 'JES_up': <Array [[317], [233], ... [254, 253], [289]] type='15000 * var * float32'>,\n",
       " 'JES_down': <Array [[311], [229], ... [249, 249], [285]] type='15000 * var * float32'>,\n",
       " 'JER_up': <Array [[316], [232], ... [251, 251], [287]] type='15000 * var * float32'>,\n",
       " 'JER_down': <Array [[311], [230], ... [252, 252], [287]] type='15000 * var * float32'>,\n",
       " 'JES_FlavorQCD_up': <Array [[315], [232], ... [252, 252], [288]] type='15000 * var * float32'>,\n",
       " 'JES_FlavorQCD_down': <Array [[313], [230], ... [250, 250], [286]] type='15000 * var * float32'>,\n",
       " 'JES_RelativeBal_up': <Array [[313], [231], ... [251, 252], [287]] type='15000 * var * float32'>,\n",
       " 'JES_RelativeBal_down': <Array [[315], [231], ... [251, 251], [287]] type='15000 * var * float32'>,\n",
       " 'JES_HF_up': <Array [[314], [231], ... [251, 251], [287]] type='15000 * var * float32'>,\n",
       " 'JES_HF_down': <Array [[314], [231], ... [251, 251], [287]] type='15000 * var * float32'>,\n",
       " 'JES_BBEC1_up': <Array [[314], [231], ... [251, 251], [287]] type='15000 * var * float32'>,\n",
       " 'JES_BBEC1_down': <Array [[313], [231], ... [251, 251], [287]] type='15000 * var * float32'>,\n",
       " 'JES_EC2_up': <Array [[314], [231], ... [251, 251], [287]] type='15000 * var * float32'>,\n",
       " 'JES_EC2_down': <Array [[314], [231], ... [251, 251], [287]] type='15000 * var * float32'>,\n",
       " 'JES_Absolute_up': <Array [[315], [232], ... [252, 252], [288]] type='15000 * var * float32'>,\n",
       " 'JES_Absolute_down': <Array [[312], [231], ... [250, 250], [286]] type='15000 * var * float32'>,\n",
       " 'JES_BBEC1_2016_up': <Array [[314], [232], ... [252, 251], [287]] type='15000 * var * float32'>,\n",
       " 'JES_BBEC1_2016_down': <Array [[313], [231], ... [251, 251], [287]] type='15000 * var * float32'>,\n",
       " 'JES_RelativeSample_2016_up': <Array [[312], [230], ... [250, 251], [286]] type='15000 * var * float32'>,\n",
       " 'JES_RelativeSample_2016_down': <Array [[315], [232], ... [252, 251], [288]] type='15000 * var * float32'>,\n",
       " 'JES_EC2_2016_up': <Array [[314], [231], ... [251, 251], [287]] type='15000 * var * float32'>,\n",
       " 'JES_EC2_2016_down': <Array [[314], [231], ... [251, 251], [287]] type='15000 * var * float32'>,\n",
       " 'JES_HF_2016_up': <Array [[314], [231], ... [251, 251], [287]] type='15000 * var * float32'>,\n",
       " 'JES_HF_2016_down': <Array [[314], [231], ... [251, 251], [287]] type='15000 * var * float32'>,\n",
       " 'JES_Absolute_2016_up': <Array [[315], [233], ... [253, 253], [288]] type='15000 * var * float32'>,\n",
       " 'JES_Absolute_2016_down': <Array [[312], [230], ... [250, 250], [285]] type='15000 * var * float32'>,\n",
       " 'JES_Total_up': <Array [[317], [233], ... [254, 253], [289]] type='15000 * var * float32'>,\n",
       " 'JES_Total_down': <Array [[311], [229], ... [249, 249], [285]] type='15000 * var * float32'>}"
      ]
     },
     "execution_count": 369,
     "metadata": {},
     "output_type": "execute_result"
    }
   ],
   "source": [
    "jec_shifted_vars[\"pt\"]"
   ]
  },
  {
   "cell_type": "code",
   "execution_count": 368,
   "id": "2f3e8326",
   "metadata": {},
   "outputs": [
    {
     "data": {
      "text/plain": [
       "<Array [None, None, None, ... None, None, None] type='15000 * ?JetSystematic[\"up...'>"
      ]
     },
     "execution_count": 368,
     "metadata": {},
     "output_type": "execute_result"
    }
   ],
   "source": [
    "candidatefj.JES_HF"
   ]
  },
  {
   "cell_type": "code",
   "execution_count": 370,
   "id": "9329666e",
   "metadata": {},
   "outputs": [
    {
     "data": {
      "text/plain": [
       "{'JES': 'JES_jes',\n",
       " 'JER': 'JER',\n",
       " 'JES_FlavorQCD': 'JES_FlavorQCD',\n",
       " 'JES_RelativeBal': 'JES_RelativeBal',\n",
       " 'JES_HF': 'JES_HF',\n",
       " 'JES_BBEC1': 'JES_BBEC1',\n",
       " 'JES_EC2': 'JES_EC2',\n",
       " 'JES_Absolute': 'JES_Absolute',\n",
       " 'JES_BBEC1_2017': 'JES_BBEC1_2017',\n",
       " 'JES_RelativeSample_2017': 'JES_RelativeSample_2017',\n",
       " 'JES_EC2_2017': 'JES_EC2_2017',\n",
       " 'JES_HF_2017': 'JES_HF_2017',\n",
       " 'JES_Absolute_2017': 'JES_Absolute_2017',\n",
       " 'JES_Total': 'JES_Total'}"
      ]
     },
     "execution_count": 370,
     "metadata": {},
     "output_type": "execute_result"
    }
   ],
   "source": [
    "jecs"
   ]
  },
  {
   "cell_type": "code",
   "execution_count": 377,
   "id": "f8457f29",
   "metadata": {},
   "outputs": [
    {
     "data": {
      "text/plain": [
       "<Array [None, None, None, ... None, None, None] type='15000 * ?JetSystematic[\"up...'>"
      ]
     },
     "execution_count": 377,
     "metadata": {},
     "output_type": "execute_result"
    }
   ],
   "source": [
    "candidatefj[\"JES_BBEC1_2017\"]"
   ]
  },
  {
   "cell_type": "code",
   "execution_count": null,
   "id": "121568fe",
   "metadata": {},
   "outputs": [],
   "source": []
  },
  {
   "cell_type": "code",
   "execution_count": null,
   "id": "a8663c01",
   "metadata": {},
   "outputs": [],
   "source": []
  },
  {
   "cell_type": "code",
   "execution_count": null,
   "id": "d0c59c41",
   "metadata": {},
   "outputs": [],
   "source": []
  },
  {
   "cell_type": "code",
   "execution_count": null,
   "id": "3ed921ac",
   "metadata": {},
   "outputs": [],
   "source": []
  },
  {
   "cell_type": "code",
   "execution_count": null,
   "id": "97ee0829",
   "metadata": {},
   "outputs": [],
   "source": []
  },
  {
   "cell_type": "code",
   "execution_count": null,
   "id": "35f584b1",
   "metadata": {},
   "outputs": [],
   "source": []
  },
  {
   "cell_type": "code",
   "execution_count": 321,
   "id": "9bcc4d98",
   "metadata": {},
   "outputs": [
    {
     "ename": "ValueError",
     "evalue": "key \"JERup\" does not exist (not in record)\n\n(https://github.com/scikit-hep/awkward-1.0/blob/1.10.5/src/libawkward/util.cpp#L525)",
     "output_type": "error",
     "traceback": [
      "\u001b[0;31m---------------------------------------------------------------------------\u001b[0m",
      "\u001b[0;31mValueError\u001b[0m                                Traceback (most recent call last)",
      "Cell \u001b[0;32mIn[321], line 1\u001b[0m\n\u001b[0;32m----> 1\u001b[0m \u001b[43mmet\u001b[49m\u001b[43m[\u001b[49m\u001b[38;5;124;43m\"\u001b[39;49m\u001b[38;5;124;43mJERup\u001b[39;49m\u001b[38;5;124;43m\"\u001b[39;49m\u001b[43m]\u001b[49m\n",
      "File \u001b[0;32m~/miniconda3/envs/fastjet-env/lib/python3.9/site-packages/awkward/highlevel.py:991\u001b[0m, in \u001b[0;36mArray.__getitem__\u001b[0;34m(self, where)\u001b[0m\n\u001b[1;32m    579\u001b[0m \u001b[38;5;250m\u001b[39m\u001b[38;5;124;03m\"\"\"\u001b[39;00m\n\u001b[1;32m    580\u001b[0m \u001b[38;5;124;03mArgs:\u001b[39;00m\n\u001b[1;32m    581\u001b[0m \u001b[38;5;124;03m    where (many types supported; see below): Index of positions to\u001b[39;00m\n\u001b[0;32m   (...)\u001b[0m\n\u001b[1;32m    988\u001b[0m \u001b[38;5;124;03mhave the same dimension as the array being indexed.\u001b[39;00m\n\u001b[1;32m    989\u001b[0m \u001b[38;5;124;03m\"\"\"\u001b[39;00m\n\u001b[1;32m    990\u001b[0m \u001b[38;5;28;01mif\u001b[39;00m \u001b[38;5;129;01mnot\u001b[39;00m \u001b[38;5;28mhasattr\u001b[39m(\u001b[38;5;28mself\u001b[39m, \u001b[38;5;124m\"\u001b[39m\u001b[38;5;124m_tracers\u001b[39m\u001b[38;5;124m\"\u001b[39m):\n\u001b[0;32m--> 991\u001b[0m     tmp \u001b[38;5;241m=\u001b[39m ak\u001b[38;5;241m.\u001b[39m_util\u001b[38;5;241m.\u001b[39mwrap(\u001b[38;5;28;43mself\u001b[39;49m\u001b[38;5;241;43m.\u001b[39;49m\u001b[43mlayout\u001b[49m\u001b[43m[\u001b[49m\u001b[43mwhere\u001b[49m\u001b[43m]\u001b[49m, \u001b[38;5;28mself\u001b[39m\u001b[38;5;241m.\u001b[39m_behavior)\n\u001b[1;32m    992\u001b[0m \u001b[38;5;28;01melse\u001b[39;00m:\n\u001b[1;32m    993\u001b[0m     tmp \u001b[38;5;241m=\u001b[39m ak\u001b[38;5;241m.\u001b[39m_connect\u001b[38;5;241m.\u001b[39m_jax\u001b[38;5;241m.\u001b[39mjax_utils\u001b[38;5;241m.\u001b[39m_jaxtracers_getitem(\u001b[38;5;28mself\u001b[39m, where)\n",
      "\u001b[0;31mValueError\u001b[0m: key \"JERup\" does not exist (not in record)\n\n(https://github.com/scikit-hep/awkward-1.0/blob/1.10.5/src/libawkward/util.cpp#L525)"
     ]
    }
   ],
   "source": [
    "met[\"JERup\"]"
   ]
  },
  {
   "cell_type": "code",
   "execution_count": 321,
   "id": "abdf7ffc",
   "metadata": {},
   "outputs": [
    {
     "ename": "ValueError",
     "evalue": "key \"JERup\" does not exist (not in record)\n\n(https://github.com/scikit-hep/awkward-1.0/blob/1.10.5/src/libawkward/util.cpp#L525)",
     "output_type": "error",
     "traceback": [
      "\u001b[0;31m---------------------------------------------------------------------------\u001b[0m",
      "\u001b[0;31mValueError\u001b[0m                                Traceback (most recent call last)",
      "Cell \u001b[0;32mIn[321], line 1\u001b[0m\n\u001b[0;32m----> 1\u001b[0m \u001b[43mmet\u001b[49m\u001b[43m[\u001b[49m\u001b[38;5;124;43m\"\u001b[39;49m\u001b[38;5;124;43mJERup\u001b[39;49m\u001b[38;5;124;43m\"\u001b[39;49m\u001b[43m]\u001b[49m\n",
      "File \u001b[0;32m~/miniconda3/envs/fastjet-env/lib/python3.9/site-packages/awkward/highlevel.py:991\u001b[0m, in \u001b[0;36mArray.__getitem__\u001b[0;34m(self, where)\u001b[0m\n\u001b[1;32m    579\u001b[0m \u001b[38;5;250m\u001b[39m\u001b[38;5;124;03m\"\"\"\u001b[39;00m\n\u001b[1;32m    580\u001b[0m \u001b[38;5;124;03mArgs:\u001b[39;00m\n\u001b[1;32m    581\u001b[0m \u001b[38;5;124;03m    where (many types supported; see below): Index of positions to\u001b[39;00m\n\u001b[0;32m   (...)\u001b[0m\n\u001b[1;32m    988\u001b[0m \u001b[38;5;124;03mhave the same dimension as the array being indexed.\u001b[39;00m\n\u001b[1;32m    989\u001b[0m \u001b[38;5;124;03m\"\"\"\u001b[39;00m\n\u001b[1;32m    990\u001b[0m \u001b[38;5;28;01mif\u001b[39;00m \u001b[38;5;129;01mnot\u001b[39;00m \u001b[38;5;28mhasattr\u001b[39m(\u001b[38;5;28mself\u001b[39m, \u001b[38;5;124m\"\u001b[39m\u001b[38;5;124m_tracers\u001b[39m\u001b[38;5;124m\"\u001b[39m):\n\u001b[0;32m--> 991\u001b[0m     tmp \u001b[38;5;241m=\u001b[39m ak\u001b[38;5;241m.\u001b[39m_util\u001b[38;5;241m.\u001b[39mwrap(\u001b[38;5;28;43mself\u001b[39;49m\u001b[38;5;241;43m.\u001b[39;49m\u001b[43mlayout\u001b[49m\u001b[43m[\u001b[49m\u001b[43mwhere\u001b[49m\u001b[43m]\u001b[49m, \u001b[38;5;28mself\u001b[39m\u001b[38;5;241m.\u001b[39m_behavior)\n\u001b[1;32m    992\u001b[0m \u001b[38;5;28;01melse\u001b[39;00m:\n\u001b[1;32m    993\u001b[0m     tmp \u001b[38;5;241m=\u001b[39m ak\u001b[38;5;241m.\u001b[39m_connect\u001b[38;5;241m.\u001b[39m_jax\u001b[38;5;241m.\u001b[39mjax_utils\u001b[38;5;241m.\u001b[39m_jaxtracers_getitem(\u001b[38;5;28mself\u001b[39m, where)\n",
      "\u001b[0;31mValueError\u001b[0m: key \"JERup\" does not exist (not in record)\n\n(https://github.com/scikit-hep/awkward-1.0/blob/1.10.5/src/libawkward/util.cpp#L525)"
     ]
    }
   ],
   "source": [
    "met[\"JERup\"]"
   ]
  },
  {
   "cell_type": "code",
   "execution_count": 321,
   "id": "54c748c8",
   "metadata": {},
   "outputs": [
    {
     "ename": "ValueError",
     "evalue": "key \"JERup\" does not exist (not in record)\n\n(https://github.com/scikit-hep/awkward-1.0/blob/1.10.5/src/libawkward/util.cpp#L525)",
     "output_type": "error",
     "traceback": [
      "\u001b[0;31m---------------------------------------------------------------------------\u001b[0m",
      "\u001b[0;31mValueError\u001b[0m                                Traceback (most recent call last)",
      "Cell \u001b[0;32mIn[321], line 1\u001b[0m\n\u001b[0;32m----> 1\u001b[0m \u001b[43mmet\u001b[49m\u001b[43m[\u001b[49m\u001b[38;5;124;43m\"\u001b[39;49m\u001b[38;5;124;43mJERup\u001b[39;49m\u001b[38;5;124;43m\"\u001b[39;49m\u001b[43m]\u001b[49m\n",
      "File \u001b[0;32m~/miniconda3/envs/fastjet-env/lib/python3.9/site-packages/awkward/highlevel.py:991\u001b[0m, in \u001b[0;36mArray.__getitem__\u001b[0;34m(self, where)\u001b[0m\n\u001b[1;32m    579\u001b[0m \u001b[38;5;250m\u001b[39m\u001b[38;5;124;03m\"\"\"\u001b[39;00m\n\u001b[1;32m    580\u001b[0m \u001b[38;5;124;03mArgs:\u001b[39;00m\n\u001b[1;32m    581\u001b[0m \u001b[38;5;124;03m    where (many types supported; see below): Index of positions to\u001b[39;00m\n\u001b[0;32m   (...)\u001b[0m\n\u001b[1;32m    988\u001b[0m \u001b[38;5;124;03mhave the same dimension as the array being indexed.\u001b[39;00m\n\u001b[1;32m    989\u001b[0m \u001b[38;5;124;03m\"\"\"\u001b[39;00m\n\u001b[1;32m    990\u001b[0m \u001b[38;5;28;01mif\u001b[39;00m \u001b[38;5;129;01mnot\u001b[39;00m \u001b[38;5;28mhasattr\u001b[39m(\u001b[38;5;28mself\u001b[39m, \u001b[38;5;124m\"\u001b[39m\u001b[38;5;124m_tracers\u001b[39m\u001b[38;5;124m\"\u001b[39m):\n\u001b[0;32m--> 991\u001b[0m     tmp \u001b[38;5;241m=\u001b[39m ak\u001b[38;5;241m.\u001b[39m_util\u001b[38;5;241m.\u001b[39mwrap(\u001b[38;5;28;43mself\u001b[39;49m\u001b[38;5;241;43m.\u001b[39;49m\u001b[43mlayout\u001b[49m\u001b[43m[\u001b[49m\u001b[43mwhere\u001b[49m\u001b[43m]\u001b[49m, \u001b[38;5;28mself\u001b[39m\u001b[38;5;241m.\u001b[39m_behavior)\n\u001b[1;32m    992\u001b[0m \u001b[38;5;28;01melse\u001b[39;00m:\n\u001b[1;32m    993\u001b[0m     tmp \u001b[38;5;241m=\u001b[39m ak\u001b[38;5;241m.\u001b[39m_connect\u001b[38;5;241m.\u001b[39m_jax\u001b[38;5;241m.\u001b[39mjax_utils\u001b[38;5;241m.\u001b[39m_jaxtracers_getitem(\u001b[38;5;28mself\u001b[39m, where)\n",
      "\u001b[0;31mValueError\u001b[0m: key \"JERup\" does not exist (not in record)\n\n(https://github.com/scikit-hep/awkward-1.0/blob/1.10.5/src/libawkward/util.cpp#L525)"
     ]
    }
   ],
   "source": [
    "met[\"JERup\"]"
   ]
  },
  {
   "cell_type": "code",
   "execution_count": null,
   "id": "9fe01d63",
   "metadata": {},
   "outputs": [],
   "source": []
  },
  {
   "cell_type": "code",
   "execution_count": 342,
   "id": "ee3cee6c",
   "metadata": {},
   "outputs": [
    {
     "data": {
      "text/plain": [
       "<Array [None, None, None, ... None, None, None] type='15000 * ?bool'>"
      ]
     },
     "execution_count": 342,
     "metadata": {},
     "output_type": "execute_result"
    }
   ],
   "source": [
    "candidatefj.pt>250"
   ]
  },
  {
   "cell_type": "code",
   "execution_count": 343,
   "id": "73e350a8",
   "metadata": {},
   "outputs": [
    {
     "data": {
      "text/plain": [
       "<Array [[314], [231], ... [251, 251], [287]] type='15000 * var * float32'>"
      ]
     },
     "execution_count": 343,
     "metadata": {},
     "output_type": "execute_result"
    }
   ],
   "source": [
    "pts"
   ]
  },
  {
   "cell_type": "code",
   "execution_count": null,
   "id": "732f28a6",
   "metadata": {},
   "outputs": [],
   "source": []
  },
  {
   "cell_type": "code",
   "execution_count": null,
   "id": "805f98ca",
   "metadata": {},
   "outputs": [],
   "source": []
  },
  {
   "cell_type": "code",
   "execution_count": null,
   "id": "7c41d569",
   "metadata": {},
   "outputs": [],
   "source": []
  },
  {
   "cell_type": "code",
   "execution_count": null,
   "id": "5c8331c5",
   "metadata": {},
   "outputs": [],
   "source": []
  },
  {
   "cell_type": "code",
   "execution_count": null,
   "id": "93059de7",
   "metadata": {},
   "outputs": [],
   "source": []
  },
  {
   "cell_type": "code",
   "execution_count": 335,
   "id": "d9e48cb2",
   "metadata": {},
   "outputs": [],
   "source": [
    "            for shift, vals in jec_shifted_fatjetvars[\"pt\"].items():\n",
    "                if shift != \"\":\n",
    "                    fatjetvars[f\"fj_pt{shift}\"] = ak.firsts(vals[fj_idx_lep])\n"
   ]
  },
  {
   "cell_type": "code",
   "execution_count": 336,
   "id": "38ca3518",
   "metadata": {},
   "outputs": [
    {
     "data": {
      "text/plain": [
       "{'fj_pt': <Array [None, None, None, ... None, None, None] type='15000 * ?float32[parameter...'>,\n",
       " 'fj_eta': <Array [None, None, None, ... None, None, None] type='15000 * ?float32[parameter...'>,\n",
       " 'fj_phi': <Array [None, None, None, ... None, None, None] type='15000 * ?float32[parameter...'>,\n",
       " 'fj_mass': <Array [None, None, None, ... None, None, None] type='15000 * ?float32[parameter...'>,\n",
       " 'fj_ptJES_up': <Array [None, None, None, ... None, None, None] type='15000 * ?float32'>,\n",
       " 'fj_ptJES_down': <Array [None, None, None, ... None, None, None] type='15000 * ?float32'>,\n",
       " 'fj_ptJER_up': <Array [None, None, None, ... None, None, None] type='15000 * ?float32'>,\n",
       " 'fj_ptJER_down': <Array [None, None, None, ... None, None, None] type='15000 * ?float32'>,\n",
       " 'fj_ptJES_FlavorQCD_up': <Array [None, None, None, ... None, None, None] type='15000 * ?float32'>,\n",
       " 'fj_ptJES_FlavorQCD_down': <Array [None, None, None, ... None, None, None] type='15000 * ?float32'>,\n",
       " 'fj_ptJES_RelativeBal_up': <Array [None, None, None, ... None, None, None] type='15000 * ?float32'>,\n",
       " 'fj_ptJES_RelativeBal_down': <Array [None, None, None, ... None, None, None] type='15000 * ?float32'>,\n",
       " 'fj_ptJES_HF_up': <Array [None, None, None, ... None, None, None] type='15000 * ?float32'>,\n",
       " 'fj_ptJES_HF_down': <Array [None, None, None, ... None, None, None] type='15000 * ?float32'>,\n",
       " 'fj_ptJES_BBEC1_up': <Array [None, None, None, ... None, None, None] type='15000 * ?float32'>,\n",
       " 'fj_ptJES_BBEC1_down': <Array [None, None, None, ... None, None, None] type='15000 * ?float32'>,\n",
       " 'fj_ptJES_EC2_up': <Array [None, None, None, ... None, None, None] type='15000 * ?float32'>,\n",
       " 'fj_ptJES_EC2_down': <Array [None, None, None, ... None, None, None] type='15000 * ?float32'>,\n",
       " 'fj_ptJES_Absolute_up': <Array [None, None, None, ... None, None, None] type='15000 * ?float32'>,\n",
       " 'fj_ptJES_Absolute_down': <Array [None, None, None, ... None, None, None] type='15000 * ?float32'>,\n",
       " 'fj_ptJES_BBEC1_2016_up': <Array [None, None, None, ... None, None, None] type='15000 * ?float32'>,\n",
       " 'fj_ptJES_BBEC1_2016_down': <Array [None, None, None, ... None, None, None] type='15000 * ?float32'>,\n",
       " 'fj_ptJES_RelativeSample_2016_up': <Array [None, None, None, ... None, None, None] type='15000 * ?float32'>,\n",
       " 'fj_ptJES_RelativeSample_2016_down': <Array [None, None, None, ... None, None, None] type='15000 * ?float32'>,\n",
       " 'fj_ptJES_EC2_2016_up': <Array [None, None, None, ... None, None, None] type='15000 * ?float32'>,\n",
       " 'fj_ptJES_EC2_2016_down': <Array [None, None, None, ... None, None, None] type='15000 * ?float32'>,\n",
       " 'fj_ptJES_HF_2016_up': <Array [None, None, None, ... None, None, None] type='15000 * ?float32'>,\n",
       " 'fj_ptJES_HF_2016_down': <Array [None, None, None, ... None, None, None] type='15000 * ?float32'>,\n",
       " 'fj_ptJES_Absolute_2016_up': <Array [None, None, None, ... None, None, None] type='15000 * ?float32'>,\n",
       " 'fj_ptJES_Absolute_2016_down': <Array [None, None, None, ... None, None, None] type='15000 * ?float32'>,\n",
       " 'fj_ptJES_Total_up': <Array [None, None, None, ... None, None, None] type='15000 * ?float32'>,\n",
       " 'fj_ptJES_Total_down': <Array [None, None, None, ... None, None, None] type='15000 * ?float32'>}"
      ]
     },
     "execution_count": 336,
     "metadata": {},
     "output_type": "execute_result"
    }
   ],
   "source": [
    "fatjetvars"
   ]
  },
  {
   "cell_type": "code",
   "execution_count": null,
   "id": "a7278cd9",
   "metadata": {},
   "outputs": [],
   "source": []
  },
  {
   "cell_type": "code",
   "execution_count": null,
   "id": "218b1711",
   "metadata": {},
   "outputs": [],
   "source": []
  },
  {
   "cell_type": "code",
   "execution_count": null,
   "id": "5c32e6ba",
   "metadata": {},
   "outputs": [],
   "source": []
  },
  {
   "cell_type": "code",
   "execution_count": null,
   "id": "87a5925a",
   "metadata": {},
   "outputs": [],
   "source": [
    "['Absolute', 'Absolute_2018', 'BBEC1', 'BBEC1_2018', 'EC2', 'EC2_2018', 'FlavorQCD', 'HF', 'HF_2018', 'RelativeBal', 'RelativeSample_2018'] + 'Total"
   ]
  },
  {
   "cell_type": "code",
   "execution_count": 281,
   "id": "b10f3f01",
   "metadata": {
    "scrolled": false
   },
   "outputs": [
    {
     "name": "stdout",
     "output_type": "stream",
     "text": [
      "JES_FlavorQCD\n",
      "JES_RelativeBal\n",
      "JES_HF\n",
      "JES_BBEC1\n",
      "JES_EC2\n",
      "JES_Absolute\n",
      "JES_BBEC1_2017\n",
      "JES_RelativeSample_2017\n",
      "JES_EC2_2017\n",
      "JES_HF_2017\n",
      "JES_Absolute_2017\n",
      "JES_Total\n"
     ]
    }
   ],
   "source": [
    "for f in jets.fields:\n",
    "    if \"JEC\" in f:\n",
    "        print(f)\n",
    "    if (\"JES\" in f) and (\"jes\" not in f):\n",
    "        print(f)"
   ]
  },
  {
   "cell_type": "code",
   "execution_count": 309,
   "id": "1fcc4935",
   "metadata": {},
   "outputs": [
    {
     "ename": "NameError",
     "evalue": "name 'get_jec_jets' is not defined",
     "output_type": "error",
     "traceback": [
      "\u001b[0;31m---------------------------------------------------------------------------\u001b[0m",
      "\u001b[0;31mNameError\u001b[0m                                 Traceback (most recent call last)",
      "Cell \u001b[0;32mIn[309], line 1\u001b[0m\n\u001b[0;32m----> 1\u001b[0m good_fatjets, jec_shifted_fatjetvars \u001b[38;5;241m=\u001b[39m \u001b[43mget_jec_jets\u001b[49m(\n\u001b[1;32m      2\u001b[0m     events, good_fatjets, \u001b[38;5;28mself\u001b[39m\u001b[38;5;241m.\u001b[39m_year, \u001b[38;5;129;01mnot\u001b[39;00m \u001b[38;5;28mself\u001b[39m\u001b[38;5;241m.\u001b[39misMC, \u001b[38;5;28mself\u001b[39m\u001b[38;5;241m.\u001b[39mjecs, fatjets\u001b[38;5;241m=\u001b[39m\u001b[38;5;28;01mTrue\u001b[39;00m\n\u001b[1;32m      3\u001b[0m )\n",
      "\u001b[0;31mNameError\u001b[0m: name 'get_jec_jets' is not defined"
     ]
    }
   ],
   "source": [
    "        good_fatjets, jec_shifted_fatjetvars = get_jec_jets(\n",
    "            events, good_fatjets, self._year, not self.isMC, self.jecs, fatjets=True\n",
    "        )"
   ]
  },
  {
   "cell_type": "code",
   "execution_count": null,
   "id": "6140773c",
   "metadata": {},
   "outputs": [],
   "source": []
  },
  {
   "cell_type": "code",
   "execution_count": null,
   "id": "9631924f",
   "metadata": {},
   "outputs": [],
   "source": []
  },
  {
   "cell_type": "code",
   "execution_count": 114,
   "id": "56322585",
   "metadata": {},
   "outputs": [
    {
     "data": {
      "text/plain": [
       "{'all': 14986,\n",
       " 'at least 1 AK8 jet with pT>250GeV': 8433.0,\n",
       " 'lepton selection': 1072.0,\n",
       " 'lepton in jet selection': 725.0,\n",
       " 'is HWW': 725.0,\n",
       " 'is HWW matched': 715.0,\n",
       " 'is HWWlnuqq': 651.0}"
      ]
     },
     "execution_count": 114,
     "metadata": {},
     "output_type": "execute_result"
    }
   ],
   "source": [
    "cutflow"
   ]
  },
  {
   "cell_type": "code",
   "execution_count": 115,
   "id": "7fcf9ffd",
   "metadata": {},
   "outputs": [
    {
     "data": {
      "text/plain": [
       "651"
      ]
     },
     "execution_count": 115,
     "metadata": {},
     "output_type": "execute_result"
    }
   ],
   "source": [
    "########## apply the selections\n",
    "events = filtered_events[selection.all(*selection.names)]\n",
    "len(events)"
   ]
  },
  {
   "cell_type": "code",
   "execution_count": 148,
   "id": "5481ad10",
   "metadata": {},
   "outputs": [],
   "source": [
    "ELE_PDGID = 11\n",
    "vELE_PDGID = 12\n",
    "MU_PDGID = 13\n",
    "vMU_PDGID = 14\n",
    "TAU_PDGID = 15\n",
    "vTAU_PDGID = 16\n",
    "\n",
    "candidatelep = ak.firsts(ak.concatenate([events.Muon, events.Electron], axis=1))  # pick highest pt\n",
    "candidatelep_p4 = build_p4(candidatelep)  # build p4 for candidate lepton\n",
    "\n",
    "fj_idx_lep = ak.argmin(events.FatJet.delta_r(candidatelep_p4), axis=1, keepdims=True)\n",
    "candidatefj = ak.firsts(events.FatJet[fj_idx_lep])\n",
    "\n",
    "genparts = events.GenPart"
   ]
  },
  {
   "cell_type": "code",
   "execution_count": 169,
   "id": "ded484a5",
   "metadata": {},
   "outputs": [],
   "source": [
    "skim_vars = {\n",
    "    \"eta\": \"Eta\",\n",
    "    \"phi\": \"Phi\",\n",
    "    \"mass\": \"Mass\",\n",
    "    \"pt\": \"Pt\",\n",
    "}\n",
    "\n",
    "lepVars, quarkVars = getGenLepGenQuarks(\"HToWW\", events.GenPart)\n",
    " \n",
    "GenlepVars = {\n",
    "    f\"Genlep{var}\": ak.to_numpy(\n",
    "        ak.fill_none(\n",
    "            ak.pad_none(lepVars[f\"lepton_{key}\"], 1, axis=1, clip=True),\n",
    "            FILL_NONE_VALUE,\n",
    "        )\n",
    "    )\n",
    "    for key, var in skim_vars.items()\n",
    "}\n",
    "\n",
    "# Need to clean PFCands with dR(l,pf)<0.2\n",
    "lep_eta = GenlepVars[\"GenlepEta\"]\n",
    "lep_phi = GenlepVars[\"GenlepPhi\"]\n",
    "\n",
    "\n",
    "# PF candidates in the AK8 jet\n",
    "HWW_FatJetPFCands = events.FatJetPFCands.jetIdx == ak.firsts(fj_idx_lep)\n",
    "HWW_FatJetPFCands_pFCandsIdx = events.FatJetPFCands.pFCandsIdx[HWW_FatJetPFCands]\n",
    "\n",
    "jet_pfcand = events.PFCands[HWW_FatJetPFCands_pFCandsIdx]\n",
    "\n",
    "pt_array = ak.Array(jet_pfcand.pt)\n",
    "eta_array = ak.Array(jet_pfcand.eta)\n",
    "phi_array = ak.Array(jet_pfcand.phi)\n",
    "mass_array = ak.Array(jet_pfcand.mass)\n",
    "pid_array = ak.Array(abs(jet_pfcand.pdgId))\n",
    "\n",
    "# this is because the length of PFCands can be up to 409, so we pad to target = 500\n",
    "pf_eta = pad_val(eta_array, target=500, axis=1, value=0)\n",
    "pf_phi = pad_val(phi_array, target=500, axis=1, value=0)\n",
    "pf_pt = pad_val(pt_array, target=500, axis=1, value=0)\n",
    "pf_mass = pad_val(mass_array, target=500, axis=1, value=0)\n",
    "pf_pid = pad_val(pid_array, target=500, axis=1, value=0)\n",
    "\n",
    "lep_eta_reshaped = lep_eta.reshape(-1, 1)\n",
    "lep_phi_reshaped = lep_phi.reshape(-1, 1)\n",
    "\n",
    "delta_eta = lep_eta_reshaped - pf_eta\n",
    "delta_phi = lep_phi_reshaped - pf_phi\n",
    "\n",
    "delta_r = np.sqrt(delta_eta**2 + delta_phi**2)\n",
    "\n",
    "pf_eta_rm_lep = np.copy(pf_eta)\n",
    "pf_phi_rm_lep = np.copy(pf_phi)\n",
    "pf_pt_rm_lep = np.copy(pf_pt)\n",
    "pf_mass_rm_lep = np.copy(pf_mass)\n",
    "\n",
    "msk_lep = (pf_pid == ELE_PDGID) | (pf_pid == MU_PDGID) | (pf_pid == TAU_PDGID)\n",
    "msk_gamma = (pf_pid == GAMMA_PDGID) & (delta_r < 0.1)\n",
    "# (pf_pid == GAMMA_PDGID)"
   ]
  },
  {
   "cell_type": "code",
   "execution_count": 204,
   "id": "7516b905",
   "metadata": {},
   "outputs": [],
   "source": [
    "    # PF candidates in the AK8 jet\n",
    "    HWW_FatJetPFCands = events.FatJetPFCands.jetIdx == ak.firsts(fj_idx_lep)\n",
    "    HWW_FatJetPFCands_pFCandsIdx = events.FatJetPFCands.pFCandsIdx[HWW_FatJetPFCands]\n",
    "\n",
    "    jet_pfcands = events.PFCands[HWW_FatJetPFCands_pFCandsIdx]\n",
    "    pt_array = ak.Array(jet_pfcands.pt)\n",
    "    eta_array = ak.Array(jet_pfcands.eta)\n",
    "    phi_array = ak.Array(jet_pfcands.phi)\n",
    "    mass_array = ak.Array(jet_pfcands.mass)\n",
    "    pid_array = ak.Array(abs(jet_pfcands.pdgId))\n",
    "\n",
    "    # pf_cands_px, pf_cands_py, pf_cands_pz, pf_cands_E = lep_removal(\n",
    "    #     events, pt_array, eta_array, phi_array, mass_array, pid_array, GenlepVars, HWW_FatJetPFCands_pFCandsIdx\n",
    "    # )\n",
    "    # pf_cands = np.dstack((pf_cands_px, pf_cands_py, pf_cands_pz, pf_cands_E))\n",
    "\n",
    "    msk_lep = (pid_array == ELE_PDGID) | (pid_array == MU_PDGID) | (pid_array == TAU_PDGID)\n",
    "    msk_gamma = pid_array == GAMMA_PDGID\n",
    "    msk_delta = GenLep.delta_r(jet_pfcands)<0.1\n",
    "    \n",
    "    msk = ~(msk_lep | (msk_gamma & msk_delta))\n"
   ]
  },
  {
   "cell_type": "code",
   "execution_count": 197,
   "id": "4c272326",
   "metadata": {},
   "outputs": [],
   "source": []
  },
  {
   "cell_type": "code",
   "execution_count": null,
   "id": "27b3c2a6",
   "metadata": {},
   "outputs": [],
   "source": [
    "    lep_eta = GenlepVars[\"GenlepEta\"]\n",
    "    lep_phi = GenlepVars[\"GenlepPhi\"]"
   ]
  },
  {
   "cell_type": "code",
   "execution_count": null,
   "id": "0f0e219a",
   "metadata": {},
   "outputs": [],
   "source": []
  },
  {
   "cell_type": "code",
   "execution_count": 203,
   "id": "cfb04942",
   "metadata": {
    "scrolled": true
   },
   "outputs": [
    {
     "data": {
      "text/plain": [
       "<Array [[False, False, ... False, False]] type='651 * option[var * ?bool]'>"
      ]
     },
     "execution_count": 203,
     "metadata": {},
     "output_type": "execute_result"
    }
   ],
   "source": []
  },
  {
   "cell_type": "code",
   "execution_count": 205,
   "id": "63f99c53",
   "metadata": {},
   "outputs": [],
   "source": [
    "pt_array = ak.Array(jet_pfcands.pt)[msk]"
   ]
  },
  {
   "cell_type": "code",
   "execution_count": null,
   "id": "3a064d7a",
   "metadata": {},
   "outputs": [],
   "source": []
  },
  {
   "cell_type": "code",
   "execution_count": null,
   "id": "d0c76851",
   "metadata": {},
   "outputs": [],
   "source": []
  },
  {
   "cell_type": "code",
   "execution_count": 189,
   "id": "3cfed54c",
   "metadata": {},
   "outputs": [
    {
     "data": {
      "text/plain": [
       "<Array [[0.1, 0.0934, 0.296, ... 1.65, 2.52]] type='651 * option[var * float32[p...'>"
      ]
     },
     "execution_count": 189,
     "metadata": {},
     "output_type": "execute_result"
    }
   ],
   "source": [
    "eta_array"
   ]
  },
  {
   "cell_type": "code",
   "execution_count": 186,
   "id": "ba28b287",
   "metadata": {},
   "outputs": [
    {
     "data": {
      "text/plain": [
       "<Array [[True, True, True, ... True, True]] type='651 * option[var * bool]'>"
      ]
     },
     "execution_count": 186,
     "metadata": {},
     "output_type": "execute_result"
    }
   ],
   "source": [
    "msk"
   ]
  },
  {
   "cell_type": "code",
   "execution_count": 188,
   "id": "78dac8a3",
   "metadata": {},
   "outputs": [
    {
     "ename": "ValueError",
     "evalue": "in ListOffsetArray64, cannot convert to RegularArray because subarray lengths are not regular\n\n(https://github.com/scikit-hep/awkward-1.0/blob/1.10.5/src/cpu-kernels/awkward_ListOffsetArray_toRegularArray.cpp#L22)",
     "output_type": "error",
     "traceback": [
      "\u001b[0;31m---------------------------------------------------------------------------\u001b[0m",
      "\u001b[0;31mAttributeError\u001b[0m                            Traceback (most recent call last)",
      "File \u001b[0;32m~/miniconda3/envs/fastjet-env/lib/python3.9/site-packages/numpy/ma/core.py:707\u001b[0m, in \u001b[0;36mgetdata\u001b[0;34m(a, subok)\u001b[0m\n\u001b[1;32m    706\u001b[0m \u001b[38;5;28;01mtry\u001b[39;00m:\n\u001b[0;32m--> 707\u001b[0m     data \u001b[38;5;241m=\u001b[39m \u001b[43ma\u001b[49m\u001b[38;5;241;43m.\u001b[39;49m\u001b[43m_data\u001b[49m\n\u001b[1;32m    708\u001b[0m \u001b[38;5;28;01mexcept\u001b[39;00m \u001b[38;5;167;01mAttributeError\u001b[39;00m:\n",
      "File \u001b[0;32m~/miniconda3/envs/fastjet-env/lib/python3.9/site-packages/awkward/highlevel.py:1123\u001b[0m, in \u001b[0;36mArray.__getattr__\u001b[0;34m(self, where)\u001b[0m\n\u001b[1;32m   1122\u001b[0m \u001b[38;5;28;01melse\u001b[39;00m:\n\u001b[0;32m-> 1123\u001b[0m     \u001b[38;5;28;01mraise\u001b[39;00m \u001b[38;5;167;01mAttributeError\u001b[39;00m(\n\u001b[1;32m   1124\u001b[0m         \u001b[38;5;124mf\u001b[39m\u001b[38;5;124m\"\u001b[39m\u001b[38;5;124mno field named \u001b[39m\u001b[38;5;132;01m{\u001b[39;00mwhere\u001b[38;5;132;01m!r}\u001b[39;00m\u001b[38;5;124m\"\u001b[39m \u001b[38;5;241m+\u001b[39m ak\u001b[38;5;241m.\u001b[39m_util\u001b[38;5;241m.\u001b[39mexception_suffix(\u001b[38;5;18m__file__\u001b[39m)\n\u001b[1;32m   1125\u001b[0m     )\n",
      "\u001b[0;31mAttributeError\u001b[0m: no field named '_data'\n\n(https://github.com/scikit-hep/awkward-1.0/blob/1.10.5/src/awkward/highlevel.py#L1124)",
      "\nDuring handling of the above exception, another exception occurred:\n",
      "\u001b[0;31mValueError\u001b[0m                                Traceback (most recent call last)",
      "Cell \u001b[0;32mIn[188], line 4\u001b[0m\n\u001b[1;32m      1\u001b[0m lep_eta_reshaped \u001b[38;5;241m=\u001b[39m lep_eta\u001b[38;5;241m.\u001b[39mreshape(\u001b[38;5;241m-\u001b[39m\u001b[38;5;241m1\u001b[39m, \u001b[38;5;241m1\u001b[39m)\n\u001b[1;32m      2\u001b[0m lep_phi_reshaped \u001b[38;5;241m=\u001b[39m lep_phi\u001b[38;5;241m.\u001b[39mreshape(\u001b[38;5;241m-\u001b[39m\u001b[38;5;241m1\u001b[39m, \u001b[38;5;241m1\u001b[39m)\n\u001b[0;32m----> 4\u001b[0m delta_eta \u001b[38;5;241m=\u001b[39m \u001b[43mlep_eta_reshaped\u001b[49m\u001b[43m \u001b[49m\u001b[38;5;241;43m-\u001b[39;49m\u001b[43m \u001b[49m\u001b[43meta_array\u001b[49m\n\u001b[1;32m      5\u001b[0m delta_phi \u001b[38;5;241m=\u001b[39m lep_phi_reshaped \u001b[38;5;241m-\u001b[39m phi_array\n\u001b[1;32m      7\u001b[0m delta_r \u001b[38;5;241m=\u001b[39m np\u001b[38;5;241m.\u001b[39msqrt(delta_eta\u001b[38;5;241m*\u001b[39m\u001b[38;5;241m*\u001b[39m\u001b[38;5;241m2\u001b[39m \u001b[38;5;241m+\u001b[39m delta_phi\u001b[38;5;241m*\u001b[39m\u001b[38;5;241m*\u001b[39m\u001b[38;5;241m2\u001b[39m)\n",
      "File \u001b[0;32m~/miniconda3/envs/fastjet-env/lib/python3.9/site-packages/numpy/ma/core.py:4202\u001b[0m, in \u001b[0;36mMaskedArray.__sub__\u001b[0;34m(self, other)\u001b[0m\n\u001b[1;32m   4200\u001b[0m \u001b[38;5;28;01mif\u001b[39;00m \u001b[38;5;28mself\u001b[39m\u001b[38;5;241m.\u001b[39m_delegate_binop(other):\n\u001b[1;32m   4201\u001b[0m     \u001b[38;5;28;01mreturn\u001b[39;00m \u001b[38;5;28mNotImplemented\u001b[39m\n\u001b[0;32m-> 4202\u001b[0m \u001b[38;5;28;01mreturn\u001b[39;00m \u001b[43msubtract\u001b[49m\u001b[43m(\u001b[49m\u001b[38;5;28;43mself\u001b[39;49m\u001b[43m,\u001b[49m\u001b[43m \u001b[49m\u001b[43mother\u001b[49m\u001b[43m)\u001b[49m\n",
      "File \u001b[0;32m~/miniconda3/envs/fastjet-env/lib/python3.9/site-packages/numpy/ma/core.py:1009\u001b[0m, in \u001b[0;36m_MaskedBinaryOperation.__call__\u001b[0;34m(self, a, b, *args, **kwargs)\u001b[0m\n\u001b[1;32m   1004\u001b[0m \u001b[38;5;250m\u001b[39m\u001b[38;5;124;03m\"\"\"\u001b[39;00m\n\u001b[1;32m   1005\u001b[0m \u001b[38;5;124;03mExecute the call behavior.\u001b[39;00m\n\u001b[1;32m   1006\u001b[0m \n\u001b[1;32m   1007\u001b[0m \u001b[38;5;124;03m\"\"\"\u001b[39;00m\n\u001b[1;32m   1008\u001b[0m \u001b[38;5;66;03m# Get the data, as ndarray\u001b[39;00m\n\u001b[0;32m-> 1009\u001b[0m (da, db) \u001b[38;5;241m=\u001b[39m (getdata(a), \u001b[43mgetdata\u001b[49m\u001b[43m(\u001b[49m\u001b[43mb\u001b[49m\u001b[43m)\u001b[49m)\n\u001b[1;32m   1010\u001b[0m \u001b[38;5;66;03m# Get the result\u001b[39;00m\n\u001b[1;32m   1011\u001b[0m \u001b[38;5;28;01mwith\u001b[39;00m np\u001b[38;5;241m.\u001b[39merrstate():\n",
      "File \u001b[0;32m~/miniconda3/envs/fastjet-env/lib/python3.9/site-packages/numpy/ma/core.py:709\u001b[0m, in \u001b[0;36mgetdata\u001b[0;34m(a, subok)\u001b[0m\n\u001b[1;32m    707\u001b[0m     data \u001b[38;5;241m=\u001b[39m a\u001b[38;5;241m.\u001b[39m_data\n\u001b[1;32m    708\u001b[0m \u001b[38;5;28;01mexcept\u001b[39;00m \u001b[38;5;167;01mAttributeError\u001b[39;00m:\n\u001b[0;32m--> 709\u001b[0m     data \u001b[38;5;241m=\u001b[39m \u001b[43mnp\u001b[49m\u001b[38;5;241;43m.\u001b[39;49m\u001b[43marray\u001b[49m\u001b[43m(\u001b[49m\u001b[43ma\u001b[49m\u001b[43m,\u001b[49m\u001b[43m \u001b[49m\u001b[43mcopy\u001b[49m\u001b[38;5;241;43m=\u001b[39;49m\u001b[38;5;28;43;01mFalse\u001b[39;49;00m\u001b[43m,\u001b[49m\u001b[43m \u001b[49m\u001b[43msubok\u001b[49m\u001b[38;5;241;43m=\u001b[39;49m\u001b[43msubok\u001b[49m\u001b[43m)\u001b[49m\n\u001b[1;32m    710\u001b[0m \u001b[38;5;28;01mif\u001b[39;00m \u001b[38;5;129;01mnot\u001b[39;00m subok:\n\u001b[1;32m    711\u001b[0m     \u001b[38;5;28;01mreturn\u001b[39;00m data\u001b[38;5;241m.\u001b[39mview(ndarray)\n",
      "File \u001b[0;32m~/miniconda3/envs/fastjet-env/lib/python3.9/site-packages/awkward/highlevel.py:1351\u001b[0m, in \u001b[0;36mArray.__array__\u001b[0;34m(self, *args, **kwargs)\u001b[0m\n\u001b[1;32m   1326\u001b[0m \u001b[38;5;28;01mdef\u001b[39;00m \u001b[38;5;21m__array__\u001b[39m(\u001b[38;5;28mself\u001b[39m, \u001b[38;5;241m*\u001b[39margs, \u001b[38;5;241m*\u001b[39m\u001b[38;5;241m*\u001b[39mkwargs):\n\u001b[1;32m   1327\u001b[0m \u001b[38;5;250m    \u001b[39m\u001b[38;5;124;03m\"\"\"\u001b[39;00m\n\u001b[1;32m   1328\u001b[0m \u001b[38;5;124;03m    Intercepts attempts to convert this Array into a NumPy array and\u001b[39;00m\n\u001b[1;32m   1329\u001b[0m \u001b[38;5;124;03m    either performs a zero-copy conversion or raises an error.\u001b[39;00m\n\u001b[0;32m   (...)\u001b[0m\n\u001b[1;32m   1349\u001b[0m \u001b[38;5;124;03m    cannot be sliced as dimensions.\u001b[39;00m\n\u001b[1;32m   1350\u001b[0m \u001b[38;5;124;03m    \"\"\"\u001b[39;00m\n\u001b[0;32m-> 1351\u001b[0m     \u001b[38;5;28;01mreturn\u001b[39;00m \u001b[43mak\u001b[49m\u001b[38;5;241;43m.\u001b[39;49m\u001b[43m_connect\u001b[49m\u001b[38;5;241;43m.\u001b[39;49m\u001b[43m_numpy\u001b[49m\u001b[38;5;241;43m.\u001b[39;49m\u001b[43mconvert_to_array\u001b[49m\u001b[43m(\u001b[49m\u001b[38;5;28;43mself\u001b[39;49m\u001b[38;5;241;43m.\u001b[39;49m\u001b[43mlayout\u001b[49m\u001b[43m,\u001b[49m\u001b[43m \u001b[49m\u001b[43margs\u001b[49m\u001b[43m,\u001b[49m\u001b[43m \u001b[49m\u001b[43mkwargs\u001b[49m\u001b[43m)\u001b[49m\n",
      "File \u001b[0;32m~/miniconda3/envs/fastjet-env/lib/python3.9/site-packages/awkward/_connect/_numpy.py:15\u001b[0m, in \u001b[0;36mconvert_to_array\u001b[0;34m(layout, args, kwargs)\u001b[0m\n\u001b[1;32m     14\u001b[0m \u001b[38;5;28;01mdef\u001b[39;00m \u001b[38;5;21mconvert_to_array\u001b[39m(layout, args, kwargs):\n\u001b[0;32m---> 15\u001b[0m     out \u001b[38;5;241m=\u001b[39m \u001b[43mak\u001b[49m\u001b[38;5;241;43m.\u001b[39;49m\u001b[43moperations\u001b[49m\u001b[38;5;241;43m.\u001b[39;49m\u001b[43mconvert\u001b[49m\u001b[38;5;241;43m.\u001b[39;49m\u001b[43mto_numpy\u001b[49m\u001b[43m(\u001b[49m\u001b[43mlayout\u001b[49m\u001b[43m,\u001b[49m\u001b[43m \u001b[49m\u001b[43mallow_missing\u001b[49m\u001b[38;5;241;43m=\u001b[39;49m\u001b[38;5;28;43;01mFalse\u001b[39;49;00m\u001b[43m)\u001b[49m\n\u001b[1;32m     16\u001b[0m     \u001b[38;5;28;01mif\u001b[39;00m args \u001b[38;5;241m==\u001b[39m () \u001b[38;5;129;01mand\u001b[39;00m kwargs \u001b[38;5;241m==\u001b[39m {}:\n\u001b[1;32m     17\u001b[0m         \u001b[38;5;28;01mreturn\u001b[39;00m out\n",
      "File \u001b[0;32m~/miniconda3/envs/fastjet-env/lib/python3.9/site-packages/awkward/operations/convert.py:283\u001b[0m, in \u001b[0;36mto_numpy\u001b[0;34m(array, allow_missing)\u001b[0m\n\u001b[1;32m    280\u001b[0m         \u001b[38;5;28;01mreturn\u001b[39;00m content\n\u001b[1;32m    282\u001b[0m \u001b[38;5;28;01melif\u001b[39;00m \u001b[38;5;28misinstance\u001b[39m(array, ak\u001b[38;5;241m.\u001b[39m_util\u001b[38;5;241m.\u001b[39moptiontypes):\n\u001b[0;32m--> 283\u001b[0m     content \u001b[38;5;241m=\u001b[39m \u001b[43mto_numpy\u001b[49m\u001b[43m(\u001b[49m\u001b[43marray\u001b[49m\u001b[38;5;241;43m.\u001b[39;49m\u001b[43mproject\u001b[49m\u001b[43m(\u001b[49m\u001b[43m)\u001b[49m\u001b[43m,\u001b[49m\u001b[43m \u001b[49m\u001b[43mallow_missing\u001b[49m\u001b[38;5;241;43m=\u001b[39;49m\u001b[43mallow_missing\u001b[49m\u001b[43m)\u001b[49m\n\u001b[1;32m    285\u001b[0m     shape \u001b[38;5;241m=\u001b[39m \u001b[38;5;28mlist\u001b[39m(content\u001b[38;5;241m.\u001b[39mshape)\n\u001b[1;32m    286\u001b[0m     shape[\u001b[38;5;241m0\u001b[39m] \u001b[38;5;241m=\u001b[39m \u001b[38;5;28mlen\u001b[39m(array)\n",
      "File \u001b[0;32m~/miniconda3/envs/fastjet-env/lib/python3.9/site-packages/awkward/operations/convert.py:324\u001b[0m, in \u001b[0;36mto_numpy\u001b[0;34m(array, allow_missing)\u001b[0m\n\u001b[1;32m    321\u001b[0m     \u001b[38;5;28;01mreturn\u001b[39;00m out[: shape[\u001b[38;5;241m0\u001b[39m] \u001b[38;5;241m*\u001b[39m array\u001b[38;5;241m.\u001b[39msize]\u001b[38;5;241m.\u001b[39mreshape(shape)\n\u001b[1;32m    323\u001b[0m \u001b[38;5;28;01melif\u001b[39;00m \u001b[38;5;28misinstance\u001b[39m(array, ak\u001b[38;5;241m.\u001b[39m_util\u001b[38;5;241m.\u001b[39mlisttypes):\n\u001b[0;32m--> 324\u001b[0m     \u001b[38;5;28;01mreturn\u001b[39;00m to_numpy(\u001b[43marray\u001b[49m\u001b[38;5;241;43m.\u001b[39;49m\u001b[43mtoRegularArray\u001b[49m\u001b[43m(\u001b[49m\u001b[43m)\u001b[49m, allow_missing\u001b[38;5;241m=\u001b[39mallow_missing)\n\u001b[1;32m    326\u001b[0m \u001b[38;5;28;01melif\u001b[39;00m \u001b[38;5;28misinstance\u001b[39m(array, ak\u001b[38;5;241m.\u001b[39m_util\u001b[38;5;241m.\u001b[39mrecordtypes):\n\u001b[1;32m    327\u001b[0m     \u001b[38;5;28;01mif\u001b[39;00m array\u001b[38;5;241m.\u001b[39mnumfields \u001b[38;5;241m==\u001b[39m \u001b[38;5;241m0\u001b[39m:\n",
      "\u001b[0;31mValueError\u001b[0m: in ListOffsetArray64, cannot convert to RegularArray because subarray lengths are not regular\n\n(https://github.com/scikit-hep/awkward-1.0/blob/1.10.5/src/cpu-kernels/awkward_ListOffsetArray_toRegularArray.cpp#L22)"
     ]
    }
   ],
   "source": [
    "lep_eta_reshaped = lep_eta.reshape(-1, 1)\n",
    "lep_phi_reshaped = lep_phi.reshape(-1, 1)\n",
    "\n",
    "delta_eta = lep_eta_reshaped - eta_array\n",
    "delta_phi = lep_phi_reshaped - phi_array\n",
    "\n",
    "delta_r = np.sqrt(delta_eta**2 + delta_phi**2)"
   ]
  },
  {
   "cell_type": "code",
   "execution_count": null,
   "id": "a3846f2d",
   "metadata": {},
   "outputs": [],
   "source": [
    "jet_pfcands - "
   ]
  },
  {
   "cell_type": "code",
   "execution_count": 190,
   "id": "58e86676",
   "metadata": {},
   "outputs": [
    {
     "data": {
      "text/plain": [
       "masked_array(\n",
       "  data=[[-4.65087891e-02],\n",
       "        [ 1.03125000e+00],\n",
       "        [ 1.07421875e+00],\n",
       "        [ 9.15527344e-02],\n",
       "        [ 9.74609375e-01],\n",
       "        [-4.05273438e-01],\n",
       "        [ 7.10937500e-01],\n",
       "        [-3.53515625e-01],\n",
       "        [-1.08593750e+00],\n",
       "        [-3.20312500e-01],\n",
       "        [ 8.43750000e-01],\n",
       "        [ 1.15625000e+00],\n",
       "        [ 1.36328125e+00],\n",
       "        [ 1.46875000e+00],\n",
       "        [-4.67773438e-01],\n",
       "        [-1.07812500e+00],\n",
       "        [ 9.90234375e-01],\n",
       "        [-7.20703125e-01],\n",
       "        [-1.77734375e+00],\n",
       "        [-2.04101562e-01],\n",
       "        [-1.10937500e+00],\n",
       "        [-6.77734375e-01],\n",
       "        [-1.25390625e+00],\n",
       "        [ 1.12915039e-02],\n",
       "        [ 1.60546875e+00],\n",
       "        [-5.40771484e-02],\n",
       "        [ 8.26171875e-01],\n",
       "        [ 7.28515625e-01],\n",
       "        [ 6.91406250e-01],\n",
       "        [ 5.13671875e-01],\n",
       "        [ 2.29003906e-01],\n",
       "        [ 1.70898438e-01],\n",
       "        [-9.25781250e-01],\n",
       "        [-1.59375000e+00],\n",
       "        [-6.56250000e-01],\n",
       "        [ 1.42578125e-01],\n",
       "        [ 4.77600098e-03],\n",
       "        [ 7.34863281e-02],\n",
       "        [-7.14843750e-01],\n",
       "        [-8.39843750e-01],\n",
       "        [ 3.80859375e-01],\n",
       "        [ 5.66406250e-01],\n",
       "        [-1.27441406e-01],\n",
       "        [-1.21093750e+00],\n",
       "        [-9.94873047e-03],\n",
       "        [-5.76171875e-02],\n",
       "        [-8.37890625e-01],\n",
       "        [ 1.45703125e+00],\n",
       "        [-8.85009766e-03],\n",
       "        [ 1.56250000e+00],\n",
       "        [-1.89453125e-01],\n",
       "        [-1.14062500e+00],\n",
       "        [-7.27539062e-02],\n",
       "        [-9.62890625e-01],\n",
       "        [ 1.06250000e+00],\n",
       "        [ 6.89453125e-01],\n",
       "        [ 1.15625000e+00],\n",
       "        [ 1.21484375e+00],\n",
       "        [ 8.61328125e-01],\n",
       "        [ 1.59375000e+00],\n",
       "        [ 8.92578125e-01],\n",
       "        [-5.00000000e-01],\n",
       "        [ 7.51953125e-01],\n",
       "        [ 8.49609375e-01],\n",
       "        [ 7.66601562e-02],\n",
       "        [-6.05468750e-01],\n",
       "        [ 9.19921875e-01],\n",
       "        [-1.31835938e-01],\n",
       "        [ 3.46679688e-01],\n",
       "        [ 5.52978516e-02],\n",
       "        [-7.50000000e-01],\n",
       "        [-1.58203125e+00],\n",
       "        [-3.89404297e-02],\n",
       "        [ 1.48046875e+00],\n",
       "        [ 1.13671875e+00],\n",
       "        [-1.14746094e-01],\n",
       "        [ 1.42187500e+00],\n",
       "        [-1.21875000e+00],\n",
       "        [ 1.40136719e-01],\n",
       "        [ 1.01562500e-01],\n",
       "        [-1.65625000e+00],\n",
       "        [ 6.23046875e-01],\n",
       "        [-1.85058594e-01],\n",
       "        [ 6.90917969e-02],\n",
       "        [-1.63085938e-01],\n",
       "        [ 9.98046875e-01],\n",
       "        [ 1.35937500e+00],\n",
       "        [ 9.60937500e-01],\n",
       "        [-2.29687500e+00],\n",
       "        [-6.37207031e-02],\n",
       "        [ 9.30175781e-02],\n",
       "        [ 1.44140625e+00],\n",
       "        [-7.44140625e-01],\n",
       "        [-2.36816406e-01],\n",
       "        [ 2.65625000e-01],\n",
       "        [-1.99218750e+00],\n",
       "        [-5.03906250e-01],\n",
       "        [ 7.14843750e-01],\n",
       "        [-1.01074219e-01],\n",
       "        [ 8.98437500e-01],\n",
       "        [-1.96875000e+00],\n",
       "        [ 5.11474609e-02],\n",
       "        [-8.61328125e-01],\n",
       "        [ 8.32031250e-01],\n",
       "        [ 1.14062500e+00],\n",
       "        [-2.82226562e-01],\n",
       "        [ 1.37890625e+00],\n",
       "        [-1.32031250e+00],\n",
       "        [-7.42187500e-01],\n",
       "        [-6.21093750e-01],\n",
       "        [-1.14453125e+00],\n",
       "        [ 1.94335938e-01],\n",
       "        [-6.79016113e-03],\n",
       "        [ 2.21191406e-01],\n",
       "        [ 4.30664062e-01],\n",
       "        [-9.21875000e-01],\n",
       "        [ 9.04296875e-01],\n",
       "        [-8.80859375e-01],\n",
       "        [ 1.54687500e+00],\n",
       "        [-1.69921875e-01],\n",
       "        [-1.29296875e+00],\n",
       "        [-5.39062500e-01],\n",
       "        [-1.46875000e+00],\n",
       "        [ 6.23046875e-01],\n",
       "        [-1.41406250e+00],\n",
       "        [ 5.41015625e-01],\n",
       "        [-1.23828125e+00],\n",
       "        [ 9.45312500e-01],\n",
       "        [-3.11889648e-02],\n",
       "        [-2.08007812e-01],\n",
       "        [ 8.76464844e-02],\n",
       "        [ 4.15039062e-01],\n",
       "        [-7.42187500e-01],\n",
       "        [ 1.09375000e+00],\n",
       "        [-1.29296875e+00],\n",
       "        [-2.36718750e+00],\n",
       "        [-1.23046875e+00],\n",
       "        [ 3.47900391e-02],\n",
       "        [-4.05273438e-01],\n",
       "        [-9.12109375e-01],\n",
       "        [ 4.45312500e-01],\n",
       "        [-5.11718750e-01],\n",
       "        [-1.44042969e-01],\n",
       "        [-2.86132812e-01],\n",
       "        [ 8.86718750e-01],\n",
       "        [-9.25292969e-02],\n",
       "        [-6.38671875e-01],\n",
       "        [-1.16406250e+00],\n",
       "        [-7.40234375e-01],\n",
       "        [-2.08593750e+00],\n",
       "        [-3.07617188e-02],\n",
       "        [-1.99609375e+00],\n",
       "        [ 1.21875000e+00],\n",
       "        [-9.49218750e-01],\n",
       "        [-8.76953125e-01],\n",
       "        [-2.94921875e-01],\n",
       "        [-6.54296875e-01],\n",
       "        [-2.00683594e-01],\n",
       "        [ 8.02734375e-01],\n",
       "        [-2.34863281e-01],\n",
       "        [-3.73046875e-01],\n",
       "        [-5.93566895e-03],\n",
       "        [ 1.94531250e+00],\n",
       "        [ 3.38134766e-02],\n",
       "        [-9.91210938e-02],\n",
       "        [ 1.31640625e+00],\n",
       "        [-5.80078125e-01],\n",
       "        [-3.49609375e-01],\n",
       "        [-1.21093750e+00],\n",
       "        [-7.91015625e-01],\n",
       "        [ 1.10937500e+00],\n",
       "        [-5.37109375e-01],\n",
       "        [ 7.77343750e-01],\n",
       "        [-5.74218750e-01],\n",
       "        [ 5.41015625e-01],\n",
       "        [ 7.24609375e-01],\n",
       "        [ 1.29296875e+00],\n",
       "        [-3.66210938e-01],\n",
       "        [ 3.78906250e-01],\n",
       "        [-3.90625000e-01],\n",
       "        [ 1.91894531e-01],\n",
       "        [-1.21484375e+00],\n",
       "        [-7.12890625e-01],\n",
       "        [ 5.72265625e-01],\n",
       "        [ 3.02734375e-01],\n",
       "        [ 5.82031250e-01],\n",
       "        [ 1.96093750e+00],\n",
       "        [-1.27734375e+00],\n",
       "        [ 1.04687500e+00],\n",
       "        [ 1.26953125e-01],\n",
       "        [ 7.46093750e-01],\n",
       "        [ 7.78808594e-02],\n",
       "        [ 1.13671875e+00],\n",
       "        [ 1.05859375e+00],\n",
       "        [-1.48925781e-01],\n",
       "        [ 3.00781250e-01],\n",
       "        [ 1.69921875e+00],\n",
       "        [-6.48437500e-01],\n",
       "        [ 4.86328125e-01],\n",
       "        [ 1.18652344e-01],\n",
       "        [-3.70117188e-01],\n",
       "        [-4.49218750e-01],\n",
       "        [ 2.80273438e-01],\n",
       "        [-7.46093750e-01],\n",
       "        [-1.12500000e+00],\n",
       "        [ 2.85156250e-01],\n",
       "        [-1.00781250e+00],\n",
       "        [ 8.41796875e-01],\n",
       "        [-1.16406250e+00],\n",
       "        [ 1.03125000e+00],\n",
       "        [-1.67968750e+00],\n",
       "        [-8.82812500e-01],\n",
       "        [ 1.94921875e+00],\n",
       "        [-3.24707031e-02],\n",
       "        [ 2.86132812e-01],\n",
       "        [ 3.70117188e-01],\n",
       "        [ 2.24609375e-01],\n",
       "        [-3.31054688e-01],\n",
       "        [-4.02343750e-01],\n",
       "        [-4.81445312e-01],\n",
       "        [ 6.21093750e-01],\n",
       "        [ 3.27148438e-01],\n",
       "        [ 1.09765625e+00],\n",
       "        [-1.86328125e+00],\n",
       "        [ 4.36523438e-01],\n",
       "        [-4.74853516e-02],\n",
       "        [-1.31640625e+00],\n",
       "        [ 5.39062500e-01],\n",
       "        [ 1.35546875e+00],\n",
       "        [-3.74023438e-01],\n",
       "        [ 1.32324219e-01],\n",
       "        [ 1.01171875e+00],\n",
       "        [-7.73437500e-01],\n",
       "        [ 6.85546875e-01],\n",
       "        [-8.10546875e-01],\n",
       "        [-7.92968750e-01],\n",
       "        [ 1.02734375e+00],\n",
       "        [ 1.06201172e-01],\n",
       "        [-1.02343750e+00],\n",
       "        [-6.71386719e-02],\n",
       "        [-8.57543945e-03],\n",
       "        [-7.14843750e-01],\n",
       "        [ 7.16796875e-01],\n",
       "        [ 9.94140625e-01],\n",
       "        [-1.56738281e-01],\n",
       "        [-8.78906250e-01],\n",
       "        [ 1.03027344e-01],\n",
       "        [-1.79296875e+00],\n",
       "        [-1.89453125e-01],\n",
       "        [-5.19531250e-01],\n",
       "        [ 8.90625000e-01],\n",
       "        [ 9.41406250e-01],\n",
       "        [ 2.16796875e-01],\n",
       "        [-3.55468750e-01],\n",
       "        [-1.66796875e+00],\n",
       "        [-1.34375000e+00],\n",
       "        [-9.23828125e-01],\n",
       "        [-3.19335938e-01],\n",
       "        [-8.24218750e-01],\n",
       "        [ 2.02636719e-01],\n",
       "        [-1.68750000e+00],\n",
       "        [ 1.75000000e+00],\n",
       "        [ 1.33789062e-01],\n",
       "        [ 5.01953125e-01],\n",
       "        [ 1.17919922e-01],\n",
       "        [ 1.01953125e+00],\n",
       "        [ 2.14355469e-01],\n",
       "        [-1.87011719e-01],\n",
       "        [ 1.56640625e+00],\n",
       "        [-5.52734375e-01],\n",
       "        [-8.98437500e-02],\n",
       "        [-8.35937500e-01],\n",
       "        [-1.46484375e+00],\n",
       "        [ 6.32812500e-01],\n",
       "        [ 1.37890625e+00],\n",
       "        [ 1.13769531e-01],\n",
       "        [-1.11718750e+00],\n",
       "        [-2.35156250e+00],\n",
       "        [ 7.55859375e-01],\n",
       "        [ 1.03515625e+00],\n",
       "        [ 5.21484375e-01],\n",
       "        [ 1.62500000e+00],\n",
       "        [-1.05859375e+00],\n",
       "        [-4.73632812e-01],\n",
       "        [ 1.79687500e+00],\n",
       "        [ 2.40234375e-01],\n",
       "        [ 8.96484375e-01],\n",
       "        [-1.53515625e+00],\n",
       "        [ 1.77246094e-01],\n",
       "        [-1.18750000e+00],\n",
       "        [-6.71875000e-01],\n",
       "        [-2.77343750e-01],\n",
       "        [ 2.24609375e-01],\n",
       "        [ 1.18652344e-01],\n",
       "        [-6.44531250e-01],\n",
       "        [-1.21484375e+00],\n",
       "        [ 1.68359375e+00],\n",
       "        [ 2.66601562e-01],\n",
       "        [ 1.77734375e+00],\n",
       "        [-9.17968750e-01],\n",
       "        [ 3.78417969e-02],\n",
       "        [-8.39843750e-01],\n",
       "        [ 7.00683594e-02],\n",
       "        [-9.00390625e-01],\n",
       "        [-2.11718750e+00],\n",
       "        [ 2.13281250e+00],\n",
       "        [-8.91113281e-02],\n",
       "        [-1.40136719e-01],\n",
       "        [-1.02734375e+00],\n",
       "        [-3.46679688e-01],\n",
       "        [-1.21484375e+00],\n",
       "        [ 2.66601562e-01],\n",
       "        [-1.08593750e+00],\n",
       "        [ 1.71093750e+00],\n",
       "        [ 2.21875000e+00],\n",
       "        [-1.40136719e-01],\n",
       "        [-2.39257812e-01],\n",
       "        [ 1.59375000e+00],\n",
       "        [ 6.66015625e-01],\n",
       "        [ 1.35937500e+00],\n",
       "        [ 5.17578125e-01],\n",
       "        [ 9.72656250e-01],\n",
       "        [-9.06250000e-01],\n",
       "        [ 2.46093750e-01],\n",
       "        [ 1.14746094e-01],\n",
       "        [-5.01953125e-01],\n",
       "        [ 3.02734375e-01],\n",
       "        [-8.80859375e-01],\n",
       "        [ 1.86718750e+00],\n",
       "        [-6.64062500e-01],\n",
       "        [-9.55078125e-01],\n",
       "        [-2.54882812e-01],\n",
       "        [ 1.53125000e+00],\n",
       "        [-2.88696289e-02],\n",
       "        [-2.02343750e+00],\n",
       "        [ 6.23046875e-01],\n",
       "        [-1.00000000e+00],\n",
       "        [ 5.42968750e-01],\n",
       "        [ 3.59344482e-03],\n",
       "        [ 2.33593750e+00],\n",
       "        [ 8.28125000e-01],\n",
       "        [ 3.64257812e-01],\n",
       "        [ 1.93359375e-01],\n",
       "        [ 1.82617188e-01],\n",
       "        [-3.33404541e-03],\n",
       "        [-9.64843750e-01],\n",
       "        [-1.45312500e+00],\n",
       "        [ 2.51953125e-01],\n",
       "        [ 7.89062500e-01],\n",
       "        [ 1.11328125e+00],\n",
       "        [-7.61718750e-01],\n",
       "        [ 1.27343750e+00],\n",
       "        [-1.40136719e-01],\n",
       "        [-5.89599609e-02],\n",
       "        [ 7.92968750e-01],\n",
       "        [-7.18750000e-01],\n",
       "        [ 1.93750000e+00],\n",
       "        [-1.65625000e+00],\n",
       "        [-6.44531250e-01],\n",
       "        [ 6.85546875e-01],\n",
       "        [-7.79296875e-01],\n",
       "        [-6.99218750e-01],\n",
       "        [ 9.71679688e-02],\n",
       "        [ 4.16992188e-01],\n",
       "        [-8.78906250e-02],\n",
       "        [ 8.94531250e-01],\n",
       "        [ 6.28906250e-01],\n",
       "        [-7.22656250e-02],\n",
       "        [ 9.88769531e-02],\n",
       "        [ 8.08593750e-01],\n",
       "        [-4.94140625e-01],\n",
       "        [-1.90234375e+00],\n",
       "        [-3.89648438e-01],\n",
       "        [-3.10546875e-01],\n",
       "        [ 1.26171875e+00],\n",
       "        [-6.01562500e-01],\n",
       "        [-1.08642578e-01],\n",
       "        [-1.62109375e-01],\n",
       "        [-6.93359375e-01],\n",
       "        [-9.68750000e-01],\n",
       "        [-1.15234375e+00],\n",
       "        [-1.69921875e-01],\n",
       "        [ 6.26953125e-01],\n",
       "        [ 2.71484375e-01],\n",
       "        [-4.98046875e-01],\n",
       "        [ 5.13671875e-01],\n",
       "        [-2.37304688e-01],\n",
       "        [ 4.12109375e-01],\n",
       "        [-6.73828125e-02],\n",
       "        [-9.25781250e-01],\n",
       "        [ 4.07226562e-01],\n",
       "        [ 1.53515625e+00],\n",
       "        [ 1.03515625e-01],\n",
       "        [-2.21093750e+00],\n",
       "        [-1.35937500e+00],\n",
       "        [-6.36718750e-01],\n",
       "        [-1.49414062e-01],\n",
       "        [ 6.89453125e-01],\n",
       "        [-1.24511719e-01],\n",
       "        [ 9.55078125e-01],\n",
       "        [-2.32031250e+00],\n",
       "        [ 1.91406250e+00],\n",
       "        [ 8.49609375e-01],\n",
       "        [ 2.35156250e+00],\n",
       "        [ 1.65234375e+00],\n",
       "        [ 4.48242188e-01],\n",
       "        [-5.03906250e-01],\n",
       "        [-9.25781250e-01],\n",
       "        [ 1.83105469e-01],\n",
       "        [-6.15234375e-01],\n",
       "        [-4.74609375e-01],\n",
       "        [-1.21875000e+00],\n",
       "        [ 2.74414062e-01],\n",
       "        [-6.07421875e-01],\n",
       "        [ 1.30468750e+00],\n",
       "        [-2.39257812e-01],\n",
       "        [-8.84765625e-01],\n",
       "        [ 1.73828125e+00],\n",
       "        [-8.06640625e-01],\n",
       "        [-1.41796875e+00],\n",
       "        [ 1.34765625e+00],\n",
       "        [ 1.14062500e+00],\n",
       "        [-3.96484375e-01],\n",
       "        [ 1.50390625e+00],\n",
       "        [-1.43359375e+00],\n",
       "        [-1.64062500e+00],\n",
       "        [ 1.26953125e+00],\n",
       "        [-1.34375000e+00],\n",
       "        [-1.27343750e+00],\n",
       "        [ 9.68750000e-01],\n",
       "        [-4.98046875e-01],\n",
       "        [ 2.08593750e+00],\n",
       "        [ 4.79125977e-03],\n",
       "        [ 6.13281250e-01],\n",
       "        [-2.67578125e-01],\n",
       "        [ 2.10449219e-01],\n",
       "        [-4.08203125e-01],\n",
       "        [ 1.20703125e+00],\n",
       "        [-2.02343750e+00],\n",
       "        [-1.31640625e+00],\n",
       "        [-2.07812500e+00],\n",
       "        [ 1.39062500e+00],\n",
       "        [-1.35156250e+00],\n",
       "        [-5.52734375e-01],\n",
       "        [ 2.10156250e+00],\n",
       "        [ 3.23242188e-01],\n",
       "        [-2.19726562e-01],\n",
       "        [-3.40820312e-01],\n",
       "        [ 3.19335938e-01],\n",
       "        [-5.49316406e-02],\n",
       "        [ 3.13476562e-01],\n",
       "        [-2.01562500e+00],\n",
       "        [ 7.71484375e-01],\n",
       "        [-5.68359375e-01],\n",
       "        [ 1.02539062e-02],\n",
       "        [ 1.30859375e-01],\n",
       "        [-9.88281250e-01],\n",
       "        [-8.12500000e-01],\n",
       "        [-2.04101562e-01],\n",
       "        [-9.98046875e-01],\n",
       "        [ 8.14453125e-01],\n",
       "        [ 1.05859375e+00],\n",
       "        [-9.10156250e-01],\n",
       "        [ 1.32031250e+00],\n",
       "        [ 7.51953125e-01],\n",
       "        [-1.32812500e+00],\n",
       "        [-1.50781250e+00],\n",
       "        [-1.56250000e+00],\n",
       "        [-1.42187500e+00],\n",
       "        [-1.29687500e+00],\n",
       "        [-5.82031250e-01],\n",
       "        [-4.44335938e-02],\n",
       "        [ 3.31054688e-01],\n",
       "        [-1.23828125e+00],\n",
       "        [ 1.10546875e+00],\n",
       "        [-7.88574219e-02],\n",
       "        [ 6.71875000e-01],\n",
       "        [-1.26171875e+00],\n",
       "        [ 3.73046875e-01],\n",
       "        [ 1.39843750e+00],\n",
       "        [ 2.23437500e+00],\n",
       "        [ 7.81250000e-01],\n",
       "        [ 2.01562500e+00],\n",
       "        [-4.83398438e-02],\n",
       "        [ 6.86035156e-02],\n",
       "        [-1.20312500e+00],\n",
       "        [ 1.45312500e+00],\n",
       "        [-8.43750000e-01],\n",
       "        [-2.28881836e-03],\n",
       "        [ 1.06250000e+00],\n",
       "        [-1.74609375e+00],\n",
       "        [-3.89648438e-01],\n",
       "        [ 8.22753906e-02],\n",
       "        [-6.89453125e-01],\n",
       "        [-4.25781250e-01],\n",
       "        [-1.42187500e+00],\n",
       "        [-1.44140625e+00],\n",
       "        [ 9.88281250e-01],\n",
       "        [-9.60937500e-01],\n",
       "        [ 4.61914062e-01],\n",
       "        [-2.93945312e-01],\n",
       "        [ 1.61718750e+00],\n",
       "        [-1.65625000e+00],\n",
       "        [-1.03125000e+00],\n",
       "        [ 1.11718750e+00],\n",
       "        [ 1.77734375e-01],\n",
       "        [-4.18945312e-01],\n",
       "        [ 1.18359375e+00],\n",
       "        [-3.66210938e-01],\n",
       "        [-8.10546875e-01],\n",
       "        [ 4.18945312e-01],\n",
       "        [-1.63085938e-01],\n",
       "        [ 4.58984375e-02],\n",
       "        [ 2.10156250e+00],\n",
       "        [-1.08593750e+00],\n",
       "        [-1.30468750e+00],\n",
       "        [-1.63281250e+00],\n",
       "        [-1.04687500e+00],\n",
       "        [-1.00000000e+00],\n",
       "        [ 1.21093750e+00],\n",
       "        [ 1.42578125e-01],\n",
       "        [-1.11718750e+00],\n",
       "        [-1.40625000e+00],\n",
       "        [ 2.33593750e+00],\n",
       "        [-9.86328125e-01],\n",
       "        [-1.09375000e+00],\n",
       "        [-2.04467773e-02],\n",
       "        [-2.19531250e+00],\n",
       "        [-2.66601562e-01],\n",
       "        [ 8.98437500e-01],\n",
       "        [-1.52343750e+00],\n",
       "        [-1.50000000e+00],\n",
       "        [-1.47656250e+00],\n",
       "        [-5.05859375e-01],\n",
       "        [-5.10253906e-02],\n",
       "        [ 2.91015625e-01],\n",
       "        [-2.72460938e-01],\n",
       "        [ 1.86718750e+00],\n",
       "        [ 7.26562500e-01],\n",
       "        [ 7.20703125e-01],\n",
       "        [ 2.90039062e-01],\n",
       "        [ 5.11718750e-01],\n",
       "        [-9.64843750e-01],\n",
       "        [-2.13378906e-01],\n",
       "        [ 7.18750000e-01],\n",
       "        [ 1.17968750e+00],\n",
       "        [-4.69726562e-01],\n",
       "        [-1.70410156e-01],\n",
       "        [-9.72656250e-01],\n",
       "        [-8.22753906e-02],\n",
       "        [-2.34375000e-01],\n",
       "        [-2.25000000e+00],\n",
       "        [-2.69531250e-01],\n",
       "        [ 3.54492188e-01],\n",
       "        [ 8.73046875e-01],\n",
       "        [ 1.47265625e+00],\n",
       "        [ 1.48828125e+00],\n",
       "        [-1.77612305e-02],\n",
       "        [ 8.12500000e-01],\n",
       "        [ 3.75000000e-01],\n",
       "        [ 1.43750000e+00],\n",
       "        [ 1.92187500e+00],\n",
       "        [ 8.45703125e-01],\n",
       "        [ 5.97656250e-01],\n",
       "        [ 7.20703125e-01],\n",
       "        [ 3.49609375e-01],\n",
       "        [-3.14453125e-01],\n",
       "        [-2.23144531e-01],\n",
       "        [ 5.82031250e-01],\n",
       "        [ 1.71093750e+00],\n",
       "        [-3.70117188e-01],\n",
       "        [ 1.51171875e+00],\n",
       "        [ 2.94921875e-01],\n",
       "        [-8.94531250e-01],\n",
       "        [ 3.79882812e-01],\n",
       "        [-9.14062500e-01],\n",
       "        [ 1.89062500e+00],\n",
       "        [-4.92187500e-01],\n",
       "        [-3.68164062e-01],\n",
       "        [ 4.36523438e-01],\n",
       "        [-2.49023438e-01],\n",
       "        [-9.78515625e-01],\n",
       "        [-3.59375000e-01],\n",
       "        [-4.00390625e-01],\n",
       "        [-2.68554688e-01],\n",
       "        [ 1.58593750e+00],\n",
       "        [-1.76953125e+00],\n",
       "        [-8.05664062e-02],\n",
       "        [-9.08203125e-01],\n",
       "        [ 2.39062500e+00],\n",
       "        [ 9.86328125e-02],\n",
       "        [ 1.38281250e+00],\n",
       "        [ 1.07421875e+00],\n",
       "        [ 1.29394531e-01],\n",
       "        [ 9.00390625e-01],\n",
       "        [ 3.31054688e-01],\n",
       "        [-1.09765625e+00],\n",
       "        [ 2.19531250e+00],\n",
       "        [ 9.58984375e-01],\n",
       "        [-2.31445312e-01],\n",
       "        [ 1.00390625e+00],\n",
       "        [ 6.19140625e-01],\n",
       "        [-8.59375000e-01],\n",
       "        [-5.39062500e-01],\n",
       "        [ 9.47265625e-01],\n",
       "        [-1.77343750e+00],\n",
       "        [-1.18359375e+00],\n",
       "        [-1.17968750e+00],\n",
       "        [-3.36914062e-01],\n",
       "        [-2.06250000e+00],\n",
       "        [ 1.25390625e+00],\n",
       "        [-5.13671875e-01],\n",
       "        [ 1.63281250e+00],\n",
       "        [ 9.02343750e-01],\n",
       "        [ 2.29687500e+00],\n",
       "        [ 3.01757812e-01],\n",
       "        [ 1.41406250e+00],\n",
       "        [-1.72363281e-01],\n",
       "        [-7.73925781e-02],\n",
       "        [ 2.05468750e+00],\n",
       "        [-6.30859375e-01],\n",
       "        [ 4.78515625e-01],\n",
       "        [ 5.31250000e-01],\n",
       "        [ 4.23828125e-01],\n",
       "        [-9.49218750e-01],\n",
       "        [ 1.62890625e+00],\n",
       "        [-1.11718750e+00],\n",
       "        [ 3.84765625e-01],\n",
       "        [-6.15234375e-01],\n",
       "        [ 6.25000000e-01],\n",
       "        [ 1.75390625e+00],\n",
       "        [-4.39453125e-01],\n",
       "        [ 4.15039062e-01],\n",
       "        [-9.55078125e-01],\n",
       "        [-1.23437500e+00],\n",
       "        [ 4.76562500e-01],\n",
       "        [-1.44531250e+00],\n",
       "        [ 4.81445312e-01],\n",
       "        [ 7.47070312e-02],\n",
       "        [ 5.72265625e-01],\n",
       "        [-9.27734375e-01],\n",
       "        [ 1.53125000e+00],\n",
       "        [-4.79736328e-02],\n",
       "        [ 6.36718750e-01],\n",
       "        [-1.00341797e-01],\n",
       "        [-5.66406250e-02],\n",
       "        [-6.93359375e-01],\n",
       "        [-3.09570312e-01],\n",
       "        [ 2.12890625e-01],\n",
       "        [ 8.78906250e-01],\n",
       "        [ 1.59765625e+00]],\n",
       "  mask=False,\n",
       "  fill_value=1e+20)"
      ]
     },
     "execution_count": 190,
     "metadata": {},
     "output_type": "execute_result"
    }
   ],
   "source": [
    "lep_eta_reshaped"
   ]
  },
  {
   "cell_type": "code",
   "execution_count": null,
   "id": "c9dfbc7f",
   "metadata": {},
   "outputs": [],
   "source": []
  },
  {
   "cell_type": "code",
   "execution_count": null,
   "id": "0cb89c33",
   "metadata": {},
   "outputs": [],
   "source": []
  },
  {
   "cell_type": "code",
   "execution_count": null,
   "id": "4c1c7375",
   "metadata": {},
   "outputs": [],
   "source": []
  },
  {
   "cell_type": "code",
   "execution_count": null,
   "id": "ef363da9",
   "metadata": {},
   "outputs": [],
   "source": []
  },
  {
   "cell_type": "code",
   "execution_count": null,
   "id": "9b62fb02",
   "metadata": {},
   "outputs": [],
   "source": []
  },
  {
   "cell_type": "code",
   "execution_count": 184,
   "id": "ae750e50",
   "metadata": {},
   "outputs": [
    {
     "data": {
      "text/plain": [
       "masked_array(data=[0.00342286984687743, 0.0010918300671385692,\n",
       "                   0.0015440808887540916, 0.6472363665085303,\n",
       "                   0.0020859384143841627, 0.0008802615418613255,\n",
       "                   0.0024535829153127173, 0.40602017283943354,\n",
       "                   0.7519907359836007, 0.000781631376639752,\n",
       "                   0.0008886852892188132, 0.003126525506559008,\n",
       "                   0.00034526698300124393, 0.5570945227642181,\n",
       "                   0.0007720404443770458, 0.000732421875,\n",
       "                   0.0037186392118476116, 0.0017263349150062196,\n",
       "                   0.0039067268080579245, 5.522860182573196,\n",
       "                   0.002980116117122486, 0.0003662109375,\n",
       "                   0.003998618006386523, 0.0016377451007078539,\n",
       "                   0.8012110975346338, 0.00032868437543545555,\n",
       "                   0.41737116224838605, 0.0020132351687586233,\n",
       "                   0.000732421875, 0.001906799237281898,\n",
       "                   0.4687655764217014, 0.8217226555363888,\n",
       "                   0.00019301011109426145, 0.0034955617830264535,\n",
       "                   0.4519050223057724, 0.0010918300671385692,\n",
       "                   0.0007720404443770458, 0.0008544921875, 0.0029296875,\n",
       "                   0.005145810280360838, 0.0010066175843793117,\n",
       "                   0.0008802615418613255, 0.6105044364213452,\n",
       "                   0.0008738904457566134, 0.0008802615418613255,\n",
       "                   0.0008188725503539269, 0.0003446764220604406,\n",
       "                   0.0002962720922690979, 0.00048828125,\n",
       "                   0.0008631674575031098, 0.0008544921875,\n",
       "                   0.00018874079707112092, 0.003936649291161401,\n",
       "                   0.0010659331785017687, 0.0004315837287515549,\n",
       "                   0.3921184600610603, 0.0005033087921896558,\n",
       "                   0.0005459150335692846, 0.003426676964750537,\n",
       "                   0.3116038825465314, 0.00195407844159938,\n",
       "                   0.10581575811251616, 0.001953125,\n",
       "                   0.0009841623227903502, 0.00347203678059763,\n",
       "                   0.0025135815773894045, 0.0029296875,\n",
       "                   0.000953399618640949, 0.658021352780924,\n",
       "                   0.00079345703125, 0.012280661726589986,\n",
       "                   0.0019768230884645564, 0.0002973568141246541,\n",
       "                   0.0017773705784376265, 0.0009841623227903502,\n",
       "                   0.0025866235474141957, 0.0005459150335692846,\n",
       "                   0.0005214846035960407, 0.0011254326730093856,\n",
       "                   0.007206285226145235, 0.000732421875, 0.001220703125,\n",
       "                   0.00034526698300124393, 0.0012222280514221672,\n",
       "                   0.003452669830012439, 0.00079345703125,\n",
       "                   0.0005033087921896558, 0.009937350077067982,\n",
       "                   0.00079345703125, 0.0005758045124546267,\n",
       "                   0.001220703125, 0.24354006334097383, 0.0015869140625,\n",
       "                   0.0011254326730093856, 0.0028575927516405336,\n",
       "                   0.00079345703125, 0.0013810679320049757,\n",
       "                   0.0007720404443770458, 0.003452669830012439,\n",
       "                   0.0009808446459953733, 0.0014699212132314814,\n",
       "                   0.0017187656055088773, 0.001906799237281898,\n",
       "                   0.0018147056576316536, 0.11737585824687187,\n",
       "                   0.00030517578125, 0.07973948260466436,\n",
       "                   0.0007720404443770458, 0.9079293381850696,\n",
       "                   0.0006905339660024879, 1.4198027905844468,\n",
       "                   0.0003662109375, 0.0017187656055088773,\n",
       "                   0.0030517578125, 0.4376030528087586, 0.000244140625,\n",
       "                   0.5450121110972538, 0.001611374363091319,\n",
       "                   0.0020859384143841627, 0.0007720404443770458,\n",
       "                   0.0009841623227903502, 0.37321622110426905,\n",
       "                   0.0009841623227903502, 0.0007401692404562319,\n",
       "                   0.0020859384143841627, 0.0002729575167846423,\n",
       "                   0.0037186392118476116, 0.000244140625,\n",
       "                   0.7233374194793021, 0.00026995553608633624,\n",
       "                   0.003910539179599938, 0.0013386054809241522,\n",
       "                   0.001956935979233569, 0.003768395761824495,\n",
       "                   0.2206050688734479, 0.0026294750034836444,\n",
       "                   0.31404459223768594, 0.015602095027998494,\n",
       "                   0.05313074417474783, 0.005904973936742101,\n",
       "                   0.003173828125, 0.0015440808887540916,\n",
       "                   0.0006905339660024879, 0.0024444561028443344,\n",
       "                   0.00048828125, 0.7299649546323818,\n",
       "                   0.0008886852892188132, 0.13327149009970127,\n",
       "                   0.0029296875, 0.00017263349150062197,\n",
       "                   3.2644892456057497, 0.0014762434841855254,\n",
       "                   0.8435083436170285, 0.00013647875839232116,\n",
       "                   0.001274451478138495, 0.00040943627517696347,\n",
       "                   0.0012209176828652238, 5.455137214927907,\n",
       "                   0.001906799237281898, 0.003813598474563796,\n",
       "                   0.0010918300671385692, 0.8156578978119258,\n",
       "                   0.00342286984687743, 0.23873557881046098,\n",
       "                   0.0017100739411769897, 0.4751578877956134,\n",
       "                   0.0010429692071920813, 0.0002589502372509329,\n",
       "                   0.37152718779654714, 0.0012448778109357384,\n",
       "                   0.0004920811613951751, 0.33508757152124724,\n",
       "                   2.993460509538053, 0.0011516090249092533,\n",
       "                   0.17583316460220172, 0.0010066175843793117,\n",
       "                   0.0017773705784376265, 0.27912011588743935,\n",
       "                   0.0011516090249092533, 0.2013854217413538,\n",
       "                   0.2005882686490674, 0.00244140625,\n",
       "                   0.00040943627517696347, 0.0009765625,\n",
       "                   0.0032754902014157077, 0.001220703125,\n",
       "                   0.00044013077093066273, 6.103515625e-05,\n",
       "                   0.002489755621871477, 0.00042724609375,\n",
       "                   0.0020859384143841627, 0.5496019528287044,\n",
       "                   0.0012222280514221672, 0.9724557815540724,\n",
       "                   0.0029700988917471774, 0.0002593994140625,\n",
       "                   0.0032754902014157077, 0.0019768230884645564,\n",
       "                   0.0012267914576563586, 0.0007549631882844837,\n",
       "                   0.000244140625, 0.0012343596445408133, 0.001953125,\n",
       "                   0.0016377451007078539, 0.000732421875,\n",
       "                   0.003936649291161401, 0.0019107026174924962,\n",
       "                   0.002818212006986132, 0.0006224389054678692,\n",
       "                   0.0017773705784376265, 0.0009765625,\n",
       "                   0.0009784679896167846, 0.32065294363341296,\n",
       "                   0.001956935979233569, 0.00342286984687743,\n",
       "                   0.011361231603633774, 0.0007720404443770458,\n",
       "                   0.000781631376639752, 0.51675666543088,\n",
       "                   0.00079345703125, 0.00029708141284847316,\n",
       "                   0.003554741156875253, 0.3649565103828471,\n",
       "                   0.0005033087921896558, 0.32566692189520113,\n",
       "                   0.45598753098303224, 0.4547703018720668,\n",
       "                   0.0029700988917471774, 0.0014699212132314814,\n",
       "                   0.0035231615453275907, 0.0037669126279808282,\n",
       "                   0.06362501538057272, 0.000390815688319876,\n",
       "                   0.001906799237281898, 0.0005459150335692846,\n",
       "                   0.0008802615418613255, 4.57725105146204,\n",
       "                   4.5294128903182855, 4.836544091261793, 0.00341796875,\n",
       "                   0.001953125, 0.0034201478823539795,\n",
       "                   0.0019768230884645564, 0.5330594746122181,\n",
       "                   0.0024444561028443344, 0.0013147375017418222,\n",
       "                   0.0033206715109217392, 0.0012222280514221672,\n",
       "                   0.0016377451007078539, 0.003173828125,\n",
       "                   0.000390815688319876, 0.0034955617830264535,\n",
       "                   3.670260494459734, 0.000953399618640949,\n",
       "                   0.0004443426446094066, 0.2803001391089302,\n",
       "                   0.00390815688319876, 0.00152587890625,\n",
       "                   0.0006573687508709111, 0.0020859384143841627,\n",
       "                   0.3339016460552925, 0.0007425247229367944,\n",
       "                   0.0013147375017418222, 0.0016377451007078539,\n",
       "                   0.008818048786426367, 0.0004920811613951751,\n",
       "                   0.0010358009490037316, 0.22924817687529594,\n",
       "                   0.003936649291161401, 0.0010429692071920813,\n",
       "                   0.0006573687508709111, 0.0013147375017418222,\n",
       "                   0.0005758045124546267, 0.00030517578125,\n",
       "                   0.0005459150335692846, 0.21168780223823733,\n",
       "                   0.001423572239952466, 0.0002729575167846423,\n",
       "                   0.0009296598029619029, 0.0016377451007078539,\n",
       "                   0.0005526968468101451, 0.0010918300671385692,\n",
       "                   0.3637452303046884, 0.0017416422208716155,\n",
       "                   0.001220703125, 0.0006905339660024879, 0.0,\n",
       "                   0.7401046261773684, 0.000213623046875,\n",
       "                   0.001274451478138495, 0.001220703125,\n",
       "                   0.00016220315266013565, 0.0015440808887540916,\n",
       "                   0.0007425247229367944, 0.000953399618640949,\n",
       "                   0.16891779151746478, 0.000396728515625,\n",
       "                   0.3896851868855243, 0.00017263349150062197,\n",
       "                   0.002939842426462963, 0.0013147375017418222,\n",
       "                   0.30483007763069003, 0.6754765347260067,\n",
       "                   0.0003669254961062942, 0.008656024709586062,\n",
       "                   0.0005033087921896558, 0.0009784679896167846,\n",
       "                   0.0017133384823752684, 0.6221724236250564,\n",
       "                   0.00390815688319876, 0.0007425247229367944,\n",
       "                   0.001708984375, 0.0012241315380939685,\n",
       "                   0.0010066175843793117, 0.0007425247229367944,\n",
       "                   0.7346548986689746, 0.021828459080069428,\n",
       "                   0.0011254326730093856, 0.5841589956850132,\n",
       "                   0.0006905339660024879, 0.0007425247229367944,\n",
       "                   0.0012241315380939685, 0.001953125,\n",
       "                   0.0034955617830264535, 0.00013037115089901017,\n",
       "                   0.0010918300671385692, 0.003088161777508183,\n",
       "                   0.02932229528677811, 0.5783777972982913,\n",
       "                   0.001423572239952466, 0.18279958989130757,\n",
       "                   0.0010066175843793117, 0.1750284393226539,\n",
       "                   0.0014699212132314814, 0.0009841623227903502,\n",
       "                   0.0017187656055088773, 0.5767287973351923,\n",
       "                   0.0005790303332827843, 0.0022508653460187713,\n",
       "                   0.05670005048719308, 0.0005459150335692846,\n",
       "                   0.00152587890625, 0.00018310546875, 0.5011021008760641,\n",
       "                   0.0007720404443770458, 0.2793037307004553,\n",
       "                   0.0019871607172973274, 0.49993724727230787,\n",
       "                   0.0009841623227903502, 0.0017950977990542898,\n",
       "                   0.00244140625, 0.6351948387369907,\n",
       "                   0.0009841623227903502, 0.43496329722730054,\n",
       "                   0.002932229528677811, 0.7810041422227333,\n",
       "                   0.0008802615418613255, 0.00019301011109426145,\n",
       "                   0.0016958549791808843, 0.0029296875,\n",
       "                   0.00014680390476145826, 0.0005459150335692846,\n",
       "                   0.0016377451007078539, 0.0002729575167846423,\n",
       "                   0.00694407356119526, 0.0019871607172973274,\n",
       "                   0.003629411315263307, 0.0020132351687586233,\n",
       "                   1.2303423377602998, 0.003521046167445302,\n",
       "                   0.0010882255562540766, 0.00390815688319876,\n",
       "                   0.0019647727786645352, 0.0014699212132314814,\n",
       "                   0.0002729575167846423, 0.001956935979233569,\n",
       "                   0.0004766998093204745, 0.0010918300671385692,\n",
       "                   0.002448263076187937, 0.0002516543960948279,\n",
       "                   0.002939842426462963, 0.00028790225622731333,\n",
       "                   0.0014850494458735887, 0.0020132351687586233,\n",
       "                   0.0006224389054678692, 0.00254890295627699,\n",
       "                   0.422032997780224, 0.5224600818662678,\n",
       "                   0.0006601961563959942, 0.002729575167846423,\n",
       "                   1.2101696302414275, 0.0007425247229367944,\n",
       "                   0.3382524086019918, 0.0041432037960149265,\n",
       "                   0.75348284794942, 0.0029925904961257965,\n",
       "                   0.0005459150335692846, 0.0005459150335692846,\n",
       "                   0.001222632790300815, 0.6466492237162081, 0.00390625,\n",
       "                   0.2608080434320172, 0.003426676964750537,\n",
       "                   0.0007143981879101334, 0.0009935803586486637,\n",
       "                   0.0010066175843793117, 3.3729187463340318,\n",
       "                   0.0019107026174924962, 0.0017773705784376265,\n",
       "                   0.020337166847590498, 0.002939842426462963,\n",
       "                   0.0009776347948999846, 0.23657623825044596,\n",
       "                   0.001220703125, 0.0005459150335692846,\n",
       "                   0.000390815688319876, 0.001220703125, 0.0009765625,\n",
       "                   0.0014699212132314814, 0.0017263349150062196,\n",
       "                   0.5667840289731183, 0.0019683246455807005,\n",
       "                   0.003974321434594655, 0.0016377451007078539,\n",
       "                   0.0005033087921896558, 0.0006823937919616058,\n",
       "                   0.6684911429690192, 0.0012448778109357384,\n",
       "                   0.0013147375017418222, 0.0017187656055088773,\n",
       "                   0.4964903350160206, 0.0004967901793243319,\n",
       "                   0.29505751187593393, 0.00030517578125,\n",
       "                   0.0007143981879101334, 0.003910539179599938,\n",
       "                   0.001220703125, 0.3710200838956465,\n",
       "                   0.000390815688319876, 0.009618025197066508,\n",
       "                   0.0005627163365046928, 0.0014762434841855254,\n",
       "                   0.001760523083722651, 0.001953125,\n",
       "                   0.0006133957288281793, 0.002932229528677811,\n",
       "                   0.00032868437543545555, 0.0004920811613951751,\n",
       "                   0.0025952504425621704, 0.0007549631882844837,\n",
       "                   0.00224091305550364, 0.0014850494458735887,\n",
       "                   0.6942403032673446, 0.594916314983874,\n",
       "                   0.00044013077093066273, 0.0008802615418613255,\n",
       "                   0.002448263076187937, 0.0006103515625, 0.0006103515625,\n",
       "                   0.0015099263765689674, 0.4716829137908978,\n",
       "                   0.0010429692071920813, 0.0015440808887540916,\n",
       "                   0.3159734332349065, 0.0007349606066157407,\n",
       "                   0.0006905339660024879, 0.8193802395325019,\n",
       "                   0.029069142556682213, 0.0015099263765689674,\n",
       "                   0.0001856311807341986, 0.0006103515625, 0.000244140625,\n",
       "                   0.0019683246455807005, 0.13580211167470424,\n",
       "                   0.0005033087921896558, 0.0016422880916838025,\n",
       "                   0.8088509564405163, 0.0013147375017418222,\n",
       "                   0.0020132351687586233, 0.0008188725503539269,\n",
       "                   0.0006103515625, 0.0029700988917471774, 0.0029296875,\n",
       "                   0.00044013077093066273, 0.0005459150335692846,\n",
       "                   0.008933887431826444, 0.0006372257390692475,\n",
       "                   0.001953125, 0.0025165439609482793,\n",
       "                   0.0015440808887540916, 0.0005033087921896558,\n",
       "                   0.0017773705784376265, 0.0010918300671385692,\n",
       "                   0.0020716018980074633, 0.0005459150335692846,\n",
       "                   0.001423572239952466, 0.001906799237281898,\n",
       "                   0.20379195389863541, 0.5949751110641496,\n",
       "                   0.5286838176466924, 0.0011254326730093856,\n",
       "                   0.6235638313642423, 0.00341796875, 0.001220703125,\n",
       "                   0.0037186392118476116, 0.0009765625, 0.0029296875,\n",
       "                   0.0019616892919907467, 0.0003244063053202713,\n",
       "                   0.0012267914576563586, 0.0019993090031932615,\n",
       "                   3.8955718690507095, 0.6594692583192866,\n",
       "                   5.8644227130965, 0.00206529837837996,\n",
       "                   0.0019647727786645352, 0.0029700988917471774,\n",
       "                   0.00146484375, 0.0702399833570126,\n",
       "                   0.0020859384143841627, 0.0004954409208695746,\n",
       "                   0.0006224389054678692, 0.0037186392118476116,\n",
       "                   5.534856046451851, 0.001863322451473846,\n",
       "                   0.0029354039688503537, 0.003452669830012439,\n",
       "                   0.0014762434841855254, 0.000732421875,\n",
       "                   0.0008738904457566134, 0.004026470337517247,\n",
       "                   5.540654909899815, 3.2388780915854807,\n",
       "                   0.001274451478138495, 0.0014762434841855254,\n",
       "                   0.0029700988917471774, 0.0017263349150062196,\n",
       "                   0.003426676964750537, 0.0024604058069758756,\n",
       "                   0.9964647985768772, 0.0017133384823752684,\n",
       "                   9.1552734375e-05, 0.001906799237281898,\n",
       "                   0.0010066175843793117, 0.0005329665892508844,\n",
       "                   0.4945172808091899, 0.00048828125,\n",
       "                   0.001760523083722651, 0.0022508653460187713, 0.0,\n",
       "                   0.5252440861546522, 0.0038214052349849923, 0.001953125,\n",
       "                   0.0013647875839232116, 0.0002729575167846423,\n",
       "                   0.0003860202221885229, 0.0015440808887540916,\n",
       "                   0.0009784679896167846, 0.00152587890625,\n",
       "                   0.0020859384143841627, 0.0010358009490037316,\n",
       "                   0.0019768230884645564, 0.001906799237281898,\n",
       "                   0.0025750760631993394, 0.003088161777508183,\n",
       "                   0.00146484375, 0.0008479274895904421,\n",
       "                   0.4824722858299144, 0.0007549631882844837,\n",
       "                   0.0020716018980074633, 0.0018147056576316536,\n",
       "                   0.0019723423623115876, 0.0026407846255839767,\n",
       "                   0.0013147375017418222, 0.48525940233090253,\n",
       "                   0.001708984375, 0.0014962952480628983,\n",
       "                   0.0007425247229367944, 0.04207275114367683,\n",
       "                   0.0005459150335692846, 0.0013810679320049757,\n",
       "                   0.0029700988917471774, 0.0014850494458735887,\n",
       "                   0.0005179004745018658, 0.6208884451686983,\n",
       "                   0.0005459150335692846, 0.00011003269273266568,\n",
       "                   0.27976405312139974, 0.0007720404443770458,\n",
       "                   0.0013147375017418222, 0.0014648884528014813,\n",
       "                   0.0001220703125, 0.000244140625, 0.0019683246455807005,\n",
       "                   0.00250244140625, 0.4789563854416304,\n",
       "                   0.0014850494458735887, 0.00112045652775182,\n",
       "                   7.62939453125e-05, 0.3001608442575039,\n",
       "                   0.0002516543960948279, 0.5038883035997794,\n",
       "                   0.002847144479904932, 0.8139830039778291,\n",
       "                   0.0030198527531379348, 0.014445617375475601,\n",
       "                   0.5439166022074159, 0.0023032180498185066,\n",
       "                   0.001760523083722651, 0.00122274139227053,\n",
       "                   0.0005033087921896558, 0.004026470337517247,\n",
       "                   0.0013810679320049757, 0.0010066175843793117,\n",
       "                   0.0008544921875, 0.002729575167846423,\n",
       "                   0.0006133957288281793, 0.7677487366952644,\n",
       "                   0.003936649291161401, 0.0008593828027544387,\n",
       "                   0.001906799237281898, 0.41149523927662474,\n",
       "                   0.001906799237281898, 0.004026470337517247,\n",
       "                   0.0006693027404620761, 0.0005758045124546267,\n",
       "                   0.6511195682966229, 0.0001220703125,\n",
       "                   0.029677462135665477, 0.00244140625,\n",
       "                   0.3522245319600258, 0.0015440808887540916,\n",
       "                   0.0013386054809241522, 0.00032868437543545555,\n",
       "                   0.0013203923127919884, 0.0034185136633155385,\n",
       "                   0.000953399618640949, 0.0007338509922125884,\n",
       "                   0.5468638631844736, 0.000280114131937955,\n",
       "                   0.5095185159579395, 0.0015440808887540916,\n",
       "                   0.001423572239952466, 0.0004920811613951751,\n",
       "                   0.0017187656055088773, 0.2334275486879177,\n",
       "                   0.00341796875, 4.57763671875e-05, 0.5001297573758606,\n",
       "                   0.0014762434841855254, 0.000711786119976233,\n",
       "                   0.0034955617830264535, 0.0010918300671385692,\n",
       "                   0.0008544921875, 0.000781631376639752,\n",
       "                   0.44565050782421156, 0.0005179004745018658,\n",
       "                   0.00254890295627699, 0.003998618006386523,\n",
       "                   3.1485477006997824, 0.00031861286953462374,\n",
       "                   0.43633001851325837, 0.27314022798663745,\n",
       "                   0.000244140625, 0.000244140625, 0.003998618006386523,\n",
       "                   0.00048828125, 0.002939842426462963,\n",
       "                   0.0025952504425621704, 0.003426676964750537,\n",
       "                   0.00039111345269703053, 0.0006823937919616058,\n",
       "                   0.0010066175843793117, 0.00030517578125,\n",
       "                   0.00040943627517696347, 0.0011516090249092533,\n",
       "                   0.00341796875, 0.004409763639694444,\n",
       "                   0.33172954989159226, 0.0009841623227903502,\n",
       "                   0.00206529837837996, 0.0002516543960948279,\n",
       "                   0.0002621060697372724, 6.103515625e-05,\n",
       "                   0.0020289026048089186, 0.0006103515625,\n",
       "                   0.763013560853917, 0.0014850494458735887,\n",
       "                   6.103515625e-05, 0.9923716697074805,\n",
       "                   0.8989504800912453, 0.0015440808887540916,\n",
       "                   0.0015440808887540916, 0.0010066175843793117,\n",
       "                   0.0015440808887540916, 0.0003814697265625,\n",
       "                   0.0010918300671385692, 0.0014782136485270209,\n",
       "                   0.2706754355319737, 0.013410522527051187,\n",
       "                   0.0010918300671385692, 0.000711786119976233,\n",
       "                   0.001274451478138495, 0.4580632483275468,\n",
       "                   0.0010066175843793117, 0.0005033087921896558,\n",
       "                   0.0019683246455807005, 0.003426676964750537,\n",
       "                   0.5826506934664404, 0.0002589502372509329,\n",
       "                   0.0042003541342981576, 0.003173828125,\n",
       "                   6.1250092645618865, 0.001220703125,\n",
       "                   0.0022508653460187713, 0.0034955617830264535,\n",
       "                   0.00254890295627699, 0.00019301011109426145,\n",
       "                   0.00034526698300124393, 0.000711786119976233,\n",
       "                   0.7102465599432272, 6.103515625e-05,\n",
       "                   0.0033917099583617685, 0.00390815688319876,\n",
       "                   0.00152587890625, 0.3784028671696877,\n",
       "                   0.0006256103515625, 0.0001220703125, 0.000244140625,\n",
       "                   0.0027621358640099515, 0.0006905339660024879,\n",
       "                   0.000953399618640949, 3.9903609810758778,\n",
       "                   3.6803468009302263, 0.000732421875,\n",
       "                   0.0020716018980074633, 0.0009765625,\n",
       "                   0.0007720404443770458, 0.0010918300671385692,\n",
       "                   6.103515625e-05, 0.0014699212132314814,\n",
       "                   0.0006905339660024879, 0.001953125, 0.0,\n",
       "                   0.0022508653460187713, 0.0014762434841855254,\n",
       "                   0.0002729575167846423, 0.5248363648576708,\n",
       "                   0.0004920811613951751, 0.8138267483470267,\n",
       "                   0.0012222280514221672, 0.0015440808887540916,\n",
       "                   0.0007425247229367944, 0.0015099263765689674,\n",
       "                   0.0020859384143841627],\n",
       "             mask=[False, False, False, False, False, False, False, False,\n",
       "                   False, False, False, False, False, False, False, False,\n",
       "                   False, False, False, False, False, False, False, False,\n",
       "                   False, False, False, False, False, False, False, False,\n",
       "                   False, False, False, False, False, False, False, False,\n",
       "                   False, False, False, False, False, False, False, False,\n",
       "                   False, False, False, False, False, False, False, False,\n",
       "                   False, False, False, False, False, False, False, False,\n",
       "                   False, False, False, False, False, False, False, False,\n",
       "                   False, False, False, False, False, False, False, False,\n",
       "                   False, False, False, False, False, False, False, False,\n",
       "                   False, False, False, False, False, False, False, False,\n",
       "                   False, False, False, False, False, False, False, False,\n",
       "                   False, False, False, False, False, False, False, False,\n",
       "                   False, False, False, False, False, False, False, False,\n",
       "                   False, False, False, False, False, False, False, False,\n",
       "                   False, False, False, False, False, False, False, False,\n",
       "                   False, False, False, False, False, False, False, False,\n",
       "                   False, False, False, False, False, False, False, False,\n",
       "                   False, False, False, False, False, False, False, False,\n",
       "                   False, False, False, False, False, False, False, False,\n",
       "                   False, False, False, False, False, False, False, False,\n",
       "                   False, False, False, False, False, False, False, False,\n",
       "                   False, False, False, False, False, False, False, False,\n",
       "                   False, False, False, False, False, False, False, False,\n",
       "                   False, False, False, False, False, False, False, False,\n",
       "                   False, False, False, False, False, False, False, False,\n",
       "                   False, False, False, False, False, False, False, False,\n",
       "                   False, False, False, False, False, False, False, False,\n",
       "                   False, False, False, False, False, False, False, False,\n",
       "                   False, False, False, False, False, False, False, False,\n",
       "                   False, False, False, False, False, False, False, False,\n",
       "                   False, False, False, False, False, False, False, False,\n",
       "                   False, False, False, False, False, False, False, False,\n",
       "                   False, False, False, False, False, False, False, False,\n",
       "                   False, False, False, False, False, False, False, False,\n",
       "                   False, False, False, False, False, False, False, False,\n",
       "                   False, False, False, False, False, False, False, False,\n",
       "                   False, False, False, False, False, False, False, False,\n",
       "                   False, False, False, False, False, False, False, False,\n",
       "                   False, False, False, False, False, False, False, False,\n",
       "                   False, False, False, False, False, False, False, False,\n",
       "                   False, False, False, False, False, False, False, False,\n",
       "                   False, False, False, False, False, False, False, False,\n",
       "                   False, False, False, False, False, False, False, False,\n",
       "                   False, False, False, False, False, False, False, False,\n",
       "                   False, False, False, False, False, False, False, False,\n",
       "                   False, False, False, False, False, False, False, False,\n",
       "                   False, False, False, False, False, False, False, False,\n",
       "                   False, False, False, False, False, False, False, False,\n",
       "                   False, False, False, False, False, False, False, False,\n",
       "                   False, False, False, False, False, False, False, False,\n",
       "                   False, False, False, False, False, False, False, False,\n",
       "                   False, False, False, False, False, False, False, False,\n",
       "                   False, False, False, False, False, False, False, False,\n",
       "                   False, False, False, False, False, False, False, False,\n",
       "                   False, False, False, False, False, False, False, False,\n",
       "                   False, False, False, False, False, False, False, False,\n",
       "                   False, False, False, False, False, False, False, False,\n",
       "                   False, False, False, False, False, False, False, False,\n",
       "                   False, False, False, False, False, False, False, False,\n",
       "                   False, False, False, False, False, False, False, False,\n",
       "                   False, False, False, False, False, False, False, False,\n",
       "                   False, False, False, False, False, False, False, False,\n",
       "                   False, False, False, False, False, False, False, False,\n",
       "                   False, False, False, False, False, False, False, False,\n",
       "                   False, False, False, False, False, False, False, False,\n",
       "                   False, False, False, False, False, False, False, False,\n",
       "                   False, False, False, False, False, False, False, False,\n",
       "                   False, False, False, False, False, False, False, False,\n",
       "                   False, False, False, False, False, False, False, False,\n",
       "                   False, False, False, False, False, False, False, False,\n",
       "                   False, False, False, False, False, False, False, False,\n",
       "                   False, False, False, False, False, False, False, False,\n",
       "                   False, False, False, False, False, False, False, False,\n",
       "                   False, False, False, False, False, False, False, False,\n",
       "                   False, False, False, False, False, False, False, False,\n",
       "                   False, False, False, False, False, False, False, False,\n",
       "                   False, False, False, False, False, False, False, False,\n",
       "                   False, False, False, False, False, False, False, False,\n",
       "                   False, False, False, False, False, False, False, False,\n",
       "                   False, False, False, False, False, False, False, False,\n",
       "                   False, False, False, False, False, False, False, False,\n",
       "                   False, False, False, False, False, False, False, False,\n",
       "                   False, False, False, False, False, False, False, False,\n",
       "                   False, False, False, False, False, False, False, False,\n",
       "                   False, False, False, False, False, False, False, False,\n",
       "                   False, False, False, False, False, False, False, False,\n",
       "                   False, False, False, False, False, False, False, False,\n",
       "                   False, False, False, False, False, False, False, False,\n",
       "                   False, False, False, False, False, False, False, False,\n",
       "                   False, False, False, False, False, False, False, False,\n",
       "                   False, False, False, False, False, False, False, False,\n",
       "                   False, False, False, False, False, False, False, False,\n",
       "                   False, False, False],\n",
       "       fill_value=1e+20)"
      ]
     },
     "execution_count": 184,
     "metadata": {},
     "output_type": "execute_result"
    }
   ],
   "source": [
    "delta_r[msk_lep]"
   ]
  },
  {
   "cell_type": "code",
   "execution_count": 174,
   "id": "38196bd4",
   "metadata": {},
   "outputs": [
    {
     "data": {
      "text/plain": [
       "masked_array(data=[0.00342286984687743, 0.0010918300671385692,\n",
       "                   0.0015440808887540916, 0.6472363665085303,\n",
       "                   0.0020859384143841627, 0.0008802615418613255,\n",
       "                   0.0024535829153127173, 0.40602017283943354,\n",
       "                   0.7519907359836007, 0.000781631376639752,\n",
       "                   0.0008886852892188132, 0.003126525506559008,\n",
       "                   0.00034526698300124393, 0.5570945227642181,\n",
       "                   0.0007720404443770458, 0.000732421875,\n",
       "                   0.0037186392118476116, 0.0017263349150062196,\n",
       "                   0.0039067268080579245, 5.522860182573196,\n",
       "                   0.002980116117122486, 0.0003662109375,\n",
       "                   0.003998618006386523, 0.0016377451007078539,\n",
       "                   0.8012110975346338, 0.00032868437543545555,\n",
       "                   0.41737116224838605, 0.0020132351687586233,\n",
       "                   0.000732421875, 0.001906799237281898,\n",
       "                   0.4687655764217014, 0.8217226555363888,\n",
       "                   0.00019301011109426145, 0.0034955617830264535,\n",
       "                   0.4519050223057724, 0.0010918300671385692,\n",
       "                   0.0007720404443770458, 0.0008544921875, 0.0029296875,\n",
       "                   0.005145810280360838, 0.0010066175843793117,\n",
       "                   0.0008802615418613255, 0.6105044364213452,\n",
       "                   0.0008738904457566134, 0.0008802615418613255,\n",
       "                   0.0008188725503539269, 0.0003446764220604406,\n",
       "                   0.0002962720922690979, 0.00048828125,\n",
       "                   0.0008631674575031098, 0.0008544921875,\n",
       "                   0.00018874079707112092, 0.003936649291161401,\n",
       "                   0.0010659331785017687, 0.0004315837287515549,\n",
       "                   0.3921184600610603, 0.0005033087921896558,\n",
       "                   0.0005459150335692846, 0.003426676964750537,\n",
       "                   0.3116038825465314, 0.00195407844159938,\n",
       "                   0.10581575811251616, 0.001953125,\n",
       "                   0.0009841623227903502, 0.00347203678059763,\n",
       "                   0.0025135815773894045, 0.0029296875,\n",
       "                   0.000953399618640949, 0.658021352780924,\n",
       "                   0.00079345703125, 0.012280661726589986,\n",
       "                   0.0019768230884645564, 0.0002973568141246541,\n",
       "                   0.0017773705784376265, 0.0009841623227903502,\n",
       "                   0.0025866235474141957, 0.0005459150335692846,\n",
       "                   0.0005214846035960407, 0.0011254326730093856,\n",
       "                   0.007206285226145235, 0.000732421875, 0.001220703125,\n",
       "                   0.00034526698300124393, 0.0012222280514221672,\n",
       "                   0.003452669830012439, 0.00079345703125,\n",
       "                   0.0005033087921896558, 0.009937350077067982,\n",
       "                   0.00079345703125, 0.0005758045124546267,\n",
       "                   0.001220703125, 0.24354006334097383, 0.0015869140625,\n",
       "                   0.0011254326730093856, 0.0028575927516405336,\n",
       "                   0.00079345703125, 0.0013810679320049757,\n",
       "                   0.0007720404443770458, 0.003452669830012439,\n",
       "                   0.0009808446459953733, 0.0014699212132314814,\n",
       "                   0.0017187656055088773, 0.001906799237281898,\n",
       "                   0.0018147056576316536, 0.11737585824687187,\n",
       "                   0.00030517578125, 0.07973948260466436,\n",
       "                   0.0007720404443770458, 0.9079293381850696,\n",
       "                   0.0006905339660024879, 1.4198027905844468,\n",
       "                   0.0003662109375, 0.0017187656055088773,\n",
       "                   0.0030517578125, 0.4376030528087586, 0.000244140625,\n",
       "                   0.5450121110972538, 0.001611374363091319,\n",
       "                   0.0020859384143841627, 0.0007720404443770458,\n",
       "                   0.0009841623227903502, 0.37321622110426905,\n",
       "                   0.0009841623227903502, 0.0007401692404562319,\n",
       "                   0.0020859384143841627, 0.0002729575167846423,\n",
       "                   0.0037186392118476116, 0.000244140625,\n",
       "                   0.7233374194793021, 0.00026995553608633624,\n",
       "                   0.003910539179599938, 0.0013386054809241522,\n",
       "                   0.001956935979233569, 0.003768395761824495,\n",
       "                   0.2206050688734479, 0.0026294750034836444,\n",
       "                   0.31404459223768594, 0.015602095027998494,\n",
       "                   0.05313074417474783, 0.005904973936742101,\n",
       "                   0.003173828125, 0.0015440808887540916,\n",
       "                   0.0006905339660024879, 0.0024444561028443344,\n",
       "                   0.00048828125, 0.7299649546323818,\n",
       "                   0.0008886852892188132, 0.13327149009970127,\n",
       "                   0.0029296875, 0.00017263349150062197,\n",
       "                   3.2644892456057497, 0.0014762434841855254,\n",
       "                   0.8435083436170285, 0.00013647875839232116,\n",
       "                   0.001274451478138495, 0.00040943627517696347,\n",
       "                   0.0012209176828652238, 5.455137214927907,\n",
       "                   0.001906799237281898, 0.003813598474563796,\n",
       "                   0.0010918300671385692, 0.8156578978119258,\n",
       "                   0.00342286984687743, 0.23873557881046098,\n",
       "                   0.0017100739411769897, 0.4751578877956134,\n",
       "                   0.0010429692071920813, 0.0002589502372509329,\n",
       "                   0.37152718779654714, 0.0012448778109357384,\n",
       "                   0.0004920811613951751, 0.33508757152124724,\n",
       "                   2.993460509538053, 0.0011516090249092533,\n",
       "                   0.17583316460220172, 0.0010066175843793117,\n",
       "                   0.0017773705784376265, 0.27912011588743935,\n",
       "                   0.0011516090249092533, 0.2013854217413538,\n",
       "                   0.2005882686490674, 0.00244140625,\n",
       "                   0.00040943627517696347, 0.0009765625,\n",
       "                   0.0032754902014157077, 0.001220703125,\n",
       "                   0.00044013077093066273, 6.103515625e-05,\n",
       "                   0.002489755621871477, 0.00042724609375,\n",
       "                   0.0020859384143841627, 0.5496019528287044,\n",
       "                   0.0012222280514221672, 0.9724557815540724,\n",
       "                   0.0029700988917471774, 0.0002593994140625,\n",
       "                   0.0032754902014157077, 0.0019768230884645564,\n",
       "                   0.0012267914576563586, 0.0007549631882844837,\n",
       "                   0.000244140625, 0.0012343596445408133, 0.001953125,\n",
       "                   0.0016377451007078539, 0.000732421875,\n",
       "                   0.003936649291161401, 0.0019107026174924962,\n",
       "                   0.002818212006986132, 0.0006224389054678692,\n",
       "                   0.0017773705784376265, 0.0009765625,\n",
       "                   0.0009784679896167846, 0.32065294363341296,\n",
       "                   0.001956935979233569, 0.00342286984687743,\n",
       "                   0.011361231603633774, 0.0007720404443770458,\n",
       "                   0.000781631376639752, 0.51675666543088,\n",
       "                   0.00079345703125, 0.00029708141284847316,\n",
       "                   0.003554741156875253, 0.3649565103828471,\n",
       "                   0.0005033087921896558, 0.32566692189520113,\n",
       "                   0.45598753098303224, 0.4547703018720668,\n",
       "                   0.0029700988917471774, 0.0014699212132314814,\n",
       "                   0.0035231615453275907, 0.0037669126279808282,\n",
       "                   0.06362501538057272, 0.000390815688319876,\n",
       "                   0.001906799237281898, 0.0005459150335692846,\n",
       "                   0.0008802615418613255, 4.57725105146204,\n",
       "                   4.5294128903182855, 4.836544091261793, 0.00341796875,\n",
       "                   0.001953125, 0.0034201478823539795,\n",
       "                   0.0019768230884645564, 0.5330594746122181,\n",
       "                   0.0024444561028443344, 0.0013147375017418222,\n",
       "                   0.0033206715109217392, 0.0012222280514221672,\n",
       "                   0.0016377451007078539, 0.003173828125,\n",
       "                   0.000390815688319876, 0.0034955617830264535,\n",
       "                   3.670260494459734, 0.000953399618640949,\n",
       "                   0.0004443426446094066, 0.2803001391089302,\n",
       "                   0.00390815688319876, 0.00152587890625,\n",
       "                   0.0006573687508709111, 0.0020859384143841627,\n",
       "                   0.3339016460552925, 0.0007425247229367944,\n",
       "                   0.0013147375017418222, 0.0016377451007078539,\n",
       "                   0.008818048786426367, 0.0004920811613951751,\n",
       "                   0.0010358009490037316, 0.22924817687529594,\n",
       "                   0.003936649291161401, 0.0010429692071920813,\n",
       "                   0.0006573687508709111, 0.0013147375017418222,\n",
       "                   0.0005758045124546267, 0.00030517578125,\n",
       "                   0.0005459150335692846, 0.21168780223823733,\n",
       "                   0.001423572239952466, 0.0002729575167846423,\n",
       "                   0.0009296598029619029, 0.0016377451007078539,\n",
       "                   0.0005526968468101451, 0.0010918300671385692,\n",
       "                   0.3637452303046884, 0.0017416422208716155,\n",
       "                   0.001220703125, 0.0006905339660024879, 0.0,\n",
       "                   0.7401046261773684, 0.000213623046875,\n",
       "                   0.001274451478138495, 0.001220703125,\n",
       "                   0.00016220315266013565, 0.0015440808887540916,\n",
       "                   0.0007425247229367944, 0.000953399618640949,\n",
       "                   0.16891779151746478, 0.000396728515625,\n",
       "                   0.3896851868855243, 0.00017263349150062197,\n",
       "                   0.002939842426462963, 0.0013147375017418222,\n",
       "                   0.30483007763069003, 0.6754765347260067,\n",
       "                   0.0003669254961062942, 0.008656024709586062,\n",
       "                   0.0005033087921896558, 0.0009784679896167846,\n",
       "                   0.0017133384823752684, 0.6221724236250564,\n",
       "                   0.00390815688319876, 0.0007425247229367944,\n",
       "                   0.001708984375, 0.0012241315380939685,\n",
       "                   0.0010066175843793117, 0.0007425247229367944,\n",
       "                   0.7346548986689746, 0.021828459080069428,\n",
       "                   0.0011254326730093856, 0.5841589956850132,\n",
       "                   0.0006905339660024879, 0.0007425247229367944,\n",
       "                   0.0012241315380939685, 0.001953125,\n",
       "                   0.0034955617830264535, 0.00013037115089901017,\n",
       "                   0.0010918300671385692, 0.003088161777508183,\n",
       "                   0.02932229528677811, 0.5783777972982913,\n",
       "                   0.001423572239952466, 0.18279958989130757,\n",
       "                   0.0010066175843793117, 0.1750284393226539,\n",
       "                   0.0014699212132314814, 0.0009841623227903502,\n",
       "                   0.0017187656055088773, 0.5767287973351923,\n",
       "                   0.0005790303332827843, 0.0022508653460187713,\n",
       "                   0.05670005048719308, 0.0005459150335692846,\n",
       "                   0.00152587890625, 0.00018310546875, 0.5011021008760641,\n",
       "                   0.0007720404443770458, 0.2793037307004553,\n",
       "                   0.0019871607172973274, 0.49993724727230787,\n",
       "                   0.0009841623227903502, 0.0017950977990542898,\n",
       "                   0.00244140625, 0.6351948387369907,\n",
       "                   0.0009841623227903502, 0.43496329722730054,\n",
       "                   0.002932229528677811, 0.7810041422227333,\n",
       "                   0.0008802615418613255, 0.00019301011109426145,\n",
       "                   0.0016958549791808843, 0.0029296875,\n",
       "                   0.00014680390476145826, 0.0005459150335692846,\n",
       "                   0.0016377451007078539, 0.0002729575167846423,\n",
       "                   0.00694407356119526, 0.0019871607172973274,\n",
       "                   0.003629411315263307, 0.0020132351687586233,\n",
       "                   1.2303423377602998, 0.003521046167445302,\n",
       "                   0.0010882255562540766, 0.00390815688319876,\n",
       "                   0.0019647727786645352, 0.0014699212132314814,\n",
       "                   0.0002729575167846423, 0.001956935979233569,\n",
       "                   0.0004766998093204745, 0.0010918300671385692,\n",
       "                   0.002448263076187937, 0.0002516543960948279,\n",
       "                   0.002939842426462963, 0.00028790225622731333,\n",
       "                   0.0014850494458735887, 0.0020132351687586233,\n",
       "                   0.0006224389054678692, 0.00254890295627699,\n",
       "                   0.422032997780224, 0.5224600818662678,\n",
       "                   0.0006601961563959942, 0.002729575167846423,\n",
       "                   1.2101696302414275, 0.0007425247229367944,\n",
       "                   0.3382524086019918, 0.0041432037960149265,\n",
       "                   0.75348284794942, 0.0029925904961257965,\n",
       "                   0.0005459150335692846, 0.0005459150335692846,\n",
       "                   0.001222632790300815, 0.6466492237162081, 0.00390625,\n",
       "                   0.2608080434320172, 0.003426676964750537,\n",
       "                   0.0007143981879101334, 0.0009935803586486637,\n",
       "                   0.0010066175843793117, 3.3729187463340318,\n",
       "                   0.0019107026174924962, 0.0017773705784376265,\n",
       "                   0.020337166847590498, 0.002939842426462963,\n",
       "                   0.0009776347948999846, 0.23657623825044596,\n",
       "                   0.001220703125, 0.0005459150335692846,\n",
       "                   0.000390815688319876, 0.001220703125, 0.0009765625,\n",
       "                   0.0014699212132314814, 0.0017263349150062196,\n",
       "                   0.5667840289731183, 0.0019683246455807005,\n",
       "                   0.003974321434594655, 0.0016377451007078539,\n",
       "                   0.0005033087921896558, 0.0006823937919616058,\n",
       "                   0.6684911429690192, 0.0012448778109357384,\n",
       "                   0.0013147375017418222, 0.0017187656055088773,\n",
       "                   0.4964903350160206, 0.0004967901793243319,\n",
       "                   0.29505751187593393, 0.00030517578125,\n",
       "                   0.0007143981879101334, 0.003910539179599938,\n",
       "                   0.001220703125, 0.3710200838956465,\n",
       "                   0.000390815688319876, 0.009618025197066508,\n",
       "                   0.0005627163365046928, 0.0014762434841855254,\n",
       "                   0.001760523083722651, 0.001953125,\n",
       "                   0.0006133957288281793, 0.002932229528677811,\n",
       "                   0.00032868437543545555, 0.0004920811613951751,\n",
       "                   0.0025952504425621704, 0.0007549631882844837,\n",
       "                   0.00224091305550364, 0.0014850494458735887,\n",
       "                   0.6942403032673446, 0.594916314983874,\n",
       "                   0.00044013077093066273, 0.0008802615418613255,\n",
       "                   0.002448263076187937, 0.0006103515625, 0.0006103515625,\n",
       "                   0.0015099263765689674, 0.4716829137908978,\n",
       "                   0.0010429692071920813, 0.0015440808887540916,\n",
       "                   0.3159734332349065, 0.0007349606066157407,\n",
       "                   0.0006905339660024879, 0.8193802395325019,\n",
       "                   0.029069142556682213, 0.0015099263765689674,\n",
       "                   0.0001856311807341986, 0.0006103515625, 0.000244140625,\n",
       "                   0.0019683246455807005, 0.13580211167470424,\n",
       "                   0.0005033087921896558, 0.0016422880916838025,\n",
       "                   0.8088509564405163, 0.0013147375017418222,\n",
       "                   0.0020132351687586233, 0.0008188725503539269,\n",
       "                   0.0006103515625, 0.0029700988917471774, 0.0029296875,\n",
       "                   0.00044013077093066273, 0.0005459150335692846,\n",
       "                   0.008933887431826444, 0.0006372257390692475,\n",
       "                   0.001953125, 0.0025165439609482793,\n",
       "                   0.0015440808887540916, 0.0005033087921896558,\n",
       "                   0.0017773705784376265, 0.0010918300671385692,\n",
       "                   0.0020716018980074633, 0.0005459150335692846,\n",
       "                   0.001423572239952466, 0.001906799237281898,\n",
       "                   0.20379195389863541, 0.5949751110641496,\n",
       "                   0.5286838176466924, 0.0011254326730093856,\n",
       "                   0.6235638313642423, 0.00341796875, 0.001220703125,\n",
       "                   0.0037186392118476116, 0.0009765625, 0.0029296875,\n",
       "                   0.0019616892919907467, 0.0003244063053202713,\n",
       "                   0.0012267914576563586, 0.0019993090031932615,\n",
       "                   3.8955718690507095, 0.6594692583192866,\n",
       "                   5.8644227130965, 0.00206529837837996,\n",
       "                   0.0019647727786645352, 0.0029700988917471774,\n",
       "                   0.00146484375, 0.0702399833570126,\n",
       "                   0.0020859384143841627, 0.0004954409208695746,\n",
       "                   0.0006224389054678692, 0.0037186392118476116,\n",
       "                   5.534856046451851, 0.001863322451473846,\n",
       "                   0.0029354039688503537, 0.003452669830012439,\n",
       "                   0.0014762434841855254, 0.000732421875,\n",
       "                   0.0008738904457566134, 0.004026470337517247,\n",
       "                   5.540654909899815, 3.2388780915854807,\n",
       "                   0.001274451478138495, 0.0014762434841855254,\n",
       "                   0.0029700988917471774, 0.0017263349150062196,\n",
       "                   0.003426676964750537, 0.0024604058069758756,\n",
       "                   0.9964647985768772, 0.0017133384823752684,\n",
       "                   9.1552734375e-05, 0.001906799237281898,\n",
       "                   0.0010066175843793117, 0.0005329665892508844,\n",
       "                   0.4945172808091899, 0.00048828125,\n",
       "                   0.001760523083722651, 0.0022508653460187713, 0.0,\n",
       "                   0.5252440861546522, 0.0038214052349849923, 0.001953125,\n",
       "                   0.0013647875839232116, 0.0002729575167846423,\n",
       "                   0.0003860202221885229, 0.0015440808887540916,\n",
       "                   0.0009784679896167846, 0.00152587890625,\n",
       "                   0.0020859384143841627, 0.0010358009490037316,\n",
       "                   0.0019768230884645564, 0.001906799237281898,\n",
       "                   0.0025750760631993394, 0.003088161777508183,\n",
       "                   0.00146484375, 0.0008479274895904421,\n",
       "                   0.4824722858299144, 0.0007549631882844837,\n",
       "                   0.0020716018980074633, 0.0018147056576316536,\n",
       "                   0.0019723423623115876, 0.0026407846255839767,\n",
       "                   0.0013147375017418222, 0.48525940233090253,\n",
       "                   0.001708984375, 0.0014962952480628983,\n",
       "                   0.0007425247229367944, 0.04207275114367683,\n",
       "                   0.0005459150335692846, 0.0013810679320049757,\n",
       "                   0.0029700988917471774, 0.0014850494458735887,\n",
       "                   0.0005179004745018658, 0.6208884451686983,\n",
       "                   0.0005459150335692846, 0.00011003269273266568,\n",
       "                   0.27976405312139974, 0.0007720404443770458,\n",
       "                   0.0013147375017418222, 0.0014648884528014813,\n",
       "                   0.0001220703125, 0.000244140625, 0.0019683246455807005,\n",
       "                   0.00250244140625, 0.4789563854416304,\n",
       "                   0.0014850494458735887, 0.00112045652775182,\n",
       "                   7.62939453125e-05, 0.3001608442575039,\n",
       "                   0.0002516543960948279, 0.5038883035997794,\n",
       "                   0.002847144479904932, 0.8139830039778291,\n",
       "                   0.0030198527531379348, 0.014445617375475601,\n",
       "                   0.5439166022074159, 0.0023032180498185066,\n",
       "                   0.001760523083722651, 0.00122274139227053,\n",
       "                   0.0005033087921896558, 0.004026470337517247,\n",
       "                   0.0013810679320049757, 0.0010066175843793117,\n",
       "                   0.0008544921875, 0.002729575167846423,\n",
       "                   0.0006133957288281793, 0.7677487366952644,\n",
       "                   0.003936649291161401, 0.0008593828027544387,\n",
       "                   0.001906799237281898, 0.41149523927662474,\n",
       "                   0.001906799237281898, 0.004026470337517247,\n",
       "                   0.0006693027404620761, 0.0005758045124546267,\n",
       "                   0.6511195682966229, 0.0001220703125,\n",
       "                   0.029677462135665477, 0.00244140625,\n",
       "                   0.3522245319600258, 0.0015440808887540916,\n",
       "                   0.0013386054809241522, 0.00032868437543545555,\n",
       "                   0.0013203923127919884, 0.0034185136633155385,\n",
       "                   0.000953399618640949, 0.0007338509922125884,\n",
       "                   0.5468638631844736, 0.000280114131937955,\n",
       "                   0.5095185159579395, 0.0015440808887540916,\n",
       "                   0.001423572239952466, 0.0004920811613951751,\n",
       "                   0.0017187656055088773, 0.2334275486879177,\n",
       "                   0.00341796875, 4.57763671875e-05, 0.5001297573758606,\n",
       "                   0.0014762434841855254, 0.000711786119976233,\n",
       "                   0.0034955617830264535, 0.0010918300671385692,\n",
       "                   0.0008544921875, 0.000781631376639752,\n",
       "                   0.44565050782421156, 0.0005179004745018658,\n",
       "                   0.00254890295627699, 0.003998618006386523,\n",
       "                   3.1485477006997824, 0.00031861286953462374,\n",
       "                   0.43633001851325837, 0.27314022798663745,\n",
       "                   0.000244140625, 0.000244140625, 0.003998618006386523,\n",
       "                   0.00048828125, 0.002939842426462963,\n",
       "                   0.0025952504425621704, 0.003426676964750537,\n",
       "                   0.00039111345269703053, 0.0006823937919616058,\n",
       "                   0.0010066175843793117, 0.00030517578125,\n",
       "                   0.00040943627517696347, 0.0011516090249092533,\n",
       "                   0.00341796875, 0.004409763639694444,\n",
       "                   0.33172954989159226, 0.0009841623227903502,\n",
       "                   0.00206529837837996, 0.0002516543960948279,\n",
       "                   0.0002621060697372724, 6.103515625e-05,\n",
       "                   0.0020289026048089186, 0.0006103515625,\n",
       "                   0.763013560853917, 0.0014850494458735887,\n",
       "                   6.103515625e-05, 0.9923716697074805,\n",
       "                   0.8989504800912453, 0.0015440808887540916,\n",
       "                   0.0015440808887540916, 0.0010066175843793117,\n",
       "                   0.0015440808887540916, 0.0003814697265625,\n",
       "                   0.0010918300671385692, 0.0014782136485270209,\n",
       "                   0.2706754355319737, 0.013410522527051187,\n",
       "                   0.0010918300671385692, 0.000711786119976233,\n",
       "                   0.001274451478138495, 0.4580632483275468,\n",
       "                   0.0010066175843793117, 0.0005033087921896558,\n",
       "                   0.0019683246455807005, 0.003426676964750537,\n",
       "                   0.5826506934664404, 0.0002589502372509329,\n",
       "                   0.0042003541342981576, 0.003173828125,\n",
       "                   6.1250092645618865, 0.001220703125,\n",
       "                   0.0022508653460187713, 0.0034955617830264535,\n",
       "                   0.00254890295627699, 0.00019301011109426145,\n",
       "                   0.00034526698300124393, 0.000711786119976233,\n",
       "                   0.7102465599432272, 6.103515625e-05,\n",
       "                   0.0033917099583617685, 0.00390815688319876,\n",
       "                   0.00152587890625, 0.3784028671696877,\n",
       "                   0.0006256103515625, 0.0001220703125, 0.000244140625,\n",
       "                   0.0027621358640099515, 0.0006905339660024879,\n",
       "                   0.000953399618640949, 3.9903609810758778,\n",
       "                   3.6803468009302263, 0.000732421875,\n",
       "                   0.0020716018980074633, 0.0009765625,\n",
       "                   0.0007720404443770458, 0.0010918300671385692,\n",
       "                   6.103515625e-05, 0.0014699212132314814,\n",
       "                   0.0006905339660024879, 0.001953125, 0.0,\n",
       "                   0.0022508653460187713, 0.0014762434841855254,\n",
       "                   0.0002729575167846423, 0.5248363648576708,\n",
       "                   0.0004920811613951751, 0.8138267483470267,\n",
       "                   0.0012222280514221672, 0.0015440808887540916,\n",
       "                   0.0007425247229367944, 0.0015099263765689674,\n",
       "                   0.0020859384143841627],\n",
       "             mask=[False, False, False, False, False, False, False, False,\n",
       "                   False, False, False, False, False, False, False, False,\n",
       "                   False, False, False, False, False, False, False, False,\n",
       "                   False, False, False, False, False, False, False, False,\n",
       "                   False, False, False, False, False, False, False, False,\n",
       "                   False, False, False, False, False, False, False, False,\n",
       "                   False, False, False, False, False, False, False, False,\n",
       "                   False, False, False, False, False, False, False, False,\n",
       "                   False, False, False, False, False, False, False, False,\n",
       "                   False, False, False, False, False, False, False, False,\n",
       "                   False, False, False, False, False, False, False, False,\n",
       "                   False, False, False, False, False, False, False, False,\n",
       "                   False, False, False, False, False, False, False, False,\n",
       "                   False, False, False, False, False, False, False, False,\n",
       "                   False, False, False, False, False, False, False, False,\n",
       "                   False, False, False, False, False, False, False, False,\n",
       "                   False, False, False, False, False, False, False, False,\n",
       "                   False, False, False, False, False, False, False, False,\n",
       "                   False, False, False, False, False, False, False, False,\n",
       "                   False, False, False, False, False, False, False, False,\n",
       "                   False, False, False, False, False, False, False, False,\n",
       "                   False, False, False, False, False, False, False, False,\n",
       "                   False, False, False, False, False, False, False, False,\n",
       "                   False, False, False, False, False, False, False, False,\n",
       "                   False, False, False, False, False, False, False, False,\n",
       "                   False, False, False, False, False, False, False, False,\n",
       "                   False, False, False, False, False, False, False, False,\n",
       "                   False, False, False, False, False, False, False, False,\n",
       "                   False, False, False, False, False, False, False, False,\n",
       "                   False, False, False, False, False, False, False, False,\n",
       "                   False, False, False, False, False, False, False, False,\n",
       "                   False, False, False, False, False, False, False, False,\n",
       "                   False, False, False, False, False, False, False, False,\n",
       "                   False, False, False, False, False, False, False, False,\n",
       "                   False, False, False, False, False, False, False, False,\n",
       "                   False, False, False, False, False, False, False, False,\n",
       "                   False, False, False, False, False, False, False, False,\n",
       "                   False, False, False, False, False, False, False, False,\n",
       "                   False, False, False, False, False, False, False, False,\n",
       "                   False, False, False, False, False, False, False, False,\n",
       "                   False, False, False, False, False, False, False, False,\n",
       "                   False, False, False, False, False, False, False, False,\n",
       "                   False, False, False, False, False, False, False, False,\n",
       "                   False, False, False, False, False, False, False, False,\n",
       "                   False, False, False, False, False, False, False, False,\n",
       "                   False, False, False, False, False, False, False, False,\n",
       "                   False, False, False, False, False, False, False, False,\n",
       "                   False, False, False, False, False, False, False, False,\n",
       "                   False, False, False, False, False, False, False, False,\n",
       "                   False, False, False, False, False, False, False, False,\n",
       "                   False, False, False, False, False, False, False, False,\n",
       "                   False, False, False, False, False, False, False, False,\n",
       "                   False, False, False, False, False, False, False, False,\n",
       "                   False, False, False, False, False, False, False, False,\n",
       "                   False, False, False, False, False, False, False, False,\n",
       "                   False, False, False, False, False, False, False, False,\n",
       "                   False, False, False, False, False, False, False, False,\n",
       "                   False, False, False, False, False, False, False, False,\n",
       "                   False, False, False, False, False, False, False, False,\n",
       "                   False, False, False, False, False, False, False, False,\n",
       "                   False, False, False, False, False, False, False, False,\n",
       "                   False, False, False, False, False, False, False, False,\n",
       "                   False, False, False, False, False, False, False, False,\n",
       "                   False, False, False, False, False, False, False, False,\n",
       "                   False, False, False, False, False, False, False, False,\n",
       "                   False, False, False, False, False, False, False, False,\n",
       "                   False, False, False, False, False, False, False, False,\n",
       "                   False, False, False, False, False, False, False, False,\n",
       "                   False, False, False, False, False, False, False, False,\n",
       "                   False, False, False, False, False, False, False, False,\n",
       "                   False, False, False, False, False, False, False, False,\n",
       "                   False, False, False, False, False, False, False, False,\n",
       "                   False, False, False, False, False, False, False, False,\n",
       "                   False, False, False, False, False, False, False, False,\n",
       "                   False, False, False, False, False, False, False, False,\n",
       "                   False, False, False, False, False, False, False, False,\n",
       "                   False, False, False, False, False, False, False, False,\n",
       "                   False, False, False, False, False, False, False, False,\n",
       "                   False, False, False, False, False, False, False, False,\n",
       "                   False, False, False, False, False, False, False, False,\n",
       "                   False, False, False, False, False, False, False, False,\n",
       "                   False, False, False, False, False, False, False, False,\n",
       "                   False, False, False, False, False, False, False, False,\n",
       "                   False, False, False, False, False, False, False, False,\n",
       "                   False, False, False, False, False, False, False, False,\n",
       "                   False, False, False, False, False, False, False, False,\n",
       "                   False, False, False, False, False, False, False, False,\n",
       "                   False, False, False, False, False, False, False, False,\n",
       "                   False, False, False, False, False, False, False, False,\n",
       "                   False, False, False, False, False, False, False, False,\n",
       "                   False, False, False, False, False, False, False, False,\n",
       "                   False, False, False, False, False, False, False, False,\n",
       "                   False, False, False, False, False, False, False, False,\n",
       "                   False, False, False, False, False, False, False, False,\n",
       "                   False, False, False],\n",
       "       fill_value=1e+20)"
      ]
     },
     "execution_count": 174,
     "metadata": {},
     "output_type": "execute_result"
    }
   ],
   "source": [
    "delta_r[msk_lep]"
   ]
  },
  {
   "cell_type": "code",
   "execution_count": 178,
   "id": "c0e86c61",
   "metadata": {
    "scrolled": true
   },
   "outputs": [
    {
     "data": {
      "text/plain": [
       "masked_array(data=[1, 1, 2, 1, 1, 2, 2, 1, 1, 1, 2, 1, 1, 1, 1, 2, 1, 1,\n",
       "                   2, 2, 1, 1, 2, 2, 2, 1, 1, 1, 1, 1, 1, 2, 1, 1, 1, 1,\n",
       "                   1, 1, 1, 0, 1, 0, 1, 1, 1, 1, 2, 1, 0, 2, 2, 1, 1, 1,\n",
       "                   1, 1, 2, 1, 1, 1, 1, 1, 1, 1, 1, 1, 1, 0, 1, 1, 1, 1,\n",
       "                   1, 1, 1, 1, 1, 0, 1, 1, 2, 1, 1, 1, 1, 1, 1, 1, 1, 1,\n",
       "                   1, 1, 2, 2, 2, 1, 1, 1, 1, 2, 1, 2, 1, 0, 1, 1, 2, 1,\n",
       "                   1, 1, 1, 2, 1, 1, 1, 1, 2, 2, 2, 1, 1, 1, 1, 1, 2, 2,\n",
       "                   1, 1, 1, 2, 1, 1, 1, 1, 2, 1, 2, 2, 1, 2, 1, 2, 2, 1,\n",
       "                   2, 1, 0, 2, 3, 1, 1, 1, 1, 1, 1, 1, 1, 1, 1, 3, 1, 1,\n",
       "                   1, 1, 0, 1, 1, 1, 1, 1, 1, 1, 1, 1, 1, 1, 1, 1, 1, 2,\n",
       "                   1, 1, 1, 1, 2, 1, 2, 4, 1, 1, 1, 2, 1, 1, 1, 1, 0, 3,\n",
       "                   1, 1, 1, 2, 1, 1, 1, 1, 1, 1, 1, 1, 1, 1, 0, 2, 1, 1,\n",
       "                   1, 2, 1, 1, 1, 2, 2, 1, 1, 1, 1, 0, 0, 1, 1, 1, 1, 1,\n",
       "                   1, 1, 1, 1, 0, 1, 2, 1, 1, 1, 2, 1, 0, 1, 1, 1, 1, 2,\n",
       "                   1, 2, 1, 3, 1, 1, 1, 1, 0, 2, 1, 1, 1, 1, 1, 2, 1, 1,\n",
       "                   2, 1, 1, 1, 1, 1, 1, 1, 2, 1, 3, 1, 0, 1, 2, 1, 0, 1,\n",
       "                   1, 0, 1, 1, 0, 2, 1, 3, 1, 1, 2, 2, 2, 1, 1, 1, 1, 0,\n",
       "                   1, 1, 1, 1, 1, 1, 1, 2, 1, 1, 1, 1, 1, 1, 1, 1, 1, 1,\n",
       "                   1, 1, 1, 1, 1, 1, 3, 1, 1, 2, 2, 2, 1, 1, 2, 1, 2, 1,\n",
       "                   1, 1, 1, 1, 1, 1, 1, 2, 1, 1, 1, 1, 1, 1, 2, 1, 1, 1,\n",
       "                   1, 2, 1, 1, 2, 2, 1, 1, 1, 2, 1, 1, 1, 1, 1, 1, 1, 1,\n",
       "                   1, 1, 1, 1, 1, 3, 1, 1, 1, 1, 1, 1, 2, 2, 1, 2, 1, 1,\n",
       "                   1, 1, 1, 2, 1, 2, 1, 1, 0, 1, 1, 1, 1, 1, 0, 1, 1, 1,\n",
       "                   1, 1, 1, 1, 1, 1, 1, 1, 0, 1, 3, 3, 1, 1, 1, 1, 1, 1,\n",
       "                   1, 1, 1, 1, 3, 1, 0, 1, 2, 1, 1, 1, 2, 1, 1, 1, 1, 1,\n",
       "                   1, 2, 1, 1, 1, 1, 1, 1, 2, 1, 1, 1, 1, 1, 2, 1, 1, 2,\n",
       "                   1, 1, 1, 1, 1, 1, 1, 1, 1, 1, 1, 0, 1, 1, 1, 1, 2, 1,\n",
       "                   1, 1, 1, 1, 1, 2, 1, 1, 2, 1, 1, 1, 2, 1, 2, 1, 1, 1,\n",
       "                   0, 1, 1, 1, 1, 2, 1, 2, 2, 2, 1, 2, 1, 1, 1, 0, 1, 1,\n",
       "                   1, 1, 1, 1, 2, 1, 0, 1, 2, 1, 1, 1, 2, 1, 1, 2, 0, 1,\n",
       "                   1, 1, 1, 1, 1, 2, 1, 2, 1, 1, 1, 2, 2, 1, 1, 1, 1, 1,\n",
       "                   2, 1, 1, 0, 1, 0, 1, 1, 3, 1, 1, 1, 1, 1, 1, 1, 1, 1,\n",
       "                   1, 1, 1, 1, 0, 1, 2, 1, 1, 1, 1, 1, 1, 2, 3, 1, 1, 1,\n",
       "                   1, 1, 1, 2, 1, 0, 1, 1, 2, 1, 1, 0, 1, 2, 1, 1, 1, 2,\n",
       "                   1, 1, 1, 1, 1, 2, 1, 1, 1, 2, 1, 1, 1, 1, 1, 1, 2, 1,\n",
       "                   1, 1, 1, 0, 1, 1, 1, 1, 1, 1, 0, 1, 1, 1, 1, 1, 2, 1,\n",
       "                   1, 1, 1],\n",
       "             mask=False,\n",
       "       fill_value=999999)"
      ]
     },
     "execution_count": 178,
     "metadata": {},
     "output_type": "execute_result"
    }
   ],
   "source": [
    "np.sum(msk_lep, axis=1)"
   ]
  },
  {
   "cell_type": "code",
   "execution_count": null,
   "id": "7ebdfac4",
   "metadata": {},
   "outputs": [],
   "source": []
  },
  {
   "cell_type": "code",
   "execution_count": 168,
   "id": "69528ab6",
   "metadata": {},
   "outputs": [
    {
     "data": {
      "text/plain": [
       "(exptext: Custom Text(0.0, 1, 'CMS'),\n",
       " expsuffix: Custom Text(0.0, 1.005, 'Work in Progress'),\n",
       " supptext: Custom Text(1.012, 1, ''))"
      ]
     },
     "execution_count": 168,
     "metadata": {},
     "output_type": "execute_result"
    },
    {
     "data": {
      "image/png": "[encoded data removed]",
      "text/plain": [
       "<Figure size 1400x1200 with 1 Axes>"
      ]
     },
     "metadata": {},
     "output_type": "display_data"
    }
   ],
   "source": [
    "plt.rcParams.update({\"font.size\": 20})\n",
    "### save plot\n",
    "fig, ax = plt.subplots(figsize=(14, 12))\n",
    "\n",
    "ax.hist((msk_lep).sum(axis=1), label=\"islep\", histtype=\"step\", lw=2)\n",
    "ax.hist((msk_lep | msk_gamma).sum(axis=1), label=\"islep | (isgamma & deltaR(lep,  GenLepton) < 0.1)\", histtype=\"step\", lw=2)\n",
    "\n",
    "ax.hist((msk_lep & (delta_r < 0.2)).sum(axis=1), label=\"islep & deltaR(lep,  GenLepton) < 0.2\", histtype=\"step\", lw=2)\n",
    "ax.hist((msk_lep & (delta_r < 0.1)).sum(axis=1), label=\"islep & deltaR(lep,  GenLepton) < 0.1\", histtype=\"step\", lw=2)\n",
    "ax.hist((msk_lep & (delta_r < 0.01)).sum(axis=1), label=\"islep & deltaR(lep,  GenLepton) < 0.01\", histtype=\"step\", lw=2)\n",
    "ax.hist((msk_lep & (delta_r < 0.05)).sum(axis=1), label=\"islep & deltaR(lep,  GenLepton) < 0.005\", histtype=\"step\", lw=2)\n",
    "ax.hist((msk_lep & (delta_r < 0.001)).sum(axis=1), label=\"islep & deltaR(lep, GenLepton) < 0.001\", histtype=\"step\", lw=2)\n",
    "\n",
    "# ax.set_title(\"Without dR(Jet,Lepton)>0.03\")\n",
    "ax.legend(title=f\"ggF samples at pre-selection\")\n",
    "ax.set_ylabel(r\"AK8 jets count\"); \n",
    "ax.set_xlabel(r\"Number of PFCandidate leptons in the AK8 jet collection\");\n",
    "hep.cms.lumitext(\n",
    "    \"2017\", ax=ax, fontsize=20\n",
    ")\n",
    "hep.cms.text(\"Work in Progress\", ax=ax, fontsize=15)"
   ]
  },
  {
   "cell_type": "code",
   "execution_count": 153,
   "id": "409862ba",
   "metadata": {},
   "outputs": [
    {
     "name": "stderr",
     "output_type": "stream",
     "text": [
      "No artists with labels found to put in legend.  Note that artists whose label start with an underscore are ignored when legend() is called with no argument.\n"
     ]
    },
    {
     "data": {
      "text/plain": [
       "(exptext: Custom Text(0.0, 1, 'CMS'),\n",
       " expsuffix: Custom Text(0.0, 1.005, 'Work in Progress'),\n",
       " supptext: Custom Text(1.012, 1, ''))"
      ]
     },
     "execution_count": 153,
     "metadata": {},
     "output_type": "execute_result"
    },
    {
     "data": {
      "image/png": "[encoded data removed]",
      "text/plain": [
       "<Figure size 900x700 with 1 Axes>"
      ]
     },
     "metadata": {},
     "output_type": "display_data"
    }
   ],
   "source": [
    "plt.rcParams.update({\"font.size\": 20})\n",
    "### save plot\n",
    "fig, ax = plt.subplots(figsize=(9, 7))\n",
    "ax.hist(\n",
    "    ak.sum(msk_lep, axis=1),\n",
    "    bins=np.linspace(0,5,20)\n",
    ")\n",
    "\n",
    "# ax.set_title(\"Without dR(Jet,Lepton)>0.03\")\n",
    "ax.legend(title=f\"ggF samples at pre-selection\")\n",
    "ax.set_ylabel(r\"AK8 jets count\"); \n",
    "ax.set_xlabel(r\"Number of leptons in the PFCand AK8 jet collection\");\n",
    "hep.cms.lumitext(\n",
    "    \"2017\", ax=ax, fontsize=20\n",
    ")\n",
    "hep.cms.text(\"Work in Progress\", ax=ax, fontsize=15)"
   ]
  },
  {
   "cell_type": "code",
   "execution_count": 154,
   "id": "22df0ade",
   "metadata": {},
   "outputs": [
    {
     "data": {
      "text/plain": [
       "<NanoCollectionArray [[{d0: -0.00114, ... trkQuality: 5}]] type='651 * option[va...'>"
      ]
     },
     "execution_count": 154,
     "metadata": {},
     "output_type": "execute_result"
    }
   ],
   "source": [
    "islep = (jet_pfcand.pdgId == ELE_PDGID) | (jet_pfcand.pdgId == MU_PDGID) | (jet_pfcand.pdgId == TAU_PDGID)\n",
    "\n",
    "jet_pfcand[islep]"
   ]
  },
  {
   "cell_type": "code",
   "execution_count": 155,
   "id": "7d387f46",
   "metadata": {},
   "outputs": [
    {
     "data": {
      "text/plain": [
       "<Array [[0], [0], [0], ... [None], [0], [0]] type='651 * option[var * ?int64]'>"
      ]
     },
     "execution_count": 155,
     "metadata": {},
     "output_type": "execute_result"
    }
   ],
   "source": [
    "idx_lep = ak.argmin(candidatelep_p4.delta_r(jet_pfcand[islep]), axis=1, keepdims=True)\n",
    "idx_lep"
   ]
  },
  {
   "cell_type": "code",
   "execution_count": 160,
   "id": "0ecdd374",
   "metadata": {},
   "outputs": [
    {
     "name": "stderr",
     "output_type": "stream",
     "text": [
      "No artists with labels found to put in legend.  Note that artists whose label start with an underscore are ignored when legend() is called with no argument.\n"
     ]
    },
    {
     "data": {
      "text/plain": [
       "(exptext: Custom Text(0.0, 1, 'CMS'),\n",
       " expsuffix: Custom Text(0.0, 1.005, 'Work in Progress'),\n",
       " supptext: Custom Text(1.012, 1, ''))"
      ]
     },
     "execution_count": 160,
     "metadata": {},
     "output_type": "execute_result"
    },
    {
     "data": {
      "image/png": "[encoded data removed]",
      "text/plain": [
       "<Figure size 900x700 with 1 Axes>"
      ]
     },
     "metadata": {},
     "output_type": "display_data"
    }
   ],
   "source": [
    "plt.rcParams.update({\"font.size\": 20})\n",
    "### save plot\n",
    "fig, ax = plt.subplots(figsize=(9, 7))\n",
    "ax.hist(\n",
    "    ak.flatten(candidatelep_p4.delta_r(jet_pfcand[islep])[idx_lep]),\n",
    "    bins=np.linspace(0,3.15,50),\n",
    "    histtype=\"step\",\n",
    "    lw=2,\n",
    ")\n",
    "\n",
    "# ax.set_title(\"Without dR(Jet,Lepton)>0.03\")\n",
    "ax.legend(title=f\"ggF samples at pre-selection\")\n",
    "ax.set_ylabel(r\"AK8 jets count\"); \n",
    "ax.set_xlabel(r\"argmin(deltaR(candidate_lep, PFCandidatelepton#i)\");\n",
    "hep.cms.lumitext(\n",
    "    \"2017\", ax=ax, fontsize=20\n",
    ")\n",
    "hep.cms.text(\"Work in Progress\", ax=ax, fontsize=15)"
   ]
  },
  {
   "cell_type": "code",
   "execution_count": null,
   "id": "6ec8f0f3",
   "metadata": {},
   "outputs": [],
   "source": []
  },
  {
   "cell_type": "code",
   "execution_count": 37,
   "id": "a9396c90",
   "metadata": {},
   "outputs": [
    {
     "data": {
      "text/plain": [
       "<NanoCollectionArray [[{d0: -0.00114, ... trkQuality: 5}]] type='651 * var * str...'>"
      ]
     },
     "execution_count": 37,
     "metadata": {},
     "output_type": "execute_result"
    }
   ],
   "source": []
  },
  {
   "cell_type": "code",
   "execution_count": null,
   "id": "f62890fb",
   "metadata": {},
   "outputs": [],
   "source": []
  },
  {
   "cell_type": "code",
   "execution_count": 157,
   "id": "be262aff",
   "metadata": {},
   "outputs": [
    {
     "data": {
      "text/plain": [
       "<Array [[1.53e-05], [0], [0, ... [0], [0]] type='651 * option[var * ?float32]'>"
      ]
     },
     "execution_count": 157,
     "metadata": {},
     "output_type": "execute_result"
    }
   ],
   "source": []
  },
  {
   "cell_type": "code",
   "execution_count": null,
   "id": "c9861c3a",
   "metadata": {},
   "outputs": [],
   "source": []
  },
  {
   "cell_type": "code",
   "execution_count": null,
   "id": "38047738",
   "metadata": {},
   "outputs": [],
   "source": []
  },
  {
   "cell_type": "code",
   "execution_count": 36,
   "id": "cb732006",
   "metadata": {},
   "outputs": [
    {
     "data": {
      "text/plain": [
       "<Array [[False, False, ... False, False]] type='651 * var * bool'>"
      ]
     },
     "execution_count": 36,
     "metadata": {},
     "output_type": "execute_result"
    }
   ],
   "source": []
  },
  {
   "cell_type": "code",
   "execution_count": 35,
   "id": "83ab8592",
   "metadata": {},
   "outputs": [
    {
     "data": {
      "text/plain": [
       "(array([  8.,   3.,   0., 357.,   0.,  54.,   0., 153.,   0.,  22.,   0.,\n",
       "         33.,   0.,   4.,   0.,  11.,   0.,   0.,   5.]),\n",
       " array([ 0.        ,  0.52631579,  1.05263158,  1.57894737,  2.10526316,\n",
       "         2.63157895,  3.15789474,  3.68421053,  4.21052632,  4.73684211,\n",
       "         5.26315789,  5.78947368,  6.31578947,  6.84210526,  7.36842105,\n",
       "         7.89473684,  8.42105263,  8.94736842,  9.47368421, 10.        ]),\n",
       " <BarContainer object of 19 artists>)"
      ]
     },
     "execution_count": 35,
     "metadata": {},
     "output_type": "execute_result"
    },
    {
     "data": {
      "image/png": "[encoded data removed]",
      "text/plain": [
       "<Figure size 1000x1000 with 1 Axes>"
      ]
     },
     "metadata": {},
     "output_type": "display_data"
    }
   ],
   "source": []
  },
  {
   "cell_type": "code",
   "execution_count": null,
   "id": "1d869c79",
   "metadata": {},
   "outputs": [],
   "source": []
  },
  {
   "cell_type": "code",
   "execution_count": null,
   "id": "4e3b408c",
   "metadata": {},
   "outputs": [],
   "source": []
  },
  {
   "cell_type": "code",
   "execution_count": null,
   "id": "9a04eefd",
   "metadata": {},
   "outputs": [],
   "source": []
  },
  {
   "cell_type": "code",
   "execution_count": null,
   "id": "f8669f6e",
   "metadata": {},
   "outputs": [],
   "source": []
  },
  {
   "cell_type": "code",
   "execution_count": null,
   "id": "0337746c",
   "metadata": {},
   "outputs": [],
   "source": []
  },
  {
   "cell_type": "code",
   "execution_count": 15,
   "id": "d9484124",
   "metadata": {},
   "outputs": [
    {
     "name": "stderr",
     "output_type": "stream",
     "text": [
      "/Users/fmokhtar/miniconda3/envs/fastjet-env/lib/python3.9/site-packages/coffea/nanoevents/methods/nanoaod.py:107: UserWarning: distinctChildrenDeep may not give correct answers for all generators!\n",
      "  warnings.warn(\n"
     ]
    }
   ],
   "source": [
    "        higgs = ak.firsts(genparts[get_pid_mask(genparts, HIGGS_PDGID, byall=False) * genparts.hasFlags(GEN_FLAGS)])\n",
    "\n",
    "        children_mask = get_pid_mask(higgs.children, [W_PDGID], byall=False)\n",
    "\n",
    "        # order by mass, select lower mass child as V* and higher as V\n",
    "        higgs_children = higgs.children[children_mask]\n",
    "\n",
    "        # VV daughters\n",
    "        # requires coffea-0.7.21\n",
    "        all_daus = higgs_children.distinctChildrenDeep  # TODO: double check it's always 4\n",
    "        all_daus_flat = ak.flatten(all_daus, axis=2)  # flattents the daughters of the two Ws\n",
    "        all_daus_flat_pdgId = abs(all_daus_flat.pdgId)\n",
    "\n",
    "        # the following tells you about the matching\n",
    "        leptons = (all_daus_flat_pdgId == ELE_PDGID) | (all_daus_flat_pdgId == MU_PDGID) | (all_daus_flat_pdgId == TAU_PDGID)\n",
    "\n",
    "        lepVars = {\n",
    "            \"lepton_pt\": all_daus_flat[leptons].pt,\n",
    "            \"lepton_eta\": all_daus_flat[leptons].eta,\n",
    "            \"lepton_phi\": all_daus_flat[leptons].phi,\n",
    "            \"lepton_mass\": all_daus_flat[leptons].mass,\n",
    "        }\n",
    "\n",
    "        quarkVars = {\n",
    "            \"quark_pt\": all_daus_flat[all_daus_flat_pdgId <= b_PDGID].pt,\n",
    "            \"quark_eta\": all_daus_flat[all_daus_flat_pdgId <= b_PDGID].eta,\n",
    "            \"quark_phi\": all_daus_flat[all_daus_flat_pdgId <= b_PDGID].phi,\n",
    "            \"quark_mass\": all_daus_flat[all_daus_flat_pdgId <= b_PDGID].mass,\n",
    "        }"
   ]
  },
  {
   "cell_type": "code",
   "execution_count": 25,
   "id": "cd9c3aed",
   "metadata": {},
   "outputs": [],
   "source": [
    "\n",
    "    ak8_jets = np.array(\n",
    "        np.stack(\n",
    "            (np.array(candidatefj.pt), np.array(candidatefj.eta), np.array(candidatefj.phi), np.array(candidatefj.mass)),\n",
    "            axis=1,\n",
    "        )  # four vector for HWW jet\n",
    "    )\n",
    "\n",
    "    skim_vars = {\n",
    "        \"eta\": \"Eta\",\n",
    "        \"phi\": \"Phi\",\n",
    "        \"mass\": \"Mass\",\n",
    "        \"pt\": \"Pt\",\n",
    "    }\n",
    "\n",
    "    Gen2qVars = {\n",
    "        f\"Gen2q{var}\": ak.to_numpy(\n",
    "            ak.fill_none(\n",
    "                ak.pad_none(quarkVars[f\"quark_{key}\"], 2, axis=1, clip=True),\n",
    "                FILL_NONE_VALUE,\n",
    "            )\n",
    "        )\n",
    "        for key, var in skim_vars.items()\n",
    "    }\n",
    "\n",
    "    # prepare eta, phi array only for 2q, used for Lund Plane reweighting\n",
    "    # since it only takes quarks gen-level 4-vector as input\n",
    "    eta_2q = Gen2qVars[\"Gen2qEta\"]\n",
    "    phi_2q = Gen2qVars[\"Gen2qPhi\"]\n",
    "    gen_parts_eta_phi = np.array(np.dstack((eta_2q, phi_2q)))\n",
    "\n",
    "    GenlepVars = {\n",
    "        f\"Genlep{var}\": ak.to_numpy(\n",
    "            ak.fill_none(\n",
    "                ak.pad_none(lepVars[f\"lepton_{key}\"], 1, axis=1, clip=True),\n",
    "                FILL_NONE_VALUE,\n",
    "            )\n",
    "        )\n",
    "        for key, var in skim_vars.items()\n",
    "    }\n",
    "\n",
    "    # PF candidates in the AK8 jet\n",
    "    HWW_FatJetPFCands = events.FatJetPFCands.jetIdx == ak.firsts(fj_idx_lep)\n",
    "    HWW_FatJetPFCands_pFCandsIdx = events.FatJetPFCands.pFCandsIdx[HWW_FatJetPFCands]\n",
    "\n",
    "    pt_array = ak.Array(events.PFCands.pt)\n",
    "    eta_array = ak.Array(events.PFCands.eta)\n",
    "    phi_array = ak.Array(events.PFCands.phi)\n",
    "    mass_array = ak.Array(events.PFCands.mass)\n"
   ]
  },
  {
   "cell_type": "code",
   "execution_count": 26,
   "id": "84328351",
   "metadata": {},
   "outputs": [],
   "source": [
    "    # Need to clean PFCands with dR(l,pf)<0.2\n",
    "    lep_eta = GenlepVars[\"GenlepEta\"]\n",
    "    lep_phi = GenlepVars[\"GenlepPhi\"]\n",
    "\n",
    "    # this is because the length of PFCands can be up to 409, so we pad to target = 500\n",
    "    pf_eta = pad_val(eta_array, target=500, axis=1, value=0)\n",
    "    pf_phi = pad_val(phi_array, target=500, axis=1, value=0)\n",
    "    pf_pt = pad_val(pt_array, target=500, axis=1, value=0)\n",
    "    pf_mass = pad_val(mass_array, target=500, axis=1, value=0)\n",
    "\n",
    "    lep_eta_reshaped = lep_eta.reshape(-1, 1)\n",
    "    lep_phi_reshaped = lep_phi.reshape(-1, 1)\n",
    "\n",
    "    delta_eta = lep_eta_reshaped - pf_eta\n",
    "    delta_phi = lep_phi_reshaped - pf_phi\n",
    "\n",
    "    delta_r = np.sqrt(delta_eta**2 + delta_phi**2)\n",
    "\n",
    "    pf_eta_rm_lep = np.copy(pf_eta)\n",
    "    pf_phi_rm_lep = np.copy(pf_phi)\n",
    "    pf_pt_rm_lep = np.copy(pf_pt)\n",
    "    pf_mass_rm_lep = np.copy(pf_mass)\n",
    "\n",
    "    pf_eta_rm_lep[delta_r < 0.1] = 0.0\n",
    "    pf_phi_rm_lep[delta_r < 0.1] = 0.0\n",
    "    pf_pt_rm_lep[delta_r < 0.1] = 0.0\n",
    "    pf_mass_rm_lep[delta_r < 0.1] = 0.0\n"
   ]
  },
  {
   "cell_type": "code",
   "execution_count": 62,
   "id": "d1ecc195",
   "metadata": {},
   "outputs": [
    {
     "data": {
      "text/plain": [
       "(651, 500)"
      ]
     },
     "execution_count": 62,
     "metadata": {},
     "output_type": "execute_result"
    }
   ],
   "source": [
    "pdg = pad_val(ak.Array(events.PFCands.pdgId), target=500, axis=1, value=0)\n",
    "pdg.shape"
   ]
  },
  {
   "cell_type": "code",
   "execution_count": 74,
   "id": "b886fcd4",
   "metadata": {
    "scrolled": true
   },
   "outputs": [
    {
     "data": {
      "text/plain": [
       "(array([ 11,  13, 211]), array([ 80, 432,  12]))"
      ]
     },
     "execution_count": 74,
     "metadata": {},
     "output_type": "execute_result"
    }
   ],
   "source": [
    "np.unique(abs(pdg)[delta_r<0.001], return_counts=True)"
   ]
  },
  {
   "cell_type": "code",
   "execution_count": 77,
   "id": "e2635ec1",
   "metadata": {
    "scrolled": false
   },
   "outputs": [
    {
     "data": {
      "text/plain": [
       "masked_array(data=[2, 2, 2, 2, 2, 2, 2, 2, 2, 2, 2, 2, 2, 2, 4, 2, 2, 2,\n",
       "                   2, 2, 2, 2, 2, 2, 2, 2, 2, 2, 2, 2, 2, 2, 2, 2, 2, 2,\n",
       "                   2, 2, 2, 2, 2, 2, 2, 2, 2, 2, 2, 2, 4, 2, 2, 2, 2, 2,\n",
       "                   2, 2, 2, 2, 0, 2, 2, 2, 2, 2, 2, 2, 2, 2, 2, 2, 2, 2,\n",
       "                   2, 2, 2, 2, 2, 2, 2, 2, 2, 2, 2, 2, 2, 2, 4, 2, 2, 2,\n",
       "                   2, 2, 2, 2, 2, 2, 2, 2, 2, 2, 2, 2, 2, 2, 2, 2, 2, 2,\n",
       "                   2, 2, 2, 2, 2, 2, 2, 2, 4, 2, 0, 2, 2, 2, 2, 2, 2, 2,\n",
       "                   2, 2, 4, 2, 2, 2, 2, 2, 2, 1, 2, 2, 2, 2, 2, 2, 2, 4,\n",
       "                   2, 2, 4, 2, 2, 2, 2, 2, 2, 2, 2, 2, 2, 2, 2, 2, 2, 2,\n",
       "                   4, 2, 2, 4, 2, 2, 2, 2, 2, 2, 2, 2, 2, 2, 2, 2, 2, 2,\n",
       "                   2, 0, 2, 2, 2, 2, 2, 2, 2, 2, 2, 4, 2, 2, 2, 2, 2, 2,\n",
       "                   2, 2, 2, 2, 2, 2, 2, 2, 2, 2, 2, 2, 2, 2, 1, 2, 2, 2,\n",
       "                   2, 2, 2, 2, 2, 4, 2, 2, 2, 2, 2, 2, 2, 2, 2, 2, 0, 2,\n",
       "                   2, 2, 2, 2, 2, 2, 2, 2, 2, 2, 2, 2, 2, 2, 2, 2, 2, 2,\n",
       "                   2, 2, 2, 2, 2, 2, 2, 2, 4, 2, 2, 2, 2, 2, 2, 2, 0, 2,\n",
       "                   2, 2, 2, 2, 2, 2, 2, 2, 0, 2, 2, 2, 4, 2, 4, 2, 2, 2,\n",
       "                   0, 4, 2, 2, 2, 2, 2, 2, 2, 2, 2, 2, 2, 2, 2, 2, 2, 2,\n",
       "                   2, 2, 2, 2, 2, 2, 2, 2, 2, 2, 2, 2, 2, 2, 2, 2, 2, 2,\n",
       "                   2, 2, 2, 2, 2, 2, 2, 2, 2, 2, 2, 2, 2, 2, 2, 2, 2, 2,\n",
       "                   2, 2, 2, 2, 2, 0, 2, 2, 2, 2, 2, 2, 2, 2, 2, 2, 2, 2,\n",
       "                   2, 2, 2, 2, 2, 4, 2, 2, 2, 2, 2, 2, 2, 2, 2, 2, 2, 4,\n",
       "                   2, 2, 2, 2, 2, 2, 2, 2, 2, 2, 2, 2, 2, 2, 4, 2, 0, 2,\n",
       "                   2, 2, 4, 2, 2, 2, 2, 2, 2, 2, 2, 2, 4, 2, 2, 2, 2, 2,\n",
       "                   2, 2, 2, 2, 2, 2, 2, 2, 4, 2, 2, 2, 2, 2, 2, 2, 2, 2,\n",
       "                   2, 2, 2, 2, 2, 2, 2, 2, 2, 4, 2, 2, 2, 2, 2, 2, 2, 2,\n",
       "                   2, 2, 2, 2, 2, 2, 2, 2, 2, 2, 2, 2, 2, 2, 2, 2, 2, 2,\n",
       "                   2, 2, 2, 2, 2, 2, 2, 2, 2, 2, 2, 2, 2, 2, 2, 2, 2, 2,\n",
       "                   2, 2, 2, 2, 2, 2, 2, 2, 2, 2, 2, 2, 2, 2, 2, 2, 2, 2,\n",
       "                   4, 2, 2, 2, 2, 2, 2, 4, 2, 2, 2, 0, 2, 2, 2, 4, 2, 2,\n",
       "                   2, 2, 4, 2, 2, 2, 2, 2, 2, 2, 2, 2, 2, 2, 0, 2, 2, 2,\n",
       "                   2, 2, 2, 2, 2, 2, 2, 2, 2, 2, 2, 2, 2, 2, 2, 2, 2, 2,\n",
       "                   2, 2, 2, 4, 2, 2, 2, 2, 2, 2, 2, 2, 2, 2, 2, 2, 2, 2,\n",
       "                   2, 2, 2, 2, 2, 2, 2, 4, 2, 4, 2, 2, 2, 2, 2, 4, 2, 2,\n",
       "                   2, 2, 2, 2, 0, 2, 2, 2, 2, 2, 2, 2, 2, 2, 2, 2, 2, 2,\n",
       "                   2, 2, 1, 2, 2, 2, 2, 2, 2, 2, 2, 2, 2, 2, 2, 2, 2, 2,\n",
       "                   2, 2, 2, 4, 2, 2, 2, 2, 2, 2, 4, 2, 2, 2, 4, 2, 2, 2,\n",
       "                   2, 2, 2],\n",
       "             mask=False,\n",
       "       fill_value=999999)"
      ]
     },
     "execution_count": 77,
     "metadata": {},
     "output_type": "execute_result"
    }
   ],
   "source": [
    "(delta_r < 0.01).sum(axis=1)"
   ]
  },
  {
   "cell_type": "code",
   "execution_count": 78,
   "id": "d862d165",
   "metadata": {},
   "outputs": [
    {
     "data": {
      "text/plain": [
       "masked_array(\n",
       "  data=[[-4.65087891e-02],\n",
       "        [ 1.03125000e+00],\n",
       "        [ 1.07421875e+00],\n",
       "        [ 9.15527344e-02],\n",
       "        [ 9.74609375e-01],\n",
       "        [-4.05273438e-01],\n",
       "        [ 7.10937500e-01],\n",
       "        [-3.53515625e-01],\n",
       "        [-1.08593750e+00],\n",
       "        [-3.20312500e-01],\n",
       "        [ 8.43750000e-01],\n",
       "        [ 1.15625000e+00],\n",
       "        [ 1.36328125e+00],\n",
       "        [ 1.46875000e+00],\n",
       "        [-4.67773438e-01],\n",
       "        [-1.07812500e+00],\n",
       "        [ 9.90234375e-01],\n",
       "        [-7.20703125e-01],\n",
       "        [-1.77734375e+00],\n",
       "        [-2.04101562e-01],\n",
       "        [-1.10937500e+00],\n",
       "        [-6.77734375e-01],\n",
       "        [-1.25390625e+00],\n",
       "        [ 1.12915039e-02],\n",
       "        [ 1.60546875e+00],\n",
       "        [-5.40771484e-02],\n",
       "        [ 8.26171875e-01],\n",
       "        [ 7.28515625e-01],\n",
       "        [ 6.91406250e-01],\n",
       "        [ 5.13671875e-01],\n",
       "        [ 2.29003906e-01],\n",
       "        [ 1.70898438e-01],\n",
       "        [-9.25781250e-01],\n",
       "        [-1.59375000e+00],\n",
       "        [-6.56250000e-01],\n",
       "        [ 1.42578125e-01],\n",
       "        [ 4.77600098e-03],\n",
       "        [ 7.34863281e-02],\n",
       "        [-7.14843750e-01],\n",
       "        [-8.39843750e-01],\n",
       "        [ 3.80859375e-01],\n",
       "        [ 5.66406250e-01],\n",
       "        [-1.27441406e-01],\n",
       "        [-1.21093750e+00],\n",
       "        [-9.94873047e-03],\n",
       "        [-5.76171875e-02],\n",
       "        [-8.37890625e-01],\n",
       "        [ 1.45703125e+00],\n",
       "        [-8.85009766e-03],\n",
       "        [ 1.56250000e+00],\n",
       "        [-1.89453125e-01],\n",
       "        [-1.14062500e+00],\n",
       "        [-7.27539062e-02],\n",
       "        [-9.62890625e-01],\n",
       "        [ 1.06250000e+00],\n",
       "        [ 6.89453125e-01],\n",
       "        [ 1.15625000e+00],\n",
       "        [ 1.21484375e+00],\n",
       "        [ 8.61328125e-01],\n",
       "        [ 1.59375000e+00],\n",
       "        [ 8.92578125e-01],\n",
       "        [-5.00000000e-01],\n",
       "        [ 7.51953125e-01],\n",
       "        [ 8.49609375e-01],\n",
       "        [ 7.66601562e-02],\n",
       "        [-6.05468750e-01],\n",
       "        [ 9.19921875e-01],\n",
       "        [-1.31835938e-01],\n",
       "        [ 3.46679688e-01],\n",
       "        [ 5.52978516e-02],\n",
       "        [-7.50000000e-01],\n",
       "        [-1.58203125e+00],\n",
       "        [-3.89404297e-02],\n",
       "        [ 1.48046875e+00],\n",
       "        [ 1.13671875e+00],\n",
       "        [-1.14746094e-01],\n",
       "        [ 1.42187500e+00],\n",
       "        [-1.21875000e+00],\n",
       "        [ 1.40136719e-01],\n",
       "        [ 1.01562500e-01],\n",
       "        [-1.65625000e+00],\n",
       "        [ 6.23046875e-01],\n",
       "        [-1.85058594e-01],\n",
       "        [ 6.90917969e-02],\n",
       "        [-1.63085938e-01],\n",
       "        [ 9.98046875e-01],\n",
       "        [ 1.35937500e+00],\n",
       "        [ 9.60937500e-01],\n",
       "        [-2.29687500e+00],\n",
       "        [-6.37207031e-02],\n",
       "        [ 9.30175781e-02],\n",
       "        [ 1.44140625e+00],\n",
       "        [-7.44140625e-01],\n",
       "        [-2.36816406e-01],\n",
       "        [ 2.65625000e-01],\n",
       "        [-1.99218750e+00],\n",
       "        [-5.03906250e-01],\n",
       "        [ 7.14843750e-01],\n",
       "        [-1.01074219e-01],\n",
       "        [ 8.98437500e-01],\n",
       "        [-1.96875000e+00],\n",
       "        [ 5.11474609e-02],\n",
       "        [-8.61328125e-01],\n",
       "        [ 8.32031250e-01],\n",
       "        [ 1.14062500e+00],\n",
       "        [-2.82226562e-01],\n",
       "        [ 1.37890625e+00],\n",
       "        [-1.32031250e+00],\n",
       "        [-7.42187500e-01],\n",
       "        [-6.21093750e-01],\n",
       "        [-1.14453125e+00],\n",
       "        [ 1.94335938e-01],\n",
       "        [-6.79016113e-03],\n",
       "        [ 2.21191406e-01],\n",
       "        [ 4.30664062e-01],\n",
       "        [-9.21875000e-01],\n",
       "        [ 9.04296875e-01],\n",
       "        [-8.80859375e-01],\n",
       "        [ 1.54687500e+00],\n",
       "        [-1.69921875e-01],\n",
       "        [-1.29296875e+00],\n",
       "        [-5.39062500e-01],\n",
       "        [-1.46875000e+00],\n",
       "        [ 6.23046875e-01],\n",
       "        [-1.41406250e+00],\n",
       "        [ 5.41015625e-01],\n",
       "        [-1.23828125e+00],\n",
       "        [ 9.45312500e-01],\n",
       "        [-3.11889648e-02],\n",
       "        [-2.08007812e-01],\n",
       "        [ 8.76464844e-02],\n",
       "        [ 4.15039062e-01],\n",
       "        [-7.42187500e-01],\n",
       "        [ 1.09375000e+00],\n",
       "        [-1.29296875e+00],\n",
       "        [-2.36718750e+00],\n",
       "        [-1.23046875e+00],\n",
       "        [ 3.47900391e-02],\n",
       "        [-4.05273438e-01],\n",
       "        [-9.12109375e-01],\n",
       "        [ 4.45312500e-01],\n",
       "        [-5.11718750e-01],\n",
       "        [-1.44042969e-01],\n",
       "        [-2.86132812e-01],\n",
       "        [ 8.86718750e-01],\n",
       "        [-9.25292969e-02],\n",
       "        [-6.38671875e-01],\n",
       "        [-1.16406250e+00],\n",
       "        [-7.40234375e-01],\n",
       "        [-2.08593750e+00],\n",
       "        [-3.07617188e-02],\n",
       "        [-1.99609375e+00],\n",
       "        [ 1.21875000e+00],\n",
       "        [-9.49218750e-01],\n",
       "        [-8.76953125e-01],\n",
       "        [-2.94921875e-01],\n",
       "        [-6.54296875e-01],\n",
       "        [-2.00683594e-01],\n",
       "        [ 8.02734375e-01],\n",
       "        [-2.34863281e-01],\n",
       "        [-3.73046875e-01],\n",
       "        [-5.93566895e-03],\n",
       "        [ 1.94531250e+00],\n",
       "        [ 3.38134766e-02],\n",
       "        [-9.91210938e-02],\n",
       "        [ 1.31640625e+00],\n",
       "        [-5.80078125e-01],\n",
       "        [-3.49609375e-01],\n",
       "        [-1.21093750e+00],\n",
       "        [-7.91015625e-01],\n",
       "        [ 1.10937500e+00],\n",
       "        [-5.37109375e-01],\n",
       "        [ 7.77343750e-01],\n",
       "        [-5.74218750e-01],\n",
       "        [ 5.41015625e-01],\n",
       "        [ 7.24609375e-01],\n",
       "        [ 1.29296875e+00],\n",
       "        [-3.66210938e-01],\n",
       "        [ 3.78906250e-01],\n",
       "        [-3.90625000e-01],\n",
       "        [ 1.91894531e-01],\n",
       "        [-1.21484375e+00],\n",
       "        [-7.12890625e-01],\n",
       "        [ 5.72265625e-01],\n",
       "        [ 3.02734375e-01],\n",
       "        [ 5.82031250e-01],\n",
       "        [ 1.96093750e+00],\n",
       "        [-1.27734375e+00],\n",
       "        [ 1.04687500e+00],\n",
       "        [ 1.26953125e-01],\n",
       "        [ 7.46093750e-01],\n",
       "        [ 7.78808594e-02],\n",
       "        [ 1.13671875e+00],\n",
       "        [ 1.05859375e+00],\n",
       "        [-1.48925781e-01],\n",
       "        [ 3.00781250e-01],\n",
       "        [ 1.69921875e+00],\n",
       "        [-6.48437500e-01],\n",
       "        [ 4.86328125e-01],\n",
       "        [ 1.18652344e-01],\n",
       "        [-3.70117188e-01],\n",
       "        [-4.49218750e-01],\n",
       "        [ 2.80273438e-01],\n",
       "        [-7.46093750e-01],\n",
       "        [-1.12500000e+00],\n",
       "        [ 2.85156250e-01],\n",
       "        [-1.00781250e+00],\n",
       "        [ 8.41796875e-01],\n",
       "        [-1.16406250e+00],\n",
       "        [ 1.03125000e+00],\n",
       "        [-1.67968750e+00],\n",
       "        [-8.82812500e-01],\n",
       "        [ 1.94921875e+00],\n",
       "        [-3.24707031e-02],\n",
       "        [ 2.86132812e-01],\n",
       "        [ 3.70117188e-01],\n",
       "        [ 2.24609375e-01],\n",
       "        [-3.31054688e-01],\n",
       "        [-4.02343750e-01],\n",
       "        [-4.81445312e-01],\n",
       "        [ 6.21093750e-01],\n",
       "        [ 3.27148438e-01],\n",
       "        [ 1.09765625e+00],\n",
       "        [-1.86328125e+00],\n",
       "        [ 4.36523438e-01],\n",
       "        [-4.74853516e-02],\n",
       "        [-1.31640625e+00],\n",
       "        [ 5.39062500e-01],\n",
       "        [ 1.35546875e+00],\n",
       "        [-3.74023438e-01],\n",
       "        [ 1.32324219e-01],\n",
       "        [ 1.01171875e+00],\n",
       "        [-7.73437500e-01],\n",
       "        [ 6.85546875e-01],\n",
       "        [-8.10546875e-01],\n",
       "        [-7.92968750e-01],\n",
       "        [ 1.02734375e+00],\n",
       "        [ 1.06201172e-01],\n",
       "        [-1.02343750e+00],\n",
       "        [-6.71386719e-02],\n",
       "        [-8.57543945e-03],\n",
       "        [-7.14843750e-01],\n",
       "        [ 7.16796875e-01],\n",
       "        [ 9.94140625e-01],\n",
       "        [-1.56738281e-01],\n",
       "        [-8.78906250e-01],\n",
       "        [ 1.03027344e-01],\n",
       "        [-1.79296875e+00],\n",
       "        [-1.89453125e-01],\n",
       "        [-5.19531250e-01],\n",
       "        [ 8.90625000e-01],\n",
       "        [ 9.41406250e-01],\n",
       "        [ 2.16796875e-01],\n",
       "        [-3.55468750e-01],\n",
       "        [-1.66796875e+00],\n",
       "        [-1.34375000e+00],\n",
       "        [-9.23828125e-01],\n",
       "        [-3.19335938e-01],\n",
       "        [-8.24218750e-01],\n",
       "        [ 2.02636719e-01],\n",
       "        [-1.68750000e+00],\n",
       "        [ 1.75000000e+00],\n",
       "        [ 1.33789062e-01],\n",
       "        [ 5.01953125e-01],\n",
       "        [ 1.17919922e-01],\n",
       "        [ 1.01953125e+00],\n",
       "        [ 2.14355469e-01],\n",
       "        [-1.87011719e-01],\n",
       "        [ 1.56640625e+00],\n",
       "        [-5.52734375e-01],\n",
       "        [-8.98437500e-02],\n",
       "        [-8.35937500e-01],\n",
       "        [-1.46484375e+00],\n",
       "        [ 6.32812500e-01],\n",
       "        [ 1.37890625e+00],\n",
       "        [ 1.13769531e-01],\n",
       "        [-1.11718750e+00],\n",
       "        [-2.35156250e+00],\n",
       "        [ 7.55859375e-01],\n",
       "        [ 1.03515625e+00],\n",
       "        [ 5.21484375e-01],\n",
       "        [ 1.62500000e+00],\n",
       "        [-1.05859375e+00],\n",
       "        [-4.73632812e-01],\n",
       "        [ 1.79687500e+00],\n",
       "        [ 2.40234375e-01],\n",
       "        [ 8.96484375e-01],\n",
       "        [-1.53515625e+00],\n",
       "        [ 1.77246094e-01],\n",
       "        [-1.18750000e+00],\n",
       "        [-6.71875000e-01],\n",
       "        [-2.77343750e-01],\n",
       "        [ 2.24609375e-01],\n",
       "        [ 1.18652344e-01],\n",
       "        [-6.44531250e-01],\n",
       "        [-1.21484375e+00],\n",
       "        [ 1.68359375e+00],\n",
       "        [ 2.66601562e-01],\n",
       "        [ 1.77734375e+00],\n",
       "        [-9.17968750e-01],\n",
       "        [ 3.78417969e-02],\n",
       "        [-8.39843750e-01],\n",
       "        [ 7.00683594e-02],\n",
       "        [-9.00390625e-01],\n",
       "        [-2.11718750e+00],\n",
       "        [ 2.13281250e+00],\n",
       "        [-8.91113281e-02],\n",
       "        [-1.40136719e-01],\n",
       "        [-1.02734375e+00],\n",
       "        [-3.46679688e-01],\n",
       "        [-1.21484375e+00],\n",
       "        [ 2.66601562e-01],\n",
       "        [-1.08593750e+00],\n",
       "        [ 1.71093750e+00],\n",
       "        [ 2.21875000e+00],\n",
       "        [-1.40136719e-01],\n",
       "        [-2.39257812e-01],\n",
       "        [ 1.59375000e+00],\n",
       "        [ 6.66015625e-01],\n",
       "        [ 1.35937500e+00],\n",
       "        [ 5.17578125e-01],\n",
       "        [ 9.72656250e-01],\n",
       "        [-9.06250000e-01],\n",
       "        [ 2.46093750e-01],\n",
       "        [ 1.14746094e-01],\n",
       "        [-5.01953125e-01],\n",
       "        [ 3.02734375e-01],\n",
       "        [-8.80859375e-01],\n",
       "        [ 1.86718750e+00],\n",
       "        [-6.64062500e-01],\n",
       "        [-9.55078125e-01],\n",
       "        [-2.54882812e-01],\n",
       "        [ 1.53125000e+00],\n",
       "        [-2.88696289e-02],\n",
       "        [-2.02343750e+00],\n",
       "        [ 6.23046875e-01],\n",
       "        [-1.00000000e+00],\n",
       "        [ 5.42968750e-01],\n",
       "        [ 3.59344482e-03],\n",
       "        [ 2.33593750e+00],\n",
       "        [ 8.28125000e-01],\n",
       "        [ 3.64257812e-01],\n",
       "        [ 1.93359375e-01],\n",
       "        [ 1.82617188e-01],\n",
       "        [-3.33404541e-03],\n",
       "        [-9.64843750e-01],\n",
       "        [-1.45312500e+00],\n",
       "        [ 2.51953125e-01],\n",
       "        [ 7.89062500e-01],\n",
       "        [ 1.11328125e+00],\n",
       "        [-7.61718750e-01],\n",
       "        [ 1.27343750e+00],\n",
       "        [-1.40136719e-01],\n",
       "        [-5.89599609e-02],\n",
       "        [ 7.92968750e-01],\n",
       "        [-7.18750000e-01],\n",
       "        [ 1.93750000e+00],\n",
       "        [-1.65625000e+00],\n",
       "        [-6.44531250e-01],\n",
       "        [ 6.85546875e-01],\n",
       "        [-7.79296875e-01],\n",
       "        [-6.99218750e-01],\n",
       "        [ 9.71679688e-02],\n",
       "        [ 4.16992188e-01],\n",
       "        [-8.78906250e-02],\n",
       "        [ 8.94531250e-01],\n",
       "        [ 6.28906250e-01],\n",
       "        [-7.22656250e-02],\n",
       "        [ 9.88769531e-02],\n",
       "        [ 8.08593750e-01],\n",
       "        [-4.94140625e-01],\n",
       "        [-1.90234375e+00],\n",
       "        [-3.89648438e-01],\n",
       "        [-3.10546875e-01],\n",
       "        [ 1.26171875e+00],\n",
       "        [-6.01562500e-01],\n",
       "        [-1.08642578e-01],\n",
       "        [-1.62109375e-01],\n",
       "        [-6.93359375e-01],\n",
       "        [-9.68750000e-01],\n",
       "        [-1.15234375e+00],\n",
       "        [-1.69921875e-01],\n",
       "        [ 6.26953125e-01],\n",
       "        [ 2.71484375e-01],\n",
       "        [-4.98046875e-01],\n",
       "        [ 5.13671875e-01],\n",
       "        [-2.37304688e-01],\n",
       "        [ 4.12109375e-01],\n",
       "        [-6.73828125e-02],\n",
       "        [-9.25781250e-01],\n",
       "        [ 4.07226562e-01],\n",
       "        [ 1.53515625e+00],\n",
       "        [ 1.03515625e-01],\n",
       "        [-2.21093750e+00],\n",
       "        [-1.35937500e+00],\n",
       "        [-6.36718750e-01],\n",
       "        [-1.49414062e-01],\n",
       "        [ 6.89453125e-01],\n",
       "        [-1.24511719e-01],\n",
       "        [ 9.55078125e-01],\n",
       "        [-2.32031250e+00],\n",
       "        [ 1.91406250e+00],\n",
       "        [ 8.49609375e-01],\n",
       "        [ 2.35156250e+00],\n",
       "        [ 1.65234375e+00],\n",
       "        [ 4.48242188e-01],\n",
       "        [-5.03906250e-01],\n",
       "        [-9.25781250e-01],\n",
       "        [ 1.83105469e-01],\n",
       "        [-6.15234375e-01],\n",
       "        [-4.74609375e-01],\n",
       "        [-1.21875000e+00],\n",
       "        [ 2.74414062e-01],\n",
       "        [-6.07421875e-01],\n",
       "        [ 1.30468750e+00],\n",
       "        [-2.39257812e-01],\n",
       "        [-8.84765625e-01],\n",
       "        [ 1.73828125e+00],\n",
       "        [-8.06640625e-01],\n",
       "        [-1.41796875e+00],\n",
       "        [ 1.34765625e+00],\n",
       "        [ 1.14062500e+00],\n",
       "        [-3.96484375e-01],\n",
       "        [ 1.50390625e+00],\n",
       "        [-1.43359375e+00],\n",
       "        [-1.64062500e+00],\n",
       "        [ 1.26953125e+00],\n",
       "        [-1.34375000e+00],\n",
       "        [-1.27343750e+00],\n",
       "        [ 9.68750000e-01],\n",
       "        [-4.98046875e-01],\n",
       "        [ 2.08593750e+00],\n",
       "        [ 4.79125977e-03],\n",
       "        [ 6.13281250e-01],\n",
       "        [-2.67578125e-01],\n",
       "        [ 2.10449219e-01],\n",
       "        [-4.08203125e-01],\n",
       "        [ 1.20703125e+00],\n",
       "        [-2.02343750e+00],\n",
       "        [-1.31640625e+00],\n",
       "        [-2.07812500e+00],\n",
       "        [ 1.39062500e+00],\n",
       "        [-1.35156250e+00],\n",
       "        [-5.52734375e-01],\n",
       "        [ 2.10156250e+00],\n",
       "        [ 3.23242188e-01],\n",
       "        [-2.19726562e-01],\n",
       "        [-3.40820312e-01],\n",
       "        [ 3.19335938e-01],\n",
       "        [-5.49316406e-02],\n",
       "        [ 3.13476562e-01],\n",
       "        [-2.01562500e+00],\n",
       "        [ 7.71484375e-01],\n",
       "        [-5.68359375e-01],\n",
       "        [ 1.02539062e-02],\n",
       "        [ 1.30859375e-01],\n",
       "        [-9.88281250e-01],\n",
       "        [-8.12500000e-01],\n",
       "        [-2.04101562e-01],\n",
       "        [-9.98046875e-01],\n",
       "        [ 8.14453125e-01],\n",
       "        [ 1.05859375e+00],\n",
       "        [-9.10156250e-01],\n",
       "        [ 1.32031250e+00],\n",
       "        [ 7.51953125e-01],\n",
       "        [-1.32812500e+00],\n",
       "        [-1.50781250e+00],\n",
       "        [-1.56250000e+00],\n",
       "        [-1.42187500e+00],\n",
       "        [-1.29687500e+00],\n",
       "        [-5.82031250e-01],\n",
       "        [-4.44335938e-02],\n",
       "        [ 3.31054688e-01],\n",
       "        [-1.23828125e+00],\n",
       "        [ 1.10546875e+00],\n",
       "        [-7.88574219e-02],\n",
       "        [ 6.71875000e-01],\n",
       "        [-1.26171875e+00],\n",
       "        [ 3.73046875e-01],\n",
       "        [ 1.39843750e+00],\n",
       "        [ 2.23437500e+00],\n",
       "        [ 7.81250000e-01],\n",
       "        [ 2.01562500e+00],\n",
       "        [-4.83398438e-02],\n",
       "        [ 6.86035156e-02],\n",
       "        [-1.20312500e+00],\n",
       "        [ 1.45312500e+00],\n",
       "        [-8.43750000e-01],\n",
       "        [-2.28881836e-03],\n",
       "        [ 1.06250000e+00],\n",
       "        [-1.74609375e+00],\n",
       "        [-3.89648438e-01],\n",
       "        [ 8.22753906e-02],\n",
       "        [-6.89453125e-01],\n",
       "        [-4.25781250e-01],\n",
       "        [-1.42187500e+00],\n",
       "        [-1.44140625e+00],\n",
       "        [ 9.88281250e-01],\n",
       "        [-9.60937500e-01],\n",
       "        [ 4.61914062e-01],\n",
       "        [-2.93945312e-01],\n",
       "        [ 1.61718750e+00],\n",
       "        [-1.65625000e+00],\n",
       "        [-1.03125000e+00],\n",
       "        [ 1.11718750e+00],\n",
       "        [ 1.77734375e-01],\n",
       "        [-4.18945312e-01],\n",
       "        [ 1.18359375e+00],\n",
       "        [-3.66210938e-01],\n",
       "        [-8.10546875e-01],\n",
       "        [ 4.18945312e-01],\n",
       "        [-1.63085938e-01],\n",
       "        [ 4.58984375e-02],\n",
       "        [ 2.10156250e+00],\n",
       "        [-1.08593750e+00],\n",
       "        [-1.30468750e+00],\n",
       "        [-1.63281250e+00],\n",
       "        [-1.04687500e+00],\n",
       "        [-1.00000000e+00],\n",
       "        [ 1.21093750e+00],\n",
       "        [ 1.42578125e-01],\n",
       "        [-1.11718750e+00],\n",
       "        [-1.40625000e+00],\n",
       "        [ 2.33593750e+00],\n",
       "        [-9.86328125e-01],\n",
       "        [-1.09375000e+00],\n",
       "        [-2.04467773e-02],\n",
       "        [-2.19531250e+00],\n",
       "        [-2.66601562e-01],\n",
       "        [ 8.98437500e-01],\n",
       "        [-1.52343750e+00],\n",
       "        [-1.50000000e+00],\n",
       "        [-1.47656250e+00],\n",
       "        [-5.05859375e-01],\n",
       "        [-5.10253906e-02],\n",
       "        [ 2.91015625e-01],\n",
       "        [-2.72460938e-01],\n",
       "        [ 1.86718750e+00],\n",
       "        [ 7.26562500e-01],\n",
       "        [ 7.20703125e-01],\n",
       "        [ 2.90039062e-01],\n",
       "        [ 5.11718750e-01],\n",
       "        [-9.64843750e-01],\n",
       "        [-2.13378906e-01],\n",
       "        [ 7.18750000e-01],\n",
       "        [ 1.17968750e+00],\n",
       "        [-4.69726562e-01],\n",
       "        [-1.70410156e-01],\n",
       "        [-9.72656250e-01],\n",
       "        [-8.22753906e-02],\n",
       "        [-2.34375000e-01],\n",
       "        [-2.25000000e+00],\n",
       "        [-2.69531250e-01],\n",
       "        [ 3.54492188e-01],\n",
       "        [ 8.73046875e-01],\n",
       "        [ 1.47265625e+00],\n",
       "        [ 1.48828125e+00],\n",
       "        [-1.77612305e-02],\n",
       "        [ 8.12500000e-01],\n",
       "        [ 3.75000000e-01],\n",
       "        [ 1.43750000e+00],\n",
       "        [ 1.92187500e+00],\n",
       "        [ 8.45703125e-01],\n",
       "        [ 5.97656250e-01],\n",
       "        [ 7.20703125e-01],\n",
       "        [ 3.49609375e-01],\n",
       "        [-3.14453125e-01],\n",
       "        [-2.23144531e-01],\n",
       "        [ 5.82031250e-01],\n",
       "        [ 1.71093750e+00],\n",
       "        [-3.70117188e-01],\n",
       "        [ 1.51171875e+00],\n",
       "        [ 2.94921875e-01],\n",
       "        [-8.94531250e-01],\n",
       "        [ 3.79882812e-01],\n",
       "        [-9.14062500e-01],\n",
       "        [ 1.89062500e+00],\n",
       "        [-4.92187500e-01],\n",
       "        [-3.68164062e-01],\n",
       "        [ 4.36523438e-01],\n",
       "        [-2.49023438e-01],\n",
       "        [-9.78515625e-01],\n",
       "        [-3.59375000e-01],\n",
       "        [-4.00390625e-01],\n",
       "        [-2.68554688e-01],\n",
       "        [ 1.58593750e+00],\n",
       "        [-1.76953125e+00],\n",
       "        [-8.05664062e-02],\n",
       "        [-9.08203125e-01],\n",
       "        [ 2.39062500e+00],\n",
       "        [ 9.86328125e-02],\n",
       "        [ 1.38281250e+00],\n",
       "        [ 1.07421875e+00],\n",
       "        [ 1.29394531e-01],\n",
       "        [ 9.00390625e-01],\n",
       "        [ 3.31054688e-01],\n",
       "        [-1.09765625e+00],\n",
       "        [ 2.19531250e+00],\n",
       "        [ 9.58984375e-01],\n",
       "        [-2.31445312e-01],\n",
       "        [ 1.00390625e+00],\n",
       "        [ 6.19140625e-01],\n",
       "        [-8.59375000e-01],\n",
       "        [-5.39062500e-01],\n",
       "        [ 9.47265625e-01],\n",
       "        [-1.77343750e+00],\n",
       "        [-1.18359375e+00],\n",
       "        [-1.17968750e+00],\n",
       "        [-3.36914062e-01],\n",
       "        [-2.06250000e+00],\n",
       "        [ 1.25390625e+00],\n",
       "        [-5.13671875e-01],\n",
       "        [ 1.63281250e+00],\n",
       "        [ 9.02343750e-01],\n",
       "        [ 2.29687500e+00],\n",
       "        [ 3.01757812e-01],\n",
       "        [ 1.41406250e+00],\n",
       "        [-1.72363281e-01],\n",
       "        [-7.73925781e-02],\n",
       "        [ 2.05468750e+00],\n",
       "        [-6.30859375e-01],\n",
       "        [ 4.78515625e-01],\n",
       "        [ 5.31250000e-01],\n",
       "        [ 4.23828125e-01],\n",
       "        [-9.49218750e-01],\n",
       "        [ 1.62890625e+00],\n",
       "        [-1.11718750e+00],\n",
       "        [ 3.84765625e-01],\n",
       "        [-6.15234375e-01],\n",
       "        [ 6.25000000e-01],\n",
       "        [ 1.75390625e+00],\n",
       "        [-4.39453125e-01],\n",
       "        [ 4.15039062e-01],\n",
       "        [-9.55078125e-01],\n",
       "        [-1.23437500e+00],\n",
       "        [ 4.76562500e-01],\n",
       "        [-1.44531250e+00],\n",
       "        [ 4.81445312e-01],\n",
       "        [ 7.47070312e-02],\n",
       "        [ 5.72265625e-01],\n",
       "        [-9.27734375e-01],\n",
       "        [ 1.53125000e+00],\n",
       "        [-4.79736328e-02],\n",
       "        [ 6.36718750e-01],\n",
       "        [-1.00341797e-01],\n",
       "        [-5.66406250e-02],\n",
       "        [-6.93359375e-01],\n",
       "        [-3.09570312e-01],\n",
       "        [ 2.12890625e-01],\n",
       "        [ 8.78906250e-01],\n",
       "        [ 1.59765625e+00]],\n",
       "  mask=False,\n",
       "  fill_value=1e+20)"
      ]
     },
     "execution_count": 78,
     "metadata": {},
     "output_type": "execute_result"
    }
   ],
   "source": [
    "lep_eta"
   ]
  },
  {
   "cell_type": "code",
   "execution_count": 116,
   "id": "0035f06d",
   "metadata": {},
   "outputs": [
    {
     "data": {
      "text/plain": [
       "<Array [[0.1, 0.0934, 0.296, ... 1.65, -0.276]] type='651 * option[var * float32...'>"
      ]
     },
     "execution_count": 116,
     "metadata": {},
     "output_type": "execute_result"
    }
   ],
   "source": [
    "HWW_FatJetPFCands = events.FatJetPFCands.jetIdx == ak.firsts(fj_idx_lep)\n",
    "HWW_FatJetPFCands_pFCandsIdx = events.FatJetPFCands.pFCandsIdx[HWW_FatJetPFCands]\n",
    "\n",
    "\n",
    "islep = (\n",
    "    (ak.Array(abs(events.PFCands.pdgId)) == ELE_PDGID)\n",
    "    | (ak.Array(abs(events.PFCands.pdgId)) == MU_PDGID)\n",
    "    | (ak.Array(abs(events.PFCands.pdgId)) == TAU_PDGID)\n",
    ")\n",
    "\n",
    "eta_array = ak.Array(events.PFCands.eta)\n",
    "eta_array[~islep][HWW_FatJetPFCands_pFCandsIdx]"
   ]
  },
  {
   "cell_type": "code",
   "execution_count": 103,
   "id": "7b7f24e6",
   "metadata": {},
   "outputs": [
    {
     "data": {
      "text/plain": [
       "<Array [[0, 1, 2, 7, 20, ... 41, 42, 7, 36]] type='651 * option[var * int32[para...'>"
      ]
     },
     "execution_count": 103,
     "metadata": {},
     "output_type": "execute_result"
    }
   ],
   "source": [
    "HWW_FatJetPFCands_pFCandsIdx"
   ]
  },
  {
   "cell_type": "code",
   "execution_count": null,
   "id": "80c7f579",
   "metadata": {},
   "outputs": [],
   "source": []
  },
  {
   "cell_type": "code",
   "execution_count": null,
   "id": "de47dd45",
   "metadata": {},
   "outputs": [],
   "source": []
  },
  {
   "cell_type": "code",
   "execution_count": null,
   "id": "08745141",
   "metadata": {},
   "outputs": [],
   "source": []
  },
  {
   "cell_type": "code",
   "execution_count": null,
   "id": "262d4cf8",
   "metadata": {},
   "outputs": [],
   "source": []
  },
  {
   "cell_type": "code",
   "execution_count": null,
   "id": "abf53330",
   "metadata": {},
   "outputs": [],
   "source": []
  },
  {
   "cell_type": "code",
   "execution_count": null,
   "id": "04aac528",
   "metadata": {},
   "outputs": [],
   "source": [
    "    candidatefj = candidatefj - candidatelep_p4\n",
    "\n",
    "    lepVars, quarkVars = getGenLepGenQuarks(dataset, events.GenPart)\n",
    "\n",
    "    ak8_jets = np.array(\n",
    "        np.stack(\n",
    "            (np.array(candidatefj.pt), np.array(candidatefj.eta), np.array(candidatefj.phi), np.array(candidatefj.mass)),\n",
    "            axis=1,\n",
    "        )  # four vector for HWW jet\n",
    "    )\n",
    "\n",
    "    skim_vars = {\n",
    "        \"eta\": \"Eta\",\n",
    "        \"phi\": \"Phi\",\n",
    "        \"mass\": \"Mass\",\n",
    "        \"pt\": \"Pt\",\n",
    "    }\n",
    "\n",
    "    Gen2qVars = {\n",
    "        f\"Gen2q{var}\": ak.to_numpy(\n",
    "            ak.fill_none(\n",
    "                ak.pad_none(quarkVars[f\"quark_{key}\"], 2, axis=1, clip=True),\n",
    "                FILL_NONE_VALUE,\n",
    "            )\n",
    "        )\n",
    "        for key, var in skim_vars.items()\n",
    "    }\n",
    "\n",
    "    # prepare eta, phi array only for 2q, used for Lund Plane reweighting\n",
    "    # since it only takes quarks gen-level 4-vector as input\n",
    "    eta_2q = Gen2qVars[\"Gen2qEta\"]\n",
    "    phi_2q = Gen2qVars[\"Gen2qPhi\"]\n",
    "    gen_parts_eta_phi = np.array(np.dstack((eta_2q, phi_2q)))\n",
    "\n",
    "    GenlepVars = {\n",
    "        f\"Genlep{var}\": ak.to_numpy(\n",
    "            ak.fill_none(\n",
    "                ak.pad_none(lepVars[f\"lepton_{key}\"], 1, axis=1, clip=True),\n",
    "                FILL_NONE_VALUE,\n",
    "            )\n",
    "        )\n",
    "        for key, var in skim_vars.items()\n",
    "    }\n",
    "\n",
    "    # PF candidates in the AK8 jet\n",
    "    HWW_FatJetPFCands = events.FatJetPFCands.jetIdx == ak.firsts(fj_idx_lep)\n",
    "    HWW_FatJetPFCands_pFCandsIdx = events.FatJetPFCands.pFCandsIdx[HWW_FatJetPFCands]\n",
    "\n",
    "    pt_array = ak.Array(events.PFCands.pt)\n",
    "    eta_array = ak.Array(events.PFCands.eta)\n",
    "    phi_array = ak.Array(events.PFCands.phi)\n",
    "    mass_array = ak.Array(events.PFCands.mass)\n",
    "\n",
    "    pf_cands_px, pf_cands_py, pf_cands_pz, pf_cands_E = lep_removal(\n",
    "        events, pt_array, eta_array, phi_array, mass_array, GenlepVars, HWW_FatJetPFCands_pFCandsIdx\n",
    "    )\n",
    "    pf_cands = np.dstack((pf_cands_px, pf_cands_py, pf_cands_pz, pf_cands_E))\n"
   ]
  },
  {
   "cell_type": "code",
   "execution_count": null,
   "id": "49fb0c78",
   "metadata": {},
   "outputs": [],
   "source": []
  },
  {
   "cell_type": "code",
   "execution_count": 23,
   "id": "8ea908d0",
   "metadata": {},
   "outputs": [
    {
     "data": {
      "text/plain": [
       "{'fj_genH_pt': <Array [313, 390, 332, 326, ... 424, 321, 263] type='651 * float64'>,\n",
       " 'fj_genH_jet': <Array [0.107, 0.102, 0.11, ... 0.0306, 0.165] type='651 * ?float32'>,\n",
       " 'fj_genV_dR': <Array [0.188, 0.0778, 0.124, ... 0.142, 0.178] type='651 * ?float32'>,\n",
       " 'fj_genVstar': <Array [0.307, 0.142, 0.0812, ... 0.245, 0.328] type='651 * ?float32'>,\n",
       " 'genV_genVstar_dR': <Array [0.448, 0.114, 0.0559, ... 0.386, 0.378] type='651 * ?float32'>,\n",
       " 'fj_isHVV': <Array [True, True, True, ... True, True, True] type='651 * ?bool'>,\n",
       " 'fj_isHVV_Matched': <Array [True, True, True, ... True, True, True] type='651 * ?bool'>,\n",
       " 'fj_isHVV_4q': <Array [0, 0, 0, 0, 0, 0, ... 0, 0, 0, 0, 0, 0] type='651 * ?int32'>,\n",
       " 'fj_isHVV_elenuqq': <Array [1, 0, 0, 0, 0, 0, ... 0, 0, 0, 0, 0, 0] type='651 * ?int32'>,\n",
       " 'fj_isHVV_munuqq': <Array [0, 1, 1, 1, 1, 1, ... 1, 1, 1, 1, 1, 1] type='651 * ?int32'>,\n",
       " 'fj_isHVV_taunuqq': <Array [0, 0, 0, 0, 0, 0, ... 0, 0, 0, 0, 0, 0] type='651 * ?int32'>,\n",
       " 'fj_isHVV_Vlepton': <Array [True, False, True, ... True, True] type='651 * ?bool'>,\n",
       " 'fj_isHVV_Vstarlepton': <Array [False, True, False, ... False, False] type='651 * ?bool'>,\n",
       " 'fj_genRes_mass': <Array [125, 125, 125, 125, ... 125, 125, 125] type='651 * ?float32[parameters={...'>,\n",
       " 'fj_nquarks': <Array [1, 1, 1, 1, 3, 2, ... 2, 2, 1, 2, 2, 1] type='651 * ?int64'>,\n",
       " 'fj_ncquarks': <Array [0, 0, 0, 0, 0, 0, ... 0, 0, 0, 0, 0, 0] type='651 * ?int64'>,\n",
       " 'fj_lepinprongs': <Array [1, 1, 1, 1, 1, 1, ... 1, 1, 1, 1, 1, 1] type='651 * ?int64'>,\n",
       " 'lep_daughters': <Array [[False, False, True, ... True, False]] type='651 * option[var * ?bool]'>,\n",
       " 'all_daus': <GenParticleArray [[[GenParticle, ... GenParticle]]] type='651 * option[var * op...'>,\n",
       " 'lepton_pt': <Array [[126], [168], ... [174], [177]] type='651 * option[var * ?float32[parame...'>,\n",
       " 'lepton_eta': <Array [[-0.0465], [1.03], ... [0.879], [1.6]] type='651 * option[var * ?float32...'>,\n",
       " 'lepton_phi': <Array [[-2.01], [2.29], ... [2.76], [-2.62]] type='651 * option[var * ?float32[...'>,\n",
       " 'lepton_mass': <Array [[0], [0], [0], ... [0], [0], [0]] type='651 * option[var * ?float32[para...'>,\n",
       " 'quark_pt': <Array [[17.7, 104], [159, ... [8.44, 31.8]] type='651 * option[var * ?float32[p...'>,\n",
       " 'quark_eta': <Array [[-0.476, 0.223], ... [0.582, 1.25]] type='651 * option[var * ?float32[pa...'>,\n",
       " 'quark_phi': <Array [[-2.98, -2.57], ... [2.6, -2.1]] type='651 * option[var * ?float32[param...'>,\n",
       " 'quark_mass': <Array [[0, 0], [0, 0], ... [0, 0], [0, 0]] type='651 * option[var * ?float32[pa...'>}"
      ]
     },
     "execution_count": 23,
     "metadata": {},
     "output_type": "execute_result"
    }
   ],
   "source": [
    "genVars"
   ]
  },
  {
   "cell_type": "code",
   "execution_count": 24,
   "id": "081eacdd",
   "metadata": {},
   "outputs": [
    {
     "data": {
      "text/plain": [
       "<Array [1, 1, 1, 1, 3, 2, ... 2, 2, 1, 2, 2, 1] type='651 * ?int64'>"
      ]
     },
     "execution_count": 24,
     "metadata": {},
     "output_type": "execute_result"
    }
   ],
   "source": [
    "genVars[\"fj_nquarks\"]"
   ]
  },
  {
   "cell_type": "code",
   "execution_count": null,
   "id": "27f648b9",
   "metadata": {},
   "outputs": [],
   "source": []
  },
  {
   "cell_type": "code",
   "execution_count": null,
   "id": "d9a133f9",
   "metadata": {},
   "outputs": [],
   "source": []
  },
  {
   "cell_type": "code",
   "execution_count": null,
   "id": "d2c20d64",
   "metadata": {},
   "outputs": [],
   "source": []
  },
  {
   "cell_type": "code",
   "execution_count": null,
   "id": "812d23c6",
   "metadata": {},
   "outputs": [],
   "source": []
  },
  {
   "cell_type": "code",
   "execution_count": null,
   "id": "28589d75",
   "metadata": {},
   "outputs": [],
   "source": []
  },
  {
   "cell_type": "code",
   "execution_count": null,
   "id": "fe7fcf78",
   "metadata": {},
   "outputs": [],
   "source": []
  },
  {
   "cell_type": "code",
   "execution_count": null,
   "id": "8f3f1bc5",
   "metadata": {},
   "outputs": [],
   "source": []
  },
  {
   "cell_type": "code",
   "execution_count": 12,
   "id": "a89ae39f",
   "metadata": {},
   "outputs": [
    {
     "name": "stdout",
     "output_type": "stream",
     "text": [
      "number of events per file is 15000\n"
     ]
    },
    {
     "data": {
      "text/plain": [
       "<NanoEventsArray [<event 1:100:99001>, ... ] type='15000 * event'>"
      ]
     },
     "execution_count": 12,
     "metadata": {},
     "output_type": "execute_result"
    }
   ],
   "source": [
    "# load a hww root file into coffea-friendly NanoAOD structure\n",
    "import uproot\n",
    "f = uproot.open(f\"../rootfiles/HWW/file1.root\")\n",
    "\n",
    "num = f['Events'].num_entries   ### checks number of events per file \n",
    "print(f'number of events per file is {num}')\n",
    "\n",
    "events = nanoevents.NanoEventsFactory.from_root(f, \"Events\").events()\n",
    "events"
   ]
  },
  {
   "cell_type": "code",
   "execution_count": 18,
   "id": "bea7bff9",
   "metadata": {
    "scrolled": true
   },
   "outputs": [
    {
     "name": "stdout",
     "output_type": "stream",
     "text": [
      "fixedGridRhoFastjetAll\n",
      "TkMET\n",
      "L1simulation\n",
      "LHEReweightingWeight\n",
      "Tau\n",
      "FatJetAK15SubJet\n",
      "IsoTrack\n",
      "fixedGridRhoFastjetCentralChargedPileUp\n",
      "FatJetPFCands\n",
      "DeepMETResponseTune\n",
      "Pileup\n",
      "luminosityBlock\n",
      "LHEPdfWeight\n",
      "SoftActivityJetHT2\n",
      "SoftActivityJetHT5\n",
      "SoftActivityJetHT\n",
      "SV\n",
      "SoftActivityJetNjets2\n",
      "SoftActivityJetNjets5\n",
      "Jet\n",
      "fixedGridRhoFastjetCentralNeutral\n",
      "FatJetAK15PFCands\n",
      "SoftDropGenJetAK8\n",
      "PFCands\n",
      "OtherPV\n",
      "PV\n",
      "TrigObj\n",
      "HLT\n",
      "Generator\n",
      "GenVisTau\n",
      "RawMET\n",
      "GenJet\n",
      "fixedGridRhoFastjetCentral\n",
      "LHE\n",
      "genWeight\n",
      "SoftActivityJet\n",
      "GenSubJetAK15\n",
      "genTtbarId\n",
      "DeepMETResolutionTune\n",
      "GenJetAK8\n",
      "boostedTau\n",
      "GenVtx\n",
      "Photon\n",
      "Flag\n",
      "FatJet\n",
      "L1PreFiringWeight\n",
      "run\n",
      "PuppiMET\n",
      "GenDressedLepton\n",
      "SubGenJetAK8\n",
      "HLTriggerFirstPath\n",
      "HLTriggerFinalPath\n",
      "LowPtElectron\n",
      "GenJetAK15\n",
      "CaloMET\n",
      "FatJetSVs\n",
      "CorrT1METJet\n",
      "FsrPhoton\n",
      "SubJet\n",
      "RawPuppiMET\n",
      "LHEWeight\n",
      "GenIsolatedPhoton\n",
      "Muon\n",
      "MET\n",
      "PSWeight\n",
      "GenPart\n",
      "SoftDropGenJetAK15\n",
      "ChsMET\n",
      "LHEScaleWeight\n",
      "FatJetAK15\n",
      "L1\n",
      "btagWeight\n",
      "fixedGridRhoFastjetCentralCalo\n",
      "event\n",
      "LHEPart\n",
      "SoftActivityJetNjets10\n",
      "L1Reco\n",
      "SoftActivityJetHT10\n",
      "JetSVsAK15\n",
      "Electron\n",
      "GenMET\n"
     ]
    }
   ],
   "source": [
    "for key in events.fields:\n",
    "    print(key)"
   ]
  },
  {
   "cell_type": "code",
   "execution_count": 20,
   "id": "ed5ba96f",
   "metadata": {},
   "outputs": [],
   "source": [
    "def get_pid_mask(\n",
    "    genparts: GenParticleArray,\n",
    "    pdgids: Union[int, list],\n",
    "    ax: int = 2,\n",
    "    byall: bool = True,\n",
    ") -> ak.Array:\n",
    "    \"\"\"\n",
    "    Get selection mask for gen particles matching any of the pdgIds in ``pdgids``.\n",
    "    If ``byall``, checks all particles along axis ``ax`` match.\n",
    "    \"\"\"\n",
    "    gen_pdgids = abs(genparts.pdgId)\n",
    "\n",
    "    if type(pdgids) is list:\n",
    "        mask = gen_pdgids == pdgids[0]\n",
    "        for pdgid in pdgids[1:]:\n",
    "            mask = mask | (gen_pdgids == pdgid)\n",
    "    else:\n",
    "        mask = gen_pdgids == pdgids\n",
    "\n",
    "    return ak.all(mask, axis=ax) if byall else mask\n",
    "\n",
    "\n",
    "def to_label(array: ak.Array) -> ak.Array:\n",
    "    return ak.values_astype(array, np.int32)\n",
    "\n",
    "GEN_FLAGS = [\"fromHardProcess\", \"isLastCopy\"]\n",
    "\n",
    "\n",
    "genparts = events.GenPart\n",
    "HIGGS_PDGID = 25\n",
    "\n",
    "higgs = genparts[get_pid_mask(genparts, HIGGS_PDGID, byall=False) * genparts.hasFlags(GEN_FLAGS)]"
   ]
  },
  {
   "cell_type": "code",
   "execution_count": 21,
   "id": "746856f9",
   "metadata": {},
   "outputs": [
    {
     "data": {
      "text/plain": [
       "<GenParticleArray [[GenParticle], ... [GenParticle]] type='15000 * var * genPart...'>"
      ]
     },
     "execution_count": 21,
     "metadata": {},
     "output_type": "execute_result"
    }
   ],
   "source": [
    "higgs"
   ]
  },
  {
   "cell_type": "code",
   "execution_count": 96,
   "id": "8c737ba8",
   "metadata": {},
   "outputs": [],
   "source": [
    "d_PDGID = 1\n",
    "c_PDGID = 4\n",
    "b_PDGID = 5\n",
    "g_PDGID = 21\n",
    "TOP_PDGID = 6\n",
    "\n",
    "ELE_PDGID = 11\n",
    "vELE_PDGID = 12\n",
    "MU_PDGID = 13\n",
    "vMU_PDGID = 14\n",
    "TAU_PDGID = 15\n",
    "vTAU_PDGID = 16\n",
    "\n",
    "GAMMA_PDGID = 22\n",
    "Z_PDGID = 23\n",
    "W_PDGID = 24\n",
    "HIGGS_PDGID = 25\n",
    "\n",
    "PI_PDGID = 211\n",
    "PO_PDGID = 221\n",
    "PP_PDGID = 111\n",
    "\n",
    "GEN_FLAGS = [\"fromHardProcess\", \"isLastCopy\"]\n",
    "\n",
    "FILL_NONE_VALUE = -99999\n",
    "\n",
    "JET_DR = 0.8\n",
    "\n",
    "\n",
    "def match_H(genparts: GenParticleArray, fatjet: FatJetArray):\n",
    "    \"\"\"Gen matching for Higgs samples.\n",
    "\n",
    "    An edited version of the function that returns the genquark info that is useful for LP method.\n",
    "    \"\"\"\n",
    "\n",
    "    higgs = ak.firsts(genparts[get_pid_mask(genparts, HIGGS_PDGID, byall=False) * genparts.hasFlags(GEN_FLAGS)])\n",
    "    matched_higgs_mask = fatjet.delta_r(higgs) < 0.8\n",
    "\n",
    "    children_mask = get_pid_mask(higgs.children, [W_PDGID], byall=False)\n",
    "    is_hww = ak.any(children_mask, axis=1)\n",
    "\n",
    "    # order by mass, select lower mass child as V* and higher as V\n",
    "    higgs_children = higgs.children[children_mask]\n",
    "    children_mass = higgs_children.mass\n",
    "    v_star = ak.firsts(higgs_children[ak.argmin(children_mass, axis=1, keepdims=True)])\n",
    "    v = ak.firsts(higgs_children[ak.argmax(children_mass, axis=1, keepdims=True)])\n",
    "\n",
    "    # VV daughters\n",
    "    # requires coffea-0.7.21\n",
    "    all_daus = higgs_children.distinctChildrenDeep\n",
    "    all_daus_flat = ak.flatten(all_daus, axis=2)  # flattents the daughters of the two Ws\n",
    "    all_daus_flat_pdgId = abs(all_daus_flat.pdgId)\n",
    "\n",
    "    # the following tells you about the decay\n",
    "    num_quarks = ak.sum(all_daus_flat_pdgId <= b_PDGID, axis=1)\n",
    "    num_leptons = ak.sum(\n",
    "        (all_daus_flat_pdgId == ELE_PDGID) | (all_daus_flat_pdgId == MU_PDGID) | (all_daus_flat_pdgId == TAU_PDGID),\n",
    "        axis=1,\n",
    "    )\n",
    "    num_electrons = ak.sum(all_daus_flat_pdgId == ELE_PDGID, axis=1)\n",
    "    num_muons = ak.sum(all_daus_flat_pdgId == MU_PDGID, axis=1)\n",
    "    num_taus = ak.sum(all_daus_flat_pdgId == TAU_PDGID, axis=1)\n",
    "\n",
    "    # the following tells you about the matching\n",
    "    # prongs except neutrino\n",
    "    neutrinos = (\n",
    "        (all_daus_flat_pdgId == vELE_PDGID) | (all_daus_flat_pdgId == vMU_PDGID) | (all_daus_flat_pdgId == vTAU_PDGID)\n",
    "    )\n",
    "\n",
    "    leptons = (all_daus_flat_pdgId == ELE_PDGID) | (all_daus_flat_pdgId == MU_PDGID) | (all_daus_flat_pdgId == TAU_PDGID)\n",
    "\n",
    "    # num_m: number of matched leptons\n",
    "    # number of quarks excludes neutrino and leptons\n",
    "    num_m_quarks = ak.sum(fatjet.delta_r(all_daus_flat[~neutrinos & ~leptons]) < JET_DR, axis=1)\n",
    "    num_m_leptons = ak.sum(fatjet.delta_r(all_daus_flat[leptons]) < JET_DR, axis=1)\n",
    "    num_m_cquarks = ak.sum(fatjet.delta_r(all_daus_flat[all_daus_flat.pdgId == b_PDGID]) < JET_DR, axis=1)\n",
    "\n",
    "    lep_daughters = all_daus_flat[leptons]\n",
    "    # parent = ak.firsts(lep_daughters[fatjet.delta_r(lep_daughters) < JET_DR].distinctParent)\n",
    "    parent = ak.firsts(lep_daughters.distinctParent)\n",
    "    \n",
    "    iswlepton = parent.mass == v.mass\n",
    "    iswstarlepton = parent.mass == v_star.mass\n",
    "    \n",
    "    genVars = {\"fj_genH_pt\": ak.fill_none(higgs.pt, FILL_NONE_VALUE)}\n",
    "\n",
    "    genVVars = {\n",
    "        \"fj_genH_jet\": fatjet.delta_r(higgs),\n",
    "        \"fj_genV_dR\": fatjet.delta_r(v),\n",
    "        \"fj_genVstar\": fatjet.delta_r(v_star),\n",
    "        \"genV_genVstar_dR\": v.delta_r(v_star),\n",
    "    }\n",
    "\n",
    "    genHVVVars = {\n",
    "        \"fj_isHVV\": is_hww,\n",
    "        \"fj_isHVV_Matched\": matched_higgs_mask,\n",
    "        \"fj_isHVV_4q\": to_label((num_quarks == 4) & (num_leptons == 0)),\n",
    "        \"fj_isHVV_elenuqq\": to_label((num_electrons == 1) & (num_quarks == 2) & (num_leptons == 1)),\n",
    "        \"fj_isHVV_munuqq\": to_label((num_muons == 1) & (num_quarks == 2) & (num_leptons == 1)),\n",
    "        \"fj_isHVV_taunuqq\": to_label((num_taus == 1) & (num_quarks == 2) & (num_leptons == 1)),\n",
    "        \"fj_isHVV_Vlepton\": iswlepton,\n",
    "        \"fj_isHVV_Vstarlepton\": iswstarlepton,\n",
    "        \"fj_genRes_mass\": higgs.mass,\n",
    "        \"fj_nquarks\": num_m_quarks,\n",
    "        \"fj_ncquarks\": num_m_cquarks,\n",
    "        \"fj_lepinprongs\": num_m_leptons,\n",
    "        \"lep_daughters\": leptons,\n",
    "        \"all_daus\": all_daus,\n",
    "    }\n",
    "\n",
    "    lepVars = {\n",
    "        \"lepton_pt\": all_daus_flat[leptons].pt,\n",
    "        \"lepton_eta\": all_daus_flat[leptons].eta,\n",
    "        \"lepton_phi\": all_daus_flat[leptons].phi,\n",
    "        \"lepton_mass\": all_daus_flat[leptons].mass,\n",
    "    }\n",
    "\n",
    "    quarkVars = {\n",
    "        \"quark_pt\": all_daus_flat[all_daus_flat_pdgId <= b_PDGID].pt,\n",
    "        \"quark_eta\": all_daus_flat[all_daus_flat_pdgId <= b_PDGID].eta,\n",
    "        \"quark_phi\": all_daus_flat[all_daus_flat_pdgId <= b_PDGID].phi,\n",
    "        \"quark_mass\": all_daus_flat[all_daus_flat_pdgId <= b_PDGID].mass,\n",
    "    }\n",
    "\n",
    "    genVars = {**genVars, **genVVars, **genHVVVars, **lepVars, **quarkVars}\n",
    "\n",
    "    return genVars"
   ]
  },
  {
   "cell_type": "code",
   "execution_count": 175,
   "id": "155f3b8a",
   "metadata": {},
   "outputs": [],
   "source": [
    "def build_p4(cand):\n",
    "    return ak.zip(\n",
    "        {\n",
    "            \"pt\": cand.pt,\n",
    "            \"eta\": cand.eta,\n",
    "            \"phi\": cand.phi,\n",
    "            \"mass\": cand.mass,\n",
    "            \"charge\": cand.charge,\n",
    "        },\n",
    "        with_name=\"PtEtaPhiMCandidate\",\n",
    "        behavior=candidate.behavior,\n",
    "    )\n",
    "\n",
    "# lepton\n",
    "electrons = events[\"Electron\"][events[\"Electron\"].pt > 40]\n",
    "muons = events[\"Muon\"][events[\"Muon\"].pt > 30]\n",
    "leptons = ak.concatenate([electrons, muons], axis=1)\n",
    "leptons = leptons[ak.argsort(leptons.pt, ascending=False)]\n",
    "candidatelep = ak.firsts(leptons)\n",
    "candidatelep_p4 = build_p4(candidatelep)\n",
    "\n",
    "# fatjet\n",
    "fatjets = events[\"FatJet\"]\n",
    "good_fatjets = (fatjets.pt > 200) & (abs(fatjets.eta) < 2.5) & fatjets.isTight\n",
    "\n",
    "good_fatjets = fatjets[good_fatjets]  # select good fatjets\n",
    "good_fatjets = good_fatjets[ak.argsort(good_fatjets.pt, ascending=False)]  # sort them by pt\n",
    "\n",
    "# candidatefj\n",
    "fj_idx_lep = ak.argmin(good_fatjets.delta_r(candidatelep_p4), axis=1, keepdims=True)\n",
    "candidatefj = ak.firsts(good_fatjets[fj_idx_lep])\n",
    "\n",
    "genVars = match_H(events.GenPart, candidatefj)"
   ]
  },
  {
   "cell_type": "code",
   "execution_count": 164,
   "id": "499766c8",
   "metadata": {},
   "outputs": [
    {
     "data": {
      "text/plain": [
       "<FatJetArray [FatJet, None, None, ... None, FatJet] type='15000 * ?fatJet'>"
      ]
     },
     "execution_count": 164,
     "metadata": {},
     "output_type": "execute_result"
    }
   ],
   "source": [
    "candidatefj"
   ]
  },
  {
   "cell_type": "code",
   "execution_count": 173,
   "id": "175ae8fc",
   "metadata": {},
   "outputs": [
    {
     "data": {
      "text/plain": [
       "<Array [True, False, False, ... False, True] type='15000 * bool'>"
      ]
     },
     "execution_count": 173,
     "metadata": {},
     "output_type": "execute_result"
    }
   ],
   "source": [
    "~ak.is_none(candidatefj)"
   ]
  },
  {
   "cell_type": "code",
   "execution_count": 174,
   "id": "8559071d",
   "metadata": {},
   "outputs": [
    {
     "data": {
      "text/plain": [
       "<Array [True, True, True, ... True, True, True] type='15000 * bool'>"
      ]
     },
     "execution_count": 174,
     "metadata": {},
     "output_type": "execute_result"
    }
   ],
   "source": [
    "~ak.is_none(candidatelep_p4)"
   ]
  },
  {
   "cell_type": "code",
   "execution_count": null,
   "id": "78ba7437",
   "metadata": {},
   "outputs": [],
   "source": []
  },
  {
   "cell_type": "code",
   "execution_count": null,
   "id": "0806e1c4",
   "metadata": {},
   "outputs": [],
   "source": []
  },
  {
   "cell_type": "code",
   "execution_count": 98,
   "id": "b8fbc58c",
   "metadata": {},
   "outputs": [
    {
     "data": {
      "text/plain": [
       "{'fj_genH_pt': <Array [283, 249, 240, 273, ... 270, 244, 347] type='15000 * float64'>,\n",
       " 'fj_genH_jet': <Array [3.33, None, None, ... None, None, 2.71] type='15000 * ?float32'>,\n",
       " 'fj_genV_dR': <Array [3.35, None, None, ... None, None, 2.69] type='15000 * ?float32'>,\n",
       " 'fj_genVstar': <Array [3.32, None, None, ... None, None, 2.73] type='15000 * ?float32'>,\n",
       " 'genV_genVstar_dR': <Array [0.205, 0.668, 0.106, ... 1.13, 0.0656] type='15000 * ?float32'>,\n",
       " 'fj_isHVV': <Array [True, True, True, ... True, True, True] type='15000 * ?bool'>,\n",
       " 'fj_isHVV_Matched': <Array [False, None, None, ... None, False] type='15000 * ?bool'>,\n",
       " 'fj_isHVV_4q': <Array [0, 0, 1, 0, 1, 0, ... 1, 1, 0, 1, 1, 0] type='15000 * ?int32'>,\n",
       " 'fj_isHVV_elenuqq': <Array [1, 0, 0, 0, 0, 1, ... 0, 0, 0, 0, 0, 0] type='15000 * ?int32'>,\n",
       " 'fj_isHVV_munuqq': <Array [0, 0, 0, 1, 0, 0, ... 0, 0, 1, 0, 0, 0] type='15000 * ?int32'>,\n",
       " 'fj_isHVV_taunuqq': <Array [0, 1, 0, 0, 0, 0, ... 0, 0, 0, 0, 0, 1] type='15000 * ?int32'>,\n",
       " 'fj_isHVV_Vlepton': <Array [False, True, None, ... None, True] type='15000 * ?bool'>,\n",
       " 'fj_isHVV_Vstarlepton': <Array [True, False, None, ... None, False] type='15000 * ?bool'>,\n",
       " 'fj_genRes_mass': <Array [125, 125, 125, 125, ... 125, 125, 125] type='15000 * ?float32[parameters...'>,\n",
       " 'fj_nquarks': <Array [0, None, None, None, ... None, None, 0] type='15000 * ?int64'>,\n",
       " 'fj_ncquarks': <Array [0, None, None, None, ... None, None, 0] type='15000 * ?int64'>,\n",
       " 'fj_lepinprongs': <Array [0, None, None, None, ... None, None, 0] type='15000 * ?int64'>,\n",
       " 'lep_daughters': <Array [[False, False, True, ... False, False]] type='15000 * option[var * ?bool]'>,\n",
       " 'all_daus': <GenParticleArray [[[GenParticle, ... GenParticle]]] type='15000 * option[var * ...'>,\n",
       " 'lepton_pt': <Array [[40.5], [181], [], ... [], [], [13.4]] type='15000 * option[var * ?float...'>,\n",
       " 'lepton_eta': <Array [[0.303], [-1.15], ... [], [-0.43]] type='15000 * option[var * ?float32[p...'>,\n",
       " 'lepton_phi': <Array [[-1.3], [0.471], ... [], [-2.95]] type='15000 * option[var * ?float32[pa...'>,\n",
       " 'lepton_mass': <Array [[0], [0], [], [0, ... [0], [], [], [0]] type='15000 * option[var * ?floa...'>,\n",
       " 'quark_pt': <Array [[93, 43.6], [33.5, ... [42.2, 79.8]] type='15000 * option[var * ?float32...'>,\n",
       " 'quark_eta': <Array [[0.488, -0.497], ... [0.488, 0.992]] type='15000 * option[var * ?float32...'>,\n",
       " 'quark_phi': <Array [[-1.11, -1.83], ... [2.55, -3.13]] type='15000 * option[var * ?float32[p...'>,\n",
       " 'quark_mass': <Array [[0, 0], [0, 0], ... 0, 0, 0], [0, 0]] type='15000 * option[var * ?float3...'>}"
      ]
     },
     "execution_count": 98,
     "metadata": {},
     "output_type": "execute_result"
    }
   ],
   "source": [
    "genVars"
   ]
  },
  {
   "cell_type": "code",
   "execution_count": 99,
   "id": "ad0ee167",
   "metadata": {
    "scrolled": true
   },
   "outputs": [
    {
     "data": {
      "text/plain": [
       "<Array [False, None, None, ... None, False] type='15000 * ?bool'>"
      ]
     },
     "execution_count": 99,
     "metadata": {},
     "output_type": "execute_result"
    }
   ],
   "source": [
    "msk = genVars[\"fj_isHVV_Matched\"]\n",
    "msk"
   ]
  },
  {
   "cell_type": "code",
   "execution_count": 100,
   "id": "97ba2e26",
   "metadata": {},
   "outputs": [
    {
     "data": {
      "text/plain": [
       "<Array [1, 3, 4, 2, 1, 2, ... 2, 1, 1, 1, 1, 1] type='2773 * ?int64'>"
      ]
     },
     "execution_count": 100,
     "metadata": {},
     "output_type": "execute_result"
    }
   ],
   "source": [
    "a = genVars[\"fj_nquarks\"][msk]\n",
    "a[~ak.is_none(a)]"
   ]
  },
  {
   "cell_type": "code",
   "execution_count": 85,
   "id": "bcb1b0a0",
   "metadata": {},
   "outputs": [],
   "source": [
    "genparts = events.GenPart\n",
    "fatjet = candidatefj"
   ]
  },
  {
   "cell_type": "code",
   "execution_count": 86,
   "id": "f79d6394",
   "metadata": {},
   "outputs": [
    {
     "name": "stdout",
     "output_type": "stream",
     "text": [
      "15000 * ?genParticle\n"
     ]
    }
   ],
   "source": [
    "higgs = ak.firsts(genparts[get_pid_mask(genparts, HIGGS_PDGID, byall=False) * genparts.hasFlags(GEN_FLAGS)])\n",
    "print(higgs.type)"
   ]
  },
  {
   "cell_type": "code",
   "execution_count": 87,
   "id": "d5a635b1",
   "metadata": {},
   "outputs": [
    {
     "name": "stdout",
     "output_type": "stream",
     "text": [
      "15000 * ?bool\n"
     ]
    }
   ],
   "source": [
    "matched_higgs_mask = fatjet.delta_r(higgs) < 0.8\n",
    "print(matched_higgs_mask.type)"
   ]
  },
  {
   "cell_type": "code",
   "execution_count": 88,
   "id": "314ea364",
   "metadata": {},
   "outputs": [
    {
     "data": {
      "text/plain": [
       "12036 * ?genParticle"
      ]
     },
     "execution_count": 88,
     "metadata": {},
     "output_type": "execute_result"
    }
   ],
   "source": [
    "matched_higgs = higgs[matched_higgs_mask]\n",
    "matched_higgs.type"
   ]
  },
  {
   "cell_type": "code",
   "execution_count": 89,
   "id": "4f6442af",
   "metadata": {},
   "outputs": [
    {
     "name": "stdout",
     "output_type": "stream",
     "text": [
      "15000 * ?bool\n",
      "15000 * ?genParticle\n"
     ]
    }
   ],
   "source": [
    "children_mask = get_pid_mask(higgs.children, [W_PDGID], byall=False)\n",
    "is_hww = ak.any(children_mask, axis=1)\n",
    "\n",
    "# order by mass, select lower mass child as V* and higher as V\n",
    "children_mass = higgs_children.mass\n",
    "v_star = ak.firsts(higgs_children[ak.argmin(children_mass, axis=1, keepdims=True)])\n",
    "v = ak.firsts(higgs_children[ak.argmax(children_mass, axis=1, keepdims=True)])\n",
    "\n",
    "print(is_hww.type)\n",
    "print(v.type)"
   ]
  },
  {
   "cell_type": "code",
   "execution_count": 158,
   "id": "dcc5c390",
   "metadata": {},
   "outputs": [],
   "source": [
    "# candidatefj is the jet closest to the lepton\n",
    "\n",
    "higgs = ak.firsts(genparts[get_pid_mask(genparts, HIGGS_PDGID, byall=False) * genparts.hasFlags(GEN_FLAGS)])\n",
    "matched_higgs_mask = candidatefj.delta_r(higgs) < 0.8\n",
    "\n",
    "children_mask = get_pid_mask(higgs.children, [W_PDGID], byall=False)\n",
    "higgs_children = higgs.children[children_mask]\n",
    "\n",
    "all_daus = higgs_children.distinctChildrenDeep\n",
    "all_daus_flat = ak.flatten(all_daus, axis=2)  # flattens the daughters of the two Ws\n",
    "all_daus_flat_pdgId = abs(all_daus_flat.pdgId)\n",
    "\n",
    "isquark = all_daus_flat_pdgId <= b_PDGID\n",
    "\n",
    "# number of quarks excludes neutrino and leptons\n",
    "num_quarks = ak.sum(isquark, axis=1)\n",
    "\n",
    "# number of quarks excludes neutrino and leptons that are within 0.8\n",
    "num_m_quarks = ak.sum(candidatefj.delta_r(all_daus_flat[isquark]) < JET_DR, axis=1)"
   ]
  },
  {
   "cell_type": "code",
   "execution_count": 159,
   "id": "82bfc009",
   "metadata": {},
   "outputs": [
    {
     "data": {
      "text/plain": [
       "(array([0, 2, 4]), array([ 287, 1792,  694]))"
      ]
     },
     "execution_count": 159,
     "metadata": {},
     "output_type": "execute_result"
    }
   ],
   "source": [
    "# apply matching (i.e. deltaR(higgs, jet)<0.8)\n",
    "a = num_quarks[matched_higgs_mask]\n",
    "np.unique(a[~ak.is_none(a)], return_counts=True)"
   ]
  },
  {
   "cell_type": "code",
   "execution_count": 160,
   "id": "a91b4c99",
   "metadata": {},
   "outputs": [
    {
     "data": {
      "text/plain": [
       "(array([0, 1, 2, 3, 4]), array([ 313,  870, 1081,  353,  156]))"
      ]
     },
     "execution_count": 160,
     "metadata": {},
     "output_type": "execute_result"
    }
   ],
   "source": [
    "# apply matching (i.e. deltaR(higgs, jet)<0.8)\n",
    "a = num_m_quarks[matched_higgs_mask]\n",
    "np.unique(a[~ak.is_none(a)], return_counts=True)"
   ]
  },
  {
   "cell_type": "code",
   "execution_count": null,
   "id": "7d43d63d",
   "metadata": {},
   "outputs": [],
   "source": []
  },
  {
   "cell_type": "code",
   "execution_count": null,
   "id": "434110b9",
   "metadata": {},
   "outputs": [],
   "source": []
  },
  {
   "cell_type": "code",
   "execution_count": null,
   "id": "cd49ab91",
   "metadata": {},
   "outputs": [],
   "source": []
  },
  {
   "cell_type": "code",
   "execution_count": 2,
   "id": "d3e5b9c5",
   "metadata": {},
   "outputs": [],
   "source": [
    "d_PDGID = 1\n",
    "c_PDGID = 4\n",
    "b_PDGID = 5\n",
    "g_PDGID = 21\n",
    "TOP_PDGID = 6\n",
    "\n",
    "ELE_PDGID = 11\n",
    "vELE_PDGID = 12\n",
    "MU_PDGID = 13\n",
    "vMU_PDGID = 14\n",
    "TAU_PDGID = 15\n",
    "vTAU_PDGID = 16\n",
    "\n",
    "GAMMA_PDGID = 22\n",
    "Z_PDGID = 23\n",
    "W_PDGID = 24\n",
    "HIGGS_PDGID = 25\n",
    "\n",
    "PI_PDGID = 211\n",
    "PO_PDGID = 221\n",
    "PP_PDGID = 111\n",
    "\n",
    "GEN_FLAGS = [\"fromHardProcess\", \"isLastCopy\"]\n",
    "\n",
    "FILL_NONE_VALUE = -99999\n",
    "\n",
    "JET_DR = 0.8\n",
    "\n",
    "\n",
    "btagWPs = {\n",
    "    \"deepJet\": {\n",
    "        \"2016APV\": {\n",
    "            \"L\": 0.0508,\n",
    "            \"M\": 0.2598,\n",
    "            \"T\": 0.6502,\n",
    "        },\n",
    "        \"2016\": {\n",
    "            \"L\": 0.0480,\n",
    "            \"M\": 0.2489,\n",
    "            \"T\": 0.6377,\n",
    "        },\n",
    "        \"2017\": {\n",
    "            \"L\": 0.0532,\n",
    "            \"M\": 0.3040,\n",
    "            \"T\": 0.7476,\n",
    "        },\n",
    "        \"2018\": {\n",
    "            \"L\": 0.0490,\n",
    "            \"M\": 0.2783,\n",
    "            \"T\": 0.7100,\n",
    "        },\n",
    "    },\n",
    "    \"deepCSV\": {\n",
    "        \"2016APV\": {\n",
    "            \"L\": 0.2027,\n",
    "            \"M\": 0.6001,\n",
    "            \"T\": 0.8819,\n",
    "        },\n",
    "        \"2016\": {\n",
    "            \"L\": 0.1918,\n",
    "            \"M\": 0.5847,\n",
    "            \"T\": 0.8767,\n",
    "        },\n",
    "        \"2017\": {\n",
    "            \"L\": 0.1355,\n",
    "            \"M\": 0.4506,\n",
    "            \"T\": 0.7738,\n",
    "        },\n",
    "        \"2018\": {\n",
    "            \"L\": 0.1208,\n",
    "            \"M\": 0.4168,\n",
    "            \"T\": 0.7665,\n",
    "        },\n",
    "    },\n",
    "}"
   ]
  },
  {
   "cell_type": "code",
   "execution_count": 3,
   "id": "72f15795",
   "metadata": {},
   "outputs": [],
   "source": [
    "year = \"2018\""
   ]
  },
  {
   "cell_type": "code",
   "execution_count": 4,
   "id": "1ee0ebfd",
   "metadata": {},
   "outputs": [
    {
     "ename": "NameError",
     "evalue": "name 'events' is not defined",
     "output_type": "error",
     "traceback": [
      "\u001b[0;31m---------------------------------------------------------------------------\u001b[0m",
      "\u001b[0;31mNameError\u001b[0m                                 Traceback (most recent call last)",
      "Cell \u001b[0;32mIn[4], line 14\u001b[0m\n\u001b[1;32m      1\u001b[0m \u001b[38;5;28;01mdef\u001b[39;00m \u001b[38;5;21mbuild_p4\u001b[39m(cand):\n\u001b[1;32m      2\u001b[0m     \u001b[38;5;28;01mreturn\u001b[39;00m ak\u001b[38;5;241m.\u001b[39mzip(\n\u001b[1;32m      3\u001b[0m         {\n\u001b[1;32m      4\u001b[0m             \u001b[38;5;124m\"\u001b[39m\u001b[38;5;124mpt\u001b[39m\u001b[38;5;124m\"\u001b[39m: cand\u001b[38;5;241m.\u001b[39mpt,\n\u001b[0;32m   (...)\u001b[0m\n\u001b[1;32m     11\u001b[0m         behavior\u001b[38;5;241m=\u001b[39mcandidate\u001b[38;5;241m.\u001b[39mbehavior,\n\u001b[1;32m     12\u001b[0m     )\n\u001b[0;32m---> 14\u001b[0m met \u001b[38;5;241m=\u001b[39m \u001b[43mevents\u001b[49m\u001b[38;5;241m.\u001b[39mMET\n\u001b[1;32m     16\u001b[0m \u001b[38;5;66;03m# lepton\u001b[39;00m\n\u001b[1;32m     17\u001b[0m electrons \u001b[38;5;241m=\u001b[39m events[\u001b[38;5;124m\"\u001b[39m\u001b[38;5;124mElectron\u001b[39m\u001b[38;5;124m\"\u001b[39m][events[\u001b[38;5;124m\"\u001b[39m\u001b[38;5;124mElectron\u001b[39m\u001b[38;5;124m\"\u001b[39m]\u001b[38;5;241m.\u001b[39mpt \u001b[38;5;241m>\u001b[39m \u001b[38;5;241m40\u001b[39m]\n",
      "\u001b[0;31mNameError\u001b[0m: name 'events' is not defined"
     ]
    }
   ],
   "source": [
    "\n",
    "        # ak4 jets\n",
    "        ak4_jet_selector_no_btag = (\n",
    "            (events.Jet.pt > 30) & (abs(events.Jet.eta) < 5.0) & events.Jet.isTight & (events.Jet.puId > 0)\n",
    "        )\n",
    "\n",
    "\n",
    "        goodjets = events.Jet[ak4_jet_selector_no_btag]\n",
    "        ht = ak.sum(goodjets.pt, axis=1)\n",
    "\n",
    "        dr_jet_lepfj = goodjets.delta_r(candidatefj)\n",
    "        ak4_outside_ak8 = goodjets[dr_jet_lepfj > 0.8]\n",
    "        NumOtherJets = ak.num(ak4_outside_ak8)\n",
    "\n",
    "        # VBF variables\n",
    "        jet1 = ak4_outside_ak8[:, 0:1]\n",
    "        jet2 = ak4_outside_ak8[:, 1:2]\n",
    "        deta = abs(ak.firsts(jet1).eta - ak.firsts(jet2).eta)\n",
    "        mjj = (ak.firsts(jet1) + ak.firsts(jet2)).mass\n",
    "        jj_pt = (ak.firsts(jet1) + ak.firsts(jet2)).pt\n",
    "\n",
    "        # rec_higgs\n",
    "        candidateNeutrino = ak.zip(\n",
    "            {\n",
    "                \"pt\": met.pt,\n",
    "                \"eta\": candidatelep_p4.eta,\n",
    "                \"phi\": met.phi,\n",
    "                \"mass\": 0,\n",
    "                \"charge\": 0,\n",
    "            },\n",
    "            with_name=\"PtEtaPhiMCandidate\",\n",
    "            behavior=candidate.behavior,\n",
    "        )\n",
    "        rec_W_lnu = candidatelep_p4 + candidateNeutrino\n",
    "        rec_W_qq = candidatefj - candidatelep_p4\n",
    "        rec_higgs = rec_W_qq + rec_W_lnu\n",
    "\n",
    "        # INPUT VARIABLES\n",
    "        # CANDIDATE JET\n",
    "        fj_vars = [\n",
    "                \"eta\",\n",
    "                \"phi\",\n",
    "                \"mass\",\n",
    "                \"pt\",\n",
    "                \"msoftdrop\",\n",
    "                \"lsf3\",\n",
    "            ]\n",
    "        \n",
    "\n",
    "        FatJetVars = {f\"fj_{var}\": ak.fill_none(candidatefj[var], FILL_NONE_VALUE) for var in fj_vars}\n",
    "\n",
    "        # CANDIDATE LEPTON\n",
    "        LepVars = {}\n",
    "        LepVars[\"lep_dR_fj\"] = candidatelep_p4.delta_r(candidatefj).to_numpy().filled(fill_value=0)\n",
    "        LepVars[\"lep_pt\"] = (candidatelep_p4.pt).to_numpy().filled(fill_value=0)\n",
    "        LepVars[\"lep_pt_ratio\"] = (candidatelep_p4.pt / candidatefj.pt).to_numpy().filled(fill_value=0)\n",
    "        LepVars[\"lep_reliso\"] = lep_reliso.to_numpy().filled(fill_value=0)\n",
    "        LepVars[\"lep_miso\"] = lep_miso.to_numpy().filled(fill_value=0)\n",
    "\n",
    "        # MET\n",
    "        METVars = {}\n",
    "        METVars[\"met_pt\"] = met.pt\n",
    "        METVars[\"met_relpt\"] = met.pt / candidatefj.pt\n",
    "        METVars[\"met_fj_dphi\"] = met.delta_phi(candidatefj)\n",
    "        METVars[\"abs_met_fj_dphi\"] = np.abs(met.delta_phi(candidatefj))\n",
    "        METVars[\"mt_lep_met\"] = mt_lep_met.to_numpy().filled(fill_value=0)\n",
    "\n",
    "        # OTHERS\n",
    "\n",
    "        # bjet\n",
    "        Others = {}\n",
    "        Others[\"n_bjets_L\"] = (\n",
    "            ak.sum(ak4_outside_ak8.btagDeepFlavB > btagWPs[\"deepJet\"][year][\"L\"], axis=1)\n",
    "            .to_numpy()\n",
    "            .filled(fill_value=0)\n",
    "        )\n",
    "        Others[\"n_bjets_M\"] = (\n",
    "            ak.sum(ak4_outside_ak8.btagDeepFlavB > btagWPs[\"deepJet\"][year][\"M\"], axis=1)\n",
    "            .to_numpy()\n",
    "            .filled(fill_value=0)\n",
    "        )\n",
    "        Others[\"n_bjets_T\"] = (\n",
    "            ak.sum(ak4_outside_ak8.btagDeepFlavB > btagWPs[\"deepJet\"][year][\"T\"], axis=1)\n",
    "            .to_numpy()\n",
    "            .filled(fill_value=0)\n",
    "        )\n",
    "\n",
    "        # RECONSTRUCTED MASS\n",
    "        Others[\"rec_W_lnu_pt\"] = rec_W_lnu.pt.to_numpy().filled(fill_value=0)\n",
    "        Others[\"rec_W_lnu_m\"] = rec_W_lnu.mass.to_numpy().filled(fill_value=0)\n",
    "        Others[\"rec_W_qq_pt\"] = rec_W_qq.pt.to_numpy().filled(fill_value=0)\n",
    "        Others[\"rec_W_qq_m\"] = rec_W_qq.mass.to_numpy().filled(fill_value=0)\n",
    "        Others[\"rec_higgs_pt\"] = rec_higgs.pt.to_numpy().filled(fill_value=0)\n",
    "        Others[\"rec_higgs_m\"] = rec_higgs.mass.to_numpy().filled(fill_value=0)\n",
    "\n",
    "        # ggF & VBF\n",
    "        Others[\"mjj\"] = mjj.to_numpy().filled(fill_value=0)\n",
    "        Others[\"jj_pt\"] = jj_pt.to_numpy().filled(fill_value=0)\n",
    "        Others[\"deta\"] = deta.to_numpy().filled(fill_value=0)\n",
    "        Others[\"j1_pt\"] = ak.firsts(jet1).pt.to_numpy().filled(fill_value=0)\n",
    "        Others[\"j2_pt\"] = ak.firsts(jet2).pt.to_numpy().filled(fill_value=0)\n",
    "        Others[\"j1_m\"] = ak.firsts(jet1).mass.to_numpy().filled(fill_value=0)\n",
    "        Others[\"j2_m\"] = ak.firsts(jet2).mass.to_numpy().filled(fill_value=0)\n",
    "\n",
    "\n",
    "        # ggF & VBF\n",
    "#         Others[\"ht\"] = ht.to_numpy().filled(fill_value=0)\n",
    "#         Others[\"NumFatjets\"] = NumFatjets.to_numpy().filled(fill_value=0)\n",
    "#         Others[\"NumOtherJets\"] = NumOtherJets.to_numpy().filled(fill_value=0)\n",
    "        Others[\"FirstFatjet_pt\"] = FirstFatjet.pt.to_numpy().filled(fill_value=0)\n",
    "        Others[\"FirstFatjet_m\"] = FirstFatjet.mass.to_numpy().filled(fill_value=0)\n",
    "        Others[\"SecondFatjet_pt\"] = SecondFatjet.pt.to_numpy().filled(fill_value=0)\n",
    "        Others[\"SecondFatjet_m\"] = SecondFatjet.mass.to_numpy().filled(fill_value=0)"
   ]
  },
  {
   "cell_type": "code",
   "execution_count": null,
   "id": "a478d1c8",
   "metadata": {},
   "outputs": [],
   "source": [
    "skimmed_vars = {**FatJetVars, **METVars, **LepVars, **Others}"
   ]
  },
  {
   "cell_type": "code",
   "execution_count": null,
   "id": "1cc2e0f4",
   "metadata": {},
   "outputs": [],
   "source": [
    "def add_selection(\n",
    "    name: str, sel: np.ndarray, selection: PackedSelection, cutflow: dict, isData: bool, signGenWeights: ak.Array\n",
    "):\n",
    "    \"\"\"adds selection to PackedSelection object and the cutflow dictionary\"\"\"\n",
    "    selection.add(name, sel)\n",
    "    cutflow[name] = (\n",
    "        np.sum(selection.all(*selection.names))\n",
    "        if isData\n",
    "        # add up sign of genWeights for MC\n",
    "        else np.sum(signGenWeights[selection.all(*selection.names)])\n",
    "    )\n",
    "\n",
    "\n",
    "def add_selection_no_cutflow(name: str, sel: np.ndarray, selection: PackedSelection):\n",
    "    \"\"\"adds selection to PackedSelection object\"\"\"\n",
    "    selection.add(name, ak.fill_none(sel, False))\n"
   ]
  },
  {
   "cell_type": "code",
   "execution_count": null,
   "id": "d969db17",
   "metadata": {},
   "outputs": [],
   "source": [
    "# apply selections\n",
    "selection = PackedSelection()\n",
    "add_selection_no_cutflow(\"fjselection\", (candidatefj.pt > 250), selection)\n"
   ]
  },
  {
   "cell_type": "code",
   "execution_count": null,
   "id": "3e06a84e",
   "metadata": {},
   "outputs": [],
   "source": [
    "candidatefj.lsf3"
   ]
  },
  {
   "cell_type": "code",
   "execution_count": null,
   "id": "392c6b4f",
   "metadata": {},
   "outputs": [],
   "source": [
    "\n",
    "for (key, value) in skimmed_vars.items():\n",
    "    print(key)\n",
    "    skimmed_vars = {\n",
    "                key: np.squeeze(np.array(value[selection.all(*selection.names)]))\n",
    "            }"
   ]
  },
  {
   "cell_type": "code",
   "execution_count": null,
   "id": "8b91f1bb",
   "metadata": {},
   "outputs": [],
   "source": [
    " mjj.to_numpy().filled(fill_value=0)"
   ]
  },
  {
   "cell_type": "code",
   "execution_count": null,
   "id": "99c5651f",
   "metadata": {},
   "outputs": [],
   "source": [
    "mjj.to_numpy().filled(fill_value=0)"
   ]
  },
  {
   "cell_type": "code",
   "execution_count": null,
   "id": "a080844f",
   "metadata": {},
   "outputs": [],
   "source": [
    " ak.firsts(jet1).pt.to_numpy().filled(fill_value=0)"
   ]
  },
  {
   "cell_type": "code",
   "execution_count": null,
   "id": "49b6ad59",
   "metadata": {},
   "outputs": [],
   "source": [
    "ht"
   ]
  },
  {
   "cell_type": "code",
   "execution_count": null,
   "id": "1325f6c4",
   "metadata": {},
   "outputs": [],
   "source": [
    "ak.firsts(jet1.pt)"
   ]
  },
  {
   "cell_type": "code",
   "execution_count": null,
   "id": "7976ad96",
   "metadata": {},
   "outputs": [],
   "source": []
  },
  {
   "cell_type": "code",
   "execution_count": null,
   "id": "29b08460",
   "metadata": {},
   "outputs": [],
   "source": [
    "def pad_val(\n",
    "    arr: ak.Array,\n",
    "    value: float,\n",
    "    target: int = None,\n",
    "    axis: int = 0,\n",
    "    to_numpy: bool = False,\n",
    "    clip: bool = True,\n",
    "):\n",
    "    \"\"\"\n",
    "    basically: preserves the nested structure of the ak array and replaces None values with -1\n",
    "    pads awkward array up to ``target`` index along axis ``axis`` with value ``value``,\n",
    "    optionally converts to numpy array\n",
    "    \"\"\"\n",
    "    if target:\n",
    "        ret = ak.fill_none(ak.pad_none(arr, target, axis=axis, clip=clip), value, axis=None)\n",
    "    else:\n",
    "        ret = ak.fill_none(arr, value, axis=None)\n",
    "    return ret.to_numpy() if to_numpy else ret\n",
    "\n",
    "def build_p4(cand):\n",
    "    return ak.zip(\n",
    "        {\n",
    "            \"pt\": cand.pt,\n",
    "            \"eta\": cand.eta,\n",
    "            \"phi\": cand.phi,\n",
    "            \"mass\": cand.mass,\n",
    "#             \"charge\": cand.charge,\n",
    "        },\n",
    "        with_name=\"PtEtaPhiMCandidate\",\n",
    "        behavior=candidate.behavior,\n",
    "    )\n",
    "\n",
    "def get_pid_mask(\n",
    "    genparts: GenParticleArray,\n",
    "    pdgids: Union[int, list],\n",
    "    ax: int = 2,\n",
    "    byall: bool = True,\n",
    ") -> ak.Array:\n",
    "    \"\"\"\n",
    "    Get selection mask for gen particles matching any of the pdgIds in ``pdgids``.\n",
    "    If ``byall``, checks all particles along axis ``ax`` match.\n",
    "    \"\"\"\n",
    "    gen_pdgids = abs(genparts.pdgId)\n",
    "\n",
    "    if type(pdgids) == list:\n",
    "        mask = gen_pdgids == pdgids[0]\n",
    "        for pdgid in pdgids[1:]:\n",
    "            mask = mask | (gen_pdgids == pdgid)\n",
    "    else:\n",
    "        mask = gen_pdgids == pdgids\n",
    "\n",
    "    return ak.all(mask, axis=ax) if byall else mask"
   ]
  },
  {
   "cell_type": "code",
   "execution_count": 6,
   "id": "7168df2e",
   "metadata": {},
   "outputs": [
    {
     "name": "stdout",
     "output_type": "stream",
     "text": [
      "Feb7_build_tagger_inputs.ipynb         gen_matching_deep.ipynb\r\n",
      "Feb7_matching_functions.ipynb          ggF_exploration.ipynb\r\n",
      "Jul21_btag.ipynb                       ggh.root\r\n",
      "Jul21_btagSF.ipynb                     hists_plots-tagger.ipynb\r\n",
      "Jul21_rhalphalib.ipynb                 hists_plots.ipynb\r\n",
      "July6_VBF_exploration.ipynb            hists_plots.ipynb.invalid\r\n",
      "July6_hists_plots_zll.ipynb            hists_plots_sculpting.ipynb\r\n",
      "July6_regressed_mass.ipynb             \u001b[34mlol\u001b[m\u001b[m\r\n",
      "July6_s_over_b.ipynb                   merged_file.root\r\n",
      "July6_weights.ipynb                    mini-isolation.ipynb\r\n",
      "June29_gen_matching.ipynb              \u001b[34mneg_weights\u001b[m\u001b[m\r\n",
      "README.md                              \u001b[34mntuples\u001b[m\u001b[m\r\n",
      "bulkgraviton.root                      \u001b[34mold\u001b[m\u001b[m\r\n",
      "check_signal_tth.ipynb                 \u001b[34moutfiles\u001b[m\u001b[m\r\n",
      "coffea_playground.ipynb                processors.zip\r\n",
      "combine.ipynb                          rhalphalib_hww.ipynb\r\n",
      "combine_sig.ipynb                      roc_curves.ipynb\r\n",
      "create_datacard.py                     run_blinded.sh\r\n",
      "cutflows.ipynb                         tagger_finetuning.ipynb\r\n",
      "\u001b[34mefficiencies\u001b[m\u001b[m                           testModel.root\r\n",
      "explore_matching.ipynb                 tony.ipynb\r\n",
      "explore_ttbar_matching.ipynb           trigger_efficiency_plots.ipynb\r\n",
      "fileset_2017_UL_NANO.json              trigger_efficiency_scale_factors.ipynb\r\n",
      "fitDiagnosticsAsimov.root              triton_check.ipynb\r\n",
      "fitDiagnosticsAsimovRate.root          tt_matching_inference.ipynb\r\n",
      "fitDiagnosticsBlinded.root             tt_matching_inference_daughters.ipynb\r\n",
      "fitDiagnosticsTest.root                \u001b[34mttt\u001b[m\u001b[m\r\n",
      "fitDiagnosticsTestMC.root              weights_hists.ipynb\r\n",
      "fitDiagnosticsTestRhalphabet.root      wjetsSF.ipynb\r\n",
      "gen_matching.ipynb                     wjets_matching.ipynb\r\n"
     ]
    }
   ],
   "source": [
    "! ls "
   ]
  },
  {
   "cell_type": "code",
   "execution_count": null,
   "id": "145da278",
   "metadata": {},
   "outputs": [],
   "source": []
  },
  {
   "cell_type": "code",
   "execution_count": null,
   "id": "35b9e87f",
   "metadata": {},
   "outputs": [],
   "source": []
  },
  {
   "cell_type": "code",
   "execution_count": 8,
   "id": "d4e70133",
   "metadata": {},
   "outputs": [],
   "source": [
    "from typing import Dict, Tuple, Union\n",
    "\n",
    "import awkward as ak\n",
    "import numpy as np\n",
    "from coffea.nanoevents.methods.base import NanoEventsArray\n",
    "from coffea.nanoevents.methods.nanoaod import FatJetArray, GenParticleArray\n",
    "\n",
    "d_PDGID = 1\n",
    "c_PDGID = 4\n",
    "b_PDGID = 5\n",
    "g_PDGID = 21\n",
    "TOP_PDGID = 6\n",
    "\n",
    "ELE_PDGID = 11\n",
    "vELE_PDGID = 12\n",
    "MU_PDGID = 13\n",
    "vMU_PDGID = 14\n",
    "TAU_PDGID = 15\n",
    "vTAU_PDGID = 16\n",
    "\n",
    "GAMMA_PDGID = 22\n",
    "Z_PDGID = 23\n",
    "W_PDGID = 24\n",
    "HIGGS_PDGID = 25\n",
    "\n",
    "PI_PDGID = 211\n",
    "PO_PDGID = 221\n",
    "PP_PDGID = 111\n",
    "\n",
    "GEN_FLAGS = [\"fromHardProcess\", \"isLastCopy\"]\n",
    "\n",
    "FILL_NONE_VALUE = -99999\n",
    "\n",
    "JET_DR = 0.8\n",
    "\n",
    "\n",
    "def get_pid_mask(genparts: GenParticleArray, pdgids: Union[int, list], ax: int = 2, byall: bool = True) -> ak.Array:\n",
    "    \"\"\"\n",
    "    Get selection mask for gen particles matching any of the pdgIds in ``pdgids``.\n",
    "    If ``byall``, checks all particles along axis ``ax`` match.\n",
    "    \"\"\"\n",
    "    gen_pdgids = abs(genparts.pdgId)\n",
    "\n",
    "    if type(pdgids) is list:\n",
    "        mask = gen_pdgids == pdgids[0]\n",
    "        for pdgid in pdgids[1:]:\n",
    "            mask = mask | (gen_pdgids == pdgid)\n",
    "    else:\n",
    "        mask = gen_pdgids == pdgids\n",
    "\n",
    "    return ak.all(mask, axis=ax) if byall else mask\n",
    "\n",
    "\n",
    "def to_label(array: ak.Array) -> ak.Array:\n",
    "    return ak.values_astype(array, np.int32)\n",
    "\n",
    "\n",
    "def match_H(genparts: GenParticleArray, fatjet: FatJetArray):\n",
    "    \"\"\"Gen matching for Higgs samples\"\"\"\n",
    "    higgs = genparts[get_pid_mask(genparts, HIGGS_PDGID, byall=False) * genparts.hasFlags(GEN_FLAGS)]\n",
    "\n",
    "    # only select events that match an specific decay\n",
    "    # matched_higgs = higgs[ak.argmin(fatjet.delta_r(higgs), axis=1, keepdims=True)][:, 0]\n",
    "    matched_higgs = higgs[ak.argmin(fatjet.delta_r(higgs), axis=1, keepdims=True)]\n",
    "    matched_higgs_mask = ak.any(fatjet.delta_r(matched_higgs) < 0.8, axis=1)\n",
    "\n",
    "    matched_higgs = ak.firsts(matched_higgs)\n",
    "\n",
    "    matched_higgs_children = matched_higgs.children\n",
    "    higgs_children = higgs.children\n",
    "\n",
    "    children_mask = get_pid_mask(matched_higgs_children, [W_PDGID], byall=False)\n",
    "    is_hww = ak.any(children_mask, axis=1)\n",
    "\n",
    "    # order by mass, select lower mass child as V* and higher as V\n",
    "    matched_higgs_children = matched_higgs_children[children_mask]\n",
    "    children_mass = matched_higgs_children.mass\n",
    "    v_star = ak.firsts(matched_higgs_children[ak.argmin(children_mass, axis=1, keepdims=True)])\n",
    "    v = ak.firsts(matched_higgs_children[ak.argmax(children_mass, axis=1, keepdims=True)])\n",
    "\n",
    "    # VV daughters\n",
    "    # requires coffea-0.7.21\n",
    "    all_daus = higgs_children.distinctChildrenDeep\n",
    "    all_daus = ak.flatten(all_daus, axis=2)\n",
    "    all_daus_flat = ak.flatten(all_daus, axis=2)\n",
    "    all_daus_flat_pdgId = abs(all_daus_flat.pdgId)\n",
    "\n",
    "    # the following tells you about the decay\n",
    "    num_quarks = ak.sum(all_daus_flat_pdgId <= b_PDGID, axis=1)\n",
    "    num_leptons = ak.sum(\n",
    "        (all_daus_flat_pdgId == ELE_PDGID) | (all_daus_flat_pdgId == MU_PDGID) | (all_daus_flat_pdgId == TAU_PDGID),\n",
    "        axis=1,\n",
    "    )\n",
    "    num_electrons = ak.sum(all_daus_flat_pdgId == ELE_PDGID, axis=1)\n",
    "    num_muons = ak.sum(all_daus_flat_pdgId == MU_PDGID, axis=1)\n",
    "    num_taus = ak.sum(all_daus_flat_pdgId == TAU_PDGID, axis=1)\n",
    "\n",
    "    # the following tells you about the matching\n",
    "    # prongs except neutrino\n",
    "    neutrinos = (\n",
    "        (all_daus_flat_pdgId == vELE_PDGID) | (all_daus_flat_pdgId == vMU_PDGID) | (all_daus_flat_pdgId == vTAU_PDGID)\n",
    "    )\n",
    "    leptons = (all_daus_flat_pdgId == ELE_PDGID) | (all_daus_flat_pdgId == MU_PDGID) | (all_daus_flat_pdgId == TAU_PDGID)\n",
    "\n",
    "    # num_m: number of matched leptons\n",
    "    # number of quarks excludes neutrino and leptons\n",
    "    num_m_quarks = ak.sum(fatjet.delta_r(all_daus_flat[~neutrinos & ~leptons]) < JET_DR, axis=1)\n",
    "    num_m_leptons = ak.sum(fatjet.delta_r(all_daus_flat[leptons]) < JET_DR, axis=1)\n",
    "    num_m_cquarks = ak.sum(fatjet.delta_r(all_daus_flat[all_daus_flat.pdgId == b_PDGID]) < JET_DR, axis=1)\n",
    "\n",
    "    lep_daughters = all_daus_flat[leptons]\n",
    "    # parent = ak.firsts(lep_daughters[fatjet.delta_r(lep_daughters) < JET_DR].distinctParent)\n",
    "    parent = ak.firsts(lep_daughters.distinctParent)\n",
    "    iswlepton = parent.mass == v.mass\n",
    "    iswstarlepton = parent.mass == v_star.mass\n",
    "\n",
    "    genVars = {\"fj_genH_pt\": ak.fill_none(higgs.pt, FILL_NONE_VALUE)}\n",
    "\n",
    "    genVVars = {\n",
    "        \"fj_genH_jet\": fatjet.delta_r(higgs[:, 0]),\n",
    "        \"fj_genV_dR\": fatjet.delta_r(v),\n",
    "        \"fj_genVstar\": fatjet.delta_r(v_star),\n",
    "        \"genV_genVstar_dR\": v.delta_r(v_star),\n",
    "    }\n",
    "\n",
    "    genHVVVars = {\n",
    "        \"fj_isHVV\": is_hww,\n",
    "        \"fj_isHVV_Matched\": matched_higgs_mask,\n",
    "        \"fj_isHVV_4q\": to_label((num_quarks == 4) & (num_leptons == 0)),\n",
    "        \"fj_isHVV_elenuqq\": to_label((num_electrons == 1) & (num_quarks == 2) & (num_leptons == 1)),\n",
    "        \"fj_isHVV_munuqq\": to_label((num_muons == 1) & (num_quarks == 2) & (num_leptons == 1)),\n",
    "        \"fj_isHVV_taunuqq\": to_label((num_taus == 1) & (num_quarks == 2) & (num_leptons == 1)),\n",
    "        \"fj_isHVV_Vlepton\": iswlepton,\n",
    "        \"fj_isHVV_Vstarlepton\": iswstarlepton,\n",
    "        \"fj_genRes_mass\": matched_higgs.mass,\n",
    "        \"fj_nquarks\": num_m_quarks,\n",
    "        \"fj_ncquarks\": num_m_cquarks,\n",
    "        \"fj_lepinprongs\": num_m_leptons,\n",
    "    }\n",
    "\n",
    "    genVars = {**genVars, **genVVars, **genHVVVars}\n",
    "\n",
    "    return genVars, is_hww\n"
   ]
  },
  {
   "cell_type": "code",
   "execution_count": 22,
   "id": "17b5ac1e",
   "metadata": {},
   "outputs": [
    {
     "name": "stdout",
     "output_type": "stream",
     "text": [
      "number of events per file is 1000\n"
     ]
    }
   ],
   "source": [
    "# load a hww root file into coffea-friendly NanoAOD structure\n",
    "import uproot\n",
    "f = uproot.open(f\"../rootfiles/HWW/file1.root\")\n",
    "\n",
    "f = uproot.open(f\"bulkgraviton.root\")\n",
    "\n",
    "num = f['Events'].num_entries   ### checks number of events per file \n",
    "print(f'number of events per file is {num}')\n",
    "\n",
    "events = nanoevents.NanoEventsFactory.from_root(f, \"Events\").events()"
   ]
  },
  {
   "cell_type": "code",
   "execution_count": 23,
   "id": "f72fdad9",
   "metadata": {},
   "outputs": [],
   "source": [
    "        def build_p4(cand):\n",
    "            return ak.zip(\n",
    "                {\n",
    "                    \"pt\": cand.pt,\n",
    "                    \"eta\": cand.eta,\n",
    "                    \"phi\": cand.phi,\n",
    "                    \"mass\": cand.mass,\n",
    "                    \"charge\": cand.charge,\n",
    "                },\n",
    "                with_name=\"PtEtaPhiMCandidate\",\n",
    "                behavior=candidate.behavior,\n",
    "            )\n",
    "\n",
    "        met = events.MET\n",
    "\n",
    "        # lepton\n",
    "        electrons = events[\"Electron\"][events[\"Electron\"].pt > 40]\n",
    "        muons = events[\"Muon\"][events[\"Muon\"].pt > 30]\n",
    "        leptons = ak.concatenate([electrons, muons], axis=1)\n",
    "        leptons = leptons[ak.argsort(leptons.pt, ascending=False)]\n",
    "        candidatelep = ak.firsts(leptons)\n",
    "        candidatelep_p4 = build_p4(candidatelep)\n",
    "\n",
    "        # fatjet\n",
    "        fatjets = events[\"FatJet\"]\n",
    "        good_fatjets = (fatjets.pt > 200) & (abs(fatjets.eta) < 2.5) & fatjets.isTight\n",
    "\n",
    "        good_fatjets = fatjets[good_fatjets]  # select good fatjets\n",
    "        good_fatjets = good_fatjets[ak.argsort(good_fatjets.pt, ascending=False)]  # sort them by pt\n",
    "\n",
    "        NumFatjets = ak.num(good_fatjets)\n",
    "        FirstFatjet = ak.firsts(good_fatjets[:, 0:1])\n",
    "        SecondFatjet = ak.firsts(good_fatjets[:, 1:2])\n",
    "\n",
    "        # candidatefj\n",
    "        fj_idx_lep = ak.argmin(good_fatjets.delta_r(candidatelep_p4), axis=1, keepdims=True)\n",
    "        candidatefj = ak.firsts(good_fatjets[fj_idx_lep])\n"
   ]
  },
  {
   "cell_type": "code",
   "execution_count": 21,
   "id": "534f3855",
   "metadata": {},
   "outputs": [
    {
     "data": {
      "text/plain": [
       "({'fj_genH_pt': <Array [[283], [249], ... [244], [347]] type='15000 * var * float32[parameters={...'>,\n",
       "  'fj_genH_jet': <Array [3.33, None, None, ... None, None, 2.71] type='15000 * ?float32'>,\n",
       "  'fj_genV_dR': <Array [3.35, None, None, ... None, None, 2.69] type='15000 * ?float32'>,\n",
       "  'fj_genVstar': <Array [3.32, None, None, ... None, None, 2.73] type='15000 * ?float32'>,\n",
       "  'genV_genVstar_dR': <Array [0.205, None, None, ... None, 0.0656] type='15000 * ?float32'>,\n",
       "  'fj_isHVV': <Array [True, None, None, ... None, None, True] type='15000 * ?bool'>,\n",
       "  'fj_isHVV_Matched': <Array [False, None, None, ... None, False] type='15000 * ?bool'>,\n",
       "  'fj_isHVV_4q': <Array [0, 0, 1, 0, 1, 0, ... 1, 1, 0, 1, 1, 0] type='15000 * int32'>,\n",
       "  'fj_isHVV_elenuqq': <Array [1, 0, 0, 0, 0, 1, ... 0, 0, 0, 0, 0, 0] type='15000 * int32'>,\n",
       "  'fj_isHVV_munuqq': <Array [0, 0, 0, 1, 0, 0, ... 0, 0, 1, 0, 0, 0] type='15000 * int32'>,\n",
       "  'fj_isHVV_taunuqq': <Array [0, 1, 0, 0, 0, 0, ... 0, 0, 0, 0, 0, 1] type='15000 * int32'>,\n",
       "  'fj_isHVV_Vlepton': <Array [False, None, None, ... None, True] type='15000 * ?bool'>,\n",
       "  'fj_isHVV_Vstarlepton': <Array [True, None, None, ... None, False] type='15000 * ?bool'>,\n",
       "  'fj_genRes_mass': <Array [125, None, None, ... None, None, 125] type='15000 * ?float32[parameters=...'>,\n",
       "  'fj_nquarks': <Array [0, None, None, None, ... None, None, 0] type='15000 * ?int64'>,\n",
       "  'fj_ncquarks': <Array [0, None, None, None, ... None, None, 0] type='15000 * ?int64'>,\n",
       "  'fj_lepinprongs': <Array [0, None, None, None, ... None, None, 0] type='15000 * ?int64'>},\n",
       " <Array [True, None, None, ... None, None, True] type='15000 * ?bool'>)"
      ]
     },
     "execution_count": 21,
     "metadata": {},
     "output_type": "execute_result"
    }
   ],
   "source": [
    "match_H(events.GenPart, candidatefj)"
   ]
  },
  {
   "cell_type": "code",
   "execution_count": 24,
   "id": "bd9ff186",
   "metadata": {},
   "outputs": [
    {
     "data": {
      "text/plain": [
       "({'fj_genH_pt': <Array [[2.45e+03, 2.33e+03, ... 1.82e+03]] type='1000 * var * float32[parameter...'>,\n",
       "  'fj_genH_jet': <Array [0.00877, 0.0215, ... 1.49, 0.00846] type='1000 * ?float32'>,\n",
       "  'fj_genV_dR': <Array [0.0749, 0.0672, ... 1.47, 0.0268] type='1000 * ?float32'>,\n",
       "  'fj_genVstar': <Array [0.0721, 0.0303, ... 1.52, 0.0102] type='1000 * ?float32'>,\n",
       "  'genV_genVstar_dR': <Array [0.147, 0.0909, ... 0.0569, 0.0315] type='1000 * ?float32'>,\n",
       "  'fj_isHVV': <Array [True, True, True, ... True, True, True] type='1000 * ?bool'>,\n",
       "  'fj_isHVV_Matched': <Array [True, True, True, ... False, True] type='1000 * ?bool'>,\n",
       "  'fj_isHVV_4q': <Array [0, 0, 0, 0, 0, 0, ... 0, 0, 0, 0, 0, 0] type='1000 * int32'>,\n",
       "  'fj_isHVV_elenuqq': <Array [0, 0, 0, 0, 0, 0, ... 0, 0, 0, 0, 0, 0] type='1000 * int32'>,\n",
       "  'fj_isHVV_munuqq': <Array [0, 0, 0, 0, 0, 0, ... 0, 0, 0, 0, 0, 0] type='1000 * int32'>,\n",
       "  'fj_isHVV_taunuqq': <Array [0, 0, 0, 0, 0, 0, ... 0, 0, 0, 0, 0, 0] type='1000 * int32'>,\n",
       "  'fj_isHVV_Vlepton': <Array [True, True, False, ... None, None] type='1000 * ?bool'>,\n",
       "  'fj_isHVV_Vstarlepton': <Array [False, False, False, ... None, None] type='1000 * ?bool'>,\n",
       "  'fj_genRes_mass': <Array [240, 240, 240, 240, ... 60, 60, 60] type='1000 * ?float32[parameters={\"_...'>,\n",
       "  'fj_nquarks': <Array [2, 2, 2, 2, 2, 3, ... 4, None, 4, 0, 5] type='1000 * ?int64'>,\n",
       "  'fj_ncquarks': <Array [0, 0, 0, 0, 0, 0, ... 0, None, 0, 0, 0] type='1000 * ?int64'>,\n",
       "  'fj_lepinprongs': <Array [1, 1, 1, 1, 1, 1, ... 0, None, 0, 0, 0] type='1000 * ?int64'>},\n",
       " <Array [True, True, True, ... True, True, True] type='1000 * ?bool'>)"
      ]
     },
     "execution_count": 24,
     "metadata": {},
     "output_type": "execute_result"
    }
   ],
   "source": [
    "match_H(events.GenPart, candidatefj)"
   ]
  },
  {
   "cell_type": "code",
   "execution_count": 98,
   "id": "e7f4604b",
   "metadata": {},
   "outputs": [
    {
     "name": "stdout",
     "output_type": "stream",
     "text": [
      "0-1.parquet\r\n"
     ]
    }
   ],
   "source": [
    "! ls test"
   ]
  },
  {
   "cell_type": "code",
   "execution_count": 112,
   "id": "cc2a4b8d",
   "metadata": {},
   "outputs": [
    {
     "data": {
      "text/plain": [
       "0"
      ]
     },
     "execution_count": 112,
     "metadata": {},
     "output_type": "execute_result"
    }
   ],
   "source": [
    "(df[\"fj_isV\"]!=1).sum()"
   ]
  },
  {
   "cell_type": "code",
   "execution_count": null,
   "id": "b9494a9c",
   "metadata": {},
   "outputs": [],
   "source": []
  },
  {
   "cell_type": "code",
   "execution_count": 106,
   "id": "0bdbfc20",
   "metadata": {
    "scrolled": false
   },
   "outputs": [
    {
     "name": "stdout",
     "output_type": "stream",
     "text": [
      "fj_eta\n",
      "fj_phi\n",
      "fj_mass\n",
      "fj_pt\n",
      "fj_msoftdrop\n",
      "fj_lsf3\n",
      "fj_genjetmass\n",
      "fj_isggF\n",
      "fj_isVBF\n",
      "fj_isJHUVariableWMass\n",
      "fj_isBulkGraviton\n",
      "fj_genRes_pt\n",
      "fj_genRes_eta\n",
      "fj_genRes_phi\n",
      "fj_genRes_mass\n",
      "fj_genH_pt\n",
      "fj_genH_jet\n",
      "fj_genV_dR\n",
      "fj_genVstar\n",
      "genV_genVstar_dR\n",
      "fj_isHVV\n",
      "fj_isHVV_Matched\n",
      "fj_isHVV_4q\n",
      "fj_isHVV_elenuqq\n",
      "fj_isHVV_munuqq\n",
      "fj_isHVV_taunuqq\n",
      "fj_isHVV_Vlepton\n",
      "fj_isHVV_Vstarlepton\n",
      "fj_nquarks\n",
      "fj_lepinprongs\n",
      "fj_isV\n",
      "fj_isV_Matched\n",
      "fj_isV_2q\n",
      "fj_isV_elenu\n",
      "fj_isV_munu\n",
      "fj_isV_taunu\n",
      "fj_nprongs\n",
      "fj_ncquarks\n",
      "fj_isV_lep\n",
      "fj_isTop\n",
      "fj_isTop_Matched\n",
      "fj_Top_numMatched\n",
      "fj_isTop_W_lep_b\n",
      "fj_isTop_W_lep\n",
      "fj_isTop_W_ele_b\n",
      "fj_isTop_W_ele\n",
      "fj_isTop_W_mu_b\n",
      "fj_isTop_W_mu\n",
      "fj_isTop_W_tau_b\n",
      "fj_isTop_W_tau\n",
      "fj_Top_nquarksnob\n",
      "fj_Top_nbquarks\n",
      "fj_Top_ncquarks\n",
      "fj_Top_nleptons\n",
      "fj_Top_nele\n",
      "fj_Top_nmu\n",
      "fj_Top_ntau\n",
      "fj_Top_taudecay\n",
      "fj_isQCD\n",
      "fj_isQCD_Matched\n",
      "fj_isQCDb\n",
      "fj_isQCDbb\n",
      "fj_isQCDc\n",
      "fj_isQCDcc\n",
      "fj_isQCDothers\n",
      "met_pt\n",
      "met_relpt\n",
      "met_fj_dphi\n",
      "abs_met_fj_dphi\n",
      "lep_met_mt\n",
      "lep_fj_dr\n",
      "lep_pt\n",
      "lep_pt_ratio\n",
      "lep_reliso\n",
      "lep_miso\n",
      "n_bjets_L\n",
      "n_bjets_M\n",
      "n_bjets_T\n",
      "rec_W_lnu_pt\n",
      "rec_W_lnu_m\n",
      "rec_W_qq_pt\n",
      "rec_W_qq_m\n",
      "rec_higgs_pt\n",
      "rec_higgs_m\n",
      "mjj\n",
      "jj_pt\n",
      "deta\n",
      "j1_pt\n",
      "j2_pt\n",
      "j1_m\n",
      "j2_m\n",
      "ht\n",
      "NumFatjets\n",
      "NumOtherJets\n",
      "FirstFatjet_pt\n",
      "FirstFatjet_m\n",
      "SecondFatjet_pt\n",
      "SecondFatjet_m\n",
      "fj_ParT_score\n",
      "fj_ParT_mass\n",
      "fj_ParT_hidNeuron000\n",
      "fj_ParT_hidNeuron001\n",
      "fj_ParT_hidNeuron002\n",
      "fj_ParT_hidNeuron003\n",
      "fj_ParT_hidNeuron004\n",
      "fj_ParT_hidNeuron005\n",
      "fj_ParT_hidNeuron006\n",
      "fj_ParT_hidNeuron007\n",
      "fj_ParT_hidNeuron008\n",
      "fj_ParT_hidNeuron009\n",
      "fj_ParT_hidNeuron010\n",
      "fj_ParT_hidNeuron011\n",
      "fj_ParT_hidNeuron012\n",
      "fj_ParT_hidNeuron013\n",
      "fj_ParT_hidNeuron014\n",
      "fj_ParT_hidNeuron015\n",
      "fj_ParT_hidNeuron016\n",
      "fj_ParT_hidNeuron017\n",
      "fj_ParT_hidNeuron018\n",
      "fj_ParT_hidNeuron019\n",
      "fj_ParT_hidNeuron020\n",
      "fj_ParT_hidNeuron021\n",
      "fj_ParT_hidNeuron022\n",
      "fj_ParT_hidNeuron023\n",
      "fj_ParT_hidNeuron024\n",
      "fj_ParT_hidNeuron025\n",
      "fj_ParT_hidNeuron026\n",
      "fj_ParT_hidNeuron027\n",
      "fj_ParT_hidNeuron028\n",
      "fj_ParT_hidNeuron029\n",
      "fj_ParT_hidNeuron030\n",
      "fj_ParT_hidNeuron031\n",
      "fj_ParT_hidNeuron032\n",
      "fj_ParT_hidNeuron033\n",
      "fj_ParT_hidNeuron034\n",
      "fj_ParT_hidNeuron035\n",
      "fj_ParT_hidNeuron036\n",
      "fj_ParT_hidNeuron037\n",
      "fj_ParT_hidNeuron038\n",
      "fj_ParT_hidNeuron039\n",
      "fj_ParT_hidNeuron040\n",
      "fj_ParT_hidNeuron041\n",
      "fj_ParT_hidNeuron042\n",
      "fj_ParT_hidNeuron043\n",
      "fj_ParT_hidNeuron044\n",
      "fj_ParT_hidNeuron045\n",
      "fj_ParT_hidNeuron046\n",
      "fj_ParT_hidNeuron047\n",
      "fj_ParT_hidNeuron048\n",
      "fj_ParT_hidNeuron049\n",
      "fj_ParT_hidNeuron050\n",
      "fj_ParT_hidNeuron051\n",
      "fj_ParT_hidNeuron052\n",
      "fj_ParT_hidNeuron053\n",
      "fj_ParT_hidNeuron054\n",
      "fj_ParT_hidNeuron055\n",
      "fj_ParT_hidNeuron056\n",
      "fj_ParT_hidNeuron057\n",
      "fj_ParT_hidNeuron058\n",
      "fj_ParT_hidNeuron059\n",
      "fj_ParT_hidNeuron060\n",
      "fj_ParT_hidNeuron061\n",
      "fj_ParT_hidNeuron062\n",
      "fj_ParT_hidNeuron063\n",
      "fj_ParT_hidNeuron064\n",
      "fj_ParT_hidNeuron065\n",
      "fj_ParT_hidNeuron066\n",
      "fj_ParT_hidNeuron067\n",
      "fj_ParT_hidNeuron068\n",
      "fj_ParT_hidNeuron069\n",
      "fj_ParT_hidNeuron070\n",
      "fj_ParT_hidNeuron071\n",
      "fj_ParT_hidNeuron072\n",
      "fj_ParT_hidNeuron073\n",
      "fj_ParT_hidNeuron074\n",
      "fj_ParT_hidNeuron075\n",
      "fj_ParT_hidNeuron076\n",
      "fj_ParT_hidNeuron077\n",
      "fj_ParT_hidNeuron078\n",
      "fj_ParT_hidNeuron079\n",
      "fj_ParT_hidNeuron080\n",
      "fj_ParT_hidNeuron081\n",
      "fj_ParT_hidNeuron082\n",
      "fj_ParT_hidNeuron083\n",
      "fj_ParT_hidNeuron084\n",
      "fj_ParT_hidNeuron085\n",
      "fj_ParT_hidNeuron086\n",
      "fj_ParT_hidNeuron087\n",
      "fj_ParT_hidNeuron088\n",
      "fj_ParT_hidNeuron089\n",
      "fj_ParT_hidNeuron090\n",
      "fj_ParT_hidNeuron091\n",
      "fj_ParT_hidNeuron092\n",
      "fj_ParT_hidNeuron093\n",
      "fj_ParT_hidNeuron094\n",
      "fj_ParT_hidNeuron095\n",
      "fj_ParT_hidNeuron096\n",
      "fj_ParT_hidNeuron097\n",
      "fj_ParT_hidNeuron098\n",
      "fj_ParT_hidNeuron099\n",
      "fj_ParT_hidNeuron100\n",
      "fj_ParT_hidNeuron101\n",
      "fj_ParT_hidNeuron102\n",
      "fj_ParT_hidNeuron103\n",
      "fj_ParT_hidNeuron104\n",
      "fj_ParT_hidNeuron105\n",
      "fj_ParT_hidNeuron106\n",
      "fj_ParT_hidNeuron107\n",
      "fj_ParT_hidNeuron108\n",
      "fj_ParT_hidNeuron109\n",
      "fj_ParT_hidNeuron110\n",
      "fj_ParT_hidNeuron111\n",
      "fj_ParT_hidNeuron112\n",
      "fj_ParT_hidNeuron113\n",
      "fj_ParT_hidNeuron114\n",
      "fj_ParT_hidNeuron115\n",
      "fj_ParT_hidNeuron116\n",
      "fj_ParT_hidNeuron117\n",
      "fj_ParT_hidNeuron118\n",
      "fj_ParT_hidNeuron119\n",
      "fj_ParT_hidNeuron120\n",
      "fj_ParT_hidNeuron121\n",
      "fj_ParT_hidNeuron122\n",
      "fj_ParT_hidNeuron123\n",
      "fj_ParT_hidNeuron124\n",
      "fj_ParT_hidNeuron125\n",
      "fj_ParT_hidNeuron126\n",
      "fj_ParT_hidNeuron127\n"
     ]
    }
   ],
   "source": [
    "df = pd.read_parquet(\"test/0-1.parquet\")\n",
    "for key in df:\n",
    "    print(key)"
   ]
  },
  {
   "cell_type": "code",
   "execution_count": null,
   "id": "04fe91f9",
   "metadata": {},
   "outputs": [],
   "source": []
  },
  {
   "cell_type": "code",
   "execution_count": null,
   "id": "9701d0a3",
   "metadata": {},
   "outputs": [],
   "source": []
  },
  {
   "cell_type": "code",
   "execution_count": null,
   "id": "9f8fe08a",
   "metadata": {},
   "outputs": [],
   "source": []
  },
  {
   "cell_type": "code",
   "execution_count": null,
   "id": "8742b002",
   "metadata": {},
   "outputs": [],
   "source": []
  },
  {
   "cell_type": "code",
   "execution_count": 4,
   "id": "4a830193",
   "metadata": {},
   "outputs": [
    {
     "name": "stdout",
     "output_type": "stream",
     "text": [
      "number of events per file is 15000\n"
     ]
    }
   ],
   "source": [
    "# load a hww root file into coffea-friendly NanoAOD structure\n",
    "import uproot\n",
    "f = uproot.open(f\"../rootfiles/HWW/file1.root\")\n",
    "num = f['Events'].num_entries   ### checks number of events per file \n",
    "print(f'number of events per file is {num}')\n",
    "\n",
    "events = nanoevents.NanoEventsFactory.from_root(f, \"Events\").events()"
   ]
  },
  {
   "cell_type": "markdown",
   "id": "a5c659e6",
   "metadata": {},
   "source": [
    "# Get `candidatelep` and `candidatefj`"
   ]
  },
  {
   "cell_type": "code",
   "execution_count": 5,
   "id": "35c6ca04",
   "metadata": {},
   "outputs": [
    {
     "data": {
      "text/plain": [
       "<Array [None, None, None, ... None, None, Muon] type='15000 * ?union[muon, elect...'>"
      ]
     },
     "execution_count": 5,
     "metadata": {},
     "output_type": "execute_result"
    }
   ],
   "source": [
    "### get candidate lepton\n",
    "nevents = len(events)\n",
    "\n",
    "# define muon objects\n",
    "loose_muons = (\n",
    "    (((events.Muon.pt > 30) & (events.Muon.pfRelIso04_all < 0.25)) |\n",
    "     (events.Muon.pt > 55))\n",
    "    & (np.abs(events.Muon.eta) < 2.4)\n",
    "    & (events.Muon.looseId)\n",
    ")\n",
    "n_loose_muons = ak.sum(loose_muons, axis=1)\n",
    "\n",
    "good_muons = (\n",
    "    (events.Muon.pt > 28)\n",
    "    & (np.abs(events.Muon.eta) < 2.4)\n",
    "    & (np.abs(events.Muon.dz) < 0.1)\n",
    "    & (np.abs(events.Muon.dxy) < 0.05)\n",
    "    & (events.Muon.sip3d <= 4.0)\n",
    "    & events.Muon.mediumId\n",
    ")\n",
    "n_good_muons = ak.sum(good_muons, axis=1)\n",
    "\n",
    "# define electron objects\n",
    "loose_electrons = (\n",
    "    (((events.Electron.pt > 38) & (events.Electron.pfRelIso03_all < 0.25)) |\n",
    "     (events.Electron.pt > 120))\n",
    "    & ((np.abs(events.Electron.eta) < 1.44) | (np.abs(events.Electron.eta) > 1.57))\n",
    "    & (events.Electron.cutBased >= events.Electron.LOOSE)\n",
    ")\n",
    "n_loose_electrons = ak.sum(loose_electrons, axis=1)\n",
    "\n",
    "good_electrons = (\n",
    "    (events.Electron.pt > 38)\n",
    "    & ((np.abs(events.Electron.eta) < 1.44) | (np.abs(events.Electron.eta) > 1.57))\n",
    "    & (np.abs(events.Electron.dz) < 0.1)\n",
    "    & (np.abs(events.Electron.dxy) < 0.05)\n",
    "    & (events.Electron.sip3d <= 4.0)\n",
    "    & (events.Electron.mvaFall17V2noIso_WP90)\n",
    ")\n",
    "n_good_electrons = ak.sum(good_electrons, axis=1)\n",
    "\n",
    "# leading lepton\n",
    "goodleptons = ak.concatenate([events.Muon[good_muons], events.Electron[good_electrons]], axis=1)\n",
    "goodleptons = goodleptons[ak.argsort(goodleptons.pt, ascending=False)]\n",
    "candidatelep = ak.firsts(goodleptons)\n",
    "\n",
    "candidatelep_p4 = build_p4(candidatelep)\n",
    "\n",
    "candidatelep"
   ]
  },
  {
   "cell_type": "code",
   "execution_count": 16,
   "id": "1839e67c",
   "metadata": {},
   "outputs": [],
   "source": [
    "        # fatjets\n",
    "        fatjets = events.FatJet\n",
    "\n",
    "        good_fatjets = (fatjets.pt > 200) & (abs(fatjets.eta) < 2.5) & fatjets.isTight\n",
    "        good_fatjets = fatjets[good_fatjets]  # select good fatjets\n",
    "        good_fatjets = good_fatjets[ak.argsort(good_fatjets.pt, ascending=False)]  # sort them by pt\n",
    "\n",
    "        NumFatjets = ak.num(good_fatjets)\n",
    "        # FirstFatjet = ak.firsts(good_fatjets)\n",
    "        # SecondFatjet = good_fatjets[:, 1:2]\n",
    "\n",
    "\n",
    "        # choose candidate fatjet\n",
    "        fj_idx_lep = ak.argmin(good_fatjets.delta_r(candidatelep_p4), axis=1, keepdims=True)\n",
    "        candidatefj = ak.firsts(good_fatjets[fj_idx_lep])"
   ]
  },
  {
   "cell_type": "code",
   "execution_count": 25,
   "id": "f16e779f",
   "metadata": {},
   "outputs": [],
   "source": [
    "        FirstFatjet = ak.firsts(good_fatjets[:, 0:1])\n",
    "        SecondFatjet = good_fatjets[:, 1:2]"
   ]
  },
  {
   "cell_type": "code",
   "execution_count": 26,
   "id": "a27776aa",
   "metadata": {},
   "outputs": [
    {
     "data": {
      "text/plain": [
       "<FatJetArray [FatJet, FatJet, ... FatJet, FatJet] type='15000 * ?fatJet'>"
      ]
     },
     "execution_count": 26,
     "metadata": {},
     "output_type": "execute_result"
    }
   ],
   "source": [
    "FirstFatjet"
   ]
  },
  {
   "cell_type": "code",
   "execution_count": 24,
   "id": "87d0c8a7",
   "metadata": {},
   "outputs": [
    {
     "data": {
      "text/plain": [
       "<FatJetArray [None, None, None, ... FatJet, None] type='15000 * ?fatJet'>"
      ]
     },
     "execution_count": 24,
     "metadata": {},
     "output_type": "execute_result"
    }
   ],
   "source": [
    "ak.firsts(SecondFatjet)"
   ]
  },
  {
   "cell_type": "code",
   "execution_count": 17,
   "id": "420d77a1",
   "metadata": {},
   "outputs": [],
   "source": [
    "        # ak4 jets\n",
    "        ak4_jet_selector_no_btag = (\n",
    "            (events.Jet.pt > 30) & (abs(events.Jet.eta) < 5.0) & events.Jet.isTight & (events.Jet.puId > 0)\n",
    "        )\n",
    "        goodjets = events.Jet[ak4_jet_selector_no_btag]\n",
    "\n",
    "        ht = ak.sum(goodjets.pt, axis=1)\n",
    "        # dphi_jet_lepfj = abs(goodjets.delta_phi(candidatefj))\n",
    "        dr_jet_lepfj = goodjets.delta_r(candidatefj)\n",
    "        ak4_outside_ak8 = goodjets[dr_jet_lepfj > 0.8]\n",
    "        NumOtherJets = ak.num(ak4_outside_ak8)\n",
    "\n"
   ]
  },
  {
   "cell_type": "code",
   "execution_count": 18,
   "id": "3e08d47e",
   "metadata": {},
   "outputs": [
    {
     "data": {
      "text/plain": [
       "<JetArray [None, None, None, None, ... Jet, Jet]] type='15000 * option[var * jet]'>"
      ]
     },
     "execution_count": 18,
     "metadata": {},
     "output_type": "execute_result"
    }
   ],
   "source": [
    "ak4_outside_ak8"
   ]
  },
  {
   "cell_type": "code",
   "execution_count": 19,
   "id": "e94dbc12",
   "metadata": {},
   "outputs": [
    {
     "data": {
      "text/plain": [
       "<Array [None, None, None, ... None, None, 5] type='15000 * ?int64'>"
      ]
     },
     "execution_count": 19,
     "metadata": {},
     "output_type": "execute_result"
    }
   ],
   "source": [
    "NumOtherJets"
   ]
  },
  {
   "cell_type": "code",
   "execution_count": null,
   "id": "68d1e11a",
   "metadata": {},
   "outputs": [],
   "source": []
  },
  {
   "cell_type": "code",
   "execution_count": null,
   "id": "cc600f59",
   "metadata": {},
   "outputs": [],
   "source": []
  },
  {
   "cell_type": "code",
   "execution_count": null,
   "id": "29bd7977",
   "metadata": {},
   "outputs": [],
   "source": []
  },
  {
   "cell_type": "code",
   "execution_count": 28,
   "id": "967dc8eb",
   "metadata": {},
   "outputs": [
    {
     "data": {
      "text/plain": [
       "<JetArray [None, None, None, ... None, None, Jet] type='15000 * ?jet'>"
      ]
     },
     "execution_count": 28,
     "metadata": {},
     "output_type": "execute_result"
    }
   ],
   "source": [
    "ak.firsts(ak4_outside_ak8)"
   ]
  },
  {
   "cell_type": "code",
   "execution_count": 26,
   "id": "3f63136c",
   "metadata": {},
   "outputs": [
    {
     "data": {
      "text/plain": [
       "<Array [None, None, None, ... None, None, 4] type='15000 * ?int64'>"
      ]
     },
     "execution_count": 26,
     "metadata": {},
     "output_type": "execute_result"
    }
   ],
   "source": [
    "NumOtherJets"
   ]
  },
  {
   "cell_type": "code",
   "execution_count": 29,
   "id": "08c44a15",
   "metadata": {},
   "outputs": [
    {
     "data": {
      "text/plain": [
       "<FatJetArray [[FatJet], [FatJet, ... [FatJet]] type='15000 * var * fatJet'>"
      ]
     },
     "execution_count": 29,
     "metadata": {},
     "output_type": "execute_result"
    }
   ],
   "source": [
    "good_fatjets"
   ]
  },
  {
   "cell_type": "code",
   "execution_count": 47,
   "id": "7ff95ef9",
   "metadata": {},
   "outputs": [
    {
     "data": {
      "text/plain": [
       "<Array [0, 0, 0, 0, 0, 1, ... 0, 0, 0, 0, 0, 1] type='15000 * int64'>"
      ]
     },
     "execution_count": 47,
     "metadata": {},
     "output_type": "execute_result"
    }
   ],
   "source": [
    "ak.num(ak.singletons(ak4_outside_ak8).btagDeepFlavB > 0.8)"
   ]
  },
  {
   "cell_type": "code",
   "execution_count": 43,
   "id": "c2d5c730",
   "metadata": {},
   "outputs": [],
   "source": [
    "jet1 = ak.singletons(ak4_outside_ak8)[:, 1:2]"
   ]
  },
  {
   "cell_type": "code",
   "execution_count": 44,
   "id": "29e0c4e3",
   "metadata": {},
   "outputs": [
    {
     "data": {
      "text/plain": [
       "<JetArray [[], [], [], [], ... [], [], [], []] type='15000 * var * var * jet'>"
      ]
     },
     "execution_count": 44,
     "metadata": {},
     "output_type": "execute_result"
    }
   ],
   "source": [
    "jet1"
   ]
  },
  {
   "cell_type": "code",
   "execution_count": null,
   "id": "5059618d",
   "metadata": {},
   "outputs": [],
   "source": []
  },
  {
   "cell_type": "code",
   "execution_count": null,
   "id": "5670010d",
   "metadata": {},
   "outputs": [],
   "source": []
  },
  {
   "cell_type": "code",
   "execution_count": null,
   "id": "61b4da42",
   "metadata": {},
   "outputs": [],
   "source": []
  },
  {
   "cell_type": "code",
   "execution_count": null,
   "id": "63ff325a",
   "metadata": {},
   "outputs": [],
   "source": []
  },
  {
   "cell_type": "markdown",
   "id": "ab10e3be",
   "metadata": {},
   "source": [
    "# Experimentation"
   ]
  },
  {
   "cell_type": "code",
   "execution_count": 270,
   "id": "79e64bf5",
   "metadata": {},
   "outputs": [
    {
     "name": "stdout",
     "output_type": "stream",
     "text": [
      "Number of events: 98400\n",
      "Number of events with pt(Higgs)>50: 25238\n",
      "Number of events with pt(Higgs)>100: 7716\n",
      "Number of events with pt(Higgs)>150: 3075\n",
      "Number of events with pt(Higgs)>200: 1379\n",
      "Number of events with pt(Higgs)>250: 684\n",
      "Number of events with pt(Higgs)>300: 344\n"
     ]
    }
   ],
   "source": [
    "HIGGS_PDGID = 25\n",
    "GEN_FLAGS = [\"fromHardProcess\", \"isLastCopy\"]\n",
    "higgs = events.GenPart[get_pid_mask(events.GenPart, HIGGS_PDGID, byall=False) * events.GenPart.hasFlags(GEN_FLAGS)]\n",
    "\n",
    "# make sure that each events has one and only one higgs\n",
    "assert ak.sum(ak.num(higgs)!=1)==0\n",
    "\n",
    "print(f\"Number of events: {nevents}\")\n",
    "for pt in [50, 100, 150, 200, 250, 300]:\n",
    "    print(f\"Number of events with pt(Higgs)>{pt}: {ak.sum(ak.flatten(higgs).pt>pt)}\")"
   ]
  },
  {
   "cell_type": "code",
   "execution_count": 311,
   "id": "cc3fb2aa",
   "metadata": {},
   "outputs": [
    {
     "data": {
      "text/plain": [
       "(exptext: Custom Text(0.0, 1, 'CMS'),\n",
       " expsuffix: Custom Text(0.0, 1.005, 'Work in Progress'))"
      ]
     },
     "execution_count": 311,
     "metadata": {},
     "output_type": "execute_result"
    },
    {
     "data": {
      "image/png": "[encoded data removed]",
      "text/plain": [
       "<Figure size 648x504 with 1 Axes>"
      ]
     },
     "metadata": {
      "needs_background": "light"
     },
     "output_type": "display_data"
    }
   ],
   "source": [
    "plt.rcParams.update({\"font.size\": 20})\n",
    "\n",
    "fig, ax = plt.subplots(figsize=(9, 7))\n",
    "\n",
    "higgs_pt = ak.flatten(higgs).pt\n",
    "higgs_pt = higgs_pt[higgs_pt>200]\n",
    "\n",
    "fj_pt = ak.flatten(candidatefj, axis=0).pt\n",
    "fj_pt = fj_pt[fj_pt>200]\n",
    "\n",
    "ax.hist(higgs_pt, label=r\"Gen Higgs\", histtype=\"step\", linewidth=2, bins=np.linspace(0,600,30))\n",
    "ax.hist(fj_pt, label=\"candidate fatjet\", histtype=\"step\", linewidth=2, bins=np.linspace(0,600,30))\n",
    "\n",
    "# ax.set_title(\"Without dR(Jet,Lepton)>0.03\")\n",
    "ax.set_xlim(200, 600)\n",
    "ax.legend(title=f\"ggF samples\")\n",
    "ax.set_ylabel(r\"Events\"); \n",
    "ax.set_xlabel(r\"$p_T$\");\n",
    "hep.cms.lumitext(\n",
    "    \"2017\", ax=ax, fontsize=20\n",
    ")\n",
    "hep.cms.text(\"Work in Progress\", ax=ax, fontsize=15)\n",
    "# ax.set_yscale(\"log\")\n",
    "\n",
    "# plt.savefig(f\"/Users/fmokhtar/Desktop/hww/gen_higgs_pt.pdf\", bbox_inches='tight')"
   ]
  },
  {
   "cell_type": "code",
   "execution_count": 296,
   "id": "d1124a20",
   "metadata": {},
   "outputs": [
    {
     "name": "stderr",
     "output_type": "stream",
     "text": [
      "No artists with labels found to put in legend.  Note that artists whose label start with an underscore are ignored when legend() is called with no argument.\n"
     ]
    },
    {
     "data": {
      "image/png": "[encoded data removed]",
      "text/plain": [
       "<Figure size 648x504 with 1 Axes>"
      ]
     },
     "metadata": {
      "needs_background": "light"
     },
     "output_type": "display_data"
    }
   ],
   "source": [
    "\n",
    "plt.rcParams.update({\"font.size\": 20})\n",
    "### save plot\n",
    "fig, ax = plt.subplots(figsize=(9, 7))\n",
    "ax.hist(ak.flatten(candidatefj, axis=0).pt, histtype=\"step\", linewidth=2, bins=np.linspace(0,600,30))\n",
    "\n",
    "# ax.set_title(\"Without dR(Jet,Lepton)>0.03\")\n",
    "ax.legend(title=f\"ggF samples\")\n",
    "ax.set_ylabel(r\"Events\"); \n",
    "ax.set_xlabel(r\"candidate jet $p_T$\");\n",
    "hep.cms.lumitext(\n",
    "    \"2017\", ax=ax, fontsize=20\n",
    ")\n",
    "hep.cms.text(\"Work in Progress\", ax=ax, fontsize=15)\n",
    "ax.set_yscale(\"log\")\n",
    "\n",
    "# plt.savefig(f\"/Users/fmokhtar/Desktop/hww/gen_higgs_pt.pdf\", bbox_inches='tight')"
   ]
  },
  {
   "cell_type": "code",
   "execution_count": null,
   "id": "0085cfce",
   "metadata": {},
   "outputs": [],
   "source": []
  },
  {
   "cell_type": "code",
   "execution_count": 254,
   "id": "7006dd73",
   "metadata": {},
   "outputs": [
    {
     "name": "stdout",
     "output_type": "stream",
     "text": [
      "Number of events with a candidatelep: 16981\n",
      "Number of events with a candidatelep of pt>200: 51\n",
      "-----------------------\n",
      "Number of events with a jet: 526289\n",
      "Number of events with a good jet: 134498\n",
      "-----------------------\n",
      "Number of events with a fatjet: 3497\n",
      "Number of events with a good fatjet: 2130\n",
      "Number of events with a candidatefj: 660\n",
      "Number of events with a candidatefj of pt>200: 660\n"
     ]
    }
   ],
   "source": [
    "print(f\"Number of events with a candidatelep: {len(ak.flatten(candidatelep, axis=0))}\")\n",
    "print(f\"Number of events with a candidatelep of pt>200: {ak.sum(candidatelep.pt>200)}\")\n",
    "print(\"-----------------------\")\n",
    "print(f\"Number of events with a jet: {len(ak.flatten(events.Jet, axis=1))}\")\n",
    "print(f\"Number of events with a good jet: {len(ak.flatten(goodjets, axis=1))}\")\n",
    "print(\"-----------------------\")\n",
    "print(f\"Number of events with a fatjet: {len(ak.flatten(fatjets, axis=1))}\")\n",
    "print(f\"Number of events with a good fatjet: {len(ak.flatten(good_fatjets, axis=1))}\")\n",
    "print(f\"Number of events with a candidatefj: {len(ak.flatten(candidatefj, axis=0))}\")\n",
    "print(f\"Number of events with a candidatefj of pt>200: {ak.sum(candidatefj.pt>200)}\")"
   ]
  },
  {
   "cell_type": "code",
   "execution_count": 257,
   "id": "ef274b11",
   "metadata": {},
   "outputs": [
    {
     "data": {
      "text/plain": [
       "<Array [210, 234, 203, 350, ... 309, 220, 354] type='660 * float32[parameters={\"...'>"
      ]
     },
     "execution_count": 257,
     "metadata": {},
     "output_type": "execute_result"
    }
   ],
   "source": [
    "ak.flatten(candidatefj, axis=0).pt"
   ]
  },
  {
   "cell_type": "code",
   "execution_count": 258,
   "id": "837c02cc",
   "metadata": {},
   "outputs": [
    {
     "data": {
      "text/plain": [
       "<Array [31.9, 37.5, 43.3, ... 44.8, 53.8, 34.3] type='16981 * float32'>"
      ]
     },
     "execution_count": 258,
     "metadata": {},
     "output_type": "execute_result"
    }
   ],
   "source": [
    "ak.flatten(candidatelep, axis=0).pt"
   ]
  },
  {
   "cell_type": "code",
   "execution_count": 261,
   "id": "db556fcc",
   "metadata": {},
   "outputs": [
    {
     "data": {
      "text/plain": [
       "<Array [None, None, Muon, ... None, None, None] type='98400 * ?union[muon, elect...'>"
      ]
     },
     "execution_count": 261,
     "metadata": {},
     "output_type": "execute_result"
    }
   ],
   "source": [
    "candidatelep"
   ]
  },
  {
   "cell_type": "code",
   "execution_count": 267,
   "id": "c4d4377d",
   "metadata": {},
   "outputs": [
    {
     "data": {
      "text/plain": [
       "(<Array [0, 1, 2, 3, ... 98397, 98398, 98399] type='98074 * int64'>,)"
      ]
     },
     "execution_count": 267,
     "metadata": {},
     "output_type": "execute_result"
    }
   ],
   "source": [
    "np.where(candidatefj.pt)"
   ]
  },
  {
   "cell_type": "code",
   "execution_count": 269,
   "id": "8648fbc2",
   "metadata": {},
   "outputs": [
    {
     "data": {
      "text/plain": [
       "<Array [None, None, None, ... None, None, None] type='98400 * ?float32[parameter...'>"
      ]
     },
     "execution_count": 269,
     "metadata": {},
     "output_type": "execute_result"
    }
   ],
   "source": [
    "candidatefj.pt"
   ]
  },
  {
   "cell_type": "code",
   "execution_count": 10,
   "id": "fbf79fa9",
   "metadata": {},
   "outputs": [
    {
     "data": {
      "text/plain": [
       "<FatJetArray [None, None, None, ... None, None, None] type='98400 * ?fatJet'>"
      ]
     },
     "execution_count": 10,
     "metadata": {},
     "output_type": "execute_result"
    }
   ],
   "source": [
    "candidatelep"
   ]
  },
  {
   "cell_type": "code",
   "execution_count": null,
   "id": "cda03f1f",
   "metadata": {},
   "outputs": [],
   "source": []
  },
  {
   "cell_type": "code",
   "execution_count": 93,
   "id": "648e6334",
   "metadata": {},
   "outputs": [
    {
     "data": {
      "text/plain": [
       "(<Array [53, 99, 308, ... 98169, 98199, 98354] type='660 * int64'>,)"
      ]
     },
     "execution_count": 93,
     "metadata": {},
     "output_type": "execute_result"
    }
   ],
   "source": [
    "# events with a candidate jet\n",
    "np.where(~ak.is_none(candidatefj))"
   ]
  },
  {
   "cell_type": "code",
   "execution_count": 312,
   "id": "710e5ad4",
   "metadata": {},
   "outputs": [
    {
     "data": {
      "text/plain": [
       "1893"
      ]
     },
     "execution_count": 312,
     "metadata": {},
     "output_type": "execute_result"
    }
   ],
   "source": [
    "# check the candidate lepton in one of those events\n",
    "candidatelep[53].genPartIdxG"
   ]
  },
  {
   "cell_type": "code",
   "execution_count": 329,
   "id": "325ff15e",
   "metadata": {},
   "outputs": [
    {
     "data": {
      "text/plain": [
       "<FatJetArray [FatJet, FatJet] type='2 * fatJet'>"
      ]
     },
     "execution_count": 329,
     "metadata": {},
     "output_type": "execute_result"
    }
   ],
   "source": [
    "events.FatJet[53]"
   ]
  },
  {
   "cell_type": "code",
   "execution_count": 328,
   "id": "2c695488",
   "metadata": {},
   "outputs": [
    {
     "data": {
      "text/plain": [
       "False"
      ]
     },
     "execution_count": 328,
     "metadata": {},
     "output_type": "execute_result"
    }
   ],
   "source": [
    "1893 in events.FatJet[53][0][\"pFCandsIdxG\"]"
   ]
  },
  {
   "cell_type": "code",
   "execution_count": 330,
   "id": "7bac4a02",
   "metadata": {},
   "outputs": [
    {
     "data": {
      "text/plain": [
       "False"
      ]
     },
     "execution_count": 330,
     "metadata": {},
     "output_type": "execute_result"
    }
   ],
   "source": [
    "1893 in events.FatJet[53][1][\"pFCandsIdxG\"]"
   ]
  },
  {
   "cell_type": "code",
   "execution_count": 338,
   "id": "de29302e",
   "metadata": {},
   "outputs": [
    {
     "data": {
      "text/plain": [
       "<Array [-1, 0] type='2 * int32[parameters={\"__doc__\": \"index of electron matched...'>"
      ]
     },
     "execution_count": 338,
     "metadata": {},
     "output_type": "execute_result"
    }
   ],
   "source": [
    "events.FatJet[53].electronIdx3SJ"
   ]
  },
  {
   "cell_type": "code",
   "execution_count": 107,
   "id": "9ffc93c1",
   "metadata": {},
   "outputs": [
    {
     "data": {
      "text/plain": [
       "3"
      ]
     },
     "execution_count": 107,
     "metadata": {},
     "output_type": "execute_result"
    }
   ],
   "source": [
    "candidatelep.jetIdx[53]"
   ]
  },
  {
   "cell_type": "code",
   "execution_count": 113,
   "id": "da079b53",
   "metadata": {},
   "outputs": [
    {
     "data": {
      "text/plain": [
       "<JetArray [Jet, Jet, Jet, Jet, ... Jet, Jet, Jet] type='8 * jet'>"
      ]
     },
     "execution_count": 113,
     "metadata": {},
     "output_type": "execute_result"
    }
   ],
   "source": [
    "events.Jet[53]"
   ]
  },
  {
   "cell_type": "code",
   "execution_count": null,
   "id": "f27fa5f7",
   "metadata": {},
   "outputs": [],
   "source": []
  },
  {
   "cell_type": "code",
   "execution_count": null,
   "id": "255749e9",
   "metadata": {},
   "outputs": [],
   "source": []
  },
  {
   "cell_type": "code",
   "execution_count": null,
   "id": "503faffb",
   "metadata": {},
   "outputs": [],
   "source": [
    "candidatelep.jetIdx[53]"
   ]
  },
  {
   "cell_type": "code",
   "execution_count": 115,
   "id": "72ad0f68",
   "metadata": {},
   "outputs": [
    {
     "data": {
      "text/plain": [
       "<Array [3.2, 0.657, 1.38, ... 2.64, 2.89, 1.94] type='8 * float32'>"
      ]
     },
     "execution_count": 115,
     "metadata": {},
     "output_type": "execute_result"
    }
   ],
   "source": [
    "events.Jet[53].delta_r(candidatelep[53])"
   ]
  },
  {
   "cell_type": "code",
   "execution_count": null,
   "id": "318da848",
   "metadata": {},
   "outputs": [],
   "source": []
  },
  {
   "cell_type": "code",
   "execution_count": 103,
   "id": "43cff65b",
   "metadata": {},
   "outputs": [
    {
     "ename": "AttributeError",
     "evalue": "no field named 'tightleptonJetID'\n\n(https://github.com/scikit-hep/awkward-1.0/blob/1.10.2/src/awkward/highlevel.py#L1124)",
     "output_type": "error",
     "traceback": [
      "\u001b[0;31m---------------------------------------------------------------------------\u001b[0m",
      "\u001b[0;31mAttributeError\u001b[0m                            Traceback (most recent call last)",
      "\u001b[0;32m<ipython-input-103-eed5452db554>\u001b[0m in \u001b[0;36m<module>\u001b[0;34m\u001b[0m\n\u001b[0;32m----> 1\u001b[0;31m \u001b[0mcandidatefj\u001b[0m\u001b[0;34m.\u001b[0m\u001b[0mtightleptonJetID\u001b[0m\u001b[0;34m\u001b[0m\u001b[0;34m\u001b[0m\u001b[0m\n\u001b[0m",
      "\u001b[0;32m/opt/anaconda3/envs/coffea-env/lib/python3.8/site-packages/awkward/highlevel.py\u001b[0m in \u001b[0;36m__getattr__\u001b[0;34m(self, where)\u001b[0m\n\u001b[1;32m   1121\u001b[0m                     ) from err\n\u001b[1;32m   1122\u001b[0m             \u001b[0;32melse\u001b[0m\u001b[0;34m:\u001b[0m\u001b[0;34m\u001b[0m\u001b[0;34m\u001b[0m\u001b[0m\n\u001b[0;32m-> 1123\u001b[0;31m                 raise AttributeError(\n\u001b[0m\u001b[1;32m   1124\u001b[0m                     \u001b[0;34mf\"no field named {where!r}\"\u001b[0m \u001b[0;34m+\u001b[0m \u001b[0mak\u001b[0m\u001b[0;34m.\u001b[0m\u001b[0m_util\u001b[0m\u001b[0;34m.\u001b[0m\u001b[0mexception_suffix\u001b[0m\u001b[0;34m(\u001b[0m\u001b[0m__file__\u001b[0m\u001b[0;34m)\u001b[0m\u001b[0;34m\u001b[0m\u001b[0;34m\u001b[0m\u001b[0m\n\u001b[1;32m   1125\u001b[0m                 )\n",
      "\u001b[0;31mAttributeError\u001b[0m: no field named 'tightleptonJetID'\n\n(https://github.com/scikit-hep/awkward-1.0/blob/1.10.2/src/awkward/highlevel.py#L1124)"
     ]
    }
   ],
   "source": [
    "candidatefj.tightleptonJetID"
   ]
  },
  {
   "cell_type": "code",
   "execution_count": 151,
   "id": "fc9c186f",
   "metadata": {},
   "outputs": [
    {
     "data": {
      "text/plain": [
       "['area',\n",
       " 'btagCSVV2',\n",
       " 'btagDDBvLV2',\n",
       " 'btagDDCvBV2',\n",
       " 'btagDDCvLV2',\n",
       " 'btagDeepB',\n",
       " 'btagHbb',\n",
       " 'deepTagMD_H4qvsQCD',\n",
       " 'deepTagMD_HbbvsQCD',\n",
       " 'deepTagMD_TvsQCD',\n",
       " 'deepTagMD_WvsQCD',\n",
       " 'deepTagMD_ZHbbvsQCD',\n",
       " 'deepTagMD_ZHccvsQCD',\n",
       " 'deepTagMD_ZbbvsQCD',\n",
       " 'deepTagMD_ZvsQCD',\n",
       " 'deepTagMD_bbvsLight',\n",
       " 'deepTagMD_ccvsLight',\n",
       " 'deepTag_H',\n",
       " 'deepTag_QCD',\n",
       " 'deepTag_QCDothers',\n",
       " 'deepTag_TvsQCD',\n",
       " 'deepTag_WvsQCD',\n",
       " 'deepTag_ZvsQCD',\n",
       " 'eta',\n",
       " 'mass',\n",
       " 'msoftdrop',\n",
       " 'n2b1',\n",
       " 'n3b1',\n",
       " 'particleNetMD_QCD',\n",
       " 'particleNetMD_Xbb',\n",
       " 'particleNetMD_Xcc',\n",
       " 'particleNetMD_Xqq',\n",
       " 'particleNet_H4qvsQCD',\n",
       " 'particleNet_HbbvsQCD',\n",
       " 'particleNet_HccvsQCD',\n",
       " 'particleNet_QCD',\n",
       " 'particleNet_TvsQCD',\n",
       " 'particleNet_WvsQCD',\n",
       " 'particleNet_ZvsQCD',\n",
       " 'particleNet_mass',\n",
       " 'phi',\n",
       " 'pt',\n",
       " 'rawFactor',\n",
       " 'tau1',\n",
       " 'tau2',\n",
       " 'tau3',\n",
       " 'tau4',\n",
       " 'lsf3',\n",
       " 'jetId',\n",
       " 'subJetIdx1',\n",
       " 'subJetIdx2',\n",
       " 'electronIdx3SJ',\n",
       " 'muonIdx3SJ',\n",
       " 'nConstituents',\n",
       " 'DDX_tau1_flightDistance2dSig',\n",
       " 'DDX_tau1_trackEtaRel_0',\n",
       " 'DDX_tau1_trackEtaRel_1',\n",
       " 'DDX_tau1_trackEtaRel_2',\n",
       " 'DDX_tau1_trackSip3dSig_0',\n",
       " 'DDX_tau1_trackSip3dSig_1',\n",
       " 'DDX_tau1_vertexDeltaR',\n",
       " 'DDX_tau1_vertexEnergyRatio',\n",
       " 'DDX_tau1_vertexMass',\n",
       " 'DDX_tau2_flightDistance2dSig',\n",
       " 'DDX_tau2_trackEtaRel_0',\n",
       " 'DDX_tau2_trackEtaRel_1',\n",
       " 'DDX_tau2_trackEtaRel_3',\n",
       " 'DDX_tau2_trackSip3dSig_0',\n",
       " 'DDX_tau2_trackSip3dSig_1',\n",
       " 'DDX_tau2_vertexEnergyRatio',\n",
       " 'DDX_tau2_vertexMass',\n",
       " 'DDX_trackSip2dSigAboveBottom_0',\n",
       " 'DDX_trackSip2dSigAboveBottom_1',\n",
       " 'DDX_trackSip2dSigAboveCharm',\n",
       " 'DDX_trackSip3dSig_0',\n",
       " 'DDX_trackSip3dSig_1',\n",
       " 'DDX_trackSip3dSig_2',\n",
       " 'DDX_trackSip3dSig_3',\n",
       " 'DDX_z_ratio',\n",
       " 'Proba',\n",
       " 'btagDeepB_b',\n",
       " 'btagDeepB_bb',\n",
       " 'btagDeepL',\n",
       " 'DDX_jetNSecondaryVertices',\n",
       " 'DDX_jetNTracks',\n",
       " 'nBHadrons',\n",
       " 'nCHadrons',\n",
       " 'genJetAK8Idx',\n",
       " 'hadronFlavour',\n",
       " 'genJetAK8IdxG',\n",
       " 'subJetIdx1G',\n",
       " 'subJetIdx2G',\n",
       " 'subJetIdxG',\n",
       " 'pFCandsIdxG']"
      ]
     },
     "execution_count": 151,
     "metadata": {},
     "output_type": "execute_result"
    }
   ],
   "source": [
    "events.FatJet.fields"
   ]
  },
  {
   "cell_type": "code",
   "execution_count": 152,
   "id": "0052b2e1",
   "metadata": {},
   "outputs": [
    {
     "data": {
      "text/plain": [
       "'index of first subjet'"
      ]
     },
     "execution_count": 152,
     "metadata": {},
     "output_type": "execute_result"
    }
   ],
   "source": [
    "events.FatJet.subJetIdxG.__doc__"
   ]
  },
  {
   "cell_type": "code",
   "execution_count": null,
   "id": "b25fa590",
   "metadata": {},
   "outputs": [],
   "source": []
  },
  {
   "cell_type": "code",
   "execution_count": 127,
   "id": "2c551585",
   "metadata": {},
   "outputs": [
    {
     "data": {
      "text/plain": [
       "['dxy',\n",
       " 'dxyErr',\n",
       " 'dz',\n",
       " 'dzErr',\n",
       " 'eta',\n",
       " 'ip3d',\n",
       " 'jetPtRelv2',\n",
       " 'jetRelIso',\n",
       " 'mass',\n",
       " 'miniPFRelIso_all',\n",
       " 'miniPFRelIso_chg',\n",
       " 'pfRelIso03_all',\n",
       " 'pfRelIso03_chg',\n",
       " 'phi',\n",
       " 'pt',\n",
       " 'sip3d',\n",
       " 'mvaTTH',\n",
       " 'charge',\n",
       " 'jetIdx',\n",
       " 'pdgId',\n",
       " 'tightCharge',\n",
       " 'isPFcand',\n",
       " 'jetNDauCharged',\n",
       " 'genPartIdx',\n",
       " 'genPartFlav',\n",
       " 'cleanmask',\n",
       " 'genPartIdxG',\n",
       " 'jetIdxG']"
      ]
     },
     "execution_count": 127,
     "metadata": {},
     "output_type": "execute_result"
    }
   ],
   "source": [
    "candidatelep.fields"
   ]
  },
  {
   "cell_type": "code",
   "execution_count": 37,
   "id": "2f7b4f2a",
   "metadata": {},
   "outputs": [
    {
     "data": {
      "text/plain": [
       "<Array [[], [], [], [], ... [], [], [], []] type='98400 * var * float32[paramete...'>"
      ]
     },
     "execution_count": 37,
     "metadata": {},
     "output_type": "execute_result"
    }
   ],
   "source": [
    "fatjets.particleNetMD_Xbb"
   ]
  },
  {
   "cell_type": "code",
   "execution_count": 26,
   "id": "5528311e",
   "metadata": {},
   "outputs": [
    {
     "data": {
      "text/plain": [
       "<Array [210, 234, 203, 350, ... 309, 220, 354] type='660 * ?float32[parameters={...'>"
      ]
     },
     "execution_count": 26,
     "metadata": {},
     "output_type": "execute_result"
    }
   ],
   "source": [
    "candidatefj[~ak.is_none(candidatefj)].pt"
   ]
  },
  {
   "cell_type": "code",
   "execution_count": 147,
   "id": "f146846c",
   "metadata": {
    "scrolled": false
   },
   "outputs": [
    {
     "data": {
      "text/plain": [
       "<Array [[], [], [0.00812, ... [0.00706], []] type='98400 * var * float32[paramet...'>"
      ]
     },
     "execution_count": 147,
     "metadata": {},
     "output_type": "execute_result"
    }
   ],
   "source": [
    "events.Muon.dz"
   ]
  },
  {
   "cell_type": "code",
   "execution_count": 12,
   "id": "bbc69029",
   "metadata": {},
   "outputs": [],
   "source": [
    "dr_jet_lepfj = goodjets.delta_r(candidatefj)"
   ]
  },
  {
   "cell_type": "code",
   "execution_count": 13,
   "id": "b40906fa",
   "metadata": {},
   "outputs": [],
   "source": [
    "btagWPs = {\n",
    "    \"deepJet\": {\n",
    "        \"2016APV\": {\n",
    "            \"L\": 0.0508,\n",
    "            \"M\": 0.2598,\n",
    "            \"T\": 0.6502,\n",
    "        },\n",
    "        \"2016\": {\n",
    "            \"L\": 0.0480,\n",
    "            \"M\": 0.2489,\n",
    "            \"T\": 0.6377,\n",
    "        },\n",
    "        \"2017\": {\n",
    "            \"L\": 0.0532,\n",
    "            \"M\": 0.3040,\n",
    "            \"T\": 0.7476,\n",
    "        },\n",
    "        \"2018\": {\n",
    "            \"L\": 0.0490,\n",
    "            \"M\": 0.2783,\n",
    "            \"T\": 0.7100,\n",
    "        },\n",
    "    }\n",
    "}"
   ]
  },
  {
   "cell_type": "code",
   "execution_count": 31,
   "id": "6b90c35b",
   "metadata": {},
   "outputs": [],
   "source": [
    "a = pd.read_parquet(\"../outfiles/0-1_ele.parquet\")"
   ]
  },
  {
   "cell_type": "code",
   "execution_count": 34,
   "id": "3d758f59",
   "metadata": {},
   "outputs": [
    {
     "data": {
      "text/plain": [
       "0      0\n",
       "1      0\n",
       "2      0\n",
       "3      0\n",
       "4      0\n",
       "      ..\n",
       "658    1\n",
       "659    0\n",
       "660    0\n",
       "661    0\n",
       "662    0\n",
       "Name: n_bjets_ophem_M, Length: 663, dtype: int64"
      ]
     },
     "execution_count": 34,
     "metadata": {},
     "output_type": "execute_result"
    }
   ],
   "source": [
    "a[\"n_bjets_ophem_M\"]"
   ]
  },
  {
   "cell_type": "code",
   "execution_count": null,
   "id": "553f90a8",
   "metadata": {},
   "outputs": [],
   "source": [
    "n_bjets = ak.sum(goodjets[dr_jet_lepfj > 0.8].btagDeepFlavB>0.3, axis=1)"
   ]
  },
  {
   "cell_type": "code",
   "execution_count": null,
   "id": "87f4889c",
   "metadata": {},
   "outputs": [],
   "source": []
  },
  {
   "cell_type": "code",
   "execution_count": 320,
   "id": "ca421d42",
   "metadata": {},
   "outputs": [
    {
     "data": {
      "text/plain": [
       "<Array [None, None, None, ... None, None, None] type='98400 * ?float32[parameter...'>"
      ]
     },
     "execution_count": 320,
     "metadata": {},
     "output_type": "execute_result"
    }
   ],
   "source": [
    "candidatefj.pt"
   ]
  },
  {
   "cell_type": "code",
   "execution_count": 260,
   "id": "d2579498",
   "metadata": {},
   "outputs": [
    {
     "data": {
      "text/plain": [
       "<Array [None, None, [], ... None, None, None] type='98400 * option[var * float32]'>"
      ]
     },
     "execution_count": 260,
     "metadata": {},
     "output_type": "execute_result"
    }
   ],
   "source": [
    "good_fatjets.delta_phi(met)"
   ]
  },
  {
   "cell_type": "code",
   "execution_count": 374,
   "id": "6964c583",
   "metadata": {},
   "outputs": [],
   "source": [
    "x = candidatefj.mass[~ak.is_none(candidatefj.mass)]\n",
    "y = (candidatefj-candidatelep_p4).mass[~ak.is_none((candidatefj-candidatelep_p4).mass)]"
   ]
  },
  {
   "cell_type": "code",
   "execution_count": 376,
   "id": "a67335c6",
   "metadata": {},
   "outputs": [
    {
     "data": {
      "image/png": "[encoded data removed]",
      "text/plain": [
       "<Figure size 576x432 with 1 Axes>"
      ]
     },
     "metadata": {
      "needs_background": "light"
     },
     "output_type": "display_data"
    }
   ],
   "source": [
    "fig, ax = plt.subplots(figsize=(8,6))\n",
    "bins = np.linspace(0, 200, 40)\n",
    "\n",
    "for sample in [\"HWW\"]:\n",
    "    ax.hist(x, bins, histtype=\"step\", linewidth=2, label = f\"Jet mass\", density=True)\n",
    "    ax.hist(y, bins, histtype=\"step\", linewidth=2, label = f\"Jet-Lep mass\", density=True)\n",
    "    ax.legend()\n",
    "    # ax.set_ylim(0, 20000)\n",
    "    ax.set_xlabel(r\"mass\")\n",
    "#     ax.set_yscale(\"log\")"
   ]
  },
  {
   "cell_type": "code",
   "execution_count": 433,
   "id": "fb4b3f40",
   "metadata": {},
   "outputs": [],
   "source": [
    "\"\"\"\n",
    "Using the reference https://cds.cern.ch/record/1630709/files/MSc_thesis_Stefan_Richter_with_info_pages.pdf.\n",
    "Also using:\n",
    "    px = pt cos(phi)\n",
    "    py = pt sin(phi)\n",
    "    pz = pt sinh(eta)\n",
    "\"\"\"\n",
    "\n",
    "Lep = candidatelep_p4\n",
    "Jet = candidatefj - Lep\n",
    "\n",
    "### definitions\n",
    "m_H = 125\n",
    "\n",
    "m_Jet = Jet.mass\n",
    "E_Jet = Jet.energy\n",
    "\n",
    "m_Lep = Lep.mass\n",
    "E_Lep = Lep.energy\n",
    "\n",
    "# momentum vectors for Jet and Lep\n",
    "px_Jet = Jet.pt * np.cos(Jet.phi)\n",
    "py_Jet = Jet.pt * np.sin(Jet.phi)\n",
    "pz_Jet = Jet.pt * np.sinh(Jet.eta)\n",
    "\n",
    "px_Lep = Lep.pt * np.cos(Lep.phi)\n",
    "py_Lep = Lep.pt * np.sin(Lep.phi)\n",
    "pz_Lep = Lep.pt * np.sinh(Lep.eta)\n",
    "\n",
    "pJet_dot_pLep = px_Jet*px_Lep + py_Jet*py_Lep + pz_Jet*pz_Lep\n",
    "\n",
    "# met\n",
    "px_met = met.pt * np.cos(met.phi)\n",
    "py_met = met.pt * np.sin(met.phi)\n",
    "\n",
    "# computation:\n",
    "Last_term = (px_met*(px_Jet+px_Lep) + py_met*(py_Jet+py_Lep))\n",
    "A = (1/(E_Jet+E_Lep)) * ( 0.5*(m_H**2 - m_Jet**2 - m_Lep**2) - E_Jet*E_Lep + pJet_dot_pLep + Last_term )\n",
    "\n",
    "B = (pz_Jet**2 + pz_Lep**2) / (E_Jet + E_Lep)\n",
    "\n",
    "D = A**2 - (px_met**2 + py_met**2)*(1-B**2)\n",
    "\n",
    "# reconstruct the met pz\n",
    "pz_met_pos = ( (A*B) + np.sqrt(D) ) / (1-B**2)\n",
    "pz_met_neg = ( (A*B) - np.sqrt(D) ) / (1-B**2)"
   ]
  },
  {
   "cell_type": "code",
   "execution_count": 421,
   "id": "59e0ff6f",
   "metadata": {},
   "outputs": [],
   "source": [
    "pz_met_pos = pz_met_pos[~ak.is_none(pz_met_pos)]\n",
    "pz_met_neg = pz_met_neg[~ak.is_none(pz_met_neg)]"
   ]
  },
  {
   "cell_type": "code",
   "execution_count": 395,
   "id": "1c179a5f",
   "metadata": {},
   "outputs": [
    {
     "data": {
      "text/plain": [
       "Text(1, 0, 'MET $p_z$')"
      ]
     },
     "execution_count": 395,
     "metadata": {},
     "output_type": "execute_result"
    },
    {
     "data": {
      "image/png": "[encoded data removed]",
      "text/plain": [
       "<Figure size 576x432 with 1 Axes>"
      ]
     },
     "metadata": {
      "needs_background": "light"
     },
     "output_type": "display_data"
    }
   ],
   "source": [
    "import math\n",
    "import matplotlib\n",
    "import matplotlib.pyplot as plt\n",
    "import mplhep as hep\n",
    "plt.style.use(hep.style.CMS)\n",
    "plt.rcParams.update({\"font.size\": 20})\n",
    "\n",
    "fig, ax = plt.subplots(figsize=(8,6))\n",
    "bins = np.linspace(-3, 3, 40)\n",
    "ax.hist(pz_met_pos, bins, histtype=\"step\", linewidth=2, label = f\"+ve sqrt - n={len(pz_met_pos)}\")\n",
    "ax.hist(pz_met_neg, bins, histtype=\"step\", linewidth=2, label = f\"-ve sqrt - n={len(pz_met_neg)}\")\n",
    "ax.legend(title=\"HWW\")\n",
    "# ax.set_ylim(0, 20000)\n",
    "ax.set_xlabel(r\"MET $p_z$\")"
   ]
  },
  {
   "cell_type": "markdown",
   "id": "50024793",
   "metadata": {},
   "source": [
    "# Reconstruct the higgs"
   ]
  },
  {
   "cell_type": "code",
   "execution_count": 443,
   "id": "cb34e9b5",
   "metadata": {},
   "outputs": [
    {
     "ename": "ValueError",
     "evalue": "cannot broadcast records in this type of operation\n\n(https://github.com/scikit-hep/awkward-1.0/blob/1.10.3/src/awkward/_util.py#L1066)",
     "output_type": "error",
     "traceback": [
      "\u001b[0;31m---------------------------------------------------------------------------\u001b[0m",
      "\u001b[0;31mValueError\u001b[0m                                Traceback (most recent call last)",
      "\u001b[0;32m<ipython-input-443-875f4b5d1c1c>\u001b[0m in \u001b[0;36m<module>\u001b[0;34m\u001b[0m\n\u001b[1;32m      2\u001b[0m         {\n\u001b[1;32m      3\u001b[0m             \u001b[0;34m\"pt\"\u001b[0m\u001b[0;34m:\u001b[0m \u001b[0mmet\u001b[0m\u001b[0;34m.\u001b[0m\u001b[0mpt\u001b[0m\u001b[0;34m,\u001b[0m\u001b[0;34m\u001b[0m\u001b[0;34m\u001b[0m\u001b[0m\n\u001b[0;32m----> 4\u001b[0;31m             \u001b[0;34m\"eta\"\u001b[0m\u001b[0;34m:\u001b[0m \u001b[0mnp\u001b[0m\u001b[0;34m.\u001b[0m\u001b[0marcsinh\u001b[0m\u001b[0;34m(\u001b[0m\u001b[0mpz_met\u001b[0m\u001b[0;34m/\u001b[0m\u001b[0mmet\u001b[0m\u001b[0;34m.\u001b[0m\u001b[0mpt\u001b[0m\u001b[0;34m)\u001b[0m\u001b[0;34m,\u001b[0m\u001b[0;34m\u001b[0m\u001b[0;34m\u001b[0m\u001b[0m\n\u001b[0m\u001b[1;32m      5\u001b[0m \u001b[0;31m#             \"eta\": candidatelep_p4.eta,\u001b[0m\u001b[0;34m\u001b[0m\u001b[0;34m\u001b[0m\u001b[0;34m\u001b[0m\u001b[0m\n\u001b[1;32m      6\u001b[0m             \u001b[0;34m\"phi\"\u001b[0m\u001b[0;34m:\u001b[0m \u001b[0mmet\u001b[0m\u001b[0;34m.\u001b[0m\u001b[0mphi\u001b[0m\u001b[0;34m,\u001b[0m\u001b[0;34m\u001b[0m\u001b[0;34m\u001b[0m\u001b[0m\n",
      "\u001b[0;32m/opt/anaconda3/envs/coffea-env/lib/python3.8/site-packages/numpy/lib/mixins.py\u001b[0m in \u001b[0;36mfunc\u001b[0;34m(self, other)\u001b[0m\n\u001b[1;32m     29\u001b[0m         \u001b[0;32mif\u001b[0m \u001b[0m_disables_array_ufunc\u001b[0m\u001b[0;34m(\u001b[0m\u001b[0mother\u001b[0m\u001b[0;34m)\u001b[0m\u001b[0;34m:\u001b[0m\u001b[0;34m\u001b[0m\u001b[0;34m\u001b[0m\u001b[0m\n\u001b[1;32m     30\u001b[0m             \u001b[0;32mreturn\u001b[0m \u001b[0mNotImplemented\u001b[0m\u001b[0;34m\u001b[0m\u001b[0;34m\u001b[0m\u001b[0m\n\u001b[0;32m---> 31\u001b[0;31m         \u001b[0;32mreturn\u001b[0m \u001b[0mufunc\u001b[0m\u001b[0;34m(\u001b[0m\u001b[0mother\u001b[0m\u001b[0;34m,\u001b[0m \u001b[0mself\u001b[0m\u001b[0;34m)\u001b[0m\u001b[0;34m\u001b[0m\u001b[0;34m\u001b[0m\u001b[0m\n\u001b[0m\u001b[1;32m     32\u001b[0m     \u001b[0mfunc\u001b[0m\u001b[0;34m.\u001b[0m\u001b[0m__name__\u001b[0m \u001b[0;34m=\u001b[0m \u001b[0;34m'__r{}__'\u001b[0m\u001b[0;34m.\u001b[0m\u001b[0mformat\u001b[0m\u001b[0;34m(\u001b[0m\u001b[0mname\u001b[0m\u001b[0;34m)\u001b[0m\u001b[0;34m\u001b[0m\u001b[0;34m\u001b[0m\u001b[0m\n\u001b[1;32m     33\u001b[0m     \u001b[0;32mreturn\u001b[0m \u001b[0mfunc\u001b[0m\u001b[0;34m\u001b[0m\u001b[0;34m\u001b[0m\u001b[0m\n",
      "\u001b[0;32m/opt/anaconda3/envs/coffea-env/lib/python3.8/site-packages/awkward/highlevel.py\u001b[0m in \u001b[0;36m__array_ufunc__\u001b[0;34m(self, ufunc, method, *inputs, **kwargs)\u001b[0m\n\u001b[1;32m   1409\u001b[0m         \"\"\"\n\u001b[1;32m   1410\u001b[0m         \u001b[0;32mif\u001b[0m \u001b[0;32mnot\u001b[0m \u001b[0mhasattr\u001b[0m\u001b[0;34m(\u001b[0m\u001b[0mself\u001b[0m\u001b[0;34m,\u001b[0m \u001b[0;34m\"_tracers\"\u001b[0m\u001b[0;34m)\u001b[0m\u001b[0;34m:\u001b[0m\u001b[0;34m\u001b[0m\u001b[0;34m\u001b[0m\u001b[0m\n\u001b[0;32m-> 1411\u001b[0;31m             \u001b[0;32mreturn\u001b[0m \u001b[0mak\u001b[0m\u001b[0;34m.\u001b[0m\u001b[0m_connect\u001b[0m\u001b[0;34m.\u001b[0m\u001b[0m_numpy\u001b[0m\u001b[0;34m.\u001b[0m\u001b[0marray_ufunc\u001b[0m\u001b[0;34m(\u001b[0m\u001b[0mufunc\u001b[0m\u001b[0;34m,\u001b[0m \u001b[0mmethod\u001b[0m\u001b[0;34m,\u001b[0m \u001b[0minputs\u001b[0m\u001b[0;34m,\u001b[0m \u001b[0mkwargs\u001b[0m\u001b[0;34m)\u001b[0m\u001b[0;34m\u001b[0m\u001b[0;34m\u001b[0m\u001b[0m\n\u001b[0m\u001b[1;32m   1412\u001b[0m         \u001b[0;32melse\u001b[0m\u001b[0;34m:\u001b[0m\u001b[0;34m\u001b[0m\u001b[0;34m\u001b[0m\u001b[0m\n\u001b[1;32m   1413\u001b[0m             return ak._connect._jax.jax_utils.array_ufunc(\n",
      "\u001b[0;32m/opt/anaconda3/envs/coffea-env/lib/python3.8/site-packages/awkward/_connect/_numpy.py\u001b[0m in \u001b[0;36marray_ufunc\u001b[0;34m(ufunc, method, inputs, kwargs)\u001b[0m\n\u001b[1;32m    248\u001b[0m         \u001b[0;32mreturn\u001b[0m \u001b[0;32mNone\u001b[0m\u001b[0;34m\u001b[0m\u001b[0;34m\u001b[0m\u001b[0m\n\u001b[1;32m    249\u001b[0m \u001b[0;34m\u001b[0m\u001b[0m\n\u001b[0;32m--> 250\u001b[0;31m     out = ak._util.broadcast_and_apply(\n\u001b[0m\u001b[1;32m    251\u001b[0m         \u001b[0minputs\u001b[0m\u001b[0;34m,\u001b[0m \u001b[0mgetfunction\u001b[0m\u001b[0;34m,\u001b[0m \u001b[0mbehavior\u001b[0m\u001b[0;34m,\u001b[0m \u001b[0mallow_records\u001b[0m\u001b[0;34m=\u001b[0m\u001b[0;32mFalse\u001b[0m\u001b[0;34m,\u001b[0m \u001b[0mpass_depth\u001b[0m\u001b[0;34m=\u001b[0m\u001b[0;32mFalse\u001b[0m\u001b[0;34m\u001b[0m\u001b[0;34m\u001b[0m\u001b[0m\n\u001b[1;32m    252\u001b[0m     )\n",
      "\u001b[0;32m/opt/anaconda3/envs/coffea-env/lib/python3.8/site-packages/awkward/_util.py\u001b[0m in \u001b[0;36mbroadcast_and_apply\u001b[0;34m(inputs, getfunction, behavior, allow_records, pass_depth, pass_user, user, left_broadcast, right_broadcast, numpy_to_regular, regular_to_jagged)\u001b[0m\n\u001b[1;32m   1170\u001b[0m     \u001b[0;32melse\u001b[0m\u001b[0;34m:\u001b[0m\u001b[0;34m\u001b[0m\u001b[0;34m\u001b[0m\u001b[0m\n\u001b[1;32m   1171\u001b[0m         \u001b[0misscalar\u001b[0m \u001b[0;34m=\u001b[0m \u001b[0;34m[\u001b[0m\u001b[0;34m]\u001b[0m\u001b[0;34m\u001b[0m\u001b[0;34m\u001b[0m\u001b[0m\n\u001b[0;32m-> 1172\u001b[0;31m         \u001b[0mout\u001b[0m \u001b[0;34m=\u001b[0m \u001b[0mapply\u001b[0m\u001b[0;34m(\u001b[0m\u001b[0mbroadcast_pack\u001b[0m\u001b[0;34m(\u001b[0m\u001b[0minputs\u001b[0m\u001b[0;34m,\u001b[0m \u001b[0misscalar\u001b[0m\u001b[0;34m)\u001b[0m\u001b[0;34m,\u001b[0m \u001b[0;36m0\u001b[0m\u001b[0;34m,\u001b[0m \u001b[0muser\u001b[0m\u001b[0;34m)\u001b[0m\u001b[0;34m\u001b[0m\u001b[0;34m\u001b[0m\u001b[0m\n\u001b[0m\u001b[1;32m   1173\u001b[0m         \u001b[0;32massert\u001b[0m \u001b[0misinstance\u001b[0m\u001b[0;34m(\u001b[0m\u001b[0mout\u001b[0m\u001b[0;34m,\u001b[0m \u001b[0mtuple\u001b[0m\u001b[0;34m)\u001b[0m\u001b[0;34m\u001b[0m\u001b[0;34m\u001b[0m\u001b[0m\n\u001b[1;32m   1174\u001b[0m         \u001b[0;32mreturn\u001b[0m \u001b[0mtuple\u001b[0m\u001b[0;34m(\u001b[0m\u001b[0mbroadcast_unpack\u001b[0m\u001b[0;34m(\u001b[0m\u001b[0mx\u001b[0m\u001b[0;34m,\u001b[0m \u001b[0misscalar\u001b[0m\u001b[0;34m)\u001b[0m \u001b[0;32mfor\u001b[0m \u001b[0mx\u001b[0m \u001b[0;32min\u001b[0m \u001b[0mout\u001b[0m\u001b[0;34m)\u001b[0m\u001b[0;34m\u001b[0m\u001b[0;34m\u001b[0m\u001b[0m\n",
      "\u001b[0;32m/opt/anaconda3/envs/coffea-env/lib/python3.8/site-packages/awkward/_util.py\u001b[0m in \u001b[0;36mapply\u001b[0;34m(inputs, depth, user)\u001b[0m\n\u001b[1;32m    923\u001b[0m                         \u001b[0mnextinputs\u001b[0m\u001b[0;34m.\u001b[0m\u001b[0mappend\u001b[0m\u001b[0;34m(\u001b[0m\u001b[0mx\u001b[0m\u001b[0;34m)\u001b[0m\u001b[0;34m\u001b[0m\u001b[0;34m\u001b[0m\u001b[0m\n\u001b[1;32m    924\u001b[0m \u001b[0;34m\u001b[0m\u001b[0m\n\u001b[0;32m--> 925\u001b[0;31m                 \u001b[0moutcontent\u001b[0m \u001b[0;34m=\u001b[0m \u001b[0mapply\u001b[0m\u001b[0;34m(\u001b[0m\u001b[0mnextinputs\u001b[0m\u001b[0;34m,\u001b[0m \u001b[0mdepth\u001b[0m \u001b[0;34m+\u001b[0m \u001b[0;36m1\u001b[0m\u001b[0;34m,\u001b[0m \u001b[0muser\u001b[0m\u001b[0;34m)\u001b[0m\u001b[0;34m\u001b[0m\u001b[0;34m\u001b[0m\u001b[0m\n\u001b[0m\u001b[1;32m    926\u001b[0m                 \u001b[0;32massert\u001b[0m \u001b[0misinstance\u001b[0m\u001b[0;34m(\u001b[0m\u001b[0moutcontent\u001b[0m\u001b[0;34m,\u001b[0m \u001b[0mtuple\u001b[0m\u001b[0;34m)\u001b[0m\u001b[0;34m\u001b[0m\u001b[0;34m\u001b[0m\u001b[0m\n\u001b[1;32m    927\u001b[0m \u001b[0;34m\u001b[0m\u001b[0m\n",
      "\u001b[0;32m/opt/anaconda3/envs/coffea-env/lib/python3.8/site-packages/awkward/_util.py\u001b[0m in \u001b[0;36mapply\u001b[0;34m(inputs, depth, user)\u001b[0m\n\u001b[1;32m    780\u001b[0m                 \u001b[0;32melse\u001b[0m\u001b[0;34m:\u001b[0m\u001b[0;34m\u001b[0m\u001b[0;34m\u001b[0m\u001b[0m\n\u001b[1;32m    781\u001b[0m                     \u001b[0mnextinputs\u001b[0m\u001b[0;34m.\u001b[0m\u001b[0mappend\u001b[0m\u001b[0;34m(\u001b[0m\u001b[0mx\u001b[0m\u001b[0;34m)\u001b[0m\u001b[0;34m\u001b[0m\u001b[0;34m\u001b[0m\u001b[0m\n\u001b[0;32m--> 782\u001b[0;31m             \u001b[0;32mreturn\u001b[0m \u001b[0mapply\u001b[0m\u001b[0;34m(\u001b[0m\u001b[0mnextinputs\u001b[0m\u001b[0;34m,\u001b[0m \u001b[0mdepth\u001b[0m\u001b[0;34m,\u001b[0m \u001b[0muser\u001b[0m\u001b[0;34m)\u001b[0m\u001b[0;34m\u001b[0m\u001b[0;34m\u001b[0m\u001b[0m\n\u001b[0m\u001b[1;32m    783\u001b[0m \u001b[0;34m\u001b[0m\u001b[0m\n\u001b[1;32m    784\u001b[0m         \u001b[0;32melif\u001b[0m \u001b[0many\u001b[0m\u001b[0;34m(\u001b[0m\u001b[0misinstance\u001b[0m\u001b[0;34m(\u001b[0m\u001b[0mx\u001b[0m\u001b[0;34m,\u001b[0m \u001b[0muniontypes\u001b[0m\u001b[0;34m)\u001b[0m \u001b[0;32mfor\u001b[0m \u001b[0mx\u001b[0m \u001b[0;32min\u001b[0m \u001b[0minputs\u001b[0m\u001b[0;34m)\u001b[0m\u001b[0;34m:\u001b[0m\u001b[0;34m\u001b[0m\u001b[0;34m\u001b[0m\u001b[0m\n",
      "\u001b[0;32m/opt/anaconda3/envs/coffea-env/lib/python3.8/site-packages/awkward/_util.py\u001b[0m in \u001b[0;36mapply\u001b[0;34m(inputs, depth, user)\u001b[0m\n\u001b[1;32m   1062\u001b[0m         \u001b[0;32melif\u001b[0m \u001b[0many\u001b[0m\u001b[0;34m(\u001b[0m\u001b[0misinstance\u001b[0m\u001b[0;34m(\u001b[0m\u001b[0mx\u001b[0m\u001b[0;34m,\u001b[0m \u001b[0mrecordtypes\u001b[0m\u001b[0;34m)\u001b[0m \u001b[0;32mfor\u001b[0m \u001b[0mx\u001b[0m \u001b[0;32min\u001b[0m \u001b[0minputs\u001b[0m\u001b[0;34m)\u001b[0m\u001b[0;34m:\u001b[0m\u001b[0;34m\u001b[0m\u001b[0;34m\u001b[0m\u001b[0m\n\u001b[1;32m   1063\u001b[0m             \u001b[0;32mif\u001b[0m \u001b[0;32mnot\u001b[0m \u001b[0mallow_records\u001b[0m\u001b[0;34m:\u001b[0m\u001b[0;34m\u001b[0m\u001b[0;34m\u001b[0m\u001b[0m\n\u001b[0;32m-> 1064\u001b[0;31m                 raise ValueError(\n\u001b[0m\u001b[1;32m   1065\u001b[0m                     \u001b[0;34m\"cannot broadcast records in this type of operation\"\u001b[0m\u001b[0;34m\u001b[0m\u001b[0;34m\u001b[0m\u001b[0m\n\u001b[1;32m   1066\u001b[0m                     \u001b[0;34m+\u001b[0m \u001b[0mexception_suffix\u001b[0m\u001b[0;34m(\u001b[0m\u001b[0m__file__\u001b[0m\u001b[0;34m)\u001b[0m\u001b[0;34m\u001b[0m\u001b[0;34m\u001b[0m\u001b[0m\n",
      "\u001b[0;31mValueError\u001b[0m: cannot broadcast records in this type of operation\n\n(https://github.com/scikit-hep/awkward-1.0/blob/1.10.3/src/awkward/_util.py#L1066)"
     ]
    }
   ],
   "source": [
    "### pick smallest pz because we expect heavy physics to result in central object which has hight pT (artifact of pdf proton) - more probable to have less pT in z axis\n",
    "\n",
    "met1 = ak.zip(\n",
    "        {\n",
    "            \"pt\": met.pt,\n",
    "            \"eta\": np.arcsinh(pz_met/met.pt),\n",
    "#             \"eta\": candidatelep_p4.eta,\n",
    "            \"phi\": met.phi,\n",
    "            \"mass\": 0,\n",
    "#             \"charge\": cand.charge,\n",
    "        },\n",
    "        with_name=\"PtEtaPhiMCandidate\",\n",
    "        behavior=candidate.behavior,\n",
    "    )\n",
    "# met2 = ak.zip(\n",
    "#         {\n",
    "#             \"pt\": met.pt,\n",
    "# #             \"eta\": np.arcsinh(pz_met_neg/met.pt),\n",
    "#             \"eta\": candidatelep_p4.eta,\n",
    "#             \"phi\": met.phi,\n",
    "#             \"mass\": 0,\n",
    "# #             \"charge\": cand.charge,\n",
    "#         },\n",
    "#         with_name=\"PtEtaPhiMCandidate\",\n",
    "#         behavior=candidate.behavior,\n",
    "#     )"
   ]
  },
  {
   "cell_type": "code",
   "execution_count": 444,
   "id": "71f6f4eb",
   "metadata": {},
   "outputs": [],
   "source": [
    "rec_higgs1 = Jet+met1\n",
    "rec_higgs1 = rec_higgs1[~ak.is_none(rec_higgs1)].mass\n",
    "\n",
    "# rec_higgs2 = Jet+met2\n",
    "# rec_higgs2 = rec_higgs2[~ak.is_none(rec_higgs2)].mass"
   ]
  },
  {
   "cell_type": "code",
   "execution_count": 445,
   "id": "4f0e72bf",
   "metadata": {},
   "outputs": [
    {
     "data": {
      "text/plain": [
       "Text(1, 0, 'rec Higgs mass')"
      ]
     },
     "execution_count": 445,
     "metadata": {},
     "output_type": "execute_result"
    },
    {
     "data": {
      "image/png": "[encoded data removed]",
      "text/plain": [
       "<Figure size 576x432 with 1 Axes>"
      ]
     },
     "metadata": {
      "needs_background": "light"
     },
     "output_type": "display_data"
    }
   ],
   "source": [
    "fig, ax = plt.subplots(figsize=(8,6))\n",
    "bins = np.linspace(0, 500, 30)\n",
    "\n",
    "ax.hist(rec_higgs1, bins, histtype=\"step\", linewidth=2, label = f\"mH=125 GeV constraint\")\n",
    "ax.hist(rec_higgs2, bins, histtype=\"step\", linewidth=2, label = r\"$\\eta_{Lep}=\\eta_{\\nu}$ constraint\")\n",
    "ax.legend(title=\"HWW\")\n",
    "# ax.set_ylim(0, 20000)\n",
    "ax.set_xlabel(r\"rec Higgs mass\")"
   ]
  },
  {
   "cell_type": "code",
   "execution_count": 280,
   "id": "1d442b66",
   "metadata": {},
   "outputs": [
    {
     "data": {
      "text/plain": [
       "<Array [305, 536, 281, ... 320, 837, 1.02e+03] type='547 * ?float64'>"
      ]
     },
     "execution_count": 280,
     "metadata": {},
     "output_type": "execute_result"
    }
   ],
   "source": [
    "rec_higgs[~ak.is_none(rec_higgs)].mass"
   ]
  },
  {
   "cell_type": "code",
   "execution_count": null,
   "id": "36344566",
   "metadata": {},
   "outputs": [],
   "source": [
    "# ->goal is to see sharp peak near 125\n",
    "\n",
    "### 1. share the mT histogram (<100 and >100)\n",
    "\n",
    "### 2. why blue is not sharp peak\n",
    "### 3. orange is reasonable\n",
    "### 4. use eta_neut=eta_jet"
   ]
  }
 ],
 "metadata": {
  "kernelspec": {
   "display_name": "fastjet-env",
   "language": "python",
   "name": "fastjet-env"
  },
  "language_info": {
   "codemirror_mode": {
    "name": "ipython",
    "version": 3
   },
   "file_extension": ".py",
   "mimetype": "text/x-python",
   "name": "python",
   "nbconvert_exporter": "python",
   "pygments_lexer": "ipython3",
   "version": "3.9.18"
  }
 },
 "nbformat": 4,
 "nbformat_minor": 5
}
