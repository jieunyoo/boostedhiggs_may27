{
 "cells": [
  {
   "cell_type": "code",
   "execution_count": 6,
   "id": "27949dbe",
   "metadata": {},
   "outputs": [],
   "source": [
    "import correctionlib\n",
    "import hist\n",
    "import awkward as ak\n",
    "import numpy as np\n",
    "\n",
    "from coffea.nanoevents import NanoEventsFactory, NanoAODSchema\n",
    "from coffea.lookup_tools.correctionlib_wrapper import correctionlib_wrapper\n",
    "from coffea.lookup_tools.dense_lookup import dense_lookup\n",
    "\n",
    "import sys\n",
    "sys.path.append(\"../\")\n",
    "\n",
    "from boostedhiggs.corrections import btagWPs"
   ]
  },
  {
   "cell_type": "code",
   "execution_count": 7,
   "id": "68c13292",
   "metadata": {},
   "outputs": [],
   "source": [
    "%load_ext autoreload\n",
    "%autoreload 2"
   ]
  },
  {
   "cell_type": "markdown",
   "id": "43e3af8b",
   "metadata": {},
   "source": [
    "Load a root file"
   ]
  },
  {
   "cell_type": "code",
   "execution_count": 8,
   "id": "1a1e02b6",
   "metadata": {},
   "outputs": [
    {
     "name": "stdout",
     "output_type": "stream",
     "text": [
      "\u001b[34mHWW\u001b[m\u001b[m   \u001b[34mQCD\u001b[m\u001b[m   \u001b[34mTTbar\u001b[m\u001b[m \u001b[34mWJets\u001b[m\u001b[m\r\n"
     ]
    }
   ],
   "source": [
    "! ls ../rootfiles/"
   ]
  },
  {
   "cell_type": "code",
   "execution_count": 9,
   "id": "5e70b9b3",
   "metadata": {
    "scrolled": true
   },
   "outputs": [
    {
     "name": "stderr",
     "output_type": "stream",
     "text": [
      "/Users/fmokhtar/miniconda3/envs/coffea-env/lib/python3.9/site-packages/coffea/nanoevents/mapping/uproot.py:86: UserWarning: Found duplicate branch FatJetAK15SubJet_nBHadrons in <TTree 'Events' (2140 branches) at 0x00029be5a4c0>, taking first instance\n",
      "  warnings.warn(\n",
      "/Users/fmokhtar/miniconda3/envs/coffea-env/lib/python3.9/site-packages/coffea/nanoevents/mapping/uproot.py:86: UserWarning: Found duplicate branch FatJetAK15SubJet_nCHadrons in <TTree 'Events' (2140 branches) at 0x00029be5a4c0>, taking first instance\n",
      "  warnings.warn(\n",
      "/Users/fmokhtar/miniconda3/envs/coffea-env/lib/python3.9/site-packages/coffea/nanoevents/mapping/uproot.py:86: UserWarning: Found duplicate branch FatJetAK15_nBHadrons in <TTree 'Events' (2140 branches) at 0x00029be5a4c0>, taking first instance\n",
      "  warnings.warn(\n",
      "/Users/fmokhtar/miniconda3/envs/coffea-env/lib/python3.9/site-packages/coffea/nanoevents/mapping/uproot.py:86: UserWarning: Found duplicate branch FatJetAK15_nCHadrons in <TTree 'Events' (2140 branches) at 0x00029be5a4c0>, taking first instance\n",
      "  warnings.warn(\n",
      "/Users/fmokhtar/miniconda3/envs/coffea-env/lib/python3.9/site-packages/coffea/nanoevents/mapping/uproot.py:86: UserWarning: Found duplicate branch FatJet_btagDDBvLV2 in <TTree 'Events' (2140 branches) at 0x00029be5a4c0>, taking first instance\n",
      "  warnings.warn(\n",
      "/Users/fmokhtar/miniconda3/envs/coffea-env/lib/python3.9/site-packages/coffea/nanoevents/mapping/uproot.py:86: UserWarning: Found duplicate branch FatJet_btagDDCvBV2 in <TTree 'Events' (2140 branches) at 0x00029be5a4c0>, taking first instance\n",
      "  warnings.warn(\n",
      "/Users/fmokhtar/miniconda3/envs/coffea-env/lib/python3.9/site-packages/coffea/nanoevents/mapping/uproot.py:86: UserWarning: Found duplicate branch FatJet_btagDDCvLV2 in <TTree 'Events' (2140 branches) at 0x00029be5a4c0>, taking first instance\n",
      "  warnings.warn(\n",
      "/Users/fmokhtar/miniconda3/envs/coffea-env/lib/python3.9/site-packages/coffea/nanoevents/mapping/uproot.py:86: UserWarning: Found duplicate branch FatJet_nBHadrons in <TTree 'Events' (2140 branches) at 0x00029be5a4c0>, taking first instance\n",
      "  warnings.warn(\n",
      "/Users/fmokhtar/miniconda3/envs/coffea-env/lib/python3.9/site-packages/coffea/nanoevents/mapping/uproot.py:86: UserWarning: Found duplicate branch FatJet_nCHadrons in <TTree 'Events' (2140 branches) at 0x00029be5a4c0>, taking first instance\n",
      "  warnings.warn(\n",
      "/Users/fmokhtar/miniconda3/envs/coffea-env/lib/python3.9/site-packages/coffea/nanoevents/mapping/uproot.py:86: UserWarning: Found duplicate branch SubJet_nBHadrons in <TTree 'Events' (2140 branches) at 0x00029be5a4c0>, taking first instance\n",
      "  warnings.warn(\n",
      "/Users/fmokhtar/miniconda3/envs/coffea-env/lib/python3.9/site-packages/coffea/nanoevents/mapping/uproot.py:86: UserWarning: Found duplicate branch SubJet_nCHadrons in <TTree 'Events' (2140 branches) at 0x00029be5a4c0>, taking first instance\n",
      "  warnings.warn(\n"
     ]
    }
   ],
   "source": [
    "events = NanoEventsFactory.from_root(\n",
    "    \"../../boostedhiggs/rootfiles/HWW/file1.root\",\n",
    "    entry_stop=100_000,\n",
    "    schemaclass=NanoAODSchema,\n",
    ").events()"
   ]
  },
  {
   "cell_type": "markdown",
   "id": "24318148",
   "metadata": {},
   "source": [
    "# Compute efficiencies"
   ]
  },
  {
   "cell_type": "code",
   "execution_count": 15,
   "id": "768c2375",
   "metadata": {},
   "outputs": [
    {
     "data": {
      "text/plain": [
       "Hist(\n",
       "  Regular(20, 40, 300, name='pt'),\n",
       "  Regular(4, 0, 2.5, name='abseta'),\n",
       "  IntCategory([0, 4, 5], name='flavor'),\n",
       "  Boolean(name='passWP'),\n",
       "  storage=Double()) # Sum: 48122.0 (63042.0 with flow)"
      ]
     },
     "execution_count": 15,
     "metadata": {},
     "output_type": "execute_result"
    }
   ],
   "source": [
    "year = \"2017\"\n",
    "wp = \"T\"\n",
    "\n",
    "# define your good jets\n",
    "goodjets = events.Jet[\n",
    "            (events.Jet.pt > 30) & (abs(events.Jet.eta) < 5.0) & events.Jet.isTight & (events.Jet.puId > 0)\n",
    "        ]\n",
    "# reject EE noisy jets for 2017\n",
    "if year == \"2017\":\n",
    "    goodjets = goodjets[(goodjets.pt > 50) | (abs(goodjets.eta) < 2.65) | (abs(goodjets.eta) > 3.139)]\n",
    "\n",
    "jets = ak.flatten(goodjets)\n",
    "\n",
    "# get efficiencies\n",
    "efficiencyinfo = (\n",
    "    hist.Hist.new\n",
    "    .Reg(20, 40, 300, name=\"pt\")\n",
    "    .Reg(4, 0, 2.5, name=\"abseta\")\n",
    "    .IntCat([0, 4, 5], name=\"flavor\")\n",
    "    .Bool(name=\"passWP\")\n",
    "    .Double()\n",
    "    .fill(\n",
    "        pt=jets.pt,\n",
    "        abseta=abs(jets.eta),\n",
    "        flavor=jets.hadronFlavour,\n",
    "        passWP=jets.btagDeepFlavB > btagWPs[\"deepJet\"][year][wp], # UL 2017 Tight\n",
    "    )\n",
    ")\n",
    "efficiencyinfo"
   ]
  },
  {
   "cell_type": "code",
   "execution_count": 16,
   "id": "954c1883",
   "metadata": {},
   "outputs": [
    {
     "data": {
      "text/plain": [
       "3 dimensional histogram with axes:\n",
       "\t1: [ 40.  53.  66.  79.  92. 105. 118. 131. 144. 157. 170. 183. 196. 209.\n",
       " 222. 235. 248. 261. 274. 287. 300.]\n",
       "\t2: [0.    0.625 1.25  1.875 2.5  ]\n",
       "\t3: [0. 1. 2. 3.]"
      ]
     },
     "execution_count": 16,
     "metadata": {},
     "output_type": "execute_result"
    }
   ],
   "source": [
    "eff = efficiencyinfo[{\"passWP\": True}] / efficiencyinfo[{\"passWP\": sum}]\n",
    "# note this seems to turn 0,4,5 into 0,1,2\n",
    "efflookup = dense_lookup(eff.values(), [ax.edges for ax in eff.axes])\n",
    "efflookup"
   ]
  },
  {
   "cell_type": "code",
   "execution_count": 17,
   "id": "c59fa531",
   "metadata": {},
   "outputs": [
    {
     "data": {
      "text/plain": [
       "Hist(\n",
       "  Regular(20, 40, 300, name='pt'),\n",
       "  Regular(4, 0, 2.5, name='abseta'),\n",
       "  IntCategory([0, 4, 5], name='flavor'),\n",
       "  storage=Double()) # Sum: nan (nan with flow)"
      ]
     },
     "execution_count": 17,
     "metadata": {},
     "output_type": "execute_result"
    }
   ],
   "source": [
    "eff"
   ]
  },
  {
   "cell_type": "code",
   "execution_count": 18,
   "id": "31765dbc",
   "metadata": {},
   "outputs": [
    {
     "data": {
      "text/plain": [
       "3 dimensional histogram with axes:\n",
       "\t1: [ 40.  53.  66.  79.  92. 105. 118. 131. 144. 157. 170. 183. 196. 209.\n",
       " 222. 235. 248. 261. 274. 287. 300.]\n",
       "\t2: [0.    0.625 1.25  1.875 2.5  ]\n",
       "\t3: [0. 1. 2. 3.]"
      ]
     },
     "execution_count": 18,
     "metadata": {},
     "output_type": "execute_result"
    }
   ],
   "source": [
    "efflookup"
   ]
  },
  {
   "cell_type": "code",
   "execution_count": 19,
   "id": "d3f9cc51",
   "metadata": {},
   "outputs": [
    {
     "data": {
      "text/plain": [
       "array([0.46511628, 0.72413793])"
      ]
     },
     "execution_count": 19,
     "metadata": {},
     "output_type": "execute_result"
    }
   ],
   "source": [
    "# Efficiency at 42 GeV, |eta|=0.2, for light, c, and b quark respectively\n",
    "efflookup(np.array([42,60]), 0.2, 2)"
   ]
  },
  {
   "cell_type": "raw",
   "id": "3c9dcc6d",
   "metadata": {},
   "source": []
  }
 ],
 "metadata": {
  "kernelspec": {
   "display_name": "Python 3 (ipykernel)",
   "language": "python",
   "name": "python3"
  },
  "language_info": {
   "codemirror_mode": {
    "name": "ipython",
    "version": 3
   },
   "file_extension": ".py",
   "mimetype": "text/x-python",
   "name": "python",
   "nbconvert_exporter": "python",
   "pygments_lexer": "ipython3",
   "version": "3.9.0"
  }
 },
 "nbformat": 4,
 "nbformat_minor": 5
}
